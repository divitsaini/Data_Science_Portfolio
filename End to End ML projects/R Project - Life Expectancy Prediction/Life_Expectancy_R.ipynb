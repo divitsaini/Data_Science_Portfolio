{
 "cells": [
  {
   "cell_type": "markdown",
   "metadata": {},
   "source": [
    "## 1. Introduction:\n",
    "\n",
    "The Global Health Observatory (GHO) data repository under World Health Organization (WHO) keeps track of the health status as well as many other related factors for all countries The datasets are made available to public for the purpose of health data analysis. \n",
    "\n",
    "The dataset related to life expectancy, health factors for 193 countries has been collected from the same WHO data repository website and its corresponding economic data was collected from United Nation website. Among all categories of health-related factors only those critical factors were chosen which are more representative. It has been observed that in the past 15 years , there has been a huge development in health sector resulting in improvement of human mortality rates especially in the developing nations in comparison to the past 30 years. Therefore, in this project we have considered data from **year 2000-2015 for 193 countries** for further analysis. The individual data files have been merged together into a single dataset.  The final merged file(final dataset) consists of 22 Columns and 2938 rows which meant 20 predicting variables. All predicting variables was then divided into several broad categories:​Immunization related factors, Mortality factors, Economical factors and Social factors.\n",
    "\n",
    "\n",
    "![life Expectancy](What-is-the-life-expectancy-for-someone-with-dementia.png)\n",
    "\n",
    "The aim of this report is to carry out predictive modelling of the Life Expectancy using the GHO data mentioned above on Jupyter Notebook IDE using R-programming language. This is an end-to-end Machine learning project where we explore and clean the data by handling the missing data and outliers. Secondly, standardisation of independent variables along with feature selection using Recursive Feature Elimination will be done. This is a regression problem where the dependent variable is Life Expectancy. Thirdly, cleaned data with relevant features are used to create three models: Multiple linear regression, Baseline Regression Tree and Extreme gradient boosting Trees. After comparison of performance metrics such as RMSE (Root mean squared error) and R Squared value, the best model is chosen and saved."
   ]
  },
  {
   "cell_type": "markdown",
   "metadata": {},
   "source": [
    "## 2. Dataset Description:\n",
    "\n",
    "The independent variables in the dataset quality.csv are as follows: \n",
    "1. **Country (Nominal)** : Country from which the indicators are from.\n",
    "\n",
    "2. **Year (Ordinal)** : Year from which the indicators are from.\n",
    "\n",
    "3. **Status (Nominal)** : the status of the country \"Developed\" or \"Developing\".\n",
    "\n",
    "\n",
    "4. **Adult.Mortality (Ratio)** : the adult mortality rate per 1000 population (i.e. number of people dying between 15 and 60 years per 1000 population); if the rate is 250 then that means 250 people will die out of 1000 between the ages of 15 and 60; another way to think of this is that the chance an individual will die between 15 and 60 is 25%\n",
    "\n",
    "5. **infant_deaths (Ratio)** : number of infant deaths per 1000 population\n",
    "\n",
    "6. **Alcohol (Ratio)** : a country's alcohol consumption rate measured as liters of pure alcohol consumption per capita\n",
    "\n",
    "7. **percentage.expenditure (Ratio)** : expenditure on health as a percentage of Gross Domestic Product (gdp)\n",
    "\n",
    "8. **Hepatitis.B (Ratio)** : number of 1 year olds with Hepatitis B immunization over all 1 year olds in population\n",
    "\n",
    "9. **Measles (Ratio)**: number of reported Measles cases per 1000 population\n",
    "\n",
    "10. **BMI (Interval/Ordinal)** : average Body Mass Index (BMI) of a country's total population\n",
    "\n",
    "11. **under.five.deaths (Ratio)** : number of people under the age of five deaths per 1000 population\n",
    "\n",
    "12. **Polio (Ratio)**: number of 1 year olds with Polio immunization over the number of all 1 year olds in population\n",
    "\n",
    "13. **Total_expenditure (Ratio)**: government expenditure on health as a percentage of total government expenditure\n",
    "\n",
    "14. **Diphtheria (Ratio)** : Diphtheria tetanus toxoid and pertussis (DTP3) immunization rate of 1 year olds\n",
    "\n",
    "15. **HIV.AIDS (Ratio)** : deaths per 1000 live births caused by HIV/AIDS for people under 5 years of age\n",
    "\n",
    "16. **GDP (Numeric)** : Gross Domestic Product per capita of a country\n",
    "\n",
    "17. **Population (Numeric)** : population of a country\n",
    "\n",
    "18. **thinness.1-19.years (Ratio)** : rate of thinness among people aged 10-19 (Note: this variable should be renamed to thinness_10-19_years)\n",
    "\n",
    "19. **thinness.5-9.years (Ratio)** : rate of thinness among people aged 5-9\n",
    "\n",
    "20. **income.composition.of.resources (Ratio)** : Human Development Index in terms of income composition of resources (index ranging from 0 to 1)\n",
    "\n",
    "21. **Schooling (Ratio)** : average number of years of schooling of a population\n",
    "\n",
    "Dependent Variable:\n",
    "\n",
    "1. **Life.expectancy (Ratio)** : life expectancy of people in years for a particular country and year.\n"
   ]
  },
  {
   "cell_type": "markdown",
   "metadata": {},
   "source": [
    "## 3. Methodology:\n",
    "\n",
    "\n",
    "The Steps that we are going to follow to complete this implementation is as follows:\n",
    "\n",
    "1. **Importing the necessary libraries**\n",
    "\n",
    "\n",
    "2. **Data Loading**\n",
    "\n",
    "\n",
    "3. **Exploratory Data Analysis**:\n",
    "    1. Variable Transformation    \n",
    "    2. Handling Missing Value:\n",
    "    3. Outlier detection\n",
    "    4. Exploring /insights from the data\n",
    "\n",
    "4. Feature Engineering\n",
    "    1. One hot Encoding (Status variable)\n",
    "    2. Standardisation\n",
    "    3. Extreme Gradient Boosting\n",
    "      \n",
    "5. **Modeling**\n",
    "    1. Train Test Split\n",
    "    2. Model creation - Training and testing\n",
    "        1. Multiple Linear Regression\n",
    "        2. Decision Tree (CART)\n",
    "        3. Extreme Gradient boosting\n",
    "    \n",
    "\n",
    "6. **Results and Model Selection**\n",
    "\n",
    "7. **Conclusion**"
   ]
  },
  {
   "cell_type": "markdown",
   "metadata": {
    "heading_collapsed": true
   },
   "source": [
    "## 4. Performance Metrics Used\n",
    "\n",
    "After implementing a machine learning algorithm, the next step is to find out how effective is the model based on metric and dataset. Two important performance metrics for regression problems are:\n",
    "1. RMSE (Root Mean Square Error):\n",
    "\n",
    "    Root Mean Square Error (RMSE) is the standard deviation the residuals (prediction errors).\n",
    "\n",
    "    𝑹𝑴𝑺𝑬= √(𝑺𝑺𝑬/𝑵)\n",
    "\n",
    "    1. Normalized by N, units of dependent variable.\n",
    "    2. A good model should have a low RMSE value.\n",
    "    \n",
    "2. R2 Score (R-Squared):\n",
    "   \n",
    "   R-squared (R2) is a statistical measure that represents the proportion of the variance for a dependent variable that's explained by an independent variable or variables in a regression model. It may also be known as the coefficient of determination.\n",
    "   \n",
    "   R-squared values range from 0 to 1. The better the linear regression fits the data in comparison to the simple average, the closer the value of R2 is to 1."
   ]
  },
  {
   "cell_type": "markdown",
   "metadata": {},
   "source": [
    "## 5. Importing the necessary libraries"
   ]
  },
  {
   "cell_type": "code",
   "execution_count": 1,
   "metadata": {
    "collapsed": true
   },
   "outputs": [
    {
     "name": "stdout",
     "output_type": "stream",
     "text": [
      "package 'tidyr' successfully unpacked and MD5 sums checked\n",
      "\n",
      "The downloaded binary packages are in\n",
      "\tC:\\Users\\Divit\\AppData\\Local\\Temp\\RtmpmWsPnx\\downloaded_packages\n"
     ]
    },
    {
     "name": "stderr",
     "output_type": "stream",
     "text": [
      "Warning message:\n",
      "\"package 'tidyr' was built under R version 3.6.3\""
     ]
    },
    {
     "name": "stdout",
     "output_type": "stream",
     "text": [
      "package 'dplyr' successfully unpacked and MD5 sums checked\n"
     ]
    },
    {
     "name": "stderr",
     "output_type": "stream",
     "text": [
      "Warning message:\n",
      "\"cannot remove prior installation of package 'dplyr'\"Warning message in file.copy(savedcopy, lib, recursive = TRUE):\n",
      "\"problem copying C:\\Users\\Divit\\anaconda3\\envs\\r-env\\Lib\\R\\library\\00LOCK\\dplyr\\libs\\x64\\dplyr.dll to C:\\Users\\Divit\\anaconda3\\envs\\r-env\\Lib\\R\\library\\dplyr\\libs\\x64\\dplyr.dll: Permission denied\"Warning message:\n",
      "\"restored 'dplyr'\""
     ]
    },
    {
     "name": "stdout",
     "output_type": "stream",
     "text": [
      "\n",
      "The downloaded binary packages are in\n",
      "\tC:\\Users\\Divit\\AppData\\Local\\Temp\\RtmpmWsPnx\\downloaded_packages\n"
     ]
    },
    {
     "name": "stderr",
     "output_type": "stream",
     "text": [
      "Warning message:\n",
      "\"package 'dplyr' was built under R version 3.6.3\"\n",
      "Attaching package: 'dplyr'\n",
      "\n",
      "The following objects are masked from 'package:stats':\n",
      "\n",
      "    filter, lag\n",
      "\n",
      "The following objects are masked from 'package:base':\n",
      "\n",
      "    intersect, setdiff, setequal, union\n",
      "\n"
     ]
    },
    {
     "name": "stdout",
     "output_type": "stream",
     "text": [
      "package 'ggplot2' successfully unpacked and MD5 sums checked\n",
      "\n",
      "The downloaded binary packages are in\n",
      "\tC:\\Users\\Divit\\AppData\\Local\\Temp\\RtmpmWsPnx\\downloaded_packages\n"
     ]
    },
    {
     "name": "stderr",
     "output_type": "stream",
     "text": [
      "Warning message:\n",
      "\"package 'ggplot2' was built under R version 3.6.3\""
     ]
    },
    {
     "name": "stdout",
     "output_type": "stream",
     "text": [
      "package 'corrplot' successfully unpacked and MD5 sums checked\n",
      "\n",
      "The downloaded binary packages are in\n",
      "\tC:\\Users\\Divit\\AppData\\Local\\Temp\\RtmpmWsPnx\\downloaded_packages\n"
     ]
    },
    {
     "name": "stderr",
     "output_type": "stream",
     "text": [
      "Warning message:\n",
      "\"package 'corrplot' was built under R version 3.6.3\"corrplot 0.84 loaded\n"
     ]
    },
    {
     "name": "stdout",
     "output_type": "stream",
     "text": [
      "package 'caret' successfully unpacked and MD5 sums checked\n",
      "\n",
      "The downloaded binary packages are in\n",
      "\tC:\\Users\\Divit\\AppData\\Local\\Temp\\RtmpmWsPnx\\downloaded_packages\n"
     ]
    },
    {
     "name": "stderr",
     "output_type": "stream",
     "text": [
      "Warning message:\n",
      "\"package 'caret' was built under R version 3.6.3\"Loading required package: lattice\n"
     ]
    },
    {
     "name": "stdout",
     "output_type": "stream",
     "text": [
      "package 'rpart.plot' successfully unpacked and MD5 sums checked\n",
      "\n",
      "The downloaded binary packages are in\n",
      "\tC:\\Users\\Divit\\AppData\\Local\\Temp\\RtmpmWsPnx\\downloaded_packages\n"
     ]
    },
    {
     "name": "stderr",
     "output_type": "stream",
     "text": [
      "Warning message:\n",
      "\"package 'rpart.plot' was built under R version 3.6.3\"Loading required package: rpart\n"
     ]
    },
    {
     "name": "stdout",
     "output_type": "stream",
     "text": [
      "package 'Metrics' successfully unpacked and MD5 sums checked\n",
      "\n",
      "The downloaded binary packages are in\n",
      "\tC:\\Users\\Divit\\AppData\\Local\\Temp\\RtmpmWsPnx\\downloaded_packages\n"
     ]
    },
    {
     "name": "stderr",
     "output_type": "stream",
     "text": [
      "Warning message:\n",
      "\"package 'Metrics' was built under R version 3.6.3\"\n",
      "Attaching package: 'Metrics'\n",
      "\n",
      "The following objects are masked from 'package:caret':\n",
      "\n",
      "    precision, recall\n",
      "\n"
     ]
    }
   ],
   "source": [
    "# for data manipulation\n",
    "install.packages(\"tidyr\")\n",
    "library(tidyr)\n",
    "install.packages(\"dplyr\")\n",
    "library(dplyr)\n",
    "# for data visualisation\n",
    "install.packages(\"ggplot2\")\n",
    "library(ggplot2)\n",
    "install.packages(\"corrplot\") \n",
    "library(corrplot)\n",
    "# for modelling and feature engineering\n",
    "install.packages(\"caret\")\n",
    "library(caret)\n",
    "#for visualising decision trees\n",
    "install.packages('rpart.plot') \n",
    "library(rpart.plot)\n",
    "# for performance metrics\n",
    "install.packages('Metrics') \n",
    "library(Metrics)"
   ]
  },
  {
   "cell_type": "markdown",
   "metadata": {},
   "source": [
    "## 6. Data Loading"
   ]
  },
  {
   "cell_type": "code",
   "execution_count": 2,
   "metadata": {},
   "outputs": [
    {
     "data": {
      "text/html": [
       "<table>\n",
       "<thead><tr><th scope=col>Country</th><th scope=col>Year</th><th scope=col>Status</th><th scope=col>Life.expectancy</th><th scope=col>Adult.Mortality</th><th scope=col>infant.deaths</th><th scope=col>Alcohol</th><th scope=col>percentage.expenditure</th><th scope=col>Hepatitis.B</th><th scope=col>Measles</th><th scope=col>...</th><th scope=col>Polio</th><th scope=col>Total.expenditure</th><th scope=col>Diphtheria</th><th scope=col>HIV.AIDS</th><th scope=col>GDP</th><th scope=col>Population</th><th scope=col>thinness..1.19.years</th><th scope=col>thinness.5.9.years</th><th scope=col>Income.composition.of.resources</th><th scope=col>Schooling</th></tr></thead>\n",
       "<tbody>\n",
       "\t<tr><td>Afghanistan</td><td>2015       </td><td>Developing </td><td>65.0       </td><td>263        </td><td>62         </td><td>0.01       </td><td>71.279624  </td><td>65         </td><td>1154       </td><td>...        </td><td> 6         </td><td>8.16       </td><td>65         </td><td>0.1        </td><td>584.25921  </td><td>33736494   </td><td>17.2       </td><td>17.3       </td><td>0.479      </td><td>10.1       </td></tr>\n",
       "\t<tr><td>Afghanistan</td><td>2014       </td><td>Developing </td><td>59.9       </td><td>271        </td><td>64         </td><td>0.01       </td><td>73.523582  </td><td>62         </td><td> 492       </td><td>...        </td><td>58         </td><td>8.18       </td><td>62         </td><td>0.1        </td><td>612.69651  </td><td>  327582   </td><td>17.5       </td><td>17.5       </td><td>0.476      </td><td>10.0       </td></tr>\n",
       "\t<tr><td>Afghanistan</td><td>2013       </td><td>Developing </td><td>59.9       </td><td>268        </td><td>66         </td><td>0.01       </td><td>73.219243  </td><td>64         </td><td> 430       </td><td>...        </td><td>62         </td><td>8.13       </td><td>64         </td><td>0.1        </td><td>631.74498  </td><td>31731688   </td><td>17.7       </td><td>17.7       </td><td>0.470      </td><td> 9.9       </td></tr>\n",
       "\t<tr><td>Afghanistan</td><td>2012       </td><td>Developing </td><td>59.5       </td><td>272        </td><td>69         </td><td>0.01       </td><td>78.184215  </td><td>67         </td><td>2787       </td><td>...        </td><td>67         </td><td>8.52       </td><td>67         </td><td>0.1        </td><td>669.95900  </td><td> 3696958   </td><td>17.9       </td><td>18.0       </td><td>0.463      </td><td> 9.8       </td></tr>\n",
       "\t<tr><td>Afghanistan</td><td>2011       </td><td>Developing </td><td>59.2       </td><td>275        </td><td>71         </td><td>0.01       </td><td> 7.097109  </td><td>68         </td><td>3013       </td><td>...        </td><td>68         </td><td>7.87       </td><td>68         </td><td>0.1        </td><td> 63.53723  </td><td> 2978599   </td><td>18.2       </td><td>18.2       </td><td>0.454      </td><td> 9.5       </td></tr>\n",
       "\t<tr><td>Afghanistan</td><td>2010       </td><td>Developing </td><td>58.8       </td><td>279        </td><td>74         </td><td>0.01       </td><td>79.679367  </td><td>66         </td><td>1989       </td><td>...        </td><td>66         </td><td>9.20       </td><td>66         </td><td>0.1        </td><td>553.32894  </td><td> 2883167   </td><td>18.4       </td><td>18.4       </td><td>0.448      </td><td> 9.2       </td></tr>\n",
       "</tbody>\n",
       "</table>\n"
      ],
      "text/latex": [
       "\\begin{tabular}{r|llllllllllllllllllllll}\n",
       " Country & Year & Status & Life.expectancy & Adult.Mortality & infant.deaths & Alcohol & percentage.expenditure & Hepatitis.B & Measles & ... & Polio & Total.expenditure & Diphtheria & HIV.AIDS & GDP & Population & thinness..1.19.years & thinness.5.9.years & Income.composition.of.resources & Schooling\\\\\n",
       "\\hline\n",
       "\t Afghanistan & 2015        & Developing  & 65.0        & 263         & 62          & 0.01        & 71.279624   & 65          & 1154        & ...         &  6          & 8.16        & 65          & 0.1         & 584.25921   & 33736494    & 17.2        & 17.3        & 0.479       & 10.1       \\\\\n",
       "\t Afghanistan & 2014        & Developing  & 59.9        & 271         & 64          & 0.01        & 73.523582   & 62          &  492        & ...         & 58          & 8.18        & 62          & 0.1         & 612.69651   &   327582    & 17.5        & 17.5        & 0.476       & 10.0       \\\\\n",
       "\t Afghanistan & 2013        & Developing  & 59.9        & 268         & 66          & 0.01        & 73.219243   & 64          &  430        & ...         & 62          & 8.13        & 64          & 0.1         & 631.74498   & 31731688    & 17.7        & 17.7        & 0.470       &  9.9       \\\\\n",
       "\t Afghanistan & 2012        & Developing  & 59.5        & 272         & 69          & 0.01        & 78.184215   & 67          & 2787        & ...         & 67          & 8.52        & 67          & 0.1         & 669.95900   &  3696958    & 17.9        & 18.0        & 0.463       &  9.8       \\\\\n",
       "\t Afghanistan & 2011        & Developing  & 59.2        & 275         & 71          & 0.01        &  7.097109   & 68          & 3013        & ...         & 68          & 7.87        & 68          & 0.1         &  63.53723   &  2978599    & 18.2        & 18.2        & 0.454       &  9.5       \\\\\n",
       "\t Afghanistan & 2010        & Developing  & 58.8        & 279         & 74          & 0.01        & 79.679367   & 66          & 1989        & ...         & 66          & 9.20        & 66          & 0.1         & 553.32894   &  2883167    & 18.4        & 18.4        & 0.448       &  9.2       \\\\\n",
       "\\end{tabular}\n"
      ],
      "text/markdown": [
       "\n",
       "| Country | Year | Status | Life.expectancy | Adult.Mortality | infant.deaths | Alcohol | percentage.expenditure | Hepatitis.B | Measles | ... | Polio | Total.expenditure | Diphtheria | HIV.AIDS | GDP | Population | thinness..1.19.years | thinness.5.9.years | Income.composition.of.resources | Schooling |\n",
       "|---|---|---|---|---|---|---|---|---|---|---|---|---|---|---|---|---|---|---|---|---|\n",
       "| Afghanistan | 2015        | Developing  | 65.0        | 263         | 62          | 0.01        | 71.279624   | 65          | 1154        | ...         |  6          | 8.16        | 65          | 0.1         | 584.25921   | 33736494    | 17.2        | 17.3        | 0.479       | 10.1        |\n",
       "| Afghanistan | 2014        | Developing  | 59.9        | 271         | 64          | 0.01        | 73.523582   | 62          |  492        | ...         | 58          | 8.18        | 62          | 0.1         | 612.69651   |   327582    | 17.5        | 17.5        | 0.476       | 10.0        |\n",
       "| Afghanistan | 2013        | Developing  | 59.9        | 268         | 66          | 0.01        | 73.219243   | 64          |  430        | ...         | 62          | 8.13        | 64          | 0.1         | 631.74498   | 31731688    | 17.7        | 17.7        | 0.470       |  9.9        |\n",
       "| Afghanistan | 2012        | Developing  | 59.5        | 272         | 69          | 0.01        | 78.184215   | 67          | 2787        | ...         | 67          | 8.52        | 67          | 0.1         | 669.95900   |  3696958    | 17.9        | 18.0        | 0.463       |  9.8        |\n",
       "| Afghanistan | 2011        | Developing  | 59.2        | 275         | 71          | 0.01        |  7.097109   | 68          | 3013        | ...         | 68          | 7.87        | 68          | 0.1         |  63.53723   |  2978599    | 18.2        | 18.2        | 0.454       |  9.5        |\n",
       "| Afghanistan | 2010        | Developing  | 58.8        | 279         | 74          | 0.01        | 79.679367   | 66          | 1989        | ...         | 66          | 9.20        | 66          | 0.1         | 553.32894   |  2883167    | 18.4        | 18.4        | 0.448       |  9.2        |\n",
       "\n"
      ],
      "text/plain": [
       "  Country     Year Status     Life.expectancy Adult.Mortality infant.deaths\n",
       "1 Afghanistan 2015 Developing 65.0            263             62           \n",
       "2 Afghanistan 2014 Developing 59.9            271             64           \n",
       "3 Afghanistan 2013 Developing 59.9            268             66           \n",
       "4 Afghanistan 2012 Developing 59.5            272             69           \n",
       "5 Afghanistan 2011 Developing 59.2            275             71           \n",
       "6 Afghanistan 2010 Developing 58.8            279             74           \n",
       "  Alcohol percentage.expenditure Hepatitis.B Measles ... Polio\n",
       "1 0.01    71.279624              65          1154    ...  6   \n",
       "2 0.01    73.523582              62           492    ... 58   \n",
       "3 0.01    73.219243              64           430    ... 62   \n",
       "4 0.01    78.184215              67          2787    ... 67   \n",
       "5 0.01     7.097109              68          3013    ... 68   \n",
       "6 0.01    79.679367              66          1989    ... 66   \n",
       "  Total.expenditure Diphtheria HIV.AIDS GDP       Population\n",
       "1 8.16              65         0.1      584.25921 33736494  \n",
       "2 8.18              62         0.1      612.69651   327582  \n",
       "3 8.13              64         0.1      631.74498 31731688  \n",
       "4 8.52              67         0.1      669.95900  3696958  \n",
       "5 7.87              68         0.1       63.53723  2978599  \n",
       "6 9.20              66         0.1      553.32894  2883167  \n",
       "  thinness..1.19.years thinness.5.9.years Income.composition.of.resources\n",
       "1 17.2                 17.3               0.479                          \n",
       "2 17.5                 17.5               0.476                          \n",
       "3 17.7                 17.7               0.470                          \n",
       "4 17.9                 18.0               0.463                          \n",
       "5 18.2                 18.2               0.454                          \n",
       "6 18.4                 18.4               0.448                          \n",
       "  Schooling\n",
       "1 10.1     \n",
       "2 10.0     \n",
       "3  9.9     \n",
       "4  9.8     \n",
       "5  9.5     \n",
       "6  9.2     "
      ]
     },
     "metadata": {},
     "output_type": "display_data"
    }
   ],
   "source": [
    "# loading the dataset\n",
    "df_life <- read.csv(\"Life Expectancy Data.csv\")\n",
    "\n",
    "head(df_life)"
   ]
  },
  {
   "cell_type": "code",
   "execution_count": 3,
   "metadata": {
    "scrolled": false
   },
   "outputs": [
    {
     "name": "stdout",
     "output_type": "stream",
     "text": [
      "'data.frame':\t2938 obs. of  22 variables:\n",
      " $ Country                        : Factor w/ 193 levels \"Afghanistan\",..: 1 1 1 1 1 1 1 1 1 1 ...\n",
      " $ Year                           : int  2015 2014 2013 2012 2011 2010 2009 2008 2007 2006 ...\n",
      " $ Status                         : Factor w/ 2 levels \"Developed\",\"Developing\": 2 2 2 2 2 2 2 2 2 2 ...\n",
      " $ Life.expectancy                : num  65 59.9 59.9 59.5 59.2 58.8 58.6 58.1 57.5 57.3 ...\n",
      " $ Adult.Mortality                : int  263 271 268 272 275 279 281 287 295 295 ...\n",
      " $ infant.deaths                  : int  62 64 66 69 71 74 77 80 82 84 ...\n",
      " $ Alcohol                        : num  0.01 0.01 0.01 0.01 0.01 0.01 0.01 0.03 0.02 0.03 ...\n",
      " $ percentage.expenditure         : num  71.3 73.5 73.2 78.2 7.1 ...\n",
      " $ Hepatitis.B                    : int  65 62 64 67 68 66 63 64 63 64 ...\n",
      " $ Measles                        : int  1154 492 430 2787 3013 1989 2861 1599 1141 1990 ...\n",
      " $ BMI                            : num  19.1 18.6 18.1 17.6 17.2 16.7 16.2 15.7 15.2 14.7 ...\n",
      " $ under.five.deaths              : int  83 86 89 93 97 102 106 110 113 116 ...\n",
      " $ Polio                          : int  6 58 62 67 68 66 63 64 63 58 ...\n",
      " $ Total.expenditure              : num  8.16 8.18 8.13 8.52 7.87 9.2 9.42 8.33 6.73 7.43 ...\n",
      " $ Diphtheria                     : int  65 62 64 67 68 66 63 64 63 58 ...\n",
      " $ HIV.AIDS                       : num  0.1 0.1 0.1 0.1 0.1 0.1 0.1 0.1 0.1 0.1 ...\n",
      " $ GDP                            : num  584.3 612.7 631.7 670 63.5 ...\n",
      " $ Population                     : num  33736494 327582 31731688 3696958 2978599 ...\n",
      " $ thinness..1.19.years           : num  17.2 17.5 17.7 17.9 18.2 18.4 18.6 18.8 19 19.2 ...\n",
      " $ thinness.5.9.years             : num  17.3 17.5 17.7 18 18.2 18.4 18.7 18.9 19.1 19.3 ...\n",
      " $ Income.composition.of.resources: num  0.479 0.476 0.47 0.463 0.454 0.448 0.434 0.433 0.415 0.405 ...\n",
      " $ Schooling                      : num  10.1 10 9.9 9.8 9.5 9.2 8.9 8.7 8.4 8.1 ...\n"
     ]
    }
   ],
   "source": [
    "str(df_life)"
   ]
  },
  {
   "cell_type": "markdown",
   "metadata": {},
   "source": [
    "Shape: 2938 rows and 22 columns/features"
   ]
  },
  {
   "cell_type": "code",
   "execution_count": 4,
   "metadata": {},
   "outputs": [],
   "source": [
    "# Renaming a column\n",
    "names(df_life)[names(df_life) == \"thinness..1.19.years\"] <- \"thinness..10.19.years\""
   ]
  },
  {
   "cell_type": "markdown",
   "metadata": {},
   "source": [
    "## 7. Exploratory Data Analysis: Discover and visualise data while finding correlations"
   ]
  },
  {
   "cell_type": "markdown",
   "metadata": {},
   "source": [
    "### 7.1. Variable transformation"
   ]
  },
  {
   "cell_type": "code",
   "execution_count": 5,
   "metadata": {},
   "outputs": [
    {
     "name": "stdout",
     "output_type": "stream",
     "text": [
      "'data.frame':\t2938 obs. of  22 variables:\n",
      " $ Country                        : Factor w/ 193 levels \"Afghanistan\",..: 1 1 1 1 1 1 1 1 1 1 ...\n",
      " $ Year                           : int  2015 2014 2013 2012 2011 2010 2009 2008 2007 2006 ...\n",
      " $ Status                         : Factor w/ 2 levels \"Developed\",\"Developing\": 2 2 2 2 2 2 2 2 2 2 ...\n",
      " $ Life.expectancy                : num  65 59.9 59.9 59.5 59.2 58.8 58.6 58.1 57.5 57.3 ...\n",
      " $ Adult.Mortality                : num  263 271 268 272 275 279 281 287 295 295 ...\n",
      " $ infant.deaths                  : num  62 64 66 69 71 74 77 80 82 84 ...\n",
      " $ Alcohol                        : num  0.01 0.01 0.01 0.01 0.01 0.01 0.01 0.03 0.02 0.03 ...\n",
      " $ percentage.expenditure         : num  71.3 73.5 73.2 78.2 7.1 ...\n",
      " $ Hepatitis.B                    : num  65 62 64 67 68 66 63 64 63 64 ...\n",
      " $ Measles                        : num  1154 492 430 2787 3013 ...\n",
      " $ BMI                            : num  19.1 18.6 18.1 17.6 17.2 16.7 16.2 15.7 15.2 14.7 ...\n",
      " $ under.five.deaths              : num  83 86 89 93 97 102 106 110 113 116 ...\n",
      " $ Polio                          : num  6 58 62 67 68 66 63 64 63 58 ...\n",
      " $ Total.expenditure              : num  8.16 8.18 8.13 8.52 7.87 9.2 9.42 8.33 6.73 7.43 ...\n",
      " $ Diphtheria                     : num  65 62 64 67 68 66 63 64 63 58 ...\n",
      " $ HIV.AIDS                       : num  0.1 0.1 0.1 0.1 0.1 0.1 0.1 0.1 0.1 0.1 ...\n",
      " $ GDP                            : num  584.3 612.7 631.7 670 63.5 ...\n",
      " $ Population                     : num  33736494 327582 31731688 3696958 2978599 ...\n",
      " $ thinness..10.19.years          : num  17.2 17.5 17.7 17.9 18.2 18.4 18.6 18.8 19 19.2 ...\n",
      " $ thinness.5.9.years             : num  17.3 17.5 17.7 18 18.2 18.4 18.7 18.9 19.1 19.3 ...\n",
      " $ Income.composition.of.resources: num  0.479 0.476 0.47 0.463 0.454 0.448 0.434 0.433 0.415 0.405 ...\n",
      " $ Schooling                      : num  10.1 10 9.9 9.8 9.5 9.2 8.9 8.7 8.4 8.1 ...\n"
     ]
    }
   ],
   "source": [
    "# (Integer into numeric for ease to explore data with graphs)\n",
    "df_life$Adult.Mortality <- as.numeric(df_life$Adult.Mortality)\n",
    "df_life$infant.deaths  <- as.numeric(df_life$infant.deaths)\n",
    "df_life$Hepatitis.B  <- as.numeric(df_life$Hepatitis.B)\n",
    "df_life$Measles  <- as.numeric(df_life$Measles)\n",
    "df_life$under.five.deaths <- as.numeric(df_life$under.five.deaths)\n",
    "df_life$Polio <- as.numeric(df_life$Polio)\n",
    "df_life$Diphtheria <- as.numeric(df_life$Diphtheria) \n",
    "str(df_life)"
   ]
  },
  {
   "cell_type": "markdown",
   "metadata": {},
   "source": [
    "### 7.2. Missing value evaluation"
   ]
  },
  {
   "cell_type": "code",
   "execution_count": 6,
   "metadata": {},
   "outputs": [
    {
     "data": {
      "text/html": [
       "<dl class=dl-horizontal>\n",
       "\t<dt>Country</dt>\n",
       "\t\t<dd>0</dd>\n",
       "\t<dt>Year</dt>\n",
       "\t\t<dd>0</dd>\n",
       "\t<dt>Status</dt>\n",
       "\t\t<dd>0</dd>\n",
       "\t<dt>Life.expectancy</dt>\n",
       "\t\t<dd>10</dd>\n",
       "\t<dt>Adult.Mortality</dt>\n",
       "\t\t<dd>10</dd>\n",
       "\t<dt>infant.deaths</dt>\n",
       "\t\t<dd>0</dd>\n",
       "\t<dt>Alcohol</dt>\n",
       "\t\t<dd>194</dd>\n",
       "\t<dt>percentage.expenditure</dt>\n",
       "\t\t<dd>0</dd>\n",
       "\t<dt>Hepatitis.B</dt>\n",
       "\t\t<dd>553</dd>\n",
       "\t<dt>Measles</dt>\n",
       "\t\t<dd>0</dd>\n",
       "\t<dt>BMI</dt>\n",
       "\t\t<dd>34</dd>\n",
       "\t<dt>under.five.deaths</dt>\n",
       "\t\t<dd>0</dd>\n",
       "\t<dt>Polio</dt>\n",
       "\t\t<dd>19</dd>\n",
       "\t<dt>Total.expenditure</dt>\n",
       "\t\t<dd>226</dd>\n",
       "\t<dt>Diphtheria</dt>\n",
       "\t\t<dd>19</dd>\n",
       "\t<dt>HIV.AIDS</dt>\n",
       "\t\t<dd>0</dd>\n",
       "\t<dt>GDP</dt>\n",
       "\t\t<dd>448</dd>\n",
       "\t<dt>Population</dt>\n",
       "\t\t<dd>652</dd>\n",
       "\t<dt>thinness..10.19.years</dt>\n",
       "\t\t<dd>34</dd>\n",
       "\t<dt>thinness.5.9.years</dt>\n",
       "\t\t<dd>34</dd>\n",
       "\t<dt>Income.composition.of.resources</dt>\n",
       "\t\t<dd>167</dd>\n",
       "\t<dt>Schooling</dt>\n",
       "\t\t<dd>163</dd>\n",
       "</dl>\n"
      ],
      "text/latex": [
       "\\begin{description*}\n",
       "\\item[Country] 0\n",
       "\\item[Year] 0\n",
       "\\item[Status] 0\n",
       "\\item[Life.expectancy] 10\n",
       "\\item[Adult.Mortality] 10\n",
       "\\item[infant.deaths] 0\n",
       "\\item[Alcohol] 194\n",
       "\\item[percentage.expenditure] 0\n",
       "\\item[Hepatitis.B] 553\n",
       "\\item[Measles] 0\n",
       "\\item[BMI] 34\n",
       "\\item[under.five.deaths] 0\n",
       "\\item[Polio] 19\n",
       "\\item[Total.expenditure] 226\n",
       "\\item[Diphtheria] 19\n",
       "\\item[HIV.AIDS] 0\n",
       "\\item[GDP] 448\n",
       "\\item[Population] 652\n",
       "\\item[thinness..10.19.years] 34\n",
       "\\item[thinness.5.9.years] 34\n",
       "\\item[Income.composition.of.resources] 167\n",
       "\\item[Schooling] 163\n",
       "\\end{description*}\n"
      ],
      "text/markdown": [
       "Country\n",
       ":   0Year\n",
       ":   0Status\n",
       ":   0Life.expectancy\n",
       ":   10Adult.Mortality\n",
       ":   10infant.deaths\n",
       ":   0Alcohol\n",
       ":   194percentage.expenditure\n",
       ":   0Hepatitis.B\n",
       ":   553Measles\n",
       ":   0BMI\n",
       ":   34under.five.deaths\n",
       ":   0Polio\n",
       ":   19Total.expenditure\n",
       ":   226Diphtheria\n",
       ":   19HIV.AIDS\n",
       ":   0GDP\n",
       ":   448Population\n",
       ":   652thinness..10.19.years\n",
       ":   34thinness.5.9.years\n",
       ":   34Income.composition.of.resources\n",
       ":   167Schooling\n",
       ":   163\n",
       "\n"
      ],
      "text/plain": [
       "                        Country                            Year \n",
       "                              0                               0 \n",
       "                         Status                 Life.expectancy \n",
       "                              0                              10 \n",
       "                Adult.Mortality                   infant.deaths \n",
       "                             10                               0 \n",
       "                        Alcohol          percentage.expenditure \n",
       "                            194                               0 \n",
       "                    Hepatitis.B                         Measles \n",
       "                            553                               0 \n",
       "                            BMI               under.five.deaths \n",
       "                             34                               0 \n",
       "                          Polio               Total.expenditure \n",
       "                             19                             226 \n",
       "                     Diphtheria                        HIV.AIDS \n",
       "                             19                               0 \n",
       "                            GDP                      Population \n",
       "                            448                             652 \n",
       "          thinness..10.19.years              thinness.5.9.years \n",
       "                             34                              34 \n",
       "Income.composition.of.resources                       Schooling \n",
       "                            167                             163 "
      ]
     },
     "metadata": {},
     "output_type": "display_data"
    }
   ],
   "source": [
    "# column wise total missing values \n",
    "colSums(is.na(df_life))"
   ]
  },
  {
   "cell_type": "code",
   "execution_count": 7,
   "metadata": {},
   "outputs": [
    {
     "data": {
      "text/html": [
       "2563"
      ],
      "text/latex": [
       "2563"
      ],
      "text/markdown": [
       "2563"
      ],
      "text/plain": [
       "[1] 2563"
      ]
     },
     "metadata": {},
     "output_type": "display_data"
    }
   ],
   "source": [
    "# total missing values in the dataframe\n",
    "sum(is.na(df_life))"
   ]
  },
  {
   "cell_type": "code",
   "execution_count": 8,
   "metadata": {},
   "outputs": [
    {
     "data": {
      "text/html": [
       "<table>\n",
       "<thead><tr><th></th><th scope=col>Country</th><th scope=col>Year</th><th scope=col>Status</th><th scope=col>Life.expectancy</th><th scope=col>Adult.Mortality</th><th scope=col>infant.deaths</th><th scope=col>Alcohol</th><th scope=col>percentage.expenditure</th><th scope=col>Hepatitis.B</th><th scope=col>Measles</th><th scope=col>...</th><th scope=col>Polio</th><th scope=col>Total.expenditure</th><th scope=col>Diphtheria</th><th scope=col>HIV.AIDS</th><th scope=col>GDP</th><th scope=col>Population</th><th scope=col>thinness..10.19.years</th><th scope=col>thinness.5.9.years</th><th scope=col>Income.composition.of.resources</th><th scope=col>Schooling</th></tr></thead>\n",
       "<tbody>\n",
       "\t<tr><th scope=row>625</th><td>Cook Islands         </td><td>2013                 </td><td>Developing           </td><td>NA                   </td><td>NA                   </td><td>0                    </td><td>0.01                 </td><td>  0.00000            </td><td>98                   </td><td>0                    </td><td>...                  </td><td>98                   </td><td> 3.58                </td><td>98                   </td><td>0.1                  </td><td>       NA            </td><td>  NA                 </td><td>0.1                  </td><td>0.1                  </td><td>   NA                </td><td>  NA                 </td></tr>\n",
       "\t<tr><th scope=row>770</th><td>Dominica             </td><td>2013                 </td><td>Developing           </td><td>NA                   </td><td>NA                   </td><td>0                    </td><td>0.01                 </td><td> 11.41956            </td><td>96                   </td><td>0                    </td><td>...                  </td><td>96                   </td><td> 5.58                </td><td>96                   </td><td>0.1                  </td><td> 722.7567            </td><td>  NA                 </td><td>2.7                  </td><td>2.6                  </td><td>0.721                </td><td>12.7                 </td></tr>\n",
       "\t<tr><th scope=row>1651</th><td>Marshall Islands     </td><td>2013                 </td><td>Developing           </td><td>NA                   </td><td>NA                   </td><td>0                    </td><td>0.01                 </td><td>871.87832            </td><td> 8                   </td><td>0                    </td><td>...                  </td><td>79                   </td><td>17.24                </td><td>79                   </td><td>0.1                  </td><td>3617.7524            </td><td>  NA                 </td><td>0.1                  </td><td>0.1                  </td><td>   NA                </td><td> 0.0                 </td></tr>\n",
       "\t<tr><th scope=row>1716</th><td>Monaco               </td><td>2013                 </td><td>Developing           </td><td>NA                   </td><td>NA                   </td><td>0                    </td><td>0.01                 </td><td>  0.00000            </td><td>99                   </td><td>0                    </td><td>...                  </td><td>99                   </td><td> 4.30                </td><td>99                   </td><td>0.1                  </td><td>       NA            </td><td>  NA                 </td><td> NA                  </td><td> NA                  </td><td>   NA                </td><td>  NA                 </td></tr>\n",
       "\t<tr><th scope=row>1813</th><td>Nauru                </td><td>2013                 </td><td>Developing           </td><td>NA                   </td><td>NA                   </td><td>0                    </td><td>0.01                 </td><td> 15.60660            </td><td>87                   </td><td>0                    </td><td>...                  </td><td>87                   </td><td> 4.65                </td><td>87                   </td><td>0.1                  </td><td> 136.1832            </td><td>  NA                 </td><td>0.1                  </td><td>0.1                  </td><td>   NA                </td><td> 9.6                 </td></tr>\n",
       "\t<tr><th scope=row>1910</th><td>Niue                 </td><td>2013                 </td><td>Developing           </td><td>NA                   </td><td>NA                   </td><td>0                    </td><td>0.01                 </td><td>  0.00000            </td><td>99                   </td><td>0                    </td><td>...                  </td><td>99                   </td><td> 7.20                </td><td>99                   </td><td>0.1                  </td><td>       NA            </td><td>  NA                 </td><td>0.1                  </td><td>0.1                  </td><td>   NA                </td><td>  NA                 </td></tr>\n",
       "\t<tr><th scope=row>1959</th><td>Palau                </td><td>2013                 </td><td>Developing           </td><td>NA                   </td><td>NA                   </td><td>0                    </td><td>  NA                 </td><td>344.69063            </td><td>99                   </td><td>0                    </td><td>...                  </td><td>99                   </td><td> 9.27                </td><td>99                   </td><td>0.1                  </td><td>1932.1224            </td><td> 292                 </td><td>0.1                  </td><td>0.1                  </td><td>0.779                </td><td>14.2                 </td></tr>\n",
       "\t<tr><th scope=row>2168</th><td>Saint Kitts and Nevis</td><td>2013                 </td><td>Developing           </td><td>NA                   </td><td>NA                   </td><td>0                    </td><td>8.54                 </td><td>  0.00000            </td><td>97                   </td><td>0                    </td><td>...                  </td><td>96                   </td><td> 6.14                </td><td>96                   </td><td>0.1                  </td><td>       NA            </td><td>  NA                 </td><td>3.7                  </td><td>3.6                  </td><td>0.749                </td><td>13.4                 </td></tr>\n",
       "\t<tr><th scope=row>2217</th><td>San Marino           </td><td>2013                 </td><td>Developing           </td><td>NA                   </td><td>NA                   </td><td>0                    </td><td>0.01                 </td><td>  0.00000            </td><td>69                   </td><td>0                    </td><td>...                  </td><td>69                   </td><td> 6.50                </td><td>69                   </td><td>0.1                  </td><td>       NA            </td><td>  NA                 </td><td> NA                  </td><td> NA                  </td><td>   NA                </td><td>15.1                 </td></tr>\n",
       "\t<tr><th scope=row>2714</th><td>Tuvalu               </td><td>2013                 </td><td>Developing           </td><td>NA                   </td><td>NA                   </td><td>0                    </td><td>0.01                 </td><td> 78.28120            </td><td> 9                   </td><td>0                    </td><td>...                  </td><td> 9                   </td><td>16.61                </td><td> 9                   </td><td>0.1                  </td><td>3542.1359            </td><td>1819                 </td><td>0.2                  </td><td>0.1                  </td><td>   NA                </td><td> 0.0                 </td></tr>\n",
       "</tbody>\n",
       "</table>\n"
      ],
      "text/latex": [
       "\\begin{tabular}{r|llllllllllllllllllllll}\n",
       "  & Country & Year & Status & Life.expectancy & Adult.Mortality & infant.deaths & Alcohol & percentage.expenditure & Hepatitis.B & Measles & ... & Polio & Total.expenditure & Diphtheria & HIV.AIDS & GDP & Population & thinness..10.19.years & thinness.5.9.years & Income.composition.of.resources & Schooling\\\\\n",
       "\\hline\n",
       "\t625 & Cook Islands          & 2013                  & Developing            & NA                    & NA                    & 0                     & 0.01                  &   0.00000             & 98                    & 0                     & ...                   & 98                    &  3.58                 & 98                    & 0.1                   &        NA             &   NA                  & 0.1                   & 0.1                   &    NA                 &   NA                 \\\\\n",
       "\t770 & Dominica              & 2013                  & Developing            & NA                    & NA                    & 0                     & 0.01                  &  11.41956             & 96                    & 0                     & ...                   & 96                    &  5.58                 & 96                    & 0.1                   &  722.7567             &   NA                  & 2.7                   & 2.6                   & 0.721                 & 12.7                 \\\\\n",
       "\t1651 & Marshall Islands      & 2013                  & Developing            & NA                    & NA                    & 0                     & 0.01                  & 871.87832             &  8                    & 0                     & ...                   & 79                    & 17.24                 & 79                    & 0.1                   & 3617.7524             &   NA                  & 0.1                   & 0.1                   &    NA                 &  0.0                 \\\\\n",
       "\t1716 & Monaco                & 2013                  & Developing            & NA                    & NA                    & 0                     & 0.01                  &   0.00000             & 99                    & 0                     & ...                   & 99                    &  4.30                 & 99                    & 0.1                   &        NA             &   NA                  &  NA                   &  NA                   &    NA                 &   NA                 \\\\\n",
       "\t1813 & Nauru                 & 2013                  & Developing            & NA                    & NA                    & 0                     & 0.01                  &  15.60660             & 87                    & 0                     & ...                   & 87                    &  4.65                 & 87                    & 0.1                   &  136.1832             &   NA                  & 0.1                   & 0.1                   &    NA                 &  9.6                 \\\\\n",
       "\t1910 & Niue                  & 2013                  & Developing            & NA                    & NA                    & 0                     & 0.01                  &   0.00000             & 99                    & 0                     & ...                   & 99                    &  7.20                 & 99                    & 0.1                   &        NA             &   NA                  & 0.1                   & 0.1                   &    NA                 &   NA                 \\\\\n",
       "\t1959 & Palau                 & 2013                  & Developing            & NA                    & NA                    & 0                     &   NA                  & 344.69063             & 99                    & 0                     & ...                   & 99                    &  9.27                 & 99                    & 0.1                   & 1932.1224             &  292                  & 0.1                   & 0.1                   & 0.779                 & 14.2                 \\\\\n",
       "\t2168 & Saint Kitts and Nevis & 2013                  & Developing            & NA                    & NA                    & 0                     & 8.54                  &   0.00000             & 97                    & 0                     & ...                   & 96                    &  6.14                 & 96                    & 0.1                   &        NA             &   NA                  & 3.7                   & 3.6                   & 0.749                 & 13.4                 \\\\\n",
       "\t2217 & San Marino            & 2013                  & Developing            & NA                    & NA                    & 0                     & 0.01                  &   0.00000             & 69                    & 0                     & ...                   & 69                    &  6.50                 & 69                    & 0.1                   &        NA             &   NA                  &  NA                   &  NA                   &    NA                 & 15.1                 \\\\\n",
       "\t2714 & Tuvalu                & 2013                  & Developing            & NA                    & NA                    & 0                     & 0.01                  &  78.28120             &  9                    & 0                     & ...                   &  9                    & 16.61                 &  9                    & 0.1                   & 3542.1359             & 1819                  & 0.2                   & 0.1                   &    NA                 &  0.0                 \\\\\n",
       "\\end{tabular}\n"
      ],
      "text/markdown": [
       "\n",
       "| <!--/--> | Country | Year | Status | Life.expectancy | Adult.Mortality | infant.deaths | Alcohol | percentage.expenditure | Hepatitis.B | Measles | ... | Polio | Total.expenditure | Diphtheria | HIV.AIDS | GDP | Population | thinness..10.19.years | thinness.5.9.years | Income.composition.of.resources | Schooling |\n",
       "|---|---|---|---|---|---|---|---|---|---|---|---|---|---|---|---|---|---|---|---|---|---|\n",
       "| 625 | Cook Islands          | 2013                  | Developing            | NA                    | NA                    | 0                     | 0.01                  |   0.00000             | 98                    | 0                     | ...                   | 98                    |  3.58                 | 98                    | 0.1                   |        NA             |   NA                  | 0.1                   | 0.1                   |    NA                 |   NA                  |\n",
       "| 770 | Dominica              | 2013                  | Developing            | NA                    | NA                    | 0                     | 0.01                  |  11.41956             | 96                    | 0                     | ...                   | 96                    |  5.58                 | 96                    | 0.1                   |  722.7567             |   NA                  | 2.7                   | 2.6                   | 0.721                 | 12.7                  |\n",
       "| 1651 | Marshall Islands      | 2013                  | Developing            | NA                    | NA                    | 0                     | 0.01                  | 871.87832             |  8                    | 0                     | ...                   | 79                    | 17.24                 | 79                    | 0.1                   | 3617.7524             |   NA                  | 0.1                   | 0.1                   |    NA                 |  0.0                  |\n",
       "| 1716 | Monaco                | 2013                  | Developing            | NA                    | NA                    | 0                     | 0.01                  |   0.00000             | 99                    | 0                     | ...                   | 99                    |  4.30                 | 99                    | 0.1                   |        NA             |   NA                  |  NA                   |  NA                   |    NA                 |   NA                  |\n",
       "| 1813 | Nauru                 | 2013                  | Developing            | NA                    | NA                    | 0                     | 0.01                  |  15.60660             | 87                    | 0                     | ...                   | 87                    |  4.65                 | 87                    | 0.1                   |  136.1832             |   NA                  | 0.1                   | 0.1                   |    NA                 |  9.6                  |\n",
       "| 1910 | Niue                  | 2013                  | Developing            | NA                    | NA                    | 0                     | 0.01                  |   0.00000             | 99                    | 0                     | ...                   | 99                    |  7.20                 | 99                    | 0.1                   |        NA             |   NA                  | 0.1                   | 0.1                   |    NA                 |   NA                  |\n",
       "| 1959 | Palau                 | 2013                  | Developing            | NA                    | NA                    | 0                     |   NA                  | 344.69063             | 99                    | 0                     | ...                   | 99                    |  9.27                 | 99                    | 0.1                   | 1932.1224             |  292                  | 0.1                   | 0.1                   | 0.779                 | 14.2                  |\n",
       "| 2168 | Saint Kitts and Nevis | 2013                  | Developing            | NA                    | NA                    | 0                     | 8.54                  |   0.00000             | 97                    | 0                     | ...                   | 96                    |  6.14                 | 96                    | 0.1                   |        NA             |   NA                  | 3.7                   | 3.6                   | 0.749                 | 13.4                  |\n",
       "| 2217 | San Marino            | 2013                  | Developing            | NA                    | NA                    | 0                     | 0.01                  |   0.00000             | 69                    | 0                     | ...                   | 69                    |  6.50                 | 69                    | 0.1                   |        NA             |   NA                  |  NA                   |  NA                   |    NA                 | 15.1                  |\n",
       "| 2714 | Tuvalu                | 2013                  | Developing            | NA                    | NA                    | 0                     | 0.01                  |  78.28120             |  9                    | 0                     | ...                   |  9                    | 16.61                 |  9                    | 0.1                   | 3542.1359             | 1819                  | 0.2                   | 0.1                   |    NA                 |  0.0                  |\n",
       "\n"
      ],
      "text/plain": [
       "     Country               Year Status     Life.expectancy Adult.Mortality\n",
       "625  Cook Islands          2013 Developing NA              NA             \n",
       "770  Dominica              2013 Developing NA              NA             \n",
       "1651 Marshall Islands      2013 Developing NA              NA             \n",
       "1716 Monaco                2013 Developing NA              NA             \n",
       "1813 Nauru                 2013 Developing NA              NA             \n",
       "1910 Niue                  2013 Developing NA              NA             \n",
       "1959 Palau                 2013 Developing NA              NA             \n",
       "2168 Saint Kitts and Nevis 2013 Developing NA              NA             \n",
       "2217 San Marino            2013 Developing NA              NA             \n",
       "2714 Tuvalu                2013 Developing NA              NA             \n",
       "     infant.deaths Alcohol percentage.expenditure Hepatitis.B Measles ... Polio\n",
       "625  0             0.01      0.00000              98          0       ... 98   \n",
       "770  0             0.01     11.41956              96          0       ... 96   \n",
       "1651 0             0.01    871.87832               8          0       ... 79   \n",
       "1716 0             0.01      0.00000              99          0       ... 99   \n",
       "1813 0             0.01     15.60660              87          0       ... 87   \n",
       "1910 0             0.01      0.00000              99          0       ... 99   \n",
       "1959 0               NA    344.69063              99          0       ... 99   \n",
       "2168 0             8.54      0.00000              97          0       ... 96   \n",
       "2217 0             0.01      0.00000              69          0       ... 69   \n",
       "2714 0             0.01     78.28120               9          0       ...  9   \n",
       "     Total.expenditure Diphtheria HIV.AIDS GDP       Population\n",
       "625   3.58             98         0.1             NA   NA      \n",
       "770   5.58             96         0.1       722.7567   NA      \n",
       "1651 17.24             79         0.1      3617.7524   NA      \n",
       "1716  4.30             99         0.1             NA   NA      \n",
       "1813  4.65             87         0.1       136.1832   NA      \n",
       "1910  7.20             99         0.1             NA   NA      \n",
       "1959  9.27             99         0.1      1932.1224  292      \n",
       "2168  6.14             96         0.1             NA   NA      \n",
       "2217  6.50             69         0.1             NA   NA      \n",
       "2714 16.61              9         0.1      3542.1359 1819      \n",
       "     thinness..10.19.years thinness.5.9.years Income.composition.of.resources\n",
       "625  0.1                   0.1                   NA                          \n",
       "770  2.7                   2.6                0.721                          \n",
       "1651 0.1                   0.1                   NA                          \n",
       "1716  NA                    NA                   NA                          \n",
       "1813 0.1                   0.1                   NA                          \n",
       "1910 0.1                   0.1                   NA                          \n",
       "1959 0.1                   0.1                0.779                          \n",
       "2168 3.7                   3.6                0.749                          \n",
       "2217  NA                    NA                   NA                          \n",
       "2714 0.2                   0.1                   NA                          \n",
       "     Schooling\n",
       "625    NA     \n",
       "770  12.7     \n",
       "1651  0.0     \n",
       "1716   NA     \n",
       "1813  9.6     \n",
       "1910   NA     \n",
       "1959 14.2     \n",
       "2168 13.4     \n",
       "2217 15.1     \n",
       "2714  0.0     "
      ]
     },
     "metadata": {},
     "output_type": "display_data"
    }
   ],
   "source": [
    "# checking the 10 missing values in the dependent variable Life.expectancy\n",
    "df_life[which(is.na(df_life$Life.expectancy)),]"
   ]
  },
  {
   "cell_type": "markdown",
   "metadata": {},
   "source": [
    "Since, all the 10 missing values in life.expactancy and adult.mortality columns are from from 10 different countries whose whose data points are only avaliable for one year, so we will drop them"
   ]
  },
  {
   "cell_type": "code",
   "execution_count": 9,
   "metadata": {
    "scrolled": true
   },
   "outputs": [
    {
     "data": {
      "text/html": [
       "<dl class=dl-horizontal>\n",
       "\t<dt>Life.expectancy</dt>\n",
       "\t\t<dd>0</dd>\n",
       "\t<dt>Adult.Mortality</dt>\n",
       "\t\t<dd>0</dd>\n",
       "</dl>\n"
      ],
      "text/latex": [
       "\\begin{description*}\n",
       "\\item[Life.expectancy] 0\n",
       "\\item[Adult.Mortality] 0\n",
       "\\end{description*}\n"
      ],
      "text/markdown": [
       "Life.expectancy\n",
       ":   0Adult.Mortality\n",
       ":   0\n",
       "\n"
      ],
      "text/plain": [
       "Life.expectancy Adult.Mortality \n",
       "              0               0 "
      ]
     },
     "metadata": {},
     "output_type": "display_data"
    }
   ],
   "source": [
    "df_life <- df_life[-which(is.na(df_life$Life.expectancy)),]\n",
    "colSums(is.na(df_life))[4:5]"
   ]
  },
  {
   "cell_type": "markdown",
   "metadata": {},
   "source": [
    "##### Histograms\n",
    "\n",
    "Now, looking at the histogram for all the variables with country Status as a factor to decide the following:\n",
    "1. whether to impute the missing values with mean or median\n",
    "2. whether to split the data into \"Developed\" or \"Developing\" countries"
   ]
  },
  {
   "cell_type": "code",
   "execution_count": 11,
   "metadata": {
    "scrolled": false
   },
   "outputs": [
    {
     "name": "stderr",
     "output_type": "stream",
     "text": [
      "`stat_bin()` using `bins = 30`. Pick better value with `binwidth`.\n",
      "`stat_bin()` using `bins = 30`. Pick better value with `binwidth`.\n",
      "`stat_bin()` using `bins = 30`. Pick better value with `binwidth`.\n",
      "`stat_bin()` using `bins = 30`. Pick better value with `binwidth`.\n"
     ]
    },
    {
     "data": {
      "image/png": "[encoded data removed]",
      "text/plain": [
       "plot without title"
      ]
     },
     "metadata": {},
     "output_type": "display_data"
    }
   ],
   "source": [
    "attach(df_life)\n",
    "# for subplots\n",
    "install.packages(\"ggpubr\")\n",
    "library(ggpubr)\n",
    "# scaling the plot\n",
    "options(repr.plot.width = 8, repr.plot.height = 5, warn = - 1)\n",
    "alcohol <- ggplot(data = df_life, aes(x = Alcohol, fill = factor(Status))) + \n",
    "        geom_histogram(color = \"red\")\n",
    "\n",
    "H.B <- ggplot(data = df_life, aes(x = Hepatitis.B, fill = factor(Status))) + \n",
    "        geom_histogram(color = \"red\")\n",
    "\n",
    "bmi_plot <- ggplot(data = df_life, aes(x = BMI, fill = factor(Status))) + \n",
    "        geom_histogram(color = \"red\")\n",
    "\n",
    "Polio_plot <- ggplot(data = df_life, aes(x = Polio, fill = factor(Status))) + \n",
    "        geom_histogram(color = \"red\")\n",
    "\n",
    "# arranging it together\n",
    "ggarrange(alcohol, H.B, bmi_plot, Polio_plot,\n",
    "          ncol = 2, nrow = 2)"
   ]
  },
  {
   "cell_type": "code",
   "execution_count": 12,
   "metadata": {
    "scrolled": false
   },
   "outputs": [
    {
     "name": "stderr",
     "output_type": "stream",
     "text": [
      "`stat_bin()` using `bins = 30`. Pick better value with `binwidth`.\n",
      "`stat_bin()` using `bins = 30`. Pick better value with `binwidth`.\n",
      "`stat_bin()` using `bins = 30`. Pick better value with `binwidth`.\n",
      "`stat_bin()` using `bins = 30`. Pick better value with `binwidth`.\n"
     ]
    },
    {
     "data": {
      "image/png": "[encoded data removed]",
      "text/plain": [
       "plot without title"
      ]
     },
     "metadata": {},
     "output_type": "display_data"
    }
   ],
   "source": [
    "options(repr.plot.width = 8, repr.plot.height = 5, warn=-1)\n",
    "gdp_plot <- ggplot(data = df_life, aes(x = GDP, fill = factor(Status))) + \n",
    "        geom_histogram(color = \"red\")\n",
    "\n",
    "pop_plot <- ggplot(data = df_life, aes(x = Population, fill = factor(Status))) + \n",
    "        geom_histogram(color = \"red\")\n",
    "\n",
    "schooling_plot <- ggplot(data = df_life, aes(x = Schooling, fill = factor(Status))) + \n",
    "        geom_histogram(color = \"red\")\n",
    "\n",
    "income_plot <- ggplot(data = df_life, aes(x = Income.composition.of.resources, fill = factor(Status))) + \n",
    "        geom_histogram(color = \"red\")\n",
    "\n",
    "ggarrange(gdp_plot,  pop_plot, schooling_plot, income_plot,\n",
    "          ncol = 2, nrow = 2)"
   ]
  },
  {
   "cell_type": "code",
   "execution_count": 13,
   "metadata": {
    "scrolled": false
   },
   "outputs": [
    {
     "name": "stderr",
     "output_type": "stream",
     "text": [
      "`stat_bin()` using `bins = 30`. Pick better value with `binwidth`.\n",
      "`stat_bin()` using `bins = 30`. Pick better value with `binwidth`.\n"
     ]
    },
    {
     "data": {
      "image/png": "[encoded data removed]",
      "text/plain": [
       "plot without title"
      ]
     },
     "metadata": {},
     "output_type": "display_data"
    }
   ],
   "source": [
    "options(repr.plot.width = 8, repr.plot.height = 3, warn=-1)\n",
    "te_plot <- ggplot(data = df_life, aes(x = Total.expenditure, fill = factor(Status))) + \n",
    "        geom_histogram(color = \"red\")\n",
    "\n",
    "diptheria_plot <- ggplot(data = df_life, aes(x = Diphtheria, fill = factor(Status))) + \n",
    "        geom_histogram(color = \"red\")\n",
    "\n",
    "ggarrange(te_plot,  diptheria_plot,\n",
    "          ncol = 2, nrow = 1)"
   ]
  },
  {
   "cell_type": "markdown",
   "metadata": {},
   "source": [
    "Analysis:\n",
    "\n",
    "Looking at the the histograms, most of them are normally distributed or Positively skewed we can conclude that filling the values with mean will be most appropriate when compared to median as most of the distribution is skewed."
   ]
  },
  {
   "cell_type": "markdown",
   "metadata": {},
   "source": [
    "##### Imputation"
   ]
  },
  {
   "cell_type": "code",
   "execution_count": 14,
   "metadata": {
    "collapsed": true
   },
   "outputs": [
    {
     "name": "stdout",
     "output_type": "stream",
     "text": [
      "package 'mice' successfully unpacked and MD5 sums checked\n",
      "\n",
      "The downloaded binary packages are in\n",
      "\tC:\\Users\\Divit\\AppData\\Local\\Temp\\RtmpmWsPnx\\downloaded_packages\n"
     ]
    },
    {
     "name": "stderr",
     "output_type": "stream",
     "text": [
      "\n",
      "Attaching package: 'mice'\n",
      "\n",
      "The following object is masked from 'package:stats':\n",
      "\n",
      "    filter\n",
      "\n",
      "The following objects are masked from 'package:base':\n",
      "\n",
      "    cbind, rbind\n",
      "\n"
     ]
    }
   ],
   "source": [
    "# for missing value imputation\n",
    "install.packages(\"mice\")\n",
    "library(mice)"
   ]
  },
  {
   "cell_type": "code",
   "execution_count": 15,
   "metadata": {
    "collapsed": true
   },
   "outputs": [
    {
     "name": "stdout",
     "output_type": "stream",
     "text": [
      "\n",
      " iter imp variable\n",
      "  1   1  Alcohol  Hepatitis.B  BMI  Polio  Total.expenditure  Diphtheria  GDP  Population  thinness..10.19.years  thinness.5.9.years  Income.composition.of.resources  Schooling\n",
      "  1   2  Alcohol  Hepatitis.B  BMI  Polio  Total.expenditure  Diphtheria  GDP  Population  thinness..10.19.years  thinness.5.9.years  Income.composition.of.resources  Schooling\n",
      "  1   3  Alcohol  Hepatitis.B  BMI  Polio  Total.expenditure  Diphtheria  GDP  Population  thinness..10.19.years  thinness.5.9.years  Income.composition.of.resources  Schooling\n",
      "  1   4  Alcohol  Hepatitis.B  BMI  Polio  Total.expenditure  Diphtheria  GDP  Population  thinness..10.19.years  thinness.5.9.years  Income.composition.of.resources  Schooling\n",
      "  1   5  Alcohol  Hepatitis.B  BMI  Polio  Total.expenditure  Diphtheria  GDP  Population  thinness..10.19.years  thinness.5.9.years  Income.composition.of.resources  Schooling\n",
      "  2   1  Alcohol  Hepatitis.B  BMI  Polio  Total.expenditure  Diphtheria  GDP  Population  thinness..10.19.years  thinness.5.9.years  Income.composition.of.resources  Schooling\n",
      "  2   2  Alcohol  Hepatitis.B  BMI  Polio  Total.expenditure  Diphtheria  GDP  Population  thinness..10.19.years  thinness.5.9.years  Income.composition.of.resources  Schooling\n",
      "  2   3  Alcohol  Hepatitis.B  BMI  Polio  Total.expenditure  Diphtheria  GDP  Population  thinness..10.19.years  thinness.5.9.years  Income.composition.of.resources  Schooling\n",
      "  2   4  Alcohol  Hepatitis.B  BMI  Polio  Total.expenditure  Diphtheria  GDP  Population  thinness..10.19.years  thinness.5.9.years  Income.composition.of.resources  Schooling\n",
      "  2   5  Alcohol  Hepatitis.B  BMI  Polio  Total.expenditure  Diphtheria  GDP  Population  thinness..10.19.years  thinness.5.9.years  Income.composition.of.resources  Schooling\n",
      "  3   1  Alcohol  Hepatitis.B  BMI  Polio  Total.expenditure  Diphtheria  GDP  Population  thinness..10.19.years  thinness.5.9.years  Income.composition.of.resources  Schooling\n",
      "  3   2  Alcohol  Hepatitis.B  BMI  Polio  Total.expenditure  Diphtheria  GDP  Population  thinness..10.19.years  thinness.5.9.years  Income.composition.of.resources  Schooling\n",
      "  3   3  Alcohol  Hepatitis.B  BMI  Polio  Total.expenditure  Diphtheria  GDP  Population  thinness..10.19.years  thinness.5.9.years  Income.composition.of.resources  Schooling\n",
      "  3   4  Alcohol  Hepatitis.B  BMI  Polio  Total.expenditure  Diphtheria  GDP  Population  thinness..10.19.years  thinness.5.9.years  Income.composition.of.resources  Schooling\n",
      "  3   5  Alcohol  Hepatitis.B  BMI  Polio  Total.expenditure  Diphtheria  GDP  Population  thinness..10.19.years  thinness.5.9.years  Income.composition.of.resources  Schooling\n",
      "  4   1  Alcohol  Hepatitis.B  BMI  Polio  Total.expenditure  Diphtheria  GDP  Population  thinness..10.19.years  thinness.5.9.years  Income.composition.of.resources  Schooling\n",
      "  4   2  Alcohol  Hepatitis.B  BMI  Polio  Total.expenditure  Diphtheria  GDP  Population  thinness..10.19.years  thinness.5.9.years  Income.composition.of.resources  Schooling\n",
      "  4   3  Alcohol  Hepatitis.B  BMI  Polio  Total.expenditure  Diphtheria  GDP  Population  thinness..10.19.years  thinness.5.9.years  Income.composition.of.resources  Schooling\n",
      "  4   4  Alcohol  Hepatitis.B  BMI  Polio  Total.expenditure  Diphtheria  GDP  Population  thinness..10.19.years  thinness.5.9.years  Income.composition.of.resources  Schooling\n",
      "  4   5  Alcohol  Hepatitis.B  BMI  Polio  Total.expenditure  Diphtheria  GDP  Population  thinness..10.19.years  thinness.5.9.years  Income.composition.of.resources  Schooling\n",
      "  5   1  Alcohol  Hepatitis.B  BMI  Polio  Total.expenditure  Diphtheria  GDP  Population  thinness..10.19.years  thinness.5.9.years  Income.composition.of.resources  Schooling\n",
      "  5   2  Alcohol  Hepatitis.B  BMI  Polio  Total.expenditure  Diphtheria  GDP  Population  thinness..10.19.years  thinness.5.9.years  Income.composition.of.resources  Schooling\n",
      "  5   3  Alcohol  Hepatitis.B  BMI  Polio  Total.expenditure  Diphtheria  GDP  Population  thinness..10.19.years  thinness.5.9.years  Income.composition.of.resources  Schooling\n",
      "  5   4  Alcohol  Hepatitis.B  BMI  Polio  Total.expenditure  Diphtheria  GDP  Population  thinness..10.19.years  thinness.5.9.years  Income.composition.of.resources  Schooling\n",
      "  5   5  Alcohol  Hepatitis.B  BMI  Polio  Total.expenditure  Diphtheria  GDP  Population  thinness..10.19.years  thinness.5.9.years  Income.composition.of.resources  Schooling\n"
     ]
    }
   ],
   "source": [
    "df_life_numeric = df_life[,c(4:22)]\n",
    "df_life_impute = mice(df_life_numeric, method = \"mean\", seed = 1)\n",
    "df_life_numeric_impute = complete(df_life_impute)"
   ]
  },
  {
   "cell_type": "code",
   "execution_count": 16,
   "metadata": {},
   "outputs": [
    {
     "data": {
      "text/html": [
       "0"
      ],
      "text/latex": [
       "0"
      ],
      "text/markdown": [
       "0"
      ],
      "text/plain": [
       "[1] 0"
      ]
     },
     "metadata": {},
     "output_type": "display_data"
    }
   ],
   "source": [
    "sum(is.na(df_life_numeric_impute))"
   ]
  },
  {
   "cell_type": "code",
   "execution_count": 17,
   "metadata": {},
   "outputs": [
    {
     "data": {
      "text/html": [
       "<ol class=list-inline>\n",
       "\t<li>2928</li>\n",
       "\t<li>19</li>\n",
       "</ol>\n"
      ],
      "text/latex": [
       "\\begin{enumerate*}\n",
       "\\item 2928\n",
       "\\item 19\n",
       "\\end{enumerate*}\n"
      ],
      "text/markdown": [
       "1. 2928\n",
       "2. 19\n",
       "\n",
       "\n"
      ],
      "text/plain": [
       "[1] 2928   19"
      ]
     },
     "metadata": {},
     "output_type": "display_data"
    }
   ],
   "source": [
    "dim(df_life_numeric_impute)"
   ]
  },
  {
   "cell_type": "markdown",
   "metadata": {},
   "source": [
    "### 7.3. Outlier detection"
   ]
  },
  {
   "cell_type": "code",
   "execution_count": 18,
   "metadata": {
    "scrolled": true
   },
   "outputs": [
    {
     "data": {
      "text/plain": [
       " Life.expectancy Adult.Mortality infant.deaths        Alcohol      \n",
       " Min.   :36.30   Min.   :  1.0   Min.   :   0.00   Min.   : 0.010  \n",
       " 1st Qu.:63.10   1st Qu.: 74.0   1st Qu.:   0.00   1st Qu.: 1.107  \n",
       " Median :72.10   Median :144.0   Median :   3.00   Median : 4.160  \n",
       " Mean   :69.22   Mean   :164.8   Mean   :  30.41   Mean   : 4.615  \n",
       " 3rd Qu.:75.70   3rd Qu.:228.0   3rd Qu.:  22.00   3rd Qu.: 7.400  \n",
       " Max.   :89.00   Max.   :723.0   Max.   :1800.00   Max.   :17.870  \n",
       " percentage.expenditure  Hepatitis.B       Measles              BMI       \n",
       " Min.   :    0.000      Min.   : 1.00   Min.   :     0.0   Min.   : 1.00  \n",
       " 1st Qu.:    4.854      1st Qu.:80.96   1st Qu.:     0.0   1st Qu.:19.40  \n",
       " Median :   65.611      Median :87.00   Median :    17.0   Median :43.00  \n",
       " Mean   :  740.321      Mean   :80.96   Mean   :  2427.9   Mean   :38.24  \n",
       " 3rd Qu.:  442.614      3rd Qu.:96.00   3rd Qu.:   362.2   3rd Qu.:56.10  \n",
       " Max.   :19479.912      Max.   :99.00   Max.   :212183.0   Max.   :77.60  \n",
       " under.five.deaths     Polio       Total.expenditure   Diphtheria   \n",
       " Min.   :   0.00   Min.   : 3.00   Min.   : 0.37     Min.   : 2.00  \n",
       " 1st Qu.:   0.00   1st Qu.:78.00   1st Qu.: 4.37     1st Qu.:78.00  \n",
       " Median :   4.00   Median :93.00   Median : 5.93     Median :93.00  \n",
       " Mean   :  42.18   Mean   :82.55   Mean   : 5.93     Mean   :82.32  \n",
       " 3rd Qu.:  28.00   3rd Qu.:97.00   3rd Qu.: 7.33     3rd Qu.:97.00  \n",
       " Max.   :2500.00   Max.   :99.00   Max.   :17.60     Max.   :99.00  \n",
       "    HIV.AIDS           GDP              Population        thinness..10.19.years\n",
       " Min.   : 0.100   Min.   :     1.68   Min.   :3.400e+01   Min.   : 0.100       \n",
       " 1st Qu.: 0.100   1st Qu.:   578.80   1st Qu.:4.181e+05   1st Qu.: 1.600       \n",
       " Median : 0.100   Median :  3112.56   Median :3.640e+06   Median : 3.400       \n",
       " Mean   : 1.748   Mean   :  7494.21   Mean   :1.276e+07   Mean   : 4.851       \n",
       " 3rd Qu.: 0.800   3rd Qu.:  7494.21   3rd Qu.:1.276e+07   3rd Qu.: 7.100       \n",
       " Max.   :50.600   Max.   :119172.74   Max.   :1.294e+09   Max.   :27.700       \n",
       " thinness.5.9.years Income.composition.of.resources   Schooling   \n",
       " Min.   : 0.100     Min.   :0.0000                  Min.   : 0.0  \n",
       " 1st Qu.: 1.600     1st Qu.:0.5040                  1st Qu.:10.3  \n",
       " Median : 3.400     Median :0.6620                  Median :12.1  \n",
       " Mean   : 4.881     Mean   :0.6274                  Mean   :12.0  \n",
       " 3rd Qu.: 7.200     3rd Qu.:0.7730                  3rd Qu.:14.1  \n",
       " Max.   :28.600     Max.   :0.9480                  Max.   :20.7  "
      ]
     },
     "metadata": {},
     "output_type": "display_data"
    }
   ],
   "source": [
    "# statistical summary of all continuous variables\n",
    "summary(df_life_numeric_impute)"
   ]
  },
  {
   "cell_type": "markdown",
   "metadata": {},
   "source": [
    "Inferences: The following variables and the values does not make sense\n",
    "\n",
    "1. Adult Mortality: Minimum value of 1? This is surely an error in Measurement.\n",
    "2. GDP: Miminum value of 1.68 USD? This is definitely an outlier.\n",
    "3. BMI: Minimum of 1 and maximum of 77.60. This seems odd and should be checked thoroughly\n",
    "3. under.five.deaths: Minimum value of 0 doesn't make sense\n",
    "4. Population: Population cannot be 34 for an entire country.\n",
    "\n",
    "Lets visualise this with boxplots of the variables."
   ]
  },
  {
   "cell_type": "code",
   "execution_count": 19,
   "metadata": {
    "scrolled": false
   },
   "outputs": [
    {
     "data": {
      "image/png": "[encoded data removed]",
      "text/plain": [
       "plot without title"
      ]
     },
     "metadata": {},
     "output_type": "display_data"
    }
   ],
   "source": [
    "# for subplots\n",
    "install.packages(\"ggpubr\")\n",
    "library(ggpubr)\n",
    "\n",
    "options(repr.plot.width = 6, repr.plot.height = 6, warn=-1)\n",
    "#BOXPLOTS\n",
    "AM_box <- ggplot(data = df_life_numeric_impute, aes(x = Adult.Mortality)) + \n",
    "        geom_boxplot(outlier.colour=\"seagreen\", outlier.shape=16, outlier.size=2,\n",
    "                     fill = \"pink\")\n",
    "\n",
    "Population_box <- ggplot(data = df_life_numeric_impute, aes(x = Population)) + \n",
    "        geom_boxplot(outlier.colour=\"seagreen\", outlier.shape=16, outlier.size=2,\n",
    "                     fill = \"pink\")\n",
    "\n",
    "bmi_boxplot <- ggplot(data = df_life_numeric_impute, aes(x = BMI)) + \n",
    "        geom_boxplot(outlier.colour=\"seagreen\", outlier.shape=16, outlier.size=2,\n",
    "                     fill = \"pink\")\n",
    "\n",
    "gdp_boxplot <- ggplot(data = df_life_numeric_impute, aes(x = GDP)) + \n",
    "        geom_boxplot(outlier.colour=\"seagreen\", outlier.shape=16, outlier.size=2,\n",
    "                     fill = \"pink\")\n",
    "\n",
    "under5death_boxplot <- ggplot(data = df_life_numeric_impute, aes(x = under.five.deaths)) + \n",
    "        geom_boxplot(outlier.colour=\"seagreen\", outlier.shape=16, outlier.size=2,\n",
    "                     fill = \"pink\")\n",
    "\n",
    "infant_boxplot <- ggplot(data = df_life_numeric_impute, aes(x = infant.deaths)) + \n",
    "        geom_boxplot(outlier.colour=\"seagreen\", outlier.shape=16, outlier.size=2,\n",
    "                     fill = \"pink\")\n",
    "\n",
    "# arranging it together\n",
    "ggarrange(AM_box, Population_box, bmi_boxplot, gdp_boxplot, under5death_boxplot, infant_boxplot,\n",
    "          ncol = 3, nrow = 3)"
   ]
  },
  {
   "cell_type": "markdown",
   "metadata": {},
   "source": [
    "After seeing the boxplots, We can see that there are are quite a few outliers in the variables. So, lets take the percentage of outliers in every column using the following function"
   ]
  },
  {
   "cell_type": "code",
   "execution_count": 20,
   "metadata": {},
   "outputs": [],
   "source": [
    "outlier_count <- function(coln, i = 0){\n",
    "    print(paste0('........', colnames(df_life_numeric_impute)[i], '.........'))\n",
    "    q25 = quantile(coln, probs = c(0.25))\n",
    "    q75 = quantile(coln, probs = c(0.75))\n",
    "    IQR = q75-q25\n",
    "    min_val = q25 - (IQR*1.5)\n",
    "    max_val = q75 + (IQR*1.5)\n",
    "    outlier_count = 0\n",
    "    for (x in coln){\n",
    "        \n",
    "        if ((x<min_val) | (x>max_val)){\n",
    "           outlier_count = outlier_count+1\n",
    "        }\n",
    "    }\n",
    "    outlier_percent = (outlier_count/2928)*100\n",
    "    print(paste(c(\"Number of outliers:\", outlier_count)))\n",
    "    print(paste(c(\"Percent of data that is outlier:\", outlier_percent)))\n",
    "}"
   ]
  },
  {
   "cell_type": "code",
   "execution_count": 21,
   "metadata": {},
   "outputs": [
    {
     "name": "stdout",
     "output_type": "stream",
     "text": [
      "[1] \"........Life.expectancy.........\"\n",
      "[1] \"Number of outliers:\" \"10\"                 \n",
      "[1] \"Percent of data that is outlier:\" \"0.341530054644809\"               \n",
      "[1] \"........Adult.Mortality.........\"\n",
      "[1] \"Number of outliers:\" \"82\"                 \n",
      "[1] \"Percent of data that is outlier:\" \"2.80054644808743\"                \n",
      "[1] \"........infant.deaths.........\"\n",
      "[1] \"Number of outliers:\" \"315\"                \n",
      "[1] \"Percent of data that is outlier:\" \"10.7581967213115\"                \n",
      "[1] \"........Alcohol.........\"\n",
      "[1] \"Number of outliers:\" \"3\"                  \n",
      "[1] \"Percent of data that is outlier:\" \"0.102459016393443\"               \n",
      "[1] \"........percentage.expenditure.........\"\n",
      "[1] \"Number of outliers:\" \"388\"                \n",
      "[1] \"Percent of data that is outlier:\" \"13.2513661202186\"                \n",
      "[1] \"........Hepatitis.B.........\"\n",
      "[1] \"Number of outliers:\" \"314\"                \n",
      "[1] \"Percent of data that is outlier:\" \"10.724043715847\"                 \n",
      "[1] \"........Measles.........\"\n",
      "[1] \"Number of outliers:\" \"542\"                \n",
      "[1] \"Percent of data that is outlier:\" \"18.5109289617486\"                \n",
      "[1] \"........BMI.........\"\n",
      "[1] \"Number of outliers:\" \"0\"                  \n",
      "[1] \"Percent of data that is outlier:\" \"0\"                               \n",
      "[1] \"........under.five.deaths.........\"\n",
      "[1] \"Number of outliers:\" \"394\"                \n",
      "[1] \"Percent of data that is outlier:\" \"13.4562841530055\"                \n",
      "[1] \"........Polio.........\"\n",
      "[1] \"Number of outliers:\" \"278\"                \n",
      "[1] \"Percent of data that is outlier:\" \"9.49453551912568\"                \n",
      "[1] \"........Total.expenditure.........\"\n",
      "[1] \"Number of outliers:\" \"49\"                 \n",
      "[1] \"Percent of data that is outlier:\" \"1.67349726775956\"                \n",
      "[1] \"........Diphtheria.........\"\n",
      "[1] \"Number of outliers:\" \"297\"                \n",
      "[1] \"Percent of data that is outlier:\" \"10.1434426229508\"                \n",
      "[1] \"........HIV.AIDS.........\"\n",
      "[1] \"Number of outliers:\" \"542\"                \n",
      "[1] \"Percent of data that is outlier:\" \"18.5109289617486\"                \n",
      "[1] \"........GDP.........\"\n",
      "[1] \"Number of outliers:\" \"300\"                \n",
      "[1] \"Percent of data that is outlier:\" \"10.2459016393443\"                \n",
      "[1] \"........Population.........\"\n",
      "[1] \"Number of outliers:\" \"194\"                \n",
      "[1] \"Percent of data that is outlier:\" \"6.62568306010929\"                \n",
      "[1] \"........thinness..10.19.years.........\"\n",
      "[1] \"Number of outliers:\" \"100\"                \n",
      "[1] \"Percent of data that is outlier:\" \"3.41530054644809\"                \n",
      "[1] \"........thinness.5.9.years.........\"\n",
      "[1] \"Number of outliers:\" \"99\"                 \n",
      "[1] \"Percent of data that is outlier:\" \"3.38114754098361\"                \n",
      "[1] \"........Income.composition.of.resources.........\"\n",
      "[1] \"Number of outliers:\" \"130\"                \n",
      "[1] \"Percent of data that is outlier:\" \"4.43989071038251\"                \n",
      "[1] \"........Schooling.........\"\n",
      "[1] \"Number of outliers:\" \"75\"                 \n",
      "[1] \"Percent of data that is outlier:\" \"2.56147540983607\"                \n"
     ]
    }
   ],
   "source": [
    "for (i in 1:ncol(df_life_numeric_impute)){\n",
    "    outlier_count(df_life_numeric_impute[, i], i = i)\n",
    "}"
   ]
  },
  {
   "cell_type": "markdown",
   "metadata": {},
   "source": [
    "Winsorization should be carried out carried out: By winsorization I mean to find the max and min for a column for example. That value should be replaced by the second highest or second lowest value in the same column, without loosing the rest of the details in the observation."
   ]
  },
  {
   "cell_type": "code",
   "execution_count": 22,
   "metadata": {},
   "outputs": [
    {
     "name": "stdout",
     "output_type": "stream",
     "text": [
      "package 'psych' successfully unpacked and MD5 sums checked\n",
      "\n",
      "The downloaded binary packages are in\n",
      "\tC:\\Users\\Divit\\AppData\\Local\\Temp\\RtmpmWsPnx\\downloaded_packages\n"
     ]
    },
    {
     "name": "stderr",
     "output_type": "stream",
     "text": [
      "\n",
      "Attaching package: 'psych'\n",
      "\n",
      "The following objects are masked from 'package:ggplot2':\n",
      "\n",
      "    %+%, alpha\n",
      "\n"
     ]
    },
    {
     "data": {
      "text/html": [
       "<ol class=list-inline>\n",
       "\t<li>2928</li>\n",
       "\t<li>19</li>\n",
       "</ol>\n"
      ],
      "text/latex": [
       "\\begin{enumerate*}\n",
       "\\item 2928\n",
       "\\item 19\n",
       "\\end{enumerate*}\n"
      ],
      "text/markdown": [
       "1. 2928\n",
       "2. 19\n",
       "\n",
       "\n"
      ],
      "text/plain": [
       "[1] 2928   19"
      ]
     },
     "metadata": {},
     "output_type": "display_data"
    }
   ],
   "source": [
    "# winsorization of the outliers which lie under 2 % off the numerical columns dataset\n",
    "install.packages(\"psych\")\n",
    "library(psych)\n",
    "\n",
    "\n",
    "outlier_removal_numeric = winsor(df_life_numeric_impute, trim = 0.02)\n",
    "df_outlier_removal_numeric = as.data.frame(outlier_removal_numeric)\n",
    "\n",
    "dim(df_outlier_removal_numeric)"
   ]
  },
  {
   "cell_type": "code",
   "execution_count": 23,
   "metadata": {},
   "outputs": [],
   "source": [
    "df_life_cleaned = cbind(df_life[,c(1:3)], df_outlier_removal_numeric)"
   ]
  },
  {
   "cell_type": "code",
   "execution_count": 24,
   "metadata": {},
   "outputs": [
    {
     "data": {
      "text/html": [
       "<dl class=dl-horizontal>\n",
       "\t<dt>Country</dt>\n",
       "\t\t<dd>0</dd>\n",
       "\t<dt>Year</dt>\n",
       "\t\t<dd>0</dd>\n",
       "\t<dt>Status</dt>\n",
       "\t\t<dd>0</dd>\n",
       "\t<dt>Life.expectancy</dt>\n",
       "\t\t<dd>0</dd>\n",
       "\t<dt>Adult.Mortality</dt>\n",
       "\t\t<dd>0</dd>\n",
       "\t<dt>infant.deaths</dt>\n",
       "\t\t<dd>0</dd>\n",
       "\t<dt>Alcohol</dt>\n",
       "\t\t<dd>0</dd>\n",
       "\t<dt>percentage.expenditure</dt>\n",
       "\t\t<dd>0</dd>\n",
       "\t<dt>Hepatitis.B</dt>\n",
       "\t\t<dd>0</dd>\n",
       "\t<dt>Measles</dt>\n",
       "\t\t<dd>0</dd>\n",
       "\t<dt>BMI</dt>\n",
       "\t\t<dd>0</dd>\n",
       "\t<dt>under.five.deaths</dt>\n",
       "\t\t<dd>0</dd>\n",
       "\t<dt>Polio</dt>\n",
       "\t\t<dd>0</dd>\n",
       "\t<dt>Total.expenditure</dt>\n",
       "\t\t<dd>0</dd>\n",
       "\t<dt>Diphtheria</dt>\n",
       "\t\t<dd>0</dd>\n",
       "\t<dt>HIV.AIDS</dt>\n",
       "\t\t<dd>0</dd>\n",
       "\t<dt>GDP</dt>\n",
       "\t\t<dd>0</dd>\n",
       "\t<dt>Population</dt>\n",
       "\t\t<dd>0</dd>\n",
       "\t<dt>thinness..10.19.years</dt>\n",
       "\t\t<dd>0</dd>\n",
       "\t<dt>thinness.5.9.years</dt>\n",
       "\t\t<dd>0</dd>\n",
       "\t<dt>Income.composition.of.resources</dt>\n",
       "\t\t<dd>0</dd>\n",
       "\t<dt>Schooling</dt>\n",
       "\t\t<dd>0</dd>\n",
       "</dl>\n"
      ],
      "text/latex": [
       "\\begin{description*}\n",
       "\\item[Country] 0\n",
       "\\item[Year] 0\n",
       "\\item[Status] 0\n",
       "\\item[Life.expectancy] 0\n",
       "\\item[Adult.Mortality] 0\n",
       "\\item[infant.deaths] 0\n",
       "\\item[Alcohol] 0\n",
       "\\item[percentage.expenditure] 0\n",
       "\\item[Hepatitis.B] 0\n",
       "\\item[Measles] 0\n",
       "\\item[BMI] 0\n",
       "\\item[under.five.deaths] 0\n",
       "\\item[Polio] 0\n",
       "\\item[Total.expenditure] 0\n",
       "\\item[Diphtheria] 0\n",
       "\\item[HIV.AIDS] 0\n",
       "\\item[GDP] 0\n",
       "\\item[Population] 0\n",
       "\\item[thinness..10.19.years] 0\n",
       "\\item[thinness.5.9.years] 0\n",
       "\\item[Income.composition.of.resources] 0\n",
       "\\item[Schooling] 0\n",
       "\\end{description*}\n"
      ],
      "text/markdown": [
       "Country\n",
       ":   0Year\n",
       ":   0Status\n",
       ":   0Life.expectancy\n",
       ":   0Adult.Mortality\n",
       ":   0infant.deaths\n",
       ":   0Alcohol\n",
       ":   0percentage.expenditure\n",
       ":   0Hepatitis.B\n",
       ":   0Measles\n",
       ":   0BMI\n",
       ":   0under.five.deaths\n",
       ":   0Polio\n",
       ":   0Total.expenditure\n",
       ":   0Diphtheria\n",
       ":   0HIV.AIDS\n",
       ":   0GDP\n",
       ":   0Population\n",
       ":   0thinness..10.19.years\n",
       ":   0thinness.5.9.years\n",
       ":   0Income.composition.of.resources\n",
       ":   0Schooling\n",
       ":   0\n",
       "\n"
      ],
      "text/plain": [
       "                        Country                            Year \n",
       "                              0                               0 \n",
       "                         Status                 Life.expectancy \n",
       "                              0                               0 \n",
       "                Adult.Mortality                   infant.deaths \n",
       "                              0                               0 \n",
       "                        Alcohol          percentage.expenditure \n",
       "                              0                               0 \n",
       "                    Hepatitis.B                         Measles \n",
       "                              0                               0 \n",
       "                            BMI               under.five.deaths \n",
       "                              0                               0 \n",
       "                          Polio               Total.expenditure \n",
       "                              0                               0 \n",
       "                     Diphtheria                        HIV.AIDS \n",
       "                              0                               0 \n",
       "                            GDP                      Population \n",
       "                              0                               0 \n",
       "          thinness..10.19.years              thinness.5.9.years \n",
       "                              0                               0 \n",
       "Income.composition.of.resources                       Schooling \n",
       "                              0                               0 "
      ]
     },
     "metadata": {},
     "output_type": "display_data"
    }
   ],
   "source": [
    "# checking for null values\n",
    "colSums(is.na(df_life_cleaned))"
   ]
  },
  {
   "cell_type": "markdown",
   "metadata": {},
   "source": [
    "### 7.4. Correlation Plot"
   ]
  },
  {
   "cell_type": "code",
   "execution_count": 26,
   "metadata": {},
   "outputs": [],
   "source": [
    "correlation = cor(df_life_cleaned[,-c(1,2,3)])"
   ]
  },
  {
   "cell_type": "code",
   "execution_count": 27,
   "metadata": {},
   "outputs": [
    {
     "data": {
      "image/png": "[encoded data removed]",
      "text/plain": [
       "Plot with title \"\""
      ]
     },
     "metadata": {},
     "output_type": "display_data"
    }
   ],
   "source": [
    "par(mfrow=c(1,1))\n",
    "corrplot(correlation)"
   ]
  },
  {
   "cell_type": "markdown",
   "metadata": {},
   "source": [
    "Analysis: Since (under.5.deaths and infant.deaths), (GDP and percentage expenditure), (schooling and income.composition.of resources), (thinness..10.19.years and thinnes.5.9.years), (Polio and Diptheria) are highly correlated, we can drop one of the variable from the four sets."
   ]
  },
  {
   "cell_type": "code",
   "execution_count": 28,
   "metadata": {},
   "outputs": [
    {
     "data": {
      "text/html": [
       "<ol class=list-inline>\n",
       "\t<li>'Country'</li>\n",
       "\t<li>'Year'</li>\n",
       "\t<li>'Status'</li>\n",
       "\t<li>'Life.expectancy'</li>\n",
       "\t<li>'Adult.Mortality'</li>\n",
       "\t<li>'Alcohol'</li>\n",
       "\t<li>'Hepatitis.B'</li>\n",
       "\t<li>'Measles'</li>\n",
       "\t<li>'BMI'</li>\n",
       "\t<li>'under.five.deaths'</li>\n",
       "\t<li>'Polio'</li>\n",
       "\t<li>'Total.expenditure'</li>\n",
       "\t<li>'HIV.AIDS'</li>\n",
       "\t<li>'GDP'</li>\n",
       "\t<li>'Population'</li>\n",
       "\t<li>'thinness.5.9.years'</li>\n",
       "\t<li>'Income.composition.of.resources'</li>\n",
       "</ol>\n"
      ],
      "text/latex": [
       "\\begin{enumerate*}\n",
       "\\item 'Country'\n",
       "\\item 'Year'\n",
       "\\item 'Status'\n",
       "\\item 'Life.expectancy'\n",
       "\\item 'Adult.Mortality'\n",
       "\\item 'Alcohol'\n",
       "\\item 'Hepatitis.B'\n",
       "\\item 'Measles'\n",
       "\\item 'BMI'\n",
       "\\item 'under.five.deaths'\n",
       "\\item 'Polio'\n",
       "\\item 'Total.expenditure'\n",
       "\\item 'HIV.AIDS'\n",
       "\\item 'GDP'\n",
       "\\item 'Population'\n",
       "\\item 'thinness.5.9.years'\n",
       "\\item 'Income.composition.of.resources'\n",
       "\\end{enumerate*}\n"
      ],
      "text/markdown": [
       "1. 'Country'\n",
       "2. 'Year'\n",
       "3. 'Status'\n",
       "4. 'Life.expectancy'\n",
       "5. 'Adult.Mortality'\n",
       "6. 'Alcohol'\n",
       "7. 'Hepatitis.B'\n",
       "8. 'Measles'\n",
       "9. 'BMI'\n",
       "10. 'under.five.deaths'\n",
       "11. 'Polio'\n",
       "12. 'Total.expenditure'\n",
       "13. 'HIV.AIDS'\n",
       "14. 'GDP'\n",
       "15. 'Population'\n",
       "16. 'thinness.5.9.years'\n",
       "17. 'Income.composition.of.resources'\n",
       "\n",
       "\n"
      ],
      "text/plain": [
       " [1] \"Country\"                         \"Year\"                           \n",
       " [3] \"Status\"                          \"Life.expectancy\"                \n",
       " [5] \"Adult.Mortality\"                 \"Alcohol\"                        \n",
       " [7] \"Hepatitis.B\"                     \"Measles\"                        \n",
       " [9] \"BMI\"                             \"under.five.deaths\"              \n",
       "[11] \"Polio\"                           \"Total.expenditure\"              \n",
       "[13] \"HIV.AIDS\"                        \"GDP\"                            \n",
       "[15] \"Population\"                      \"thinness.5.9.years\"             \n",
       "[17] \"Income.composition.of.resources\""
      ]
     },
     "metadata": {},
     "output_type": "display_data"
    }
   ],
   "source": [
    "# dropping infant.deaths, percentage.expenditure, Schooling, Diptheria, thinnes   columns as they are least correlated to \n",
    "df_life_cleaned_final = select(df_life_cleaned, -c(\"infant.deaths\", \"percentage.expenditure\",\n",
    "                                                   \"Schooling\", \"Diphtheria\",\n",
    "                                                   \"thinness..10.19.years\"))\n",
    "colnames(df_life_cleaned_final) "
   ]
  },
  {
   "cell_type": "code",
   "execution_count": 29,
   "metadata": {},
   "outputs": [
    {
     "data": {
      "text/html": [
       "<ol class=list-inline>\n",
       "\t<li>2928</li>\n",
       "\t<li>17</li>\n",
       "</ol>\n"
      ],
      "text/latex": [
       "\\begin{enumerate*}\n",
       "\\item 2928\n",
       "\\item 17\n",
       "\\end{enumerate*}\n"
      ],
      "text/markdown": [
       "1. 2928\n",
       "2. 17\n",
       "\n",
       "\n"
      ],
      "text/plain": [
       "[1] 2928   17"
      ]
     },
     "metadata": {},
     "output_type": "display_data"
    }
   ],
   "source": [
    "dim(df_life_cleaned_final)"
   ]
  },
  {
   "cell_type": "code",
   "execution_count": 30,
   "metadata": {},
   "outputs": [
    {
     "data": {
      "text/html": [
       "<table>\n",
       "<thead><tr><th scope=col>Country</th><th scope=col>Year</th><th scope=col>Status</th><th scope=col>Life.expectancy</th><th scope=col>Adult.Mortality</th><th scope=col>Alcohol</th><th scope=col>Hepatitis.B</th><th scope=col>Measles</th><th scope=col>BMI</th><th scope=col>under.five.deaths</th><th scope=col>Polio</th><th scope=col>Total.expenditure</th><th scope=col>HIV.AIDS</th><th scope=col>GDP</th><th scope=col>Population</th><th scope=col>thinness.5.9.years</th><th scope=col>Income.composition.of.resources</th></tr></thead>\n",
       "<tbody>\n",
       "\t<tr><td>Afghanistan</td><td>2015       </td><td>Developing </td><td>65.0       </td><td>263        </td><td>0.01       </td><td>65         </td><td>1154       </td><td>19.1       </td><td> 83        </td><td> 7         </td><td>8.16       </td><td>0.1        </td><td>584.25921  </td><td>33736494   </td><td>17.300     </td><td>0.479      </td></tr>\n",
       "\t<tr><td>Afghanistan</td><td>2014       </td><td>Developing </td><td>59.9       </td><td>271        </td><td>0.01       </td><td>62         </td><td> 492       </td><td>18.6       </td><td> 86        </td><td>58         </td><td>8.18       </td><td>0.1        </td><td>612.69651  </td><td>  327582   </td><td>17.500     </td><td>0.476      </td></tr>\n",
       "\t<tr><td>Afghanistan</td><td>2013       </td><td>Developing </td><td>59.9       </td><td>268        </td><td>0.01       </td><td>64         </td><td> 430       </td><td>18.1       </td><td> 89        </td><td>62         </td><td>8.13       </td><td>0.1        </td><td>631.74498  </td><td>31731688   </td><td>17.700     </td><td>0.470      </td></tr>\n",
       "\t<tr><td>Afghanistan</td><td>2012       </td><td>Developing </td><td>59.5       </td><td>272        </td><td>0.01       </td><td>67         </td><td>2787       </td><td>17.6       </td><td> 93        </td><td>67         </td><td>8.52       </td><td>0.1        </td><td>669.95900  </td><td> 3696958   </td><td>18.000     </td><td>0.463      </td></tr>\n",
       "\t<tr><td>Afghanistan</td><td>2011       </td><td>Developing </td><td>59.2       </td><td>275        </td><td>0.01       </td><td>68         </td><td>3013       </td><td>17.2       </td><td> 97        </td><td>68         </td><td>7.87       </td><td>0.1        </td><td> 63.53723  </td><td> 2978599   </td><td>18.200     </td><td>0.454      </td></tr>\n",
       "\t<tr><td>Afghanistan</td><td>2010       </td><td>Developing </td><td>58.8       </td><td>279        </td><td>0.01       </td><td>66         </td><td>1989       </td><td>16.7       </td><td>102        </td><td>66         </td><td>9.20       </td><td>0.1        </td><td>553.32894  </td><td> 2883167   </td><td>18.246     </td><td>0.448      </td></tr>\n",
       "</tbody>\n",
       "</table>\n"
      ],
      "text/latex": [
       "\\begin{tabular}{r|lllllllllllllllll}\n",
       " Country & Year & Status & Life.expectancy & Adult.Mortality & Alcohol & Hepatitis.B & Measles & BMI & under.five.deaths & Polio & Total.expenditure & HIV.AIDS & GDP & Population & thinness.5.9.years & Income.composition.of.resources\\\\\n",
       "\\hline\n",
       "\t Afghanistan & 2015        & Developing  & 65.0        & 263         & 0.01        & 65          & 1154        & 19.1        &  83         &  7          & 8.16        & 0.1         & 584.25921   & 33736494    & 17.300      & 0.479      \\\\\n",
       "\t Afghanistan & 2014        & Developing  & 59.9        & 271         & 0.01        & 62          &  492        & 18.6        &  86         & 58          & 8.18        & 0.1         & 612.69651   &   327582    & 17.500      & 0.476      \\\\\n",
       "\t Afghanistan & 2013        & Developing  & 59.9        & 268         & 0.01        & 64          &  430        & 18.1        &  89         & 62          & 8.13        & 0.1         & 631.74498   & 31731688    & 17.700      & 0.470      \\\\\n",
       "\t Afghanistan & 2012        & Developing  & 59.5        & 272         & 0.01        & 67          & 2787        & 17.6        &  93         & 67          & 8.52        & 0.1         & 669.95900   &  3696958    & 18.000      & 0.463      \\\\\n",
       "\t Afghanistan & 2011        & Developing  & 59.2        & 275         & 0.01        & 68          & 3013        & 17.2        &  97         & 68          & 7.87        & 0.1         &  63.53723   &  2978599    & 18.200      & 0.454      \\\\\n",
       "\t Afghanistan & 2010        & Developing  & 58.8        & 279         & 0.01        & 66          & 1989        & 16.7        & 102         & 66          & 9.20        & 0.1         & 553.32894   &  2883167    & 18.246      & 0.448      \\\\\n",
       "\\end{tabular}\n"
      ],
      "text/markdown": [
       "\n",
       "| Country | Year | Status | Life.expectancy | Adult.Mortality | Alcohol | Hepatitis.B | Measles | BMI | under.five.deaths | Polio | Total.expenditure | HIV.AIDS | GDP | Population | thinness.5.9.years | Income.composition.of.resources |\n",
       "|---|---|---|---|---|---|---|---|---|---|---|---|---|---|---|---|---|\n",
       "| Afghanistan | 2015        | Developing  | 65.0        | 263         | 0.01        | 65          | 1154        | 19.1        |  83         |  7          | 8.16        | 0.1         | 584.25921   | 33736494    | 17.300      | 0.479       |\n",
       "| Afghanistan | 2014        | Developing  | 59.9        | 271         | 0.01        | 62          |  492        | 18.6        |  86         | 58          | 8.18        | 0.1         | 612.69651   |   327582    | 17.500      | 0.476       |\n",
       "| Afghanistan | 2013        | Developing  | 59.9        | 268         | 0.01        | 64          |  430        | 18.1        |  89         | 62          | 8.13        | 0.1         | 631.74498   | 31731688    | 17.700      | 0.470       |\n",
       "| Afghanistan | 2012        | Developing  | 59.5        | 272         | 0.01        | 67          | 2787        | 17.6        |  93         | 67          | 8.52        | 0.1         | 669.95900   |  3696958    | 18.000      | 0.463       |\n",
       "| Afghanistan | 2011        | Developing  | 59.2        | 275         | 0.01        | 68          | 3013        | 17.2        |  97         | 68          | 7.87        | 0.1         |  63.53723   |  2978599    | 18.200      | 0.454       |\n",
       "| Afghanistan | 2010        | Developing  | 58.8        | 279         | 0.01        | 66          | 1989        | 16.7        | 102         | 66          | 9.20        | 0.1         | 553.32894   |  2883167    | 18.246      | 0.448       |\n",
       "\n"
      ],
      "text/plain": [
       "  Country     Year Status     Life.expectancy Adult.Mortality Alcohol\n",
       "1 Afghanistan 2015 Developing 65.0            263             0.01   \n",
       "2 Afghanistan 2014 Developing 59.9            271             0.01   \n",
       "3 Afghanistan 2013 Developing 59.9            268             0.01   \n",
       "4 Afghanistan 2012 Developing 59.5            272             0.01   \n",
       "5 Afghanistan 2011 Developing 59.2            275             0.01   \n",
       "6 Afghanistan 2010 Developing 58.8            279             0.01   \n",
       "  Hepatitis.B Measles BMI  under.five.deaths Polio Total.expenditure HIV.AIDS\n",
       "1 65          1154    19.1  83                7    8.16              0.1     \n",
       "2 62           492    18.6  86               58    8.18              0.1     \n",
       "3 64           430    18.1  89               62    8.13              0.1     \n",
       "4 67          2787    17.6  93               67    8.52              0.1     \n",
       "5 68          3013    17.2  97               68    7.87              0.1     \n",
       "6 66          1989    16.7 102               66    9.20              0.1     \n",
       "  GDP       Population thinness.5.9.years Income.composition.of.resources\n",
       "1 584.25921 33736494   17.300             0.479                          \n",
       "2 612.69651   327582   17.500             0.476                          \n",
       "3 631.74498 31731688   17.700             0.470                          \n",
       "4 669.95900  3696958   18.000             0.463                          \n",
       "5  63.53723  2978599   18.200             0.454                          \n",
       "6 553.32894  2883167   18.246             0.448                          "
      ]
     },
     "metadata": {},
     "output_type": "display_data"
    }
   ],
   "source": [
    "head(df_life_cleaned_final)"
   ]
  },
  {
   "cell_type": "markdown",
   "metadata": {},
   "source": [
    "### 7.5. Exploration/Insights from the data"
   ]
  },
  {
   "cell_type": "markdown",
   "metadata": {},
   "source": [
    "#### 7.5.1. Individual countries contribution to the dataset\n",
    "\n",
    "This is important to know if the countries are being overrepresented. From the below table, we can conclude that individual countries are equally represented in the dataset. And the life expectancy will not matter based on the country rather the status of the country will be significant."
   ]
  },
  {
   "cell_type": "code",
   "execution_count": 31,
   "metadata": {
    "scrolled": true
   },
   "outputs": [
    {
     "data": {
      "text/html": [
       "<table>\n",
       "<thead><tr><th scope=col>Var1</th><th scope=col>Freq</th></tr></thead>\n",
       "<tbody>\n",
       "\t<tr><td>Afghanistan        </td><td>16                 </td></tr>\n",
       "\t<tr><td>Albania            </td><td>16                 </td></tr>\n",
       "\t<tr><td>Algeria            </td><td>16                 </td></tr>\n",
       "\t<tr><td>Angola             </td><td>16                 </td></tr>\n",
       "\t<tr><td>Antigua and Barbuda</td><td>16                 </td></tr>\n",
       "\t<tr><td>Argentina          </td><td>16                 </td></tr>\n",
       "</tbody>\n",
       "</table>\n"
      ],
      "text/latex": [
       "\\begin{tabular}{r|ll}\n",
       " Var1 & Freq\\\\\n",
       "\\hline\n",
       "\t Afghanistan         & 16                 \\\\\n",
       "\t Albania             & 16                 \\\\\n",
       "\t Algeria             & 16                 \\\\\n",
       "\t Angola              & 16                 \\\\\n",
       "\t Antigua and Barbuda & 16                 \\\\\n",
       "\t Argentina           & 16                 \\\\\n",
       "\\end{tabular}\n"
      ],
      "text/markdown": [
       "\n",
       "| Var1 | Freq |\n",
       "|---|---|\n",
       "| Afghanistan         | 16                  |\n",
       "| Albania             | 16                  |\n",
       "| Algeria             | 16                  |\n",
       "| Angola              | 16                  |\n",
       "| Antigua and Barbuda | 16                  |\n",
       "| Argentina           | 16                  |\n",
       "\n"
      ],
      "text/plain": [
       "  Var1                Freq\n",
       "1 Afghanistan         16  \n",
       "2 Albania             16  \n",
       "3 Algeria             16  \n",
       "4 Angola              16  \n",
       "5 Antigua and Barbuda 16  \n",
       "6 Argentina           16  "
      ]
     },
     "metadata": {},
     "output_type": "display_data"
    }
   ],
   "source": [
    "myframe = as.data.frame(table(df_life_cleaned_final$Country))\n",
    "head(myframe)"
   ]
  },
  {
   "cell_type": "code",
   "execution_count": 32,
   "metadata": {},
   "outputs": [
    {
     "data": {
      "text/html": [
       "<table>\n",
       "<thead><tr><th></th><th scope=col>Var1</th><th scope=col>Freq</th></tr></thead>\n",
       "<tbody>\n",
       "\t<tr><th scope=row>40</th><td>Cook Islands         </td><td>0                    </td></tr>\n",
       "\t<tr><th scope=row>50</th><td>Dominica             </td><td>0                    </td></tr>\n",
       "\t<tr><th scope=row>106</th><td>Marshall Islands     </td><td>0                    </td></tr>\n",
       "\t<tr><th scope=row>111</th><td>Monaco               </td><td>0                    </td></tr>\n",
       "\t<tr><th scope=row>118</th><td>Nauru                </td><td>0                    </td></tr>\n",
       "\t<tr><th scope=row>125</th><td>Niue                 </td><td>0                    </td></tr>\n",
       "\t<tr><th scope=row>129</th><td>Palau                </td><td>0                    </td></tr>\n",
       "\t<tr><th scope=row>143</th><td>Saint Kitts and Nevis</td><td>0                    </td></tr>\n",
       "\t<tr><th scope=row>147</th><td>San Marino           </td><td>0                    </td></tr>\n",
       "\t<tr><th scope=row>179</th><td>Tuvalu               </td><td>0                    </td></tr>\n",
       "</tbody>\n",
       "</table>\n"
      ],
      "text/latex": [
       "\\begin{tabular}{r|ll}\n",
       "  & Var1 & Freq\\\\\n",
       "\\hline\n",
       "\t40 & Cook Islands          & 0                    \\\\\n",
       "\t50 & Dominica              & 0                    \\\\\n",
       "\t106 & Marshall Islands      & 0                    \\\\\n",
       "\t111 & Monaco                & 0                    \\\\\n",
       "\t118 & Nauru                 & 0                    \\\\\n",
       "\t125 & Niue                  & 0                    \\\\\n",
       "\t129 & Palau                 & 0                    \\\\\n",
       "\t143 & Saint Kitts and Nevis & 0                    \\\\\n",
       "\t147 & San Marino            & 0                    \\\\\n",
       "\t179 & Tuvalu                & 0                    \\\\\n",
       "\\end{tabular}\n"
      ],
      "text/markdown": [
       "\n",
       "| <!--/--> | Var1 | Freq |\n",
       "|---|---|---|\n",
       "| 40 | Cook Islands          | 0                     |\n",
       "| 50 | Dominica              | 0                     |\n",
       "| 106 | Marshall Islands      | 0                     |\n",
       "| 111 | Monaco                | 0                     |\n",
       "| 118 | Nauru                 | 0                     |\n",
       "| 125 | Niue                  | 0                     |\n",
       "| 129 | Palau                 | 0                     |\n",
       "| 143 | Saint Kitts and Nevis | 0                     |\n",
       "| 147 | San Marino            | 0                     |\n",
       "| 179 | Tuvalu                | 0                     |\n",
       "\n"
      ],
      "text/plain": [
       "    Var1                  Freq\n",
       "40  Cook Islands          0   \n",
       "50  Dominica              0   \n",
       "106 Marshall Islands      0   \n",
       "111 Monaco                0   \n",
       "118 Nauru                 0   \n",
       "125 Niue                  0   \n",
       "129 Palau                 0   \n",
       "143 Saint Kitts and Nevis 0   \n",
       "147 San Marino            0   \n",
       "179 Tuvalu                0   "
      ]
     },
     "metadata": {},
     "output_type": "display_data"
    }
   ],
   "source": [
    "# To check countries that are lower than 16\n",
    "myframe[which(myframe$Freq<16),]"
   ]
  },
  {
   "cell_type": "markdown",
   "metadata": {},
   "source": [
    "#### 7.5.2. Contribution of evey year to the dataset\n",
    "\n",
    "This is to check whether any year is overepresented or not. All the year's contribution has been the same from the below graph"
   ]
  },
  {
   "cell_type": "code",
   "execution_count": 33,
   "metadata": {},
   "outputs": [
    {
     "data": {
      "image/png": "[encoded data removed]",
      "text/plain": [
       "plot without title"
      ]
     },
     "metadata": {},
     "output_type": "display_data"
    }
   ],
   "source": [
    "options(repr.plot.width = 5, repr.plot.height = 5)\n",
    "ggplot(as.data.frame(table(df_life_cleaned_final$Year)), aes(Var1, Freq, label = Freq)) + \n",
    "  geom_bar(stat=\"identity\", fill = \"pink\")+ coord_flip()+ geom_text()+labs(x = \"Year\", y = \"Frequency\") +theme_minimal()"
   ]
  },
  {
   "cell_type": "markdown",
   "metadata": {},
   "source": [
    "#### 7.5.3. Contribution of unique values in Status (Categorical variable)\n",
    "\n",
    "This is to check whether one of the unique values are overepresents the dataset.\n",
    "\n",
    "From the below graph, developing countries are over-represented so the model created from this dataset will be biased towards developing countries. The status plays a significant role in determining the life expectancy. Hence, one hot encoding should be implemented on this variable in the next section"
   ]
  },
  {
   "cell_type": "code",
   "execution_count": 34,
   "metadata": {},
   "outputs": [
    {
     "data": {
      "image/png": "[encoded data removed]",
      "text/plain": [
       "plot without title"
      ]
     },
     "metadata": {},
     "output_type": "display_data"
    }
   ],
   "source": [
    "options(repr.plot.width = 5, repr.plot.height = 5)\n",
    "\n",
    "ggplot(as.data.frame(table(df_life_cleaned_final$Status)), \n",
    "       aes(Var1, Freq, label = Freq, fill = Var1)) + \n",
    "  geom_bar(stat=\"identity\", width=1,, color = \"white\") +\n",
    "    geom_text() + theme_minimal() + labs(x = \"Status\", y = \"Frequency\")"
   ]
  },
  {
   "cell_type": "markdown",
   "metadata": {},
   "source": [
    "#### 7.5.4. Year to life Expectancy comparison\n",
    "\n",
    "First we see the changes in the life expectancy w.r.t years: "
   ]
  },
  {
   "cell_type": "code",
   "execution_count": 35,
   "metadata": {},
   "outputs": [
    {
     "data": {
      "image/png": "[encoded data removed]",
      "text/plain": [
       "plot without title"
      ]
     },
     "metadata": {},
     "output_type": "display_data"
    }
   ],
   "source": [
    "new_df = df_life_cleaned_final %>% \n",
    "select(Year, Life.expectancy) %>% \n",
    "group_by(Year) %>% \n",
    "summarise(avg=mean(Life.expectancy))\n",
    "\n",
    "options(repr.plot.width = 5, repr.plot.height = 5)\n",
    "ggplot(data = new_df, aes(x = Year, y = avg)) + \n",
    "  geom_line( color = \"midnightblue\") + theme_minimal() +\n",
    "    labs(x = \"Year\", y = \"Life Expectancy\")"
   ]
  },
  {
   "cell_type": "markdown",
   "metadata": {},
   "source": [
    "Analysis: We conclude that it increases with the years (i.e. a positive trend), but is 15 years of data enough to make the year relevant to a model. We will also check the correlation and carry out a ttest to find out."
   ]
  },
  {
   "cell_type": "code",
   "execution_count": 36,
   "metadata": {},
   "outputs": [
    {
     "data": {
      "text/html": [
       "0.166618309730166"
      ],
      "text/latex": [
       "0.166618309730166"
      ],
      "text/markdown": [
       "0.166618309730166"
      ],
      "text/plain": [
       "[1] 0.1666183"
      ]
     },
     "metadata": {},
     "output_type": "display_data"
    }
   ],
   "source": [
    "cor(df_life_cleaned_final$Year, df_life_cleaned_final$Life.expectancy)"
   ]
  },
  {
   "cell_type": "markdown",
   "metadata": {},
   "source": [
    "The correlation does not seem to be significant. Now carry out a t-test."
   ]
  },
  {
   "cell_type": "code",
   "execution_count": 37,
   "metadata": {},
   "outputs": [
    {
     "data": {
      "text/html": [
       "<ol class=list-inline>\n",
       "\t<li>2000</li>\n",
       "\t<li>2001</li>\n",
       "\t<li>2002</li>\n",
       "\t<li>2003</li>\n",
       "\t<li>2004</li>\n",
       "\t<li>2005</li>\n",
       "\t<li>2006</li>\n",
       "\t<li>2007</li>\n",
       "\t<li>2008</li>\n",
       "\t<li>2009</li>\n",
       "\t<li>2010</li>\n",
       "\t<li>2011</li>\n",
       "\t<li>2012</li>\n",
       "\t<li>2013</li>\n",
       "\t<li>2014</li>\n",
       "\t<li>2015</li>\n",
       "</ol>\n"
      ],
      "text/latex": [
       "\\begin{enumerate*}\n",
       "\\item 2000\n",
       "\\item 2001\n",
       "\\item 2002\n",
       "\\item 2003\n",
       "\\item 2004\n",
       "\\item 2005\n",
       "\\item 2006\n",
       "\\item 2007\n",
       "\\item 2008\n",
       "\\item 2009\n",
       "\\item 2010\n",
       "\\item 2011\n",
       "\\item 2012\n",
       "\\item 2013\n",
       "\\item 2014\n",
       "\\item 2015\n",
       "\\end{enumerate*}\n"
      ],
      "text/markdown": [
       "1. 2000\n",
       "2. 2001\n",
       "3. 2002\n",
       "4. 2003\n",
       "5. 2004\n",
       "6. 2005\n",
       "7. 2006\n",
       "8. 2007\n",
       "9. 2008\n",
       "10. 2009\n",
       "11. 2010\n",
       "12. 2011\n",
       "13. 2012\n",
       "14. 2013\n",
       "15. 2014\n",
       "16. 2015\n",
       "\n",
       "\n"
      ],
      "text/plain": [
       " [1] 2000 2001 2002 2003 2004 2005 2006 2007 2008 2009 2010 2011 2012 2013 2014\n",
       "[16] 2015"
      ]
     },
     "metadata": {},
     "output_type": "display_data"
    }
   ],
   "source": [
    "years_unique = unique(df_life_cleaned_final$Year)\n",
    "sort.int(years_unique)"
   ]
  },
  {
   "cell_type": "code",
   "execution_count": 38,
   "metadata": {},
   "outputs": [
    {
     "data": {
      "text/html": [
       "<table>\n",
       "<thead><tr><th scope=col>2000</th><th scope=col>2001</th><th scope=col>2002</th><th scope=col>2003</th><th scope=col>2004</th><th scope=col>2005</th><th scope=col>2006</th><th scope=col>2007</th><th scope=col>2008</th><th scope=col>2009</th><th scope=col>2010</th><th scope=col>2011</th><th scope=col>2012</th><th scope=col>2013</th><th scope=col>2014</th><th scope=col>2015</th></tr></thead>\n",
       "<tbody>\n",
       "\t<tr><td>54.800</td><td>55.300</td><td>56.200</td><td>56.700</td><td>57.000</td><td>57.3  </td><td>57.3  </td><td>57.5  </td><td>58.1  </td><td>58.6  </td><td>58.8  </td><td>59.2  </td><td>59.5  </td><td>59.9  </td><td>59.9  </td><td>65.0  </td></tr>\n",
       "\t<tr><td>72.600</td><td>73.600</td><td>73.300</td><td>72.800</td><td>73.000</td><td>73.5  </td><td>74.2  </td><td>75.9  </td><td>75.3  </td><td>76.1  </td><td>76.2  </td><td>76.6  </td><td>76.9  </td><td>77.2  </td><td>77.5  </td><td>77.8  </td></tr>\n",
       "\t<tr><td>71.300</td><td>71.400</td><td>71.600</td><td>71.700</td><td>72.300</td><td>72.9  </td><td>73.4  </td><td>73.8  </td><td>74.1  </td><td>74.4  </td><td>74.7  </td><td>74.9  </td><td>75.1  </td><td>75.3  </td><td>75.4  </td><td>75.6  </td></tr>\n",
       "\t<tr><td>47.262</td><td>47.262</td><td>47.262</td><td>47.262</td><td>47.262</td><td>47.4  </td><td>47.7  </td><td>48.2  </td><td>48.7  </td><td>49.1  </td><td>49.6  </td><td>51.0  </td><td>56.0  </td><td>51.1  </td><td>51.7  </td><td>52.4  </td></tr>\n",
       "\t<tr><td>73.600</td><td>73.800</td><td>74.000</td><td>74.200</td><td>74.400</td><td>74.6  </td><td>74.8  </td><td>75.0  </td><td>75.2  </td><td>75.4  </td><td>75.6  </td><td>75.7  </td><td>75.9  </td><td>76.1  </td><td>76.2  </td><td>76.4  </td></tr>\n",
       "\t<tr><td>74.100</td><td>74.000</td><td>74.100</td><td>74.100</td><td>74.700</td><td>74.9  </td><td>75.2  </td><td>74.8  </td><td>75.4  </td><td>75.6  </td><td>75.5  </td><td>75.7  </td><td>75.9  </td><td>76.0  </td><td>76.2  </td><td>76.3  </td></tr>\n",
       "</tbody>\n",
       "</table>\n"
      ],
      "text/latex": [
       "\\begin{tabular}{r|llllllllllllllll}\n",
       " 2000 & 2001 & 2002 & 2003 & 2004 & 2005 & 2006 & 2007 & 2008 & 2009 & 2010 & 2011 & 2012 & 2013 & 2014 & 2015\\\\\n",
       "\\hline\n",
       "\t 54.800 & 55.300 & 56.200 & 56.700 & 57.000 & 57.3   & 57.3   & 57.5   & 58.1   & 58.6   & 58.8   & 59.2   & 59.5   & 59.9   & 59.9   & 65.0  \\\\\n",
       "\t 72.600 & 73.600 & 73.300 & 72.800 & 73.000 & 73.5   & 74.2   & 75.9   & 75.3   & 76.1   & 76.2   & 76.6   & 76.9   & 77.2   & 77.5   & 77.8  \\\\\n",
       "\t 71.300 & 71.400 & 71.600 & 71.700 & 72.300 & 72.9   & 73.4   & 73.8   & 74.1   & 74.4   & 74.7   & 74.9   & 75.1   & 75.3   & 75.4   & 75.6  \\\\\n",
       "\t 47.262 & 47.262 & 47.262 & 47.262 & 47.262 & 47.4   & 47.7   & 48.2   & 48.7   & 49.1   & 49.6   & 51.0   & 56.0   & 51.1   & 51.7   & 52.4  \\\\\n",
       "\t 73.600 & 73.800 & 74.000 & 74.200 & 74.400 & 74.6   & 74.8   & 75.0   & 75.2   & 75.4   & 75.6   & 75.7   & 75.9   & 76.1   & 76.2   & 76.4  \\\\\n",
       "\t 74.100 & 74.000 & 74.100 & 74.100 & 74.700 & 74.9   & 75.2   & 74.8   & 75.4   & 75.6   & 75.5   & 75.7   & 75.9   & 76.0   & 76.2   & 76.3  \\\\\n",
       "\\end{tabular}\n"
      ],
      "text/markdown": [
       "\n",
       "| 2000 | 2001 | 2002 | 2003 | 2004 | 2005 | 2006 | 2007 | 2008 | 2009 | 2010 | 2011 | 2012 | 2013 | 2014 | 2015 |\n",
       "|---|---|---|---|---|---|---|---|---|---|---|---|---|---|---|---|\n",
       "| 54.800 | 55.300 | 56.200 | 56.700 | 57.000 | 57.3   | 57.3   | 57.5   | 58.1   | 58.6   | 58.8   | 59.2   | 59.5   | 59.9   | 59.9   | 65.0   |\n",
       "| 72.600 | 73.600 | 73.300 | 72.800 | 73.000 | 73.5   | 74.2   | 75.9   | 75.3   | 76.1   | 76.2   | 76.6   | 76.9   | 77.2   | 77.5   | 77.8   |\n",
       "| 71.300 | 71.400 | 71.600 | 71.700 | 72.300 | 72.9   | 73.4   | 73.8   | 74.1   | 74.4   | 74.7   | 74.9   | 75.1   | 75.3   | 75.4   | 75.6   |\n",
       "| 47.262 | 47.262 | 47.262 | 47.262 | 47.262 | 47.4   | 47.7   | 48.2   | 48.7   | 49.1   | 49.6   | 51.0   | 56.0   | 51.1   | 51.7   | 52.4   |\n",
       "| 73.600 | 73.800 | 74.000 | 74.200 | 74.400 | 74.6   | 74.8   | 75.0   | 75.2   | 75.4   | 75.6   | 75.7   | 75.9   | 76.1   | 76.2   | 76.4   |\n",
       "| 74.100 | 74.000 | 74.100 | 74.100 | 74.700 | 74.9   | 75.2   | 74.8   | 75.4   | 75.6   | 75.5   | 75.7   | 75.9   | 76.0   | 76.2   | 76.3   |\n",
       "\n"
      ],
      "text/plain": [
       "  2000   2001   2002   2003   2004   2005 2006 2007 2008 2009 2010 2011 2012\n",
       "1 54.800 55.300 56.200 56.700 57.000 57.3 57.3 57.5 58.1 58.6 58.8 59.2 59.5\n",
       "2 72.600 73.600 73.300 72.800 73.000 73.5 74.2 75.9 75.3 76.1 76.2 76.6 76.9\n",
       "3 71.300 71.400 71.600 71.700 72.300 72.9 73.4 73.8 74.1 74.4 74.7 74.9 75.1\n",
       "4 47.262 47.262 47.262 47.262 47.262 47.4 47.7 48.2 48.7 49.1 49.6 51.0 56.0\n",
       "5 73.600 73.800 74.000 74.200 74.400 74.6 74.8 75.0 75.2 75.4 75.6 75.7 75.9\n",
       "6 74.100 74.000 74.100 74.100 74.700 74.9 75.2 74.8 75.4 75.6 75.5 75.7 75.9\n",
       "  2013 2014 2015\n",
       "1 59.9 59.9 65.0\n",
       "2 77.2 77.5 77.8\n",
       "3 75.3 75.4 75.6\n",
       "4 51.1 51.7 52.4\n",
       "5 76.1 76.2 76.4\n",
       "6 76.0 76.2 76.3"
      ]
     },
     "metadata": {},
     "output_type": "display_data"
    }
   ],
   "source": [
    "# Creating the dataframe to carry out the t-test\n",
    "yearly_le = data.frame(matrix(nrow = 183))   #since there 183 observations in each year\n",
    "for (i in sort.int(years_unique)){\n",
    "    new <- rep(i, nrow(yearly_le))     # Create new column\n",
    "    yearly_le[ , ncol(yearly_le) + 1] <- \n",
    "    df_life_cleaned_final[which(df_life_cleaned_final$Year == i), 4]# Append new column\n",
    "    colnames(yearly_le)[ncol(yearly_le)] <- paste0(i) # renaming the column names\n",
    "}\n",
    "yearly_le = yearly_le[,-c(1)]\n",
    "head(yearly_le)"
   ]
  },
  {
   "cell_type": "code",
   "execution_count": 39,
   "metadata": {},
   "outputs": [
    {
     "name": "stdout",
     "output_type": "stream",
     "text": [
      "[1] \"----------2000 to 2001-----------\"\n",
      "[1] \"p-value: 0.735135247803541\"\n",
      "[1] \"----------2001 to 2002-----------\"\n",
      "[1] \"p-value: 0.854083936702605\"\n",
      "[1] \"----------2002 to 2003-----------\"\n",
      "[1] \"p-value: 0.93199161922903\"\n",
      "[1] \"----------2003 to 2004-----------\"\n",
      "[1] \"p-value: 0.874084653327749\"\n",
      "[1] \"----------2004 to 2005-----------\"\n",
      "[1] \"p-value: 0.567099276764165\"\n",
      "[1] \"----------2005 to 2006-----------\"\n",
      "[1] \"p-value: 0.704627016053249\"\n",
      "[1] \"----------2006 to 2007-----------\"\n",
      "[1] \"p-value: 0.738521320368458\"\n",
      "[1] \"----------2007 to 2008-----------\"\n",
      "[1] \"p-value: 0.669201053038091\"\n",
      "[1] \"----------2008 to 2009-----------\"\n",
      "[1] \"p-value: 0.591025499554946\"\n",
      "[1] \"----------2009 to 2010-----------\"\n",
      "[1] \"p-value: 0.883704161753653\"\n",
      "[1] \"----------2010 to 2011-----------\"\n",
      "[1] \"p-value: 0.560483742640351\"\n",
      "[1] \"----------2011 to 2012-----------\"\n",
      "[1] \"p-value: 0.734036062031863\"\n",
      "[1] \"----------2012 to 2013-----------\"\n",
      "[1] \"p-value: 0.748470924956317\"\n",
      "[1] \"----------2013 to 2014-----------\"\n",
      "[1] \"p-value: 0.781413809744769\"\n",
      "[1] \"----------2014 to 2015-----------\"\n",
      "[1] \"p-value: 0.82951794366806\"\n"
     ]
    }
   ],
   "source": [
    "# an un-paired 2 sample t-test between life expactancies of two years\n",
    "\n",
    "for (i in sort.int(years_unique)[-16]){\n",
    "    print(paste0(\"----------\",i,\" to \",i+1, \"-----------\"))\n",
    "    a = as.character(i)\n",
    "    b = as.character(i+1)\n",
    "    p_val = t.test(x = yearly_le[,a], y = yearly_le[,b], alternative = \"two.sided\",\n",
    "                   var.equal = FALSE)$p.value\n",
    "    print(paste0(\"p-value: \", p_val))\n",
    "}"
   ]
  },
  {
   "cell_type": "markdown",
   "metadata": {},
   "source": [
    "Looking at the p-value of the t-test, it is evident that differences between life expectancy of two consecutive years is not significant. Hence, we can discard the years column. This will be carried out in the next Section."
   ]
  },
  {
   "cell_type": "markdown",
   "metadata": {},
   "source": [
    "## 8. Feature Enginering"
   ]
  },
  {
   "cell_type": "markdown",
   "metadata": {},
   "source": [
    "Checking BMI column as that seems the most absured based on it's values. Anything higher than 50 and lower than 10 doesn't make sense. Therefore, let's check how many of the observations lies in this region."
   ]
  },
  {
   "cell_type": "code",
   "execution_count": 40,
   "metadata": {},
   "outputs": [
    {
     "name": "stdout",
     "output_type": "stream",
     "text": [
      "[1] \"Percentage of absurd value: 48.292349726776\"\n"
     ]
    }
   ],
   "source": [
    "len_BMI_absured = length(\n",
    "    df_outlier_removal_numeric[which((df_outlier_removal_numeric$BMI>50)\n",
    "                                        |(df_outlier_removal_numeric$BMI<10)),\n",
    "                                                    \"Life.expectancy\"])\n",
    "\n",
    "#percentage of absurd values in BMI\n",
    "proportion_of_absured_values = (len_BMI_absured/(dim(df_outlier_removal_numeric)[1]))*100\n",
    "print(paste0(\"Percentage of absurd value: \", proportion_of_absured_values))"
   ]
  },
  {
   "cell_type": "markdown",
   "metadata": {},
   "source": [
    "These absured values are almost 50% of the observations in column. Hence, we should drop the entire column as this gives no relevant information."
   ]
  },
  {
   "cell_type": "markdown",
   "metadata": {},
   "source": [
    "We will drop Country, Year and BMI columns as they have no sognificance impact on changes in the Life Expectancy"
   ]
  },
  {
   "cell_type": "code",
   "execution_count": 41,
   "metadata": {},
   "outputs": [
    {
     "data": {
      "text/html": [
       "<table>\n",
       "<thead><tr><th scope=col>Status</th><th scope=col>Life.expectancy</th><th scope=col>Adult.Mortality</th><th scope=col>Alcohol</th><th scope=col>Hepatitis.B</th><th scope=col>Measles</th><th scope=col>under.five.deaths</th><th scope=col>Polio</th><th scope=col>Total.expenditure</th><th scope=col>HIV.AIDS</th><th scope=col>GDP</th><th scope=col>Population</th><th scope=col>thinness.5.9.years</th><th scope=col>Income.composition.of.resources</th></tr></thead>\n",
       "<tbody>\n",
       "\t<tr><td>Developing</td><td>65.0      </td><td>263       </td><td>0.01      </td><td>65        </td><td>1154      </td><td> 83       </td><td> 7        </td><td>8.16      </td><td>0.1       </td><td>584.25921 </td><td>33736494  </td><td>17.300    </td><td>0.479     </td></tr>\n",
       "\t<tr><td>Developing</td><td>59.9      </td><td>271       </td><td>0.01      </td><td>62        </td><td> 492      </td><td> 86       </td><td>58        </td><td>8.18      </td><td>0.1       </td><td>612.69651 </td><td>  327582  </td><td>17.500    </td><td>0.476     </td></tr>\n",
       "\t<tr><td>Developing</td><td>59.9      </td><td>268       </td><td>0.01      </td><td>64        </td><td> 430      </td><td> 89       </td><td>62        </td><td>8.13      </td><td>0.1       </td><td>631.74498 </td><td>31731688  </td><td>17.700    </td><td>0.470     </td></tr>\n",
       "\t<tr><td>Developing</td><td>59.5      </td><td>272       </td><td>0.01      </td><td>67        </td><td>2787      </td><td> 93       </td><td>67        </td><td>8.52      </td><td>0.1       </td><td>669.95900 </td><td> 3696958  </td><td>18.000    </td><td>0.463     </td></tr>\n",
       "\t<tr><td>Developing</td><td>59.2      </td><td>275       </td><td>0.01      </td><td>68        </td><td>3013      </td><td> 97       </td><td>68        </td><td>7.87      </td><td>0.1       </td><td> 63.53723 </td><td> 2978599  </td><td>18.200    </td><td>0.454     </td></tr>\n",
       "\t<tr><td>Developing</td><td>58.8      </td><td>279       </td><td>0.01      </td><td>66        </td><td>1989      </td><td>102       </td><td>66        </td><td>9.20      </td><td>0.1       </td><td>553.32894 </td><td> 2883167  </td><td>18.246    </td><td>0.448     </td></tr>\n",
       "</tbody>\n",
       "</table>\n"
      ],
      "text/latex": [
       "\\begin{tabular}{r|llllllllllllll}\n",
       " Status & Life.expectancy & Adult.Mortality & Alcohol & Hepatitis.B & Measles & under.five.deaths & Polio & Total.expenditure & HIV.AIDS & GDP & Population & thinness.5.9.years & Income.composition.of.resources\\\\\n",
       "\\hline\n",
       "\t Developing & 65.0       & 263        & 0.01       & 65         & 1154       &  83        &  7         & 8.16       & 0.1        & 584.25921  & 33736494   & 17.300     & 0.479     \\\\\n",
       "\t Developing & 59.9       & 271        & 0.01       & 62         &  492       &  86        & 58         & 8.18       & 0.1        & 612.69651  &   327582   & 17.500     & 0.476     \\\\\n",
       "\t Developing & 59.9       & 268        & 0.01       & 64         &  430       &  89        & 62         & 8.13       & 0.1        & 631.74498  & 31731688   & 17.700     & 0.470     \\\\\n",
       "\t Developing & 59.5       & 272        & 0.01       & 67         & 2787       &  93        & 67         & 8.52       & 0.1        & 669.95900  &  3696958   & 18.000     & 0.463     \\\\\n",
       "\t Developing & 59.2       & 275        & 0.01       & 68         & 3013       &  97        & 68         & 7.87       & 0.1        &  63.53723  &  2978599   & 18.200     & 0.454     \\\\\n",
       "\t Developing & 58.8       & 279        & 0.01       & 66         & 1989       & 102        & 66         & 9.20       & 0.1        & 553.32894  &  2883167   & 18.246     & 0.448     \\\\\n",
       "\\end{tabular}\n"
      ],
      "text/markdown": [
       "\n",
       "| Status | Life.expectancy | Adult.Mortality | Alcohol | Hepatitis.B | Measles | under.five.deaths | Polio | Total.expenditure | HIV.AIDS | GDP | Population | thinness.5.9.years | Income.composition.of.resources |\n",
       "|---|---|---|---|---|---|---|---|---|---|---|---|---|---|\n",
       "| Developing | 65.0       | 263        | 0.01       | 65         | 1154       |  83        |  7         | 8.16       | 0.1        | 584.25921  | 33736494   | 17.300     | 0.479      |\n",
       "| Developing | 59.9       | 271        | 0.01       | 62         |  492       |  86        | 58         | 8.18       | 0.1        | 612.69651  |   327582   | 17.500     | 0.476      |\n",
       "| Developing | 59.9       | 268        | 0.01       | 64         |  430       |  89        | 62         | 8.13       | 0.1        | 631.74498  | 31731688   | 17.700     | 0.470      |\n",
       "| Developing | 59.5       | 272        | 0.01       | 67         | 2787       |  93        | 67         | 8.52       | 0.1        | 669.95900  |  3696958   | 18.000     | 0.463      |\n",
       "| Developing | 59.2       | 275        | 0.01       | 68         | 3013       |  97        | 68         | 7.87       | 0.1        |  63.53723  |  2978599   | 18.200     | 0.454      |\n",
       "| Developing | 58.8       | 279        | 0.01       | 66         | 1989       | 102        | 66         | 9.20       | 0.1        | 553.32894  |  2883167   | 18.246     | 0.448      |\n",
       "\n"
      ],
      "text/plain": [
       "  Status     Life.expectancy Adult.Mortality Alcohol Hepatitis.B Measles\n",
       "1 Developing 65.0            263             0.01    65          1154   \n",
       "2 Developing 59.9            271             0.01    62           492   \n",
       "3 Developing 59.9            268             0.01    64           430   \n",
       "4 Developing 59.5            272             0.01    67          2787   \n",
       "5 Developing 59.2            275             0.01    68          3013   \n",
       "6 Developing 58.8            279             0.01    66          1989   \n",
       "  under.five.deaths Polio Total.expenditure HIV.AIDS GDP       Population\n",
       "1  83                7    8.16              0.1      584.25921 33736494  \n",
       "2  86               58    8.18              0.1      612.69651   327582  \n",
       "3  89               62    8.13              0.1      631.74498 31731688  \n",
       "4  93               67    8.52              0.1      669.95900  3696958  \n",
       "5  97               68    7.87              0.1       63.53723  2978599  \n",
       "6 102               66    9.20              0.1      553.32894  2883167  \n",
       "  thinness.5.9.years Income.composition.of.resources\n",
       "1 17.300             0.479                          \n",
       "2 17.500             0.476                          \n",
       "3 17.700             0.470                          \n",
       "4 18.000             0.463                          \n",
       "5 18.200             0.454                          \n",
       "6 18.246             0.448                          "
      ]
     },
     "metadata": {},
     "output_type": "display_data"
    }
   ],
   "source": [
    "df_life_final_temp = df_life_cleaned_final %>% select(, -c(1,2, \"BMI\"))"
   ]
  },
  {
   "cell_type": "code",
   "execution_count": 42,
   "metadata": {
    "scrolled": true
   },
   "outputs": [
    {
     "data": {
      "text/html": [
       "<ol class=list-inline>\n",
       "\t<li>2928</li>\n",
       "\t<li>14</li>\n",
       "</ol>\n"
      ],
      "text/latex": [
       "\\begin{enumerate*}\n",
       "\\item 2928\n",
       "\\item 14\n",
       "\\end{enumerate*}\n"
      ],
      "text/markdown": [
       "1. 2928\n",
       "2. 14\n",
       "\n",
       "\n"
      ],
      "text/plain": [
       "[1] 2928   14"
      ]
     },
     "metadata": {},
     "output_type": "display_data"
    }
   ],
   "source": [
    "dim(df_life_final_temp)"
   ]
  },
  {
   "cell_type": "markdown",
   "metadata": {},
   "source": [
    "### 8.1. One Hot Encoding (Status Variable)\n",
    "\n",
    "Now, Let's carry out One-hot encoding of the Status (Categorical Variable)"
   ]
  },
  {
   "cell_type": "code",
   "execution_count": 43,
   "metadata": {
    "scrolled": true
   },
   "outputs": [
    {
     "name": "stdout",
     "output_type": "stream",
     "text": [
      "package 'fastDummies' successfully unpacked and MD5 sums checked\n",
      "\n",
      "The downloaded binary packages are in\n",
      "\tC:\\Users\\Divit\\AppData\\Local\\Temp\\RtmpmWsPnx\\downloaded_packages\n",
      "[1] 2928   16\n"
     ]
    },
    {
     "data": {
      "text/html": [
       "<table>\n",
       "<thead><tr><th scope=col>Status</th><th scope=col>Life.expectancy</th><th scope=col>Adult.Mortality</th><th scope=col>Alcohol</th><th scope=col>Hepatitis.B</th><th scope=col>Measles</th><th scope=col>under.five.deaths</th><th scope=col>Polio</th><th scope=col>Total.expenditure</th><th scope=col>HIV.AIDS</th><th scope=col>GDP</th><th scope=col>Population</th><th scope=col>thinness.5.9.years</th><th scope=col>Income.composition.of.resources</th><th scope=col>Status_Developed</th><th scope=col>Status_Developing</th></tr></thead>\n",
       "<tbody>\n",
       "\t<tr><td>Developing</td><td>65.0      </td><td>263       </td><td>0.01      </td><td>65        </td><td>1154      </td><td> 83       </td><td> 7        </td><td>8.16      </td><td>0.1       </td><td>584.25921 </td><td>33736494  </td><td>17.300    </td><td>0.479     </td><td>0         </td><td>1         </td></tr>\n",
       "\t<tr><td>Developing</td><td>59.9      </td><td>271       </td><td>0.01      </td><td>62        </td><td> 492      </td><td> 86       </td><td>58        </td><td>8.18      </td><td>0.1       </td><td>612.69651 </td><td>  327582  </td><td>17.500    </td><td>0.476     </td><td>0         </td><td>1         </td></tr>\n",
       "\t<tr><td>Developing</td><td>59.9      </td><td>268       </td><td>0.01      </td><td>64        </td><td> 430      </td><td> 89       </td><td>62        </td><td>8.13      </td><td>0.1       </td><td>631.74498 </td><td>31731688  </td><td>17.700    </td><td>0.470     </td><td>0         </td><td>1         </td></tr>\n",
       "\t<tr><td>Developing</td><td>59.5      </td><td>272       </td><td>0.01      </td><td>67        </td><td>2787      </td><td> 93       </td><td>67        </td><td>8.52      </td><td>0.1       </td><td>669.95900 </td><td> 3696958  </td><td>18.000    </td><td>0.463     </td><td>0         </td><td>1         </td></tr>\n",
       "\t<tr><td>Developing</td><td>59.2      </td><td>275       </td><td>0.01      </td><td>68        </td><td>3013      </td><td> 97       </td><td>68        </td><td>7.87      </td><td>0.1       </td><td> 63.53723 </td><td> 2978599  </td><td>18.200    </td><td>0.454     </td><td>0         </td><td>1         </td></tr>\n",
       "\t<tr><td>Developing</td><td>58.8      </td><td>279       </td><td>0.01      </td><td>66        </td><td>1989      </td><td>102       </td><td>66        </td><td>9.20      </td><td>0.1       </td><td>553.32894 </td><td> 2883167  </td><td>18.246    </td><td>0.448     </td><td>0         </td><td>1         </td></tr>\n",
       "</tbody>\n",
       "</table>\n"
      ],
      "text/latex": [
       "\\begin{tabular}{r|llllllllllllllll}\n",
       " Status & Life.expectancy & Adult.Mortality & Alcohol & Hepatitis.B & Measles & under.five.deaths & Polio & Total.expenditure & HIV.AIDS & GDP & Population & thinness.5.9.years & Income.composition.of.resources & Status\\_Developed & Status\\_Developing\\\\\n",
       "\\hline\n",
       "\t Developing & 65.0       & 263        & 0.01       & 65         & 1154       &  83        &  7         & 8.16       & 0.1        & 584.25921  & 33736494   & 17.300     & 0.479      & 0          & 1         \\\\\n",
       "\t Developing & 59.9       & 271        & 0.01       & 62         &  492       &  86        & 58         & 8.18       & 0.1        & 612.69651  &   327582   & 17.500     & 0.476      & 0          & 1         \\\\\n",
       "\t Developing & 59.9       & 268        & 0.01       & 64         &  430       &  89        & 62         & 8.13       & 0.1        & 631.74498  & 31731688   & 17.700     & 0.470      & 0          & 1         \\\\\n",
       "\t Developing & 59.5       & 272        & 0.01       & 67         & 2787       &  93        & 67         & 8.52       & 0.1        & 669.95900  &  3696958   & 18.000     & 0.463      & 0          & 1         \\\\\n",
       "\t Developing & 59.2       & 275        & 0.01       & 68         & 3013       &  97        & 68         & 7.87       & 0.1        &  63.53723  &  2978599   & 18.200     & 0.454      & 0          & 1         \\\\\n",
       "\t Developing & 58.8       & 279        & 0.01       & 66         & 1989       & 102        & 66         & 9.20       & 0.1        & 553.32894  &  2883167   & 18.246     & 0.448      & 0          & 1         \\\\\n",
       "\\end{tabular}\n"
      ],
      "text/markdown": [
       "\n",
       "| Status | Life.expectancy | Adult.Mortality | Alcohol | Hepatitis.B | Measles | under.five.deaths | Polio | Total.expenditure | HIV.AIDS | GDP | Population | thinness.5.9.years | Income.composition.of.resources | Status_Developed | Status_Developing |\n",
       "|---|---|---|---|---|---|---|---|---|---|---|---|---|---|---|---|\n",
       "| Developing | 65.0       | 263        | 0.01       | 65         | 1154       |  83        |  7         | 8.16       | 0.1        | 584.25921  | 33736494   | 17.300     | 0.479      | 0          | 1          |\n",
       "| Developing | 59.9       | 271        | 0.01       | 62         |  492       |  86        | 58         | 8.18       | 0.1        | 612.69651  |   327582   | 17.500     | 0.476      | 0          | 1          |\n",
       "| Developing | 59.9       | 268        | 0.01       | 64         |  430       |  89        | 62         | 8.13       | 0.1        | 631.74498  | 31731688   | 17.700     | 0.470      | 0          | 1          |\n",
       "| Developing | 59.5       | 272        | 0.01       | 67         | 2787       |  93        | 67         | 8.52       | 0.1        | 669.95900  |  3696958   | 18.000     | 0.463      | 0          | 1          |\n",
       "| Developing | 59.2       | 275        | 0.01       | 68         | 3013       |  97        | 68         | 7.87       | 0.1        |  63.53723  |  2978599   | 18.200     | 0.454      | 0          | 1          |\n",
       "| Developing | 58.8       | 279        | 0.01       | 66         | 1989       | 102        | 66         | 9.20       | 0.1        | 553.32894  |  2883167   | 18.246     | 0.448      | 0          | 1          |\n",
       "\n"
      ],
      "text/plain": [
       "  Status     Life.expectancy Adult.Mortality Alcohol Hepatitis.B Measles\n",
       "1 Developing 65.0            263             0.01    65          1154   \n",
       "2 Developing 59.9            271             0.01    62           492   \n",
       "3 Developing 59.9            268             0.01    64           430   \n",
       "4 Developing 59.5            272             0.01    67          2787   \n",
       "5 Developing 59.2            275             0.01    68          3013   \n",
       "6 Developing 58.8            279             0.01    66          1989   \n",
       "  under.five.deaths Polio Total.expenditure HIV.AIDS GDP       Population\n",
       "1  83                7    8.16              0.1      584.25921 33736494  \n",
       "2  86               58    8.18              0.1      612.69651   327582  \n",
       "3  89               62    8.13              0.1      631.74498 31731688  \n",
       "4  93               67    8.52              0.1      669.95900  3696958  \n",
       "5  97               68    7.87              0.1       63.53723  2978599  \n",
       "6 102               66    9.20              0.1      553.32894  2883167  \n",
       "  thinness.5.9.years Income.composition.of.resources Status_Developed\n",
       "1 17.300             0.479                           0               \n",
       "2 17.500             0.476                           0               \n",
       "3 17.700             0.470                           0               \n",
       "4 18.000             0.463                           0               \n",
       "5 18.200             0.454                           0               \n",
       "6 18.246             0.448                           0               \n",
       "  Status_Developing\n",
       "1 1                \n",
       "2 1                \n",
       "3 1                \n",
       "4 1                \n",
       "5 1                \n",
       "6 1                "
      ]
     },
     "metadata": {},
     "output_type": "display_data"
    }
   ],
   "source": [
    "# for creating dummy variables\n",
    "\n",
    "install.packages(\"fastDummies\")\n",
    "library(fastDummies)\n",
    "\n",
    "dummy_cols = dummy_cols(df_life_final_temp, select_columns = 'Status')\n",
    "print(dim(dummy_cols))\n",
    "head(dummy_cols)"
   ]
  },
  {
   "cell_type": "markdown",
   "metadata": {},
   "source": [
    "### 8.2. Standardisation"
   ]
  },
  {
   "cell_type": "markdown",
   "metadata": {},
   "source": [
    "The different features in this dataset has varied ranges and they need to be brought down to a similar range for better model comparison. This can be done by Standardising.\n",
    "\n",
    "Standardising a dataset means to scale all the numeric variables with mean = 0 and standard_deviation = 1.\n",
    "\n",
    "Note: Only Independent variables are scaled and not the dependent variable."
   ]
  },
  {
   "cell_type": "code",
   "execution_count": 44,
   "metadata": {},
   "outputs": [],
   "source": [
    "# we will drop original Status column as well as Status_developing column\n",
    "#to maintain the degree of freedom i.e. Status_developed clearly describes \n",
    "#the developed countries with class 0\n",
    "df_life_temp = dummy_cols[,-c(1,16)]\n",
    "\n",
    "# standardisation using scale() function\n",
    "scaled_numeric_features = scale(df_life_temp[,-c(1,14)])"
   ]
  },
  {
   "cell_type": "markdown",
   "metadata": {},
   "source": [
    "Dataset used for Feature Selection"
   ]
  },
  {
   "cell_type": "code",
   "execution_count": 45,
   "metadata": {},
   "outputs": [
    {
     "name": "stdout",
     "output_type": "stream",
     "text": [
      "[1] 2928   14\n"
     ]
    },
    {
     "data": {
      "text/html": [
       "<table>\n",
       "<thead><tr><th scope=col>Life.expectancy</th><th scope=col>Adult.Mortality</th><th scope=col>Alcohol</th><th scope=col>Hepatitis.B</th><th scope=col>Measles</th><th scope=col>under.five.deaths</th><th scope=col>Polio</th><th scope=col>Total.expenditure</th><th scope=col>HIV.AIDS</th><th scope=col>GDP</th><th scope=col>Population</th><th scope=col>thinness.5.9.years</th><th scope=col>Income.composition.of.resources</th><th scope=col>Status_Developed</th></tr></thead>\n",
       "<tbody>\n",
       "\t<tr><td>65.0       </td><td>0.8481664  </td><td>-1.186077  </td><td>-0.7149357 </td><td>-0.09714342</td><td>0.7997361  </td><td>-3.2519205 </td><td>0.9953407  </td><td>-0.3909853 </td><td>-0.5736896 </td><td> 1.5392199 </td><td>2.988299   </td><td>-0.7235845 </td><td>0          </td></tr>\n",
       "\t<tr><td>59.9       </td><td>0.9159883  </td><td>-1.186077  </td><td>-0.8489479 </td><td>-0.22150794</td><td>0.8454349  </td><td>-1.0575363 </td><td>1.0041517  </td><td>-0.3909853 </td><td>-0.5712076 </td><td>-0.5889257 </td><td>3.036135   </td><td>-0.7382381 </td><td>0          </td></tr>\n",
       "\t<tr><td>59.9       </td><td>0.8905551  </td><td>-1.186077  </td><td>-0.7596064 </td><td>-0.23315537</td><td>0.8911336  </td><td>-0.8854277 </td><td>0.9821243  </td><td>-0.3909853 </td><td>-0.5695450 </td><td> 1.4115139 </td><td>3.083971   </td><td>-0.7675454 </td><td>0          </td></tr>\n",
       "\t<tr><td>59.5       </td><td>0.9244661  </td><td>-1.186077  </td><td>-0.6255942 </td><td> 0.20963493</td><td>0.9520653  </td><td>-0.6702920 </td><td>1.1539377  </td><td>-0.3909853 </td><td>-0.5662097 </td><td>-0.3742967 </td><td>3.155726   </td><td>-0.8017371 </td><td>0          </td></tr>\n",
       "\t<tr><td>59.2       </td><td>0.9498993  </td><td>-1.186077  </td><td>-0.5809234 </td><td> 0.25209170</td><td>1.0129970  </td><td>-0.6272649 </td><td>0.8675820  </td><td>-0.3909853 </td><td>-0.6191382 </td><td>-0.4200561 </td><td>3.203562   </td><td>-0.8456980 </td><td>0          </td></tr>\n",
       "\t<tr><td>58.8       </td><td>0.9838103  </td><td>-1.186077  </td><td>-0.6702649 </td><td> 0.05972120</td><td>1.0891616  </td><td>-0.7133191 </td><td>1.4535098  </td><td>-0.3909853 </td><td>-0.5763892 </td><td>-0.4261351 </td><td>3.214564   </td><td>-0.8750053 </td><td>0          </td></tr>\n",
       "</tbody>\n",
       "</table>\n"
      ],
      "text/latex": [
       "\\begin{tabular}{llllllllllllll}\n",
       " Life.expectancy & Adult.Mortality & Alcohol & Hepatitis.B & Measles & under.five.deaths & Polio & Total.expenditure & HIV.AIDS & GDP & Population & thinness.5.9.years & Income.composition.of.resources & Status\\_Developed\\\\\n",
       "\\hline\n",
       "\t 65.0        & 0.8481664   & -1.186077   & -0.7149357  & -0.09714342 & 0.7997361   & -3.2519205  & 0.9953407   & -0.3909853  & -0.5736896  &  1.5392199  & 2.988299    & -0.7235845  & 0          \\\\\n",
       "\t 59.9        & 0.9159883   & -1.186077   & -0.8489479  & -0.22150794 & 0.8454349   & -1.0575363  & 1.0041517   & -0.3909853  & -0.5712076  & -0.5889257  & 3.036135    & -0.7382381  & 0          \\\\\n",
       "\t 59.9        & 0.8905551   & -1.186077   & -0.7596064  & -0.23315537 & 0.8911336   & -0.8854277  & 0.9821243   & -0.3909853  & -0.5695450  &  1.4115139  & 3.083971    & -0.7675454  & 0          \\\\\n",
       "\t 59.5        & 0.9244661   & -1.186077   & -0.6255942  &  0.20963493 & 0.9520653   & -0.6702920  & 1.1539377   & -0.3909853  & -0.5662097  & -0.3742967  & 3.155726    & -0.8017371  & 0          \\\\\n",
       "\t 59.2        & 0.9498993   & -1.186077   & -0.5809234  &  0.25209170 & 1.0129970   & -0.6272649  & 0.8675820   & -0.3909853  & -0.6191382  & -0.4200561  & 3.203562    & -0.8456980  & 0          \\\\\n",
       "\t 58.8        & 0.9838103   & -1.186077   & -0.6702649  &  0.05972120 & 1.0891616   & -0.7133191  & 1.4535098   & -0.3909853  & -0.5763892  & -0.4261351  & 3.214564    & -0.8750053  & 0          \\\\\n",
       "\\end{tabular}\n"
      ],
      "text/markdown": [
       "\n",
       "| Life.expectancy | Adult.Mortality | Alcohol | Hepatitis.B | Measles | under.five.deaths | Polio | Total.expenditure | HIV.AIDS | GDP | Population | thinness.5.9.years | Income.composition.of.resources | Status_Developed |\n",
       "|---|---|---|---|---|---|---|---|---|---|---|---|---|---|\n",
       "| 65.0        | 0.8481664   | -1.186077   | -0.7149357  | -0.09714342 | 0.7997361   | -3.2519205  | 0.9953407   | -0.3909853  | -0.5736896  |  1.5392199  | 2.988299    | -0.7235845  | 0           |\n",
       "| 59.9        | 0.9159883   | -1.186077   | -0.8489479  | -0.22150794 | 0.8454349   | -1.0575363  | 1.0041517   | -0.3909853  | -0.5712076  | -0.5889257  | 3.036135    | -0.7382381  | 0           |\n",
       "| 59.9        | 0.8905551   | -1.186077   | -0.7596064  | -0.23315537 | 0.8911336   | -0.8854277  | 0.9821243   | -0.3909853  | -0.5695450  |  1.4115139  | 3.083971    | -0.7675454  | 0           |\n",
       "| 59.5        | 0.9244661   | -1.186077   | -0.6255942  |  0.20963493 | 0.9520653   | -0.6702920  | 1.1539377   | -0.3909853  | -0.5662097  | -0.3742967  | 3.155726    | -0.8017371  | 0           |\n",
       "| 59.2        | 0.9498993   | -1.186077   | -0.5809234  |  0.25209170 | 1.0129970   | -0.6272649  | 0.8675820   | -0.3909853  | -0.6191382  | -0.4200561  | 3.203562    | -0.8456980  | 0           |\n",
       "| 58.8        | 0.9838103   | -1.186077   | -0.6702649  |  0.05972120 | 1.0891616   | -0.7133191  | 1.4535098   | -0.3909853  | -0.5763892  | -0.4261351  | 3.214564    | -0.8750053  | 0           |\n",
       "\n"
      ],
      "text/plain": [
       "     Life.expectancy Adult.Mortality Alcohol   Hepatitis.B Measles    \n",
       "[1,] 65.0            0.8481664       -1.186077 -0.7149357  -0.09714342\n",
       "[2,] 59.9            0.9159883       -1.186077 -0.8489479  -0.22150794\n",
       "[3,] 59.9            0.8905551       -1.186077 -0.7596064  -0.23315537\n",
       "[4,] 59.5            0.9244661       -1.186077 -0.6255942   0.20963493\n",
       "[5,] 59.2            0.9498993       -1.186077 -0.5809234   0.25209170\n",
       "[6,] 58.8            0.9838103       -1.186077 -0.6702649   0.05972120\n",
       "     under.five.deaths Polio      Total.expenditure HIV.AIDS   GDP       \n",
       "[1,] 0.7997361         -3.2519205 0.9953407         -0.3909853 -0.5736896\n",
       "[2,] 0.8454349         -1.0575363 1.0041517         -0.3909853 -0.5712076\n",
       "[3,] 0.8911336         -0.8854277 0.9821243         -0.3909853 -0.5695450\n",
       "[4,] 0.9520653         -0.6702920 1.1539377         -0.3909853 -0.5662097\n",
       "[5,] 1.0129970         -0.6272649 0.8675820         -0.3909853 -0.6191382\n",
       "[6,] 1.0891616         -0.7133191 1.4535098         -0.3909853 -0.5763892\n",
       "     Population thinness.5.9.years Income.composition.of.resources\n",
       "[1,]  1.5392199 2.988299           -0.7235845                     \n",
       "[2,] -0.5889257 3.036135           -0.7382381                     \n",
       "[3,]  1.4115139 3.083971           -0.7675454                     \n",
       "[4,] -0.3742967 3.155726           -0.8017371                     \n",
       "[5,] -0.4200561 3.203562           -0.8456980                     \n",
       "[6,] -0.4261351 3.214564           -0.8750053                     \n",
       "     Status_Developed\n",
       "[1,] 0               \n",
       "[2,] 0               \n",
       "[3,] 0               \n",
       "[4,] 0               \n",
       "[5,] 0               \n",
       "[6,] 0               "
      ]
     },
     "metadata": {},
     "output_type": "display_data"
    }
   ],
   "source": [
    "df_life_final = cbind(df_life_temp[,\"Life.expectancy\"], scaled_numeric_features,\n",
    "                      df_life_temp[,\"Status_Developed\"])\n",
    "\n",
    "# renaming columns\n",
    "colnames(df_life_final)[1] = \"Life.expectancy\"\n",
    "colnames(df_life_final)[14] = \"Status_Developed\"\n",
    "\n",
    "print(dim(df_life_final))\n",
    "head(df_life_final)\n"
   ]
  },
  {
   "cell_type": "markdown",
   "metadata": {},
   "source": [
    "### 8.3. Feature Selection (Recursive Feature elimination)"
   ]
  },
  {
   "cell_type": "markdown",
   "metadata": {},
   "source": [
    "Recursive feature elimination is one of the wrapper methods of feature selection which uses a machine learning algorithm to find the best features. Recursive feature elimination performs a greedy search to find the best performing feature subset. It iteratively creates models and determines the best or the worst performing feature at each iteration. It constructs the subsequent models with the left features until all the features are explored. It then ranks the features based on the order of their elimination. In the worst case, if a dataset contains N number of features RFE will do a greedy search for 2N combinations of features.\n",
    "\n",
    "We will first split the data into Feature and Target array before doing Recursive feature elimination."
   ]
  },
  {
   "cell_type": "code",
   "execution_count": 44,
   "metadata": {},
   "outputs": [],
   "source": [
    "# Creative Feature (X_RFE) and target array (y_RFE)\n",
    "X_RFE = df_life_final[,-1]\n",
    "y_RFE = df_life_final[,1]"
   ]
  },
  {
   "cell_type": "markdown",
   "metadata": {},
   "source": [
    "We will use rfe() function from CARET package to implement Recursive Feature elimination.\n",
    "\n",
    "Syntax: ref(x, y, sizes = , rfecontrol =)\n",
    "\n",
    "where:\n",
    "\n",
    "1. x = dataframe or matrix of features\n",
    "2. y = target variable\n",
    "3. sizes = number of features that needs to be selected\n",
    "4. rfeControl : list of control options such as algorithm, cross validation etc.\n",
    "\n",
    "First, we define a control variable which consist of control options and then perform rfe using rfe()  "
   ]
  },
  {
   "cell_type": "code",
   "execution_count": 45,
   "metadata": {
    "code_folding": [],
    "scrolled": false
   },
   "outputs": [
    {
     "data": {
      "text/plain": [
       "\n",
       "Recursive feature selection\n",
       "\n",
       "Outer resampling method: Cross-Validated (10 fold) \n",
       "\n",
       "Resampling performance over subset size:\n",
       "\n",
       " Variables  RMSE Rsquared   MAE RMSESD RsquaredSD   MAESD Selected\n",
       "         5 2.080   0.9526 1.483 0.1600   0.006081 0.09936         \n",
       "         6 1.714   0.9666 1.094 0.1573   0.005247 0.07270         \n",
       "         7 1.638   0.9696 1.034 0.1756   0.005846 0.09786        *\n",
       "         8 1.674   0.9685 1.073 0.1378   0.004202 0.06656         \n",
       "         9 1.639   0.9696 1.042 0.1509   0.004539 0.07573         \n",
       "        10 1.642   0.9697 1.056 0.1279   0.003944 0.06602         \n",
       "        13 1.662   0.9690 1.074 0.1331   0.003991 0.07284         \n",
       "\n",
       "The top 5 variables (out of 7):\n",
       "   HIV.AIDS, Income.composition.of.resources, Total.expenditure, Adult.Mortality, Alcohol\n"
      ]
     },
     "metadata": {},
     "output_type": "display_data"
    }
   ],
   "source": [
    "# specifying the CV technique as well as the random forest algorithm\n",
    "#which will be passed into the rfe() function in feature selection\n",
    "control_rfe = rfeControl(functions = rfFuncs, # random forest\n",
    "                         method = \"cv\",       # repeated cv\n",
    "                         number = 10)         # number of folds\n",
    "set.seed(50)\n",
    "# Performing RFE\n",
    "result_rfe = rfe(x = X_RFE, \n",
    "                 y = y_RFE, \n",
    "                 sizes = c(5:10),\n",
    "                 rfeControl = control_rfe)\n",
    "\n",
    "# summarising the results\n",
    "result_rfe"
   ]
  },
  {
   "cell_type": "code",
   "execution_count": 46,
   "metadata": {
    "code_folding": []
   },
   "outputs": [
    {
     "data": {
      "text/html": [
       "<ol class=list-inline>\n",
       "\t<li>'HIV.AIDS'</li>\n",
       "\t<li>'Income.composition.of.resources'</li>\n",
       "\t<li>'Total.expenditure'</li>\n",
       "\t<li>'Adult.Mortality'</li>\n",
       "\t<li>'Alcohol'</li>\n",
       "\t<li>'thinness.5.9.years'</li>\n",
       "\t<li>'under.five.deaths'</li>\n",
       "</ol>\n"
      ],
      "text/latex": [
       "\\begin{enumerate*}\n",
       "\\item 'HIV.AIDS'\n",
       "\\item 'Income.composition.of.resources'\n",
       "\\item 'Total.expenditure'\n",
       "\\item 'Adult.Mortality'\n",
       "\\item 'Alcohol'\n",
       "\\item 'thinness.5.9.years'\n",
       "\\item 'under.five.deaths'\n",
       "\\end{enumerate*}\n"
      ],
      "text/markdown": [
       "1. 'HIV.AIDS'\n",
       "2. 'Income.composition.of.resources'\n",
       "3. 'Total.expenditure'\n",
       "4. 'Adult.Mortality'\n",
       "5. 'Alcohol'\n",
       "6. 'thinness.5.9.years'\n",
       "7. 'under.five.deaths'\n",
       "\n",
       "\n"
      ],
      "text/plain": [
       "[1] \"HIV.AIDS\"                        \"Income.composition.of.resources\"\n",
       "[3] \"Total.expenditure\"               \"Adult.Mortality\"                \n",
       "[5] \"Alcohol\"                         \"thinness.5.9.years\"             \n",
       "[7] \"under.five.deaths\"              "
      ]
     },
     "metadata": {},
     "output_type": "display_data"
    }
   ],
   "source": [
    "# all the features selected by rfe\n",
    "predictors(result_rfe)"
   ]
  },
  {
   "cell_type": "markdown",
   "metadata": {},
   "source": [
    "After carrying ouut EDA which included recursive feature elimination as a feature selection technique, the features that impact the life expectancy the most are:\n",
    "\n",
    "1. HIV.AIDS\n",
    "2. Income.composition.of.resources\n",
    "3. Adult.Mortality\n",
    "4. Total.expenditure\n",
    "5. Alcohol\n",
    "6. thinness.5.9.years\n",
    "7. under.five.deaths\n",
    "\n",
    "Hence, we will use these features to create a model."
   ]
  },
  {
   "cell_type": "code",
   "execution_count": 46,
   "metadata": {},
   "outputs": [
    {
     "name": "stdout",
     "output_type": "stream",
     "text": [
      "[1] 2928    8\n"
     ]
    },
    {
     "data": {
      "text/html": [
       "<table>\n",
       "<thead><tr><th scope=col>Life.expectancy</th><th scope=col>HIV.AIDS</th><th scope=col>Income.composition.of.resources</th><th scope=col>Adult.Mortality</th><th scope=col>Total.expenditure</th><th scope=col>Alcohol</th><th scope=col>thinness.5.9.years</th><th scope=col>under.five.deaths</th></tr></thead>\n",
       "<tbody>\n",
       "\t<tr><td>65.0      </td><td>-0.3909853</td><td>-0.7235845</td><td>0.8481664 </td><td>0.9953407 </td><td>-1.186077 </td><td>2.988299  </td><td>0.7997361 </td></tr>\n",
       "\t<tr><td>59.9      </td><td>-0.3909853</td><td>-0.7382381</td><td>0.9159883 </td><td>1.0041517 </td><td>-1.186077 </td><td>3.036135  </td><td>0.8454349 </td></tr>\n",
       "\t<tr><td>59.9      </td><td>-0.3909853</td><td>-0.7675454</td><td>0.8905551 </td><td>0.9821243 </td><td>-1.186077 </td><td>3.083971  </td><td>0.8911336 </td></tr>\n",
       "\t<tr><td>59.5      </td><td>-0.3909853</td><td>-0.8017371</td><td>0.9244661 </td><td>1.1539377 </td><td>-1.186077 </td><td>3.155726  </td><td>0.9520653 </td></tr>\n",
       "\t<tr><td>59.2      </td><td>-0.3909853</td><td>-0.8456980</td><td>0.9498993 </td><td>0.8675820 </td><td>-1.186077 </td><td>3.203562  </td><td>1.0129970 </td></tr>\n",
       "\t<tr><td>58.8      </td><td>-0.3909853</td><td>-0.8750053</td><td>0.9838103 </td><td>1.4535098 </td><td>-1.186077 </td><td>3.214564  </td><td>1.0891616 </td></tr>\n",
       "</tbody>\n",
       "</table>\n"
      ],
      "text/latex": [
       "\\begin{tabular}{llllllll}\n",
       " Life.expectancy & HIV.AIDS & Income.composition.of.resources & Adult.Mortality & Total.expenditure & Alcohol & thinness.5.9.years & under.five.deaths\\\\\n",
       "\\hline\n",
       "\t 65.0       & -0.3909853 & -0.7235845 & 0.8481664  & 0.9953407  & -1.186077  & 2.988299   & 0.7997361 \\\\\n",
       "\t 59.9       & -0.3909853 & -0.7382381 & 0.9159883  & 1.0041517  & -1.186077  & 3.036135   & 0.8454349 \\\\\n",
       "\t 59.9       & -0.3909853 & -0.7675454 & 0.8905551  & 0.9821243  & -1.186077  & 3.083971   & 0.8911336 \\\\\n",
       "\t 59.5       & -0.3909853 & -0.8017371 & 0.9244661  & 1.1539377  & -1.186077  & 3.155726   & 0.9520653 \\\\\n",
       "\t 59.2       & -0.3909853 & -0.8456980 & 0.9498993  & 0.8675820  & -1.186077  & 3.203562   & 1.0129970 \\\\\n",
       "\t 58.8       & -0.3909853 & -0.8750053 & 0.9838103  & 1.4535098  & -1.186077  & 3.214564   & 1.0891616 \\\\\n",
       "\\end{tabular}\n"
      ],
      "text/markdown": [
       "\n",
       "| Life.expectancy | HIV.AIDS | Income.composition.of.resources | Adult.Mortality | Total.expenditure | Alcohol | thinness.5.9.years | under.five.deaths |\n",
       "|---|---|---|---|---|---|---|---|\n",
       "| 65.0       | -0.3909853 | -0.7235845 | 0.8481664  | 0.9953407  | -1.186077  | 2.988299   | 0.7997361  |\n",
       "| 59.9       | -0.3909853 | -0.7382381 | 0.9159883  | 1.0041517  | -1.186077  | 3.036135   | 0.8454349  |\n",
       "| 59.9       | -0.3909853 | -0.7675454 | 0.8905551  | 0.9821243  | -1.186077  | 3.083971   | 0.8911336  |\n",
       "| 59.5       | -0.3909853 | -0.8017371 | 0.9244661  | 1.1539377  | -1.186077  | 3.155726   | 0.9520653  |\n",
       "| 59.2       | -0.3909853 | -0.8456980 | 0.9498993  | 0.8675820  | -1.186077  | 3.203562   | 1.0129970  |\n",
       "| 58.8       | -0.3909853 | -0.8750053 | 0.9838103  | 1.4535098  | -1.186077  | 3.214564   | 1.0891616  |\n",
       "\n"
      ],
      "text/plain": [
       "     Life.expectancy HIV.AIDS   Income.composition.of.resources Adult.Mortality\n",
       "[1,] 65.0            -0.3909853 -0.7235845                      0.8481664      \n",
       "[2,] 59.9            -0.3909853 -0.7382381                      0.9159883      \n",
       "[3,] 59.9            -0.3909853 -0.7675454                      0.8905551      \n",
       "[4,] 59.5            -0.3909853 -0.8017371                      0.9244661      \n",
       "[5,] 59.2            -0.3909853 -0.8456980                      0.9498993      \n",
       "[6,] 58.8            -0.3909853 -0.8750053                      0.9838103      \n",
       "     Total.expenditure Alcohol   thinness.5.9.years under.five.deaths\n",
       "[1,] 0.9953407         -1.186077 2.988299           0.7997361        \n",
       "[2,] 1.0041517         -1.186077 3.036135           0.8454349        \n",
       "[3,] 0.9821243         -1.186077 3.083971           0.8911336        \n",
       "[4,] 1.1539377         -1.186077 3.155726           0.9520653        \n",
       "[5,] 0.8675820         -1.186077 3.203562           1.0129970        \n",
       "[6,] 1.4535098         -1.186077 3.214564           1.0891616        "
      ]
     },
     "metadata": {},
     "output_type": "display_data"
    }
   ],
   "source": [
    "df_life_expect = df_life_final[,c(\"Life.expectancy\", 'HIV.AIDS', \n",
    "                                  'Income.composition.of.resources',\n",
    "                                  'Adult.Mortality', 'Total.expenditure', 'Alcohol', \n",
    "                                  'thinness.5.9.years', 'under.five.deaths')]\n",
    "print(dim(df_life_expect))\n",
    "head(df_life_expect)"
   ]
  },
  {
   "cell_type": "markdown",
   "metadata": {},
   "source": [
    "## 9. Modelling"
   ]
  },
  {
   "cell_type": "markdown",
   "metadata": {},
   "source": [
    "We will create the following three Regression models and compare the RMSE and R Squared value:\n",
    "1. Multiple linear Regression\n",
    "2. Random forest\n",
    "3. Support Vector Regression\n",
    "\n",
    "Performance Metrics to be used for slection of best model:\n",
    "1. Root Mean Squared Error\n",
    "2. R_Squared value\n",
    "\n",
    "Steps to be followed:\n",
    "\n",
    "1. Train-Test split\n",
    "2. Model Creation - Training and Testing with performance metrics\n",
    "    1. Linear Regression\n",
    "    2. Random Forest\n",
    "    3. Support Vector Regression\n",
    "\n"
   ]
  },
  {
   "cell_type": "markdown",
   "metadata": {},
   "source": [
    "### 9.1. Train-Test split"
   ]
  },
  {
   "cell_type": "code",
   "execution_count": 47,
   "metadata": {},
   "outputs": [],
   "source": [
    "df_life_expect = as.data.frame(df_life_expect)\n",
    "\n",
    "set.seed(10)\n",
    "# createDataPartition() function from the caret package to split the original dataset\n",
    "#into a training and testing set and split data into training (80%) and testing set (20%)\n",
    "parts = createDataPartition(df_life_expect$Life.expectancy, p = .7, list = F)\n",
    "train = df_life_expect[parts, ]\n",
    "test = df_life_expect[-parts, ]\n"
   ]
  },
  {
   "cell_type": "code",
   "execution_count": 48,
   "metadata": {},
   "outputs": [
    {
     "name": "stdout",
     "output_type": "stream",
     "text": [
      "[1] 2051    7\n"
     ]
    },
    {
     "data": {
      "text/html": [
       "<table>\n",
       "<thead><tr><th></th><th scope=col>HIV.AIDS</th><th scope=col>Income.composition.of.resources</th><th scope=col>Adult.Mortality</th><th scope=col>Total.expenditure</th><th scope=col>Alcohol</th><th scope=col>thinness.5.9.years</th><th scope=col>under.five.deaths</th></tr></thead>\n",
       "<tbody>\n",
       "\t<tr><th scope=row>1</th><td>-0.3909853</td><td>-0.7235845</td><td>0.8481664 </td><td>0.9953407 </td><td>-1.186077 </td><td>2.988299  </td><td>0.7997361 </td></tr>\n",
       "\t<tr><th scope=row>3</th><td>-0.3909853</td><td>-0.7675454</td><td>0.8905551 </td><td>0.9821243 </td><td>-1.186077 </td><td>3.083971  </td><td>0.8911336 </td></tr>\n",
       "\t<tr><th scope=row>4</th><td>-0.3909853</td><td>-0.8017371</td><td>0.9244661 </td><td>1.1539377 </td><td>-1.186077 </td><td>3.155726  </td><td>0.9520653 </td></tr>\n",
       "\t<tr><th scope=row>5</th><td>-0.3909853</td><td>-0.8456980</td><td>0.9498993 </td><td>0.8675820 </td><td>-1.186077 </td><td>3.203562  </td><td>1.0129970 </td></tr>\n",
       "\t<tr><th scope=row>7</th><td>-0.3909853</td><td>-0.9433889</td><td>1.0007658 </td><td>1.5504302 </td><td>-1.186077 </td><td>3.214564  </td><td>1.1500933 </td></tr>\n",
       "\t<tr><th scope=row>8</th><td>-0.3909853</td><td>-0.9482734</td><td>1.0516322 </td><td>1.0702337 </td><td>-1.180903 </td><td>3.214564  </td><td>1.2110250 </td></tr>\n",
       "</tbody>\n",
       "</table>\n"
      ],
      "text/latex": [
       "\\begin{tabular}{r|lllllll}\n",
       "  & HIV.AIDS & Income.composition.of.resources & Adult.Mortality & Total.expenditure & Alcohol & thinness.5.9.years & under.five.deaths\\\\\n",
       "\\hline\n",
       "\t1 & -0.3909853 & -0.7235845 & 0.8481664  & 0.9953407  & -1.186077  & 2.988299   & 0.7997361 \\\\\n",
       "\t3 & -0.3909853 & -0.7675454 & 0.8905551  & 0.9821243  & -1.186077  & 3.083971   & 0.8911336 \\\\\n",
       "\t4 & -0.3909853 & -0.8017371 & 0.9244661  & 1.1539377  & -1.186077  & 3.155726   & 0.9520653 \\\\\n",
       "\t5 & -0.3909853 & -0.8456980 & 0.9498993  & 0.8675820  & -1.186077  & 3.203562   & 1.0129970 \\\\\n",
       "\t7 & -0.3909853 & -0.9433889 & 1.0007658  & 1.5504302  & -1.186077  & 3.214564   & 1.1500933 \\\\\n",
       "\t8 & -0.3909853 & -0.9482734 & 1.0516322  & 1.0702337  & -1.180903  & 3.214564   & 1.2110250 \\\\\n",
       "\\end{tabular}\n"
      ],
      "text/markdown": [
       "\n",
       "| <!--/--> | HIV.AIDS | Income.composition.of.resources | Adult.Mortality | Total.expenditure | Alcohol | thinness.5.9.years | under.five.deaths |\n",
       "|---|---|---|---|---|---|---|---|\n",
       "| 1 | -0.3909853 | -0.7235845 | 0.8481664  | 0.9953407  | -1.186077  | 2.988299   | 0.7997361  |\n",
       "| 3 | -0.3909853 | -0.7675454 | 0.8905551  | 0.9821243  | -1.186077  | 3.083971   | 0.8911336  |\n",
       "| 4 | -0.3909853 | -0.8017371 | 0.9244661  | 1.1539377  | -1.186077  | 3.155726   | 0.9520653  |\n",
       "| 5 | -0.3909853 | -0.8456980 | 0.9498993  | 0.8675820  | -1.186077  | 3.203562   | 1.0129970  |\n",
       "| 7 | -0.3909853 | -0.9433889 | 1.0007658  | 1.5504302  | -1.186077  | 3.214564   | 1.1500933  |\n",
       "| 8 | -0.3909853 | -0.9482734 | 1.0516322  | 1.0702337  | -1.180903  | 3.214564   | 1.2110250  |\n",
       "\n"
      ],
      "text/plain": [
       "  HIV.AIDS   Income.composition.of.resources Adult.Mortality Total.expenditure\n",
       "1 -0.3909853 -0.7235845                      0.8481664       0.9953407        \n",
       "3 -0.3909853 -0.7675454                      0.8905551       0.9821243        \n",
       "4 -0.3909853 -0.8017371                      0.9244661       1.1539377        \n",
       "5 -0.3909853 -0.8456980                      0.9498993       0.8675820        \n",
       "7 -0.3909853 -0.9433889                      1.0007658       1.5504302        \n",
       "8 -0.3909853 -0.9482734                      1.0516322       1.0702337        \n",
       "  Alcohol   thinness.5.9.years under.five.deaths\n",
       "1 -1.186077 2.988299           0.7997361        \n",
       "3 -1.186077 3.083971           0.8911336        \n",
       "4 -1.186077 3.155726           0.9520653        \n",
       "5 -1.186077 3.203562           1.0129970        \n",
       "7 -1.186077 3.214564           1.1500933        \n",
       "8 -1.180903 3.214564           1.2110250        "
      ]
     },
     "metadata": {},
     "output_type": "display_data"
    },
    {
     "name": "stdout",
     "output_type": "stream",
     "text": [
      "[1] 65.0 59.9 59.5 59.2 58.6 58.1\n"
     ]
    }
   ],
   "source": [
    "#Train data\n",
    "X_train = train[,-1]\n",
    "y_train = train[,1]\n",
    "\n",
    "\n",
    "print(dim(X_train))\n",
    "head(X_train)\n",
    "print(head(y_train))"
   ]
  },
  {
   "cell_type": "code",
   "execution_count": 49,
   "metadata": {},
   "outputs": [
    {
     "name": "stdout",
     "output_type": "stream",
     "text": [
      "[1] 877   7\n"
     ]
    },
    {
     "data": {
      "text/html": [
       "<table>\n",
       "<thead><tr><th></th><th scope=col>HIV.AIDS</th><th scope=col>Income.composition.of.resources</th><th scope=col>Adult.Mortality</th><th scope=col>Total.expenditure</th><th scope=col>Alcohol</th><th scope=col>thinness.5.9.years</th><th scope=col>under.five.deaths</th></tr></thead>\n",
       "<tbody>\n",
       "\t<tr><th scope=row>2</th><td>-0.3909853 </td><td>-0.7382381 </td><td> 0.9159883 </td><td> 1.00415167</td><td>-1.18607717</td><td> 3.0361354 </td><td> 0.8454349 </td></tr>\n",
       "\t<tr><th scope=row>6</th><td>-0.3909853 </td><td>-0.8750053 </td><td> 0.9838103 </td><td> 1.45350980</td><td>-1.18607717</td><td> 3.2145640 </td><td> 1.0891616 </td></tr>\n",
       "\t<tr><th scope=row>15</th><td>-0.3909853 </td><td>-1.4025358 </td><td> 1.2974868 </td><td> 0.83674374</td><td>-1.18607717</td><td>-0.5754886 </td><td> 1.3938200 </td></tr>\n",
       "\t<tr><th scope=row>22</th><td>-0.3909853 </td><td> 0.4780128 </td><td>-0.6100053 </td><td>-0.24700235</td><td> 0.17728347</td><td>-0.7907509 </td><td>-0.4493635 </td></tr>\n",
       "\t<tr><th scope=row>25</th><td>-0.3909853 </td><td> 0.3705529 </td><td>-1.3051802 </td><td> 0.08781351</td><td> 0.25489413</td><td>-0.7429149 </td><td>-0.4493635 </td></tr>\n",
       "\t<tr><th scope=row>28</th><td>-0.3909853 </td><td> 0.2630930 </td><td>-1.2373583 </td><td> 0.21116673</td><td>-0.01415616</td><td>-0.6950788 </td><td>-0.4493635 </td></tr>\n",
       "</tbody>\n",
       "</table>\n"
      ],
      "text/latex": [
       "\\begin{tabular}{r|lllllll}\n",
       "  & HIV.AIDS & Income.composition.of.resources & Adult.Mortality & Total.expenditure & Alcohol & thinness.5.9.years & under.five.deaths\\\\\n",
       "\\hline\n",
       "\t2 & -0.3909853  & -0.7382381  &  0.9159883  &  1.00415167 & -1.18607717 &  3.0361354  &  0.8454349 \\\\\n",
       "\t6 & -0.3909853  & -0.8750053  &  0.9838103  &  1.45350980 & -1.18607717 &  3.2145640  &  1.0891616 \\\\\n",
       "\t15 & -0.3909853  & -1.4025358  &  1.2974868  &  0.83674374 & -1.18607717 & -0.5754886  &  1.3938200 \\\\\n",
       "\t22 & -0.3909853  &  0.4780128  & -0.6100053  & -0.24700235 &  0.17728347 & -0.7907509  & -0.4493635 \\\\\n",
       "\t25 & -0.3909853  &  0.3705529  & -1.3051802  &  0.08781351 &  0.25489413 & -0.7429149  & -0.4493635 \\\\\n",
       "\t28 & -0.3909853  &  0.2630930  & -1.2373583  &  0.21116673 & -0.01415616 & -0.6950788  & -0.4493635 \\\\\n",
       "\\end{tabular}\n"
      ],
      "text/markdown": [
       "\n",
       "| <!--/--> | HIV.AIDS | Income.composition.of.resources | Adult.Mortality | Total.expenditure | Alcohol | thinness.5.9.years | under.five.deaths |\n",
       "|---|---|---|---|---|---|---|---|\n",
       "| 2 | -0.3909853  | -0.7382381  |  0.9159883  |  1.00415167 | -1.18607717 |  3.0361354  |  0.8454349  |\n",
       "| 6 | -0.3909853  | -0.8750053  |  0.9838103  |  1.45350980 | -1.18607717 |  3.2145640  |  1.0891616  |\n",
       "| 15 | -0.3909853  | -1.4025358  |  1.2974868  |  0.83674374 | -1.18607717 | -0.5754886  |  1.3938200  |\n",
       "| 22 | -0.3909853  |  0.4780128  | -0.6100053  | -0.24700235 |  0.17728347 | -0.7907509  | -0.4493635  |\n",
       "| 25 | -0.3909853  |  0.3705529  | -1.3051802  |  0.08781351 |  0.25489413 | -0.7429149  | -0.4493635  |\n",
       "| 28 | -0.3909853  |  0.2630930  | -1.2373583  |  0.21116673 | -0.01415616 | -0.6950788  | -0.4493635  |\n",
       "\n"
      ],
      "text/plain": [
       "   HIV.AIDS   Income.composition.of.resources Adult.Mortality Total.expenditure\n",
       "2  -0.3909853 -0.7382381                       0.9159883       1.00415167      \n",
       "6  -0.3909853 -0.8750053                       0.9838103       1.45350980      \n",
       "15 -0.3909853 -1.4025358                       1.2974868       0.83674374      \n",
       "22 -0.3909853  0.4780128                      -0.6100053      -0.24700235      \n",
       "25 -0.3909853  0.3705529                      -1.3051802       0.08781351      \n",
       "28 -0.3909853  0.2630930                      -1.2373583       0.21116673      \n",
       "   Alcohol     thinness.5.9.years under.five.deaths\n",
       "2  -1.18607717  3.0361354          0.8454349       \n",
       "6  -1.18607717  3.2145640          1.0891616       \n",
       "15 -1.18607717 -0.5754886          1.3938200       \n",
       "22  0.17728347 -0.7907509         -0.4493635       \n",
       "25  0.25489413 -0.7429149         -0.4493635       \n",
       "28 -0.01415616 -0.6950788         -0.4493635       "
      ]
     },
     "metadata": {},
     "output_type": "display_data"
    },
    {
     "name": "stdout",
     "output_type": "stream",
     "text": [
      "[1] 59.9 58.8 55.3 76.2 75.9 73.0\n"
     ]
    }
   ],
   "source": [
    "# Test Data\n",
    "X_test = test[,-1]\n",
    "y_test = test[,1]\n",
    "\n",
    "print(dim(X_test))\n",
    "head(X_test)\n",
    "print(head(y_test))"
   ]
  },
  {
   "cell_type": "markdown",
   "metadata": {},
   "source": [
    "### 9.2. Model Creation - Training and Testing"
   ]
  },
  {
   "cell_type": "markdown",
   "metadata": {},
   "source": [
    "#### 9.2.1. Multiple linear regression"
   ]
  },
  {
   "cell_type": "markdown",
   "metadata": {},
   "source": [
    "##### Training"
   ]
  },
  {
   "cell_type": "markdown",
   "metadata": {},
   "source": [
    "Using train function in Caret:\n",
    "\n",
    "Syntax: train(formula, data = , method = , trControl = , tuneGrid = )\n",
    "\n",
    "Where:\n",
    "\n",
    "1. y is the independent variable and \n",
    "2. x are the dependent variables\n",
    "3. method = Type of the model to be built (\"lm\" for Linear regression)"
   ]
  },
  {
   "cell_type": "code",
   "execution_count": 50,
   "metadata": {},
   "outputs": [
    {
     "data": {
      "text/plain": [
       "Linear Regression \n",
       "\n",
       "2051 samples\n",
       "   7 predictor\n",
       "\n",
       "No pre-processing\n",
       "Resampling: Bootstrapped (25 reps) \n",
       "Summary of sample sizes: 2051, 2051, 2051, 2051, 2051, 2051, ... \n",
       "Resampling results:\n",
       "\n",
       "  RMSE     Rsquared   MAE     \n",
       "  4.38615  0.7759866  3.236878\n",
       "\n",
       "Tuning parameter 'intercept' was held constant at a value of TRUE"
      ]
     },
     "metadata": {},
     "output_type": "display_data"
    }
   ],
   "source": [
    "\n",
    "set.seed(10)\n",
    "model_lm = train(x = X_train, \n",
    "                 y= y_train, \n",
    "                 method = \"lm\")\n",
    "\n",
    "\n",
    "#getModelInfo(\"lm\", regex = TRUE)[[1]]$param\n",
    "model_lm"
   ]
  },
  {
   "cell_type": "code",
   "execution_count": 51,
   "metadata": {},
   "outputs": [
    {
     "data": {
      "text/html": [
       "<table>\n",
       "<thead><tr><th scope=col>RMSE</th><th scope=col>Rsquared</th></tr></thead>\n",
       "<tbody>\n",
       "\t<tr><td>4.38615  </td><td>0.7759866</td></tr>\n",
       "</tbody>\n",
       "</table>\n"
      ],
      "text/latex": [
       "\\begin{tabular}{r|ll}\n",
       " RMSE & Rsquared\\\\\n",
       "\\hline\n",
       "\t 4.38615   & 0.7759866\\\\\n",
       "\\end{tabular}\n"
      ],
      "text/markdown": [
       "\n",
       "| RMSE | Rsquared |\n",
       "|---|---|\n",
       "| 4.38615   | 0.7759866 |\n",
       "\n"
      ],
      "text/plain": [
       "  RMSE    Rsquared \n",
       "1 4.38615 0.7759866"
      ]
     },
     "metadata": {},
     "output_type": "display_data"
    }
   ],
   "source": [
    "# train results\n",
    "train_results_lm = model_lm$results[c(2,3)]\n",
    "train_results_lm"
   ]
  },
  {
   "cell_type": "markdown",
   "metadata": {},
   "source": [
    "##### Testing"
   ]
  },
  {
   "cell_type": "code",
   "execution_count": 52,
   "metadata": {
    "scrolled": true
   },
   "outputs": [],
   "source": [
    "#Using predict function to predict the dependent variable using X_test\n",
    "y_pred_lm = predict(model_lm, X_test)"
   ]
  },
  {
   "cell_type": "code",
   "execution_count": 53,
   "metadata": {
    "scrolled": false
   },
   "outputs": [
    {
     "data": {
      "text/html": [
       "<table>\n",
       "<thead><tr><th scope=col>Model</th><th scope=col>RMSE</th><th scope=col>Rsquared</th><th scope=col>test_RMSE</th><th scope=col>test_Rsquared</th></tr></thead>\n",
       "<tbody>\n",
       "\t<tr><td>Linear Regression</td><td>4.38615          </td><td>0.7759866        </td><td>4.081337         </td><td>0.8033405        </td></tr>\n",
       "</tbody>\n",
       "</table>\n"
      ],
      "text/latex": [
       "\\begin{tabular}{r|lllll}\n",
       " Model & RMSE & Rsquared & test\\_RMSE & test\\_Rsquared\\\\\n",
       "\\hline\n",
       "\t Linear Regression & 4.38615           & 0.7759866         & 4.081337          & 0.8033405        \\\\\n",
       "\\end{tabular}\n"
      ],
      "text/markdown": [
       "\n",
       "| Model | RMSE | Rsquared | test_RMSE | test_Rsquared |\n",
       "|---|---|---|---|---|\n",
       "| Linear Regression | 4.38615           | 0.7759866         | 4.081337          | 0.8033405         |\n",
       "\n"
      ],
      "text/plain": [
       "  Model             RMSE    Rsquared  test_RMSE test_Rsquared\n",
       "1 Linear Regression 4.38615 0.7759866 4.081337  0.8033405    "
      ]
     },
     "metadata": {},
     "output_type": "display_data"
    }
   ],
   "source": [
    "# RMSE\n",
    "test_RMSE = rmse(y_test,y_pred_lm)\n",
    "\n",
    "# R2\n",
    "RSQUARE = function(y_actual,y_predict){\n",
    "  cor(y_actual,y_predict)^2\n",
    "}\n",
    "\n",
    "r2_test_lm =  RSQUARE(y_test,y_pred_lm)\n",
    "\n",
    "test_results_lm = data.frame(\"test_RMSE\" = test_RMSE,\n",
    "                               \"test_Rsquared\" = r2_test_lm)\n",
    "summary_lm = cbind((data.frame(\"Model\" = \"Linear Regression\")), \n",
    "                   train_results_lm, test_results_lm)\n",
    "summary_lm"
   ]
  },
  {
   "cell_type": "markdown",
   "metadata": {},
   "source": [
    "#### 9.2.2. Optimised Regression Tree (CART)"
   ]
  },
  {
   "cell_type": "markdown",
   "metadata": {},
   "source": [
    "Decision Tree is a supervised machine learning algorithm which can be used to perform both classification and regression on complex datasets. They are also known as Classification and Regression Trees (CART). Hence, it works for both continuous and categorical variables.\n",
    "\n",
    "Important basic tree Terminology is as follows:\n",
    "\n",
    "Root node: represents an entire popuplation or dataset which gets divided into two or more pure sets (also known as homogeneuos steps). It always contains a single input variable (x).\n",
    "Leaf or terminal node: These nodes do not split further and contains the output variable"
   ]
  },
  {
   "cell_type": "markdown",
   "metadata": {},
   "source": [
    "##### Training"
   ]
  },
  {
   "cell_type": "markdown",
   "metadata": {},
   "source": [
    "We will use caret package to perform Cross Validation and Hyperparameter tuning (max_depth) using grid search technique. First, we will use the trainControl() function to define the method of cross validation to be carried out and search type i.e. \"grid\". Then train the model using train() function.\n",
    "\n",
    "Syntax: train(formula, data = , method = , trControl = , tuneGrid = )\n",
    "\n",
    "Where:\n",
    "\n",
    "1. y is the independent variable and \n",
    "2. x are the dependent variables\n",
    "3. method = Type of the model to be built (\"rpart2\" for CART)\n",
    "4. trControl = Takes the control parameters. We will use trainControl function out here where we will specify the Cross validation technique and the search technique for hyperparater tuning.\n",
    "5. tuneGrid = takes the tuning parameters and applies grid search CV on them"
   ]
  },
  {
   "cell_type": "code",
   "execution_count": 54,
   "metadata": {},
   "outputs": [
    {
     "data": {
      "text/plain": [
       "CART \n",
       "\n",
       "2051 samples\n",
       "   7 predictor\n",
       "\n",
       "No pre-processing\n",
       "Resampling: Cross-Validated (5 fold) \n",
       "Summary of sample sizes: 1642, 1640, 1641, 1641, 1640 \n",
       "Resampling results across tuning parameters:\n",
       "\n",
       "  maxdepth  RMSE      Rsquared   MAE     \n",
       "  1         6.011746  0.5891819  4.676836\n",
       "  3         4.669063  0.7515647  3.413410\n",
       "  5         4.150874  0.8032454  3.040356\n",
       "  7         3.853521  0.8301712  2.890316\n",
       "\n",
       "RMSE was used to select the optimal model using the smallest value.\n",
       "The final value used for the model was maxdepth = 7."
      ]
     },
     "metadata": {},
     "output_type": "display_data"
    }
   ],
   "source": [
    "# specifying the CV technique which will be passed into the train() function later \n",
    "# and number parameter is the \"k\" in K-fold cross validation\n",
    "train_control = trainControl(method = \"cv\", number = 5, search = \"grid\")\n",
    "\n",
    "## Customsing the tuning grid (ridge regression has alpha = 0)\n",
    "Regress_Tree_Grid =  expand.grid(maxdepth = c(1,3,5,7))\n",
    "\n",
    "set.seed(10)\n",
    "\n",
    "# training a Regression model while tuning parameters (Method = \"rpart2\")\n",
    "model_regress = train(x = X_train, y = y_train, method = \"rpart2\", \n",
    "                      trControl = train_control, tuneGrid = Regress_Tree_Grid)\n",
    "\n",
    "# summarising the results\n",
    "model_regress"
   ]
  },
  {
   "cell_type": "markdown",
   "metadata": {},
   "source": [
    "The best model chosen was with max_depth of 7 and the results are shown below."
   ]
  },
  {
   "cell_type": "code",
   "execution_count": 55,
   "metadata": {},
   "outputs": [
    {
     "data": {
      "text/html": [
       "<table>\n",
       "<thead><tr><th></th><th scope=col>RMSE</th><th scope=col>Rsquared</th></tr></thead>\n",
       "<tbody>\n",
       "\t<tr><th scope=row>4</th><td>3.853521 </td><td>0.8301712</td></tr>\n",
       "</tbody>\n",
       "</table>\n"
      ],
      "text/latex": [
       "\\begin{tabular}{r|ll}\n",
       "  & RMSE & Rsquared\\\\\n",
       "\\hline\n",
       "\t4 & 3.853521  & 0.8301712\\\\\n",
       "\\end{tabular}\n"
      ],
      "text/markdown": [
       "\n",
       "| <!--/--> | RMSE | Rsquared |\n",
       "|---|---|---|\n",
       "| 4 | 3.853521  | 0.8301712 |\n",
       "\n"
      ],
      "text/plain": [
       "  RMSE     Rsquared \n",
       "4 3.853521 0.8301712"
      ]
     },
     "metadata": {},
     "output_type": "display_data"
    }
   ],
   "source": [
    "# train results\n",
    "train_results_regress = model_regress$results[4,c(2,3)]\n",
    "train_results_regress"
   ]
  },
  {
   "cell_type": "markdown",
   "metadata": {},
   "source": [
    "##### Testing"
   ]
  },
  {
   "cell_type": "code",
   "execution_count": 56,
   "metadata": {},
   "outputs": [],
   "source": [
    "#Using predict function to predict the dependent variable using X_test\n",
    "y_pred_regress = predict(model_regress, X_test)"
   ]
  },
  {
   "cell_type": "code",
   "execution_count": 57,
   "metadata": {},
   "outputs": [
    {
     "data": {
      "text/html": [
       "<table>\n",
       "<thead><tr><th></th><th scope=col>Model</th><th scope=col>RMSE</th><th scope=col>Rsquared</th><th scope=col>test_RMSE</th><th scope=col>test_Rsquared</th></tr></thead>\n",
       "<tbody>\n",
       "\t<tr><th scope=row>4</th><td>Optimised Regression Tree (max_depth = 7)</td><td>3.853521                                 </td><td>0.8301712                                </td><td>3.658193                                 </td><td>0.8425765                                </td></tr>\n",
       "</tbody>\n",
       "</table>\n"
      ],
      "text/latex": [
       "\\begin{tabular}{r|lllll}\n",
       "  & Model & RMSE & Rsquared & test\\_RMSE & test\\_Rsquared\\\\\n",
       "\\hline\n",
       "\t4 & Optimised Regression Tree (max\\_depth = 7) & 3.853521                                    & 0.8301712                                   & 3.658193                                    & 0.8425765                                  \\\\\n",
       "\\end{tabular}\n"
      ],
      "text/markdown": [
       "\n",
       "| <!--/--> | Model | RMSE | Rsquared | test_RMSE | test_Rsquared |\n",
       "|---|---|---|---|---|---|\n",
       "| 4 | Optimised Regression Tree (max_depth = 7) | 3.853521                                  | 0.8301712                                 | 3.658193                                  | 0.8425765                                 |\n",
       "\n"
      ],
      "text/plain": [
       "  Model                                     RMSE     Rsquared  test_RMSE\n",
       "4 Optimised Regression Tree (max_depth = 7) 3.853521 0.8301712 3.658193 \n",
       "  test_Rsquared\n",
       "4 0.8425765    "
      ]
     },
     "metadata": {},
     "output_type": "display_data"
    }
   ],
   "source": [
    "# RMSE\n",
    "test_RMSE_regress = rmse(y_test,y_pred_regress)\n",
    "\n",
    "# R2\n",
    "RSQUARE = function(y_actual,y_predict){\n",
    "  cor(y_actual,y_predict)^2\n",
    "}\n",
    "\n",
    "r2_test_regress =  RSQUARE(y_test,y_pred_regress)\n",
    "\n",
    "test_results_regress = data.frame(\"test_RMSE\" = test_RMSE_regress,\n",
    "                               \"test_Rsquared\" = r2_test_regress)\n",
    "summary_regress = cbind(\n",
    "    (data.frame(\"Model\" = \"Optimised Regression Tree (max_depth = 7)\")),\n",
    "                        train_results_regress, test_results_regress)\n",
    "summary_regress"
   ]
  },
  {
   "cell_type": "markdown",
   "metadata": {},
   "source": [
    "#### 9.2.3. Extreme Gradient Boosting"
   ]
  },
  {
   "cell_type": "markdown",
   "metadata": {},
   "source": [
    "XGBoost uses ensemble model which is based on Decision tree. A simple decision tree is considered to be a weak learner. The algorithm build sequential decision trees were each tree corrects the error occuring in the previous one until a condition is met.\n",
    "\n",
    "Recently, researchers and enthusiasts have started using ensemble techniques like XGBoost to win data science competitions and hackathons. It outperforms algorithms such as Random Forest and Gadient Boosting in terms of speed as well as accuracy when performed on structured data."
   ]
  },
  {
   "cell_type": "markdown",
   "metadata": {},
   "source": [
    "##### Training"
   ]
  },
  {
   "cell_type": "markdown",
   "metadata": {},
   "source": [
    "We will use caret package to perform Cross Validation and Hyperparameter tuning (nround- Number of trees and max_depth) using grid search technique. First, we will use the trainControl() function to define the method of cross validation to be carried out and search type i.e. \"grid\" or \"random\". Then train the model using train() function with tuneGrid as one of the arguements.\n",
    "\n",
    "Syntax: train(formula, data = , method = , trControl = , tuneGrid = )\n",
    "\n",
    "Where:\n",
    "\n",
    "1. y is the independent variable and \n",
    "2. x are the dependent variables\n",
    "3. method = Type of the model to be built (\"xgbTree\"- for gradient boosting)\n",
    "4. trControl = Takes the control parameters. We will use trainControl function out here where we will specify the Cross validation technique.\n",
    "5. tuneGrid = takes the tuning parameters and applies grid search CV on them"
   ]
  },
  {
   "cell_type": "code",
   "execution_count": 58,
   "metadata": {},
   "outputs": [
    {
     "name": "stdout",
     "output_type": "stream",
     "text": [
      "[19:02:21] WARNING: amalgamation/../src/objective/regression_obj.cu:170: reg:linear is now deprecated in favor of reg:squarederror.\n",
      "[19:02:22] WARNING: amalgamation/../src/objective/regression_obj.cu:170: reg:linear is now deprecated in favor of reg:squarederror.\n",
      "[19:02:24] WARNING: amalgamation/../src/objective/regression_obj.cu:170: reg:linear is now deprecated in favor of reg:squarederror.\n",
      "[19:02:25] WARNING: amalgamation/../src/objective/regression_obj.cu:170: reg:linear is now deprecated in favor of reg:squarederror.\n",
      "[19:02:26] WARNING: amalgamation/../src/objective/regression_obj.cu:170: reg:linear is now deprecated in favor of reg:squarederror.\n",
      "[19:02:27] WARNING: amalgamation/../src/objective/regression_obj.cu:170: reg:linear is now deprecated in favor of reg:squarederror.\n",
      "[19:02:29] WARNING: amalgamation/../src/objective/regression_obj.cu:170: reg:linear is now deprecated in favor of reg:squarederror.\n",
      "[19:02:30] WARNING: amalgamation/../src/objective/regression_obj.cu:170: reg:linear is now deprecated in favor of reg:squarederror.\n",
      "[19:02:31] WARNING: amalgamation/../src/objective/regression_obj.cu:170: reg:linear is now deprecated in favor of reg:squarederror.\n",
      "[19:02:33] WARNING: amalgamation/../src/objective/regression_obj.cu:170: reg:linear is now deprecated in favor of reg:squarederror.\n",
      "[19:02:33] WARNING: amalgamation/../src/objective/regression_obj.cu:170: reg:linear is now deprecated in favor of reg:squarederror.\n",
      "[19:02:35] WARNING: amalgamation/../src/objective/regression_obj.cu:170: reg:linear is now deprecated in favor of reg:squarederror.\n",
      "[19:02:36] WARNING: amalgamation/../src/objective/regression_obj.cu:170: reg:linear is now deprecated in favor of reg:squarederror.\n",
      "[19:02:37] WARNING: amalgamation/../src/objective/regression_obj.cu:170: reg:linear is now deprecated in favor of reg:squarederror.\n",
      "[19:02:39] WARNING: amalgamation/../src/objective/regression_obj.cu:170: reg:linear is now deprecated in favor of reg:squarederror.\n",
      "[19:02:40] WARNING: amalgamation/../src/objective/regression_obj.cu:170: reg:linear is now deprecated in favor of reg:squarederror.\n"
     ]
    },
    {
     "data": {
      "text/plain": [
       "eXtreme Gradient Boosting \n",
       "\n",
       "2051 samples\n",
       "   7 predictor\n",
       "\n",
       "No pre-processing\n",
       "Resampling: Cross-Validated (5 fold) \n",
       "Summary of sample sizes: 1641, 1641, 1641, 1640, 1641 \n",
       "Resampling results across tuning parameters:\n",
       "\n",
       "  max_depth  nrounds  RMSE      Rsquared   MAE     \n",
       "  3          250      1.991735  0.9548413  1.368531\n",
       "  3          300      1.977955  0.9554620  1.356074\n",
       "  3          350      1.970812  0.9557750  1.348425\n",
       "  3          400      1.967698  0.9559214  1.346158\n",
       "  3          450      1.962451  0.9561535  1.342683\n",
       "  3          500      1.964937  0.9560344  1.341683\n",
       "  5          250      1.815232  0.9624208  1.235457\n",
       "  5          300      1.814645  0.9624456  1.234861\n",
       "  5          350      1.813466  0.9624956  1.233527\n",
       "  5          400      1.812695  0.9625309  1.232901\n",
       "  5          450      1.812859  0.9625252  1.232949\n",
       "  5          500      1.813245  0.9625102  1.233251\n",
       "  7          250      1.859893  0.9605017  1.260735\n",
       "  7          300      1.859772  0.9605067  1.260321\n",
       "  7          350      1.859715  0.9605094  1.260284\n",
       "  7          400      1.859637  0.9605128  1.260206\n",
       "  7          450      1.859639  0.9605127  1.260212\n",
       "  7          500      1.859639  0.9605127  1.260212\n",
       "\n",
       "Tuning parameter 'eta' was held constant at a value of 0.3\n",
       "Tuning\n",
       "\n",
       "Tuning parameter 'min_child_weight' was held constant at a value of 1\n",
       "\n",
       "Tuning parameter 'subsample' was held constant at a value of 1\n",
       "RMSE was used to select the optimal model using the smallest value.\n",
       "The final values used for the model were nrounds = 400, max_depth = 5, eta\n",
       " = 0.3, gamma = 0, colsample_bytree = 0.6, min_child_weight = 1 and subsample\n",
       " = 1."
      ]
     },
     "metadata": {},
     "output_type": "display_data"
    }
   ],
   "source": [
    "# specifying the CV technique which will be passed into the train() function later \n",
    "#and number parameter is the \"k\" in K-fold cross validation\n",
    "train_control = trainControl(method = \"cv\", number = 5, search = \"grid\")\n",
    "\n",
    "options(warn=-1)\n",
    "set.seed(50)\n",
    "# Customsing the tuning grid\n",
    "gbmGrid <-  expand.grid(max_depth = c(3, 5, 7), \n",
    "                        nrounds = (5:10)*50,    # number of trees\n",
    "                        # default values below\n",
    "                        eta = 0.3,\n",
    "                        gamma = 0,\n",
    "                        subsample = 1,\n",
    "                        min_child_weight = 1,\n",
    "                        colsample_bytree = 0.6)\n",
    "\n",
    "# training a XGboost Regression tree model while tuning parameters\n",
    "model_xgb = train(x = X_train, y = y_train, method = \"xgbTree\", \n",
    "                  trControl = train_control, tuneGrid = gbmGrid)\n",
    "\n",
    "# summarising the results\n",
    "model_xgb"
   ]
  },
  {
   "cell_type": "markdown",
   "metadata": {},
   "source": [
    "The best model chosen has max_depth of 4 and nrounds of 400. The results are shown below."
   ]
  },
  {
   "cell_type": "code",
   "execution_count": 59,
   "metadata": {},
   "outputs": [
    {
     "data": {
      "text/html": [
       "<table>\n",
       "<thead><tr><th></th><th scope=col>RMSE</th><th scope=col>Rsquared</th></tr></thead>\n",
       "<tbody>\n",
       "\t<tr><th scope=row>4</th><td>1.967698 </td><td>0.9559214</td></tr>\n",
       "</tbody>\n",
       "</table>\n"
      ],
      "text/latex": [
       "\\begin{tabular}{r|ll}\n",
       "  & RMSE & Rsquared\\\\\n",
       "\\hline\n",
       "\t4 & 1.967698  & 0.9559214\\\\\n",
       "\\end{tabular}\n"
      ],
      "text/markdown": [
       "\n",
       "| <!--/--> | RMSE | Rsquared |\n",
       "|---|---|---|\n",
       "| 4 | 1.967698  | 0.9559214 |\n",
       "\n"
      ],
      "text/plain": [
       "  RMSE     Rsquared \n",
       "4 1.967698 0.9559214"
      ]
     },
     "metadata": {},
     "output_type": "display_data"
    }
   ],
   "source": [
    "# train results\n",
    "train_results_xgb = model_xgb$results[10,c(8,9)]\n",
    "train_results_xgb"
   ]
  },
  {
   "cell_type": "markdown",
   "metadata": {},
   "source": [
    "##### Testing"
   ]
  },
  {
   "cell_type": "code",
   "execution_count": 61,
   "metadata": {},
   "outputs": [
    {
     "data": {
      "text/html": [
       "<table>\n",
       "<thead><tr><th></th><th scope=col>Model</th><th scope=col>RMSE</th><th scope=col>Rsquared</th><th scope=col>test_RMSE</th><th scope=col>test_Rsquared</th></tr></thead>\n",
       "<tbody>\n",
       "\t<tr><th scope=row>4</th><td>Extreme Gradient Boosting(max_depth = 5,nrounds = 400)</td><td>1.967698                                              </td><td>0.9559214                                             </td><td>1.808698                                              </td><td>0.9614178                                             </td></tr>\n",
       "</tbody>\n",
       "</table>\n"
      ],
      "text/latex": [
       "\\begin{tabular}{r|lllll}\n",
       "  & Model & RMSE & Rsquared & test\\_RMSE & test\\_Rsquared\\\\\n",
       "\\hline\n",
       "\t4 & Extreme Gradient Boosting(max\\_depth = 5,nrounds = 400) & 1.967698                                                 & 0.9559214                                                & 1.808698                                                 & 0.9614178                                               \\\\\n",
       "\\end{tabular}\n"
      ],
      "text/markdown": [
       "\n",
       "| <!--/--> | Model | RMSE | Rsquared | test_RMSE | test_Rsquared |\n",
       "|---|---|---|---|---|---|\n",
       "| 4 | Extreme Gradient Boosting(max_depth = 5,nrounds = 400) | 1.967698                                               | 0.9559214                                              | 1.808698                                               | 0.9614178                                              |\n",
       "\n"
      ],
      "text/plain": [
       "  Model                                                  RMSE     Rsquared \n",
       "4 Extreme Gradient Boosting(max_depth = 5,nrounds = 400) 1.967698 0.9559214\n",
       "  test_RMSE test_Rsquared\n",
       "4 1.808698  0.9614178    "
      ]
     },
     "metadata": {},
     "output_type": "display_data"
    }
   ],
   "source": [
    "#Using predict function to predict the dependent variable using X_test\n",
    "y_pred_xgb = predict(model_xgb, X_test)\n",
    "# RMSE\n",
    "test_RMSE_xgb = rmse(y_test,y_pred_xgb)\n",
    "# R2\n",
    "RSQUARE = function(y_actual,y_predict){\n",
    "  cor(y_actual,y_predict)^2\n",
    "}\n",
    "\n",
    "r2_test_xgb =  RSQUARE(y_test,y_pred_xgb)\n",
    "\n",
    "test_results_xgb = data.frame(\"test_RMSE\" = test_RMSE_xgb,\n",
    "                               \"test_Rsquared\" = r2_test_xgb)\n",
    "summary_xgb = cbind((\n",
    "    data.frame(\"Model\" = \"Extreme Gradient Boosting(max_depth = 5,nrounds = 400)\")),\n",
    "                    train_results_xgb, test_results_xgb)\n",
    "summary_xgb"
   ]
  },
  {
   "cell_type": "markdown",
   "metadata": {},
   "source": [
    "## 10. Results and Model Selection"
   ]
  },
  {
   "cell_type": "markdown",
   "metadata": {},
   "source": [
    "The summary of all the performance metrics claculated after training and testing with three different model is mentioned below. They were created using with the following features:\n",
    "\n",
    "1. HIV.AIDS\n",
    "2. Income.composition.of.resources\n",
    "3. Adult.Mortality\n",
    "4. Total.expenditure\n",
    "5. Alcohol\n",
    "6. thinness.5.9.years\n",
    "7. under.five.deaths"
   ]
  },
  {
   "cell_type": "code",
   "execution_count": 62,
   "metadata": {},
   "outputs": [
    {
     "data": {
      "text/html": [
       "<table>\n",
       "<thead><tr><th></th><th scope=col>Model</th><th scope=col>RMSE</th><th scope=col>Rsquared</th><th scope=col>test_RMSE</th><th scope=col>test_Rsquared</th></tr></thead>\n",
       "<tbody>\n",
       "\t<tr><th scope=row>1</th><td>Linear Regression                                     </td><td>4.386150                                              </td><td>0.7759866                                             </td><td>4.081337                                              </td><td>0.8033405                                             </td></tr>\n",
       "\t<tr><th scope=row>4</th><td>Optimised Regression Tree (max_depth = 7)             </td><td>3.853521                                              </td><td>0.8301712                                             </td><td>3.658193                                              </td><td>0.8425765                                             </td></tr>\n",
       "\t<tr><th scope=row>41</th><td>Extreme Gradient Boosting(max_depth = 5,nrounds = 400)</td><td>1.967698                                              </td><td>0.9559214                                             </td><td>1.808698                                              </td><td>0.9614178                                             </td></tr>\n",
       "</tbody>\n",
       "</table>\n"
      ],
      "text/latex": [
       "\\begin{tabular}{r|lllll}\n",
       "  & Model & RMSE & Rsquared & test\\_RMSE & test\\_Rsquared\\\\\n",
       "\\hline\n",
       "\t1 & Linear Regression                                      & 4.386150                                               & 0.7759866                                              & 4.081337                                               & 0.8033405                                             \\\\\n",
       "\t4 & Optimised Regression Tree (max\\_depth = 7)              & 3.853521                                                 & 0.8301712                                                & 3.658193                                                 & 0.8425765                                               \\\\\n",
       "\t41 & Extreme Gradient Boosting(max\\_depth = 5,nrounds = 400) & 1.967698                                                 & 0.9559214                                                & 1.808698                                                 & 0.9614178                                               \\\\\n",
       "\\end{tabular}\n"
      ],
      "text/markdown": [
       "\n",
       "| <!--/--> | Model | RMSE | Rsquared | test_RMSE | test_Rsquared |\n",
       "|---|---|---|---|---|---|\n",
       "| 1 | Linear Regression                                      | 4.386150                                               | 0.7759866                                              | 4.081337                                               | 0.8033405                                              |\n",
       "| 4 | Optimised Regression Tree (max_depth = 7)              | 3.853521                                               | 0.8301712                                              | 3.658193                                               | 0.8425765                                              |\n",
       "| 41 | Extreme Gradient Boosting(max_depth = 5,nrounds = 400) | 1.967698                                               | 0.9559214                                              | 1.808698                                               | 0.9614178                                              |\n",
       "\n"
      ],
      "text/plain": [
       "   Model                                                  RMSE     Rsquared \n",
       "1  Linear Regression                                      4.386150 0.7759866\n",
       "4  Optimised Regression Tree (max_depth = 7)              3.853521 0.8301712\n",
       "41 Extreme Gradient Boosting(max_depth = 5,nrounds = 400) 1.967698 0.9559214\n",
       "   test_RMSE test_Rsquared\n",
       "1  4.081337  0.8033405    \n",
       "4  3.658193  0.8425765    \n",
       "41 1.808698  0.9614178    "
      ]
     },
     "metadata": {},
     "output_type": "display_data"
    }
   ],
   "source": [
    "#combining the result of all the models\n",
    "summary_all = rbind(summary_lm, summary_regress, summary_xgb)\n",
    "summary_all"
   ]
  },
  {
   "cell_type": "markdown",
   "metadata": {},
   "source": [
    "From the above results, **Extreme Gradient Boosting model (max_depth = 5 and number of iterations = 400)** gives the best result of **RMSE = 1.80 and R Squared value = 0.961** in the testing phase. These values are quite low and it shows that the predictions made on unseen data will be accurate.\n",
    "\n",
    "Next we will save the model.\n",
    "\n",
    "There are two ways to save and load the model:\n",
    "\n",
    "1. using save(), load(): When we use save(), we will have to load it using the same name.\n",
    "2. using saveRDS(), loadRDS(): saveRDS() does not save the model name and we have the flexibilty to load the model in any other name. Bur saveRDS() can only save one object at a time as it is lower-level function. Most people prefer saveRDS() over save() as it serialises the object.\n",
    "\n",
    "Syntax: saveRDS(model, file =)\n",
    "\n",
    "where:\n",
    "1. model = model that you want to save\n",
    "2. file = path with the file extension .rda"
   ]
  },
  {
   "cell_type": "code",
   "execution_count": 66,
   "metadata": {
    "code_folding": []
   },
   "outputs": [],
   "source": [
    "# saving the model\n",
    "saveRDS(model_xgb, file = \"model_xgboost.rda\")"
   ]
  },
  {
   "cell_type": "markdown",
   "metadata": {},
   "source": [
    "## 11. Conclusion\n",
    "\n",
    "After carrying out Exploratory data analysis and feature engineering, the best features chosen for predictive modelling were 7 out of 22:'HIV.AIDS', 'Income.composition.of.resources', 'Adult.Mortality', 'Total.expenditure', 'Alcohol', 'thinness.5.9.years', 'under.five.deaths'. After modelling and comparing the three models by using performance metrics such as RMSE and R squared, we can conclude tha the best model was Extrme Gradient boosting model with depth of 5. It had testing RMSE to be 1.80 and testing R_squared to be 0.96 which is excellent."
   ]
  }
 ],
 "metadata": {
  "kernelspec": {
   "display_name": "R",
   "language": "R",
   "name": "ir"
  },
  "language_info": {
   "codemirror_mode": "r",
   "file_extension": ".r",
   "mimetype": "text/x-r-source",
   "name": "R",
   "pygments_lexer": "r",
   "version": "3.6.1"
  },
  "toc": {
   "base_numbering": 1,
   "nav_menu": {},
   "number_sections": false,
   "sideBar": true,
   "skip_h1_title": false,
   "title_cell": "Table of Contents",
   "title_sidebar": "Contents",
   "toc_cell": false,
   "toc_position": {
    "height": "700.909px",
    "left": "71px",
    "top": "91.2926px",
    "width": "212.088px"
   },
   "toc_section_display": true,
   "toc_window_display": false
  },
  "varInspector": {
   "cols": {
    "lenName": 16,
    "lenType": 16,
    "lenVar": 40
   },
   "kernels_config": {
    "python": {
     "delete_cmd_postfix": "",
     "delete_cmd_prefix": "del ",
     "library": "var_list.py",
     "varRefreshCmd": "print(var_dic_list())"
    },
    "r": {
     "delete_cmd_postfix": ") ",
     "delete_cmd_prefix": "rm(",
     "library": "var_list.r",
     "varRefreshCmd": "cat(var_dic_list()) "
    }
   },
   "oldHeight": 531.747364,
   "position": {
    "height": "40px",
    "left": "1268.45px",
    "right": "20px",
    "top": "115px",
    "width": "439.006px"
   },
   "types_to_exclude": [
    "module",
    "function",
    "builtin_function_or_method",
    "instance",
    "_Feature"
   ],
   "varInspector_section_display": "none",
   "window_display": false
  }
 },
 "nbformat": 4,
 "nbformat_minor": 4
}
