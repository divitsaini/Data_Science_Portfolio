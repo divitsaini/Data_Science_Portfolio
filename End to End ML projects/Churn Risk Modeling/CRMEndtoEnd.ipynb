{
 "cells": [
  {
   "cell_type": "markdown",
   "metadata": {
    "id": "tT01f0xj_mbY"
   },
   "source": [
    "# Credit Risk Modelling"
   ]
  },
  {
   "cell_type": "markdown",
   "metadata": {
    "id": "QgWX0n0d_mbl"
   },
   "source": [
    "**Description:**\n",
    "In this competition, you must explore and cleanse a dataset consisting of over 111,000 loan records to determine the best way to predict whether a loan applicant will fully repay or default on a loan. You must then build a machine learning model that returns the unique loan ID and a loan status label that indicates whether the loan will be fully paid or charged off."
   ]
  },
  {
   "cell_type": "markdown",
   "metadata": {
    "id": "NpwNguGK_mbm"
   },
   "source": [
    "### Getting all the Dependencies"
   ]
  },
  {
   "cell_type": "code",
   "execution_count": null,
   "metadata": {
    "id": "e7PqVx7C_mbm",
    "scrolled": true
   },
   "outputs": [],
   "source": [
    "# # Installing dependencies\n",
    "# !pip install --upgrade pip\n",
    "# !pip install numpy --upgrade --user\n",
    "# !pip install pandas --upgrade --user\n",
    "# !pip install scikit-learn --upgrade --user"
   ]
  },
  {
   "cell_type": "code",
   "execution_count": null,
   "metadata": {
    "id": "lpUNUu35_mbo"
   },
   "outputs": [],
   "source": [
    "# Avoiding Warnings\n",
    "import warnings\n",
    "warnings.simplefilter(action='ignore', category=UserWarning)\n",
    "warnings.simplefilter(action='ignore', category=FutureWarning)"
   ]
  },
  {
   "cell_type": "code",
   "execution_count": null,
   "metadata": {
    "colab": {
     "base_uri": "https://localhost:8080/"
    },
    "id": "k3jEWoQp_mbo",
    "outputId": "78e4c805-4543-4b55-bb94-acfba4c0521f"
   },
   "outputs": [
    {
     "name": "stdout",
     "output_type": "stream",
     "text": [
      "Collecting scikit-learn\n",
      "\u001b[?25l  Downloading https://files.pythonhosted.org/packages/f3/74/eb899f41d55f957e2591cde5528e75871f817d9fb46d4732423ecaca736d/scikit_learn-0.24.1-cp37-cp37m-manylinux2010_x86_64.whl (22.3MB)\n",
      "\u001b[K     |████████████████████████████████| 22.3MB 38.3MB/s \n",
      "\u001b[?25hRequirement already satisfied, skipping upgrade: numpy>=1.13.3 in /usr/local/lib/python3.7/dist-packages (from scikit-learn) (1.19.5)\n",
      "Requirement already satisfied, skipping upgrade: scipy>=0.19.1 in /usr/local/lib/python3.7/dist-packages (from scikit-learn) (1.4.1)\n",
      "Collecting threadpoolctl>=2.0.0\n",
      "  Downloading https://files.pythonhosted.org/packages/f7/12/ec3f2e203afa394a149911729357aa48affc59c20e2c1c8297a60f33f133/threadpoolctl-2.1.0-py3-none-any.whl\n",
      "Requirement already satisfied, skipping upgrade: joblib>=0.11 in /usr/local/lib/python3.7/dist-packages (from scikit-learn) (1.0.1)\n",
      "Installing collected packages: threadpoolctl, scikit-learn\n",
      "  Found existing installation: scikit-learn 0.22.2.post1\n",
      "    Uninstalling scikit-learn-0.22.2.post1:\n",
      "      Successfully uninstalled scikit-learn-0.22.2.post1\n",
      "Successfully installed scikit-learn-0.24.1 threadpoolctl-2.1.0\n"
     ]
    }
   ],
   "source": [
    "!pip install --upgrade scikit-learn"
   ]
  },
  {
   "cell_type": "code",
   "execution_count": null,
   "metadata": {
    "colab": {
     "base_uri": "https://localhost:8080/",
     "height": 35
    },
    "id": "IldLYyFw_mbo",
    "outputId": "31082238-f2af-49b2-d4a1-5b1cf998b2d7"
   },
   "outputs": [
    {
     "data": {
      "application/vnd.google.colaboratory.intrinsic+json": {
       "type": "string"
      },
      "text/plain": [
       "'0.24.1'"
      ]
     },
     "execution_count": 4,
     "metadata": {
      "tags": []
     },
     "output_type": "execute_result"
    }
   ],
   "source": [
    "import sklearn\n",
    "sklearn.__version__"
   ]
  },
  {
   "cell_type": "code",
   "execution_count": null,
   "metadata": {
    "id": "UpFOXyFr_mbp",
    "scrolled": true
   },
   "outputs": [],
   "source": [
    "# Importing Dependencies\n",
    "import math\n",
    "import numpy as np\n",
    "import pandas as pd\n",
    "import matplotlib.pyplot as plt\n",
    "import seaborn as sns\n",
    "import re\n",
    "from sklearn.experimental import enable_iterative_imputer\n",
    "from sklearn.impute import IterativeImputer\n",
    "%matplotlib inline\n",
    "pd.options.display.float_format = '{:.3f}'.format"
   ]
  },
  {
   "cell_type": "markdown",
   "metadata": {
    "id": "AO7AmXru_mbp"
   },
   "source": [
    "### Loading the Data"
   ]
  },
  {
   "cell_type": "code",
   "execution_count": null,
   "metadata": {
    "colab": {
     "base_uri": "https://localhost:8080/"
    },
    "id": "F_5SoYF1_mbp",
    "outputId": "7b351991-54bc-4231-bbfa-2ebce6ea4b45"
   },
   "outputs": [
    {
     "name": "stderr",
     "output_type": "stream",
     "text": [
      "/usr/local/lib/python3.7/dist-packages/IPython/core/interactiveshell.py:2718: DtypeWarning: Columns (10,16) have mixed types.Specify dtype option on import or set low_memory=False.\n",
      "  interactivity=interactivity, compiler=compiler, result=result)\n"
     ]
    }
   ],
   "source": [
    "# Importing Dataset\n",
    "data = pd.read_csv('LoansTrainingSet.csv')\n"
   ]
  },
  {
   "cell_type": "code",
   "execution_count": null,
   "metadata": {
    "colab": {
     "base_uri": "https://localhost:8080/",
     "height": 351
    },
    "id": "QVktG0t5EtcH",
    "outputId": "162644d4-f8aa-45dc-a6c0-18c025eebf55"
   },
   "outputs": [
    {
     "data": {
      "text/html": [
       "<div>\n",
       "<style scoped>\n",
       "    .dataframe tbody tr th:only-of-type {\n",
       "        vertical-align: middle;\n",
       "    }\n",
       "\n",
       "    .dataframe tbody tr th {\n",
       "        vertical-align: top;\n",
       "    }\n",
       "\n",
       "    .dataframe thead th {\n",
       "        text-align: right;\n",
       "    }\n",
       "</style>\n",
       "<table border=\"1\" class=\"dataframe\">\n",
       "  <thead>\n",
       "    <tr style=\"text-align: right;\">\n",
       "      <th></th>\n",
       "      <th>Current Loan Amount</th>\n",
       "      <th>Credit Score</th>\n",
       "      <th>Annual Income</th>\n",
       "      <th>Years of Credit History</th>\n",
       "      <th>Months since last delinquent</th>\n",
       "      <th>Number of Open Accounts</th>\n",
       "      <th>Number of Credit Problems</th>\n",
       "      <th>Current Credit Balance</th>\n",
       "      <th>Bankruptcies</th>\n",
       "      <th>Tax Liens</th>\n",
       "    </tr>\n",
       "  </thead>\n",
       "  <tbody>\n",
       "    <tr>\n",
       "      <th>count</th>\n",
       "      <td>111107.000</td>\n",
       "      <td>89769.000</td>\n",
       "      <td>89769.000</td>\n",
       "      <td>111107.000</td>\n",
       "      <td>52104.000</td>\n",
       "      <td>111107.000</td>\n",
       "      <td>111107.000</td>\n",
       "      <td>111107.000</td>\n",
       "      <td>110879.000</td>\n",
       "      <td>111096.000</td>\n",
       "    </tr>\n",
       "    <tr>\n",
       "      <th>mean</th>\n",
       "      <td>11477180.218</td>\n",
       "      <td>1075.795</td>\n",
       "      <td>72485.998</td>\n",
       "      <td>18.201</td>\n",
       "      <td>34.902</td>\n",
       "      <td>11.125</td>\n",
       "      <td>0.168</td>\n",
       "      <td>15483.141</td>\n",
       "      <td>0.118</td>\n",
       "      <td>0.029</td>\n",
       "    </tr>\n",
       "    <tr>\n",
       "      <th>std</th>\n",
       "      <td>31855079.735</td>\n",
       "      <td>1474.134</td>\n",
       "      <td>55930.943</td>\n",
       "      <td>7.014</td>\n",
       "      <td>21.971</td>\n",
       "      <td>5.010</td>\n",
       "      <td>0.484</td>\n",
       "      <td>19821.154</td>\n",
       "      <td>0.351</td>\n",
       "      <td>0.261</td>\n",
       "    </tr>\n",
       "    <tr>\n",
       "      <th>min</th>\n",
       "      <td>491.000</td>\n",
       "      <td>585.000</td>\n",
       "      <td>4033.000</td>\n",
       "      <td>3.600</td>\n",
       "      <td>0.000</td>\n",
       "      <td>0.000</td>\n",
       "      <td>0.000</td>\n",
       "      <td>0.000</td>\n",
       "      <td>0.000</td>\n",
       "      <td>0.000</td>\n",
       "    </tr>\n",
       "    <tr>\n",
       "      <th>25%</th>\n",
       "      <td>8162.000</td>\n",
       "      <td>705.000</td>\n",
       "      <td>44688.000</td>\n",
       "      <td>13.500</td>\n",
       "      <td>16.000</td>\n",
       "      <td>8.000</td>\n",
       "      <td>0.000</td>\n",
       "      <td>5905.000</td>\n",
       "      <td>0.000</td>\n",
       "      <td>0.000</td>\n",
       "    </tr>\n",
       "    <tr>\n",
       "      <th>50%</th>\n",
       "      <td>14183.000</td>\n",
       "      <td>724.000</td>\n",
       "      <td>61752.000</td>\n",
       "      <td>16.900</td>\n",
       "      <td>32.000</td>\n",
       "      <td>10.000</td>\n",
       "      <td>0.000</td>\n",
       "      <td>11027.000</td>\n",
       "      <td>0.000</td>\n",
       "      <td>0.000</td>\n",
       "    </tr>\n",
       "    <tr>\n",
       "      <th>75%</th>\n",
       "      <td>23822.000</td>\n",
       "      <td>741.000</td>\n",
       "      <td>86887.000</td>\n",
       "      <td>21.700</td>\n",
       "      <td>51.000</td>\n",
       "      <td>14.000</td>\n",
       "      <td>0.000</td>\n",
       "      <td>19338.000</td>\n",
       "      <td>0.000</td>\n",
       "      <td>0.000</td>\n",
       "    </tr>\n",
       "    <tr>\n",
       "      <th>max</th>\n",
       "      <td>99999999.000</td>\n",
       "      <td>7510.000</td>\n",
       "      <td>8713547.000</td>\n",
       "      <td>70.500</td>\n",
       "      <td>176.000</td>\n",
       "      <td>76.000</td>\n",
       "      <td>15.000</td>\n",
       "      <td>1730472.000</td>\n",
       "      <td>7.000</td>\n",
       "      <td>15.000</td>\n",
       "    </tr>\n",
       "  </tbody>\n",
       "</table>\n",
       "</div>"
      ],
      "text/plain": [
       "       Current Loan Amount  Credit Score  ...  Bankruptcies  Tax Liens\n",
       "count           111107.000     89769.000  ...    110879.000 111096.000\n",
       "mean          11477180.218      1075.795  ...         0.118      0.029\n",
       "std           31855079.735      1474.134  ...         0.351      0.261\n",
       "min                491.000       585.000  ...         0.000      0.000\n",
       "25%               8162.000       705.000  ...         0.000      0.000\n",
       "50%              14183.000       724.000  ...         0.000      0.000\n",
       "75%              23822.000       741.000  ...         0.000      0.000\n",
       "max           99999999.000      7510.000  ...         7.000     15.000\n",
       "\n",
       "[8 rows x 10 columns]"
      ]
     },
     "execution_count": 7,
     "metadata": {
      "tags": []
     },
     "output_type": "execute_result"
    }
   ],
   "source": [
    "data.describe()"
   ]
  },
  {
   "cell_type": "code",
   "execution_count": null,
   "metadata": {
    "colab": {
     "base_uri": "https://localhost:8080/"
    },
    "id": "Eu8CPPKzEw7t",
    "outputId": "c338f393-8b9a-4f5e-dbc6-248543445763"
   },
   "outputs": [
    {
     "name": "stdout",
     "output_type": "stream",
     "text": [
      "<class 'pandas.core.frame.DataFrame'>\n",
      "RangeIndex: 111107 entries, 0 to 111106\n",
      "Data columns (total 19 columns):\n",
      " #   Column                        Non-Null Count   Dtype  \n",
      "---  ------                        --------------   -----  \n",
      " 0   Loan ID                       111107 non-null  object \n",
      " 1   Customer ID                   111107 non-null  object \n",
      " 2   Loan Status                   111107 non-null  object \n",
      " 3   Current Loan Amount           111107 non-null  int64  \n",
      " 4   Term                          111107 non-null  object \n",
      " 5   Credit Score                  89769 non-null   float64\n",
      " 6   Years in current job          106414 non-null  object \n",
      " 7   Home Ownership                111107 non-null  object \n",
      " 8   Annual Income                 89769 non-null   float64\n",
      " 9   Purpose                       111107 non-null  object \n",
      " 10  Monthly Debt                  111107 non-null  object \n",
      " 11  Years of Credit History       111107 non-null  float64\n",
      " 12  Months since last delinquent  52104 non-null   float64\n",
      " 13  Number of Open Accounts       111107 non-null  int64  \n",
      " 14  Number of Credit Problems     111107 non-null  int64  \n",
      " 15  Current Credit Balance        111107 non-null  int64  \n",
      " 16  Maximum Open Credit           111107 non-null  object \n",
      " 17  Bankruptcies                  110879 non-null  float64\n",
      " 18  Tax Liens                     111096 non-null  float64\n",
      "dtypes: float64(6), int64(4), object(9)\n",
      "memory usage: 16.1+ MB\n"
     ]
    }
   ],
   "source": [
    "data.info()"
   ]
  },
  {
   "cell_type": "markdown",
   "metadata": {
    "id": "W7zTBr26_mbq"
   },
   "source": [
    "### Describing the data"
   ]
  },
  {
   "cell_type": "code",
   "execution_count": null,
   "metadata": {
    "id": "LA7UadPa_mbq"
   },
   "outputs": [],
   "source": [
    "# For each column heading we replace \" \" and convert the heading in lowercase \n",
    "cleancolumn = []\n",
    "for i in range(len(data.columns)):\n",
    "    cleancolumn.append(data.columns[i].replace(' ', '_').lower())\n",
    "data.columns = cleancolumn"
   ]
  },
  {
   "cell_type": "code",
   "execution_count": null,
   "metadata": {
    "colab": {
     "base_uri": "https://localhost:8080/",
     "height": 1000
    },
    "id": "0cupqYQS_mbq",
    "outputId": "cbc12da2-a55b-4540-a661-332a917e9cf1"
   },
   "outputs": [
    {
     "data": {
      "text/html": [
       "<div>\n",
       "<style scoped>\n",
       "    .dataframe tbody tr th:only-of-type {\n",
       "        vertical-align: middle;\n",
       "    }\n",
       "\n",
       "    .dataframe tbody tr th {\n",
       "        vertical-align: top;\n",
       "    }\n",
       "\n",
       "    .dataframe thead th {\n",
       "        text-align: right;\n",
       "    }\n",
       "</style>\n",
       "<table border=\"1\" class=\"dataframe\">\n",
       "  <thead>\n",
       "    <tr style=\"text-align: right;\">\n",
       "      <th></th>\n",
       "      <th>loan_id</th>\n",
       "      <th>customer_id</th>\n",
       "      <th>loan_status</th>\n",
       "      <th>current_loan_amount</th>\n",
       "      <th>term</th>\n",
       "      <th>credit_score</th>\n",
       "      <th>years_in_current_job</th>\n",
       "      <th>home_ownership</th>\n",
       "      <th>annual_income</th>\n",
       "      <th>purpose</th>\n",
       "      <th>monthly_debt</th>\n",
       "      <th>years_of_credit_history</th>\n",
       "      <th>months_since_last_delinquent</th>\n",
       "      <th>number_of_open_accounts</th>\n",
       "      <th>number_of_credit_problems</th>\n",
       "      <th>current_credit_balance</th>\n",
       "      <th>maximum_open_credit</th>\n",
       "      <th>bankruptcies</th>\n",
       "      <th>tax_liens</th>\n",
       "    </tr>\n",
       "  </thead>\n",
       "  <tbody>\n",
       "    <tr>\n",
       "      <th>0</th>\n",
       "      <td>6cf51492-02a2-423e-b93d-676f05b9ad53</td>\n",
       "      <td>7c202b37-2add-44e8-9aea-d5b119aea935</td>\n",
       "      <td>Charged Off</td>\n",
       "      <td>12232</td>\n",
       "      <td>Short Term</td>\n",
       "      <td>7280.000</td>\n",
       "      <td>&lt; 1 year</td>\n",
       "      <td>Rent</td>\n",
       "      <td>46643.000</td>\n",
       "      <td>Debt Consolidation</td>\n",
       "      <td>777.39</td>\n",
       "      <td>18.000</td>\n",
       "      <td>10.000</td>\n",
       "      <td>12</td>\n",
       "      <td>0</td>\n",
       "      <td>6762</td>\n",
       "      <td>7946</td>\n",
       "      <td>0.000</td>\n",
       "      <td>0.000</td>\n",
       "    </tr>\n",
       "    <tr>\n",
       "      <th>1</th>\n",
       "      <td>552e7ade-4292-4354-9ff9-c48031697d72</td>\n",
       "      <td>e7217b0a-07ac-47dd-b379-577b5a35b7c6</td>\n",
       "      <td>Charged Off</td>\n",
       "      <td>25014</td>\n",
       "      <td>Long Term</td>\n",
       "      <td>7330.000</td>\n",
       "      <td>10+ years</td>\n",
       "      <td>Home Mortgage</td>\n",
       "      <td>81099.000</td>\n",
       "      <td>Debt Consolidation</td>\n",
       "      <td>892.09</td>\n",
       "      <td>26.700</td>\n",
       "      <td>nan</td>\n",
       "      <td>14</td>\n",
       "      <td>0</td>\n",
       "      <td>35706</td>\n",
       "      <td>77961</td>\n",
       "      <td>0.000</td>\n",
       "      <td>0.000</td>\n",
       "    </tr>\n",
       "    <tr>\n",
       "      <th>2</th>\n",
       "      <td>9b5e32b3-8d76-4801-afc8-d729d5a2e6b9</td>\n",
       "      <td>0a62fc41-16c8-40b5-92ff-9e4b763ce714</td>\n",
       "      <td>Charged Off</td>\n",
       "      <td>16117</td>\n",
       "      <td>Short Term</td>\n",
       "      <td>7240.000</td>\n",
       "      <td>9 years</td>\n",
       "      <td>Home Mortgage</td>\n",
       "      <td>60438.000</td>\n",
       "      <td>Home Improvements</td>\n",
       "      <td>1244.02</td>\n",
       "      <td>16.700</td>\n",
       "      <td>32.000</td>\n",
       "      <td>11</td>\n",
       "      <td>1</td>\n",
       "      <td>11275</td>\n",
       "      <td>14815</td>\n",
       "      <td>1.000</td>\n",
       "      <td>0.000</td>\n",
       "    </tr>\n",
       "    <tr>\n",
       "      <th>3</th>\n",
       "      <td>5419b7c7-ac11-4be2-a8a7-b131fb6d6dbe</td>\n",
       "      <td>30f36c59-5182-4482-8bbb-5b736849ae43</td>\n",
       "      <td>Charged Off</td>\n",
       "      <td>11716</td>\n",
       "      <td>Short Term</td>\n",
       "      <td>7400.000</td>\n",
       "      <td>3 years</td>\n",
       "      <td>Rent</td>\n",
       "      <td>34171.000</td>\n",
       "      <td>Debt Consolidation</td>\n",
       "      <td>990.94</td>\n",
       "      <td>10.000</td>\n",
       "      <td>nan</td>\n",
       "      <td>21</td>\n",
       "      <td>0</td>\n",
       "      <td>7009</td>\n",
       "      <td>43533</td>\n",
       "      <td>0.000</td>\n",
       "      <td>0.000</td>\n",
       "    </tr>\n",
       "    <tr>\n",
       "      <th>4</th>\n",
       "      <td>1450910f-9495-4fc9-afaf-9bdf4b9821df</td>\n",
       "      <td>70c26012-bba5-42c0-8dcb-75295ada31bb</td>\n",
       "      <td>Charged Off</td>\n",
       "      <td>9789</td>\n",
       "      <td>Long Term</td>\n",
       "      <td>6860.000</td>\n",
       "      <td>10+ years</td>\n",
       "      <td>Home Mortgage</td>\n",
       "      <td>47003.000</td>\n",
       "      <td>Home Improvements</td>\n",
       "      <td>503.71</td>\n",
       "      <td>16.700</td>\n",
       "      <td>25.000</td>\n",
       "      <td>13</td>\n",
       "      <td>1</td>\n",
       "      <td>16913</td>\n",
       "      <td>19553</td>\n",
       "      <td>1.000</td>\n",
       "      <td>0.000</td>\n",
       "    </tr>\n",
       "    <tr>\n",
       "      <th>5</th>\n",
       "      <td>7e9f6759-6a13-48ef-adfa-ef9fbcfcfcc8</td>\n",
       "      <td>05301ee5-29ec-48b6-b3e5-0813ea25d684</td>\n",
       "      <td>Charged Off</td>\n",
       "      <td>11911</td>\n",
       "      <td>Short Term</td>\n",
       "      <td>7420.000</td>\n",
       "      <td>2 years</td>\n",
       "      <td>Home Mortgage</td>\n",
       "      <td>70475.000</td>\n",
       "      <td>other</td>\n",
       "      <td>886.81</td>\n",
       "      <td>17.700</td>\n",
       "      <td>nan</td>\n",
       "      <td>13</td>\n",
       "      <td>0</td>\n",
       "      <td>28212</td>\n",
       "      <td>59897</td>\n",
       "      <td>0.000</td>\n",
       "      <td>0.000</td>\n",
       "    </tr>\n",
       "    <tr>\n",
       "      <th>6</th>\n",
       "      <td>c2b0aa3e-555b-441b-a4aa-e0e4a52c87d3</td>\n",
       "      <td>db3e74ec-2123-4608-be8d-a93e98cabfcf</td>\n",
       "      <td>Charged Off</td>\n",
       "      <td>28988</td>\n",
       "      <td>Short Term</td>\n",
       "      <td>7420.000</td>\n",
       "      <td>3 years</td>\n",
       "      <td>Home Mortgage</td>\n",
       "      <td>58074.000</td>\n",
       "      <td>Debt Consolidation</td>\n",
       "      <td>871.11</td>\n",
       "      <td>22.800</td>\n",
       "      <td>nan</td>\n",
       "      <td>9</td>\n",
       "      <td>0</td>\n",
       "      <td>14423</td>\n",
       "      <td>54018</td>\n",
       "      <td>0.000</td>\n",
       "      <td>0.000</td>\n",
       "    </tr>\n",
       "    <tr>\n",
       "      <th>7</th>\n",
       "      <td>233e0119-6dfe-47c0-a212-b4cc00371c8d</td>\n",
       "      <td>def66e46-951e-4bff-bf96-87ae6e092e19</td>\n",
       "      <td>Charged Off</td>\n",
       "      <td>17705</td>\n",
       "      <td>Long Term</td>\n",
       "      <td>6630.000</td>\n",
       "      <td>3 years</td>\n",
       "      <td>Own Home</td>\n",
       "      <td>49180.000</td>\n",
       "      <td>Debt Consolidation</td>\n",
       "      <td>274.59</td>\n",
       "      <td>30.200</td>\n",
       "      <td>nan</td>\n",
       "      <td>10</td>\n",
       "      <td>1</td>\n",
       "      <td>4252</td>\n",
       "      <td>25012</td>\n",
       "      <td>1.000</td>\n",
       "      <td>0.000</td>\n",
       "    </tr>\n",
       "    <tr>\n",
       "      <th>8</th>\n",
       "      <td>fc9d109b-15c2-4fe3-b7d8-27610b89f80b</td>\n",
       "      <td>f54c53e4-acd7-4e29-8f55-d2a247a4b62a</td>\n",
       "      <td>Charged Off</td>\n",
       "      <td>16812</td>\n",
       "      <td>Short Term</td>\n",
       "      <td>7360.000</td>\n",
       "      <td>7 years</td>\n",
       "      <td>Rent</td>\n",
       "      <td>50945.000</td>\n",
       "      <td>Debt Consolidation</td>\n",
       "      <td>590.12</td>\n",
       "      <td>14.600</td>\n",
       "      <td>nan</td>\n",
       "      <td>9</td>\n",
       "      <td>0</td>\n",
       "      <td>12903</td>\n",
       "      <td>15379</td>\n",
       "      <td>0.000</td>\n",
       "      <td>0.000</td>\n",
       "    </tr>\n",
       "    <tr>\n",
       "      <th>9</th>\n",
       "      <td>35ee60ed-df2d-4d3a-98ba-03d944d65c74</td>\n",
       "      <td>93cbb4b9-4e88-4b93-8beb-a2a00d415cd5</td>\n",
       "      <td>Charged Off</td>\n",
       "      <td>9796</td>\n",
       "      <td>Long Term</td>\n",
       "      <td>6720.000</td>\n",
       "      <td>&lt; 1 year</td>\n",
       "      <td>Rent</td>\n",
       "      <td>58776.000</td>\n",
       "      <td>Debt Consolidation</td>\n",
       "      <td>666.13</td>\n",
       "      <td>9.400</td>\n",
       "      <td>17.000</td>\n",
       "      <td>12</td>\n",
       "      <td>0</td>\n",
       "      <td>4939</td>\n",
       "      <td>15198</td>\n",
       "      <td>0.000</td>\n",
       "      <td>0.000</td>\n",
       "    </tr>\n",
       "    <tr>\n",
       "      <th>10</th>\n",
       "      <td>9634dd33-b16d-49f8-b9f6-2d9e1578798c</td>\n",
       "      <td>0d82eca5-ee60-4ebe-8387-54f1153a326f</td>\n",
       "      <td>Charged Off</td>\n",
       "      <td>19838</td>\n",
       "      <td>Long Term</td>\n",
       "      <td>7010.000</td>\n",
       "      <td>6 years</td>\n",
       "      <td>Home Mortgage</td>\n",
       "      <td>79352.000</td>\n",
       "      <td>Debt Consolidation</td>\n",
       "      <td>$1051.41</td>\n",
       "      <td>14.300</td>\n",
       "      <td>6.000</td>\n",
       "      <td>13</td>\n",
       "      <td>0</td>\n",
       "      <td>15780</td>\n",
       "      <td>22511</td>\n",
       "      <td>0.000</td>\n",
       "      <td>0.000</td>\n",
       "    </tr>\n",
       "    <tr>\n",
       "      <th>11</th>\n",
       "      <td>7d8dddd0-3c5a-4e37-a8b6-1d7f20f68397</td>\n",
       "      <td>00647781-a770-4ba8-8259-48473ffe2a56</td>\n",
       "      <td>Charged Off</td>\n",
       "      <td>18392</td>\n",
       "      <td>Long Term</td>\n",
       "      <td>7310.000</td>\n",
       "      <td>1 year</td>\n",
       "      <td>Rent</td>\n",
       "      <td>44959.000</td>\n",
       "      <td>Debt Consolidation</td>\n",
       "      <td>569.48</td>\n",
       "      <td>15.400</td>\n",
       "      <td>nan</td>\n",
       "      <td>7</td>\n",
       "      <td>0</td>\n",
       "      <td>7085</td>\n",
       "      <td>11750</td>\n",
       "      <td>0.000</td>\n",
       "      <td>0.000</td>\n",
       "    </tr>\n",
       "    <tr>\n",
       "      <th>12</th>\n",
       "      <td>0779025a-3e68-4c58-bec2-8ca929207701</td>\n",
       "      <td>356e7d80-a879-4ee1-8023-e7b007dd9381</td>\n",
       "      <td>Charged Off</td>\n",
       "      <td>29496</td>\n",
       "      <td>Long Term</td>\n",
       "      <td>6850.000</td>\n",
       "      <td>3 years</td>\n",
       "      <td>Rent</td>\n",
       "      <td>76690.000</td>\n",
       "      <td>Debt Consolidation</td>\n",
       "      <td>1329.29</td>\n",
       "      <td>32.200</td>\n",
       "      <td>nan</td>\n",
       "      <td>10</td>\n",
       "      <td>0</td>\n",
       "      <td>27643</td>\n",
       "      <td>44801</td>\n",
       "      <td>0.000</td>\n",
       "      <td>0.000</td>\n",
       "    </tr>\n",
       "    <tr>\n",
       "      <th>13</th>\n",
       "      <td>30931f26-c9a5-43c4-a724-24f5b1fde039</td>\n",
       "      <td>84f232ce-7738-4b84-9834-84f1735856aa</td>\n",
       "      <td>Charged Off</td>\n",
       "      <td>34276</td>\n",
       "      <td>Long Term</td>\n",
       "      <td>6280.000</td>\n",
       "      <td>10+ years</td>\n",
       "      <td>Home Mortgage</td>\n",
       "      <td>141019.000</td>\n",
       "      <td>other</td>\n",
       "      <td>2632.36</td>\n",
       "      <td>19.900</td>\n",
       "      <td>14.000</td>\n",
       "      <td>19</td>\n",
       "      <td>0</td>\n",
       "      <td>20223</td>\n",
       "      <td>31747</td>\n",
       "      <td>0.000</td>\n",
       "      <td>0.000</td>\n",
       "    </tr>\n",
       "    <tr>\n",
       "      <th>14</th>\n",
       "      <td>18e58e4b-90fc-4248-99f6-02ed33e8310f</td>\n",
       "      <td>a415393e-38d1-4622-aea9-cd9b6addc3c2</td>\n",
       "      <td>Charged Off</td>\n",
       "      <td>18230</td>\n",
       "      <td>Short Term</td>\n",
       "      <td>7470.000</td>\n",
       "      <td>5 years</td>\n",
       "      <td>Rent</td>\n",
       "      <td>151920.000</td>\n",
       "      <td>Business Loan</td>\n",
       "      <td>778.59</td>\n",
       "      <td>26.400</td>\n",
       "      <td>nan</td>\n",
       "      <td>9</td>\n",
       "      <td>0</td>\n",
       "      <td>5663</td>\n",
       "      <td>29039</td>\n",
       "      <td>0.000</td>\n",
       "      <td>0.000</td>\n",
       "    </tr>\n",
       "    <tr>\n",
       "      <th>15</th>\n",
       "      <td>cead3a3f-1294-4558-9688-60b92eb2d369</td>\n",
       "      <td>aa26c11c-174a-4f04-938f-5c07fe83d8f3</td>\n",
       "      <td>Charged Off</td>\n",
       "      <td>19660</td>\n",
       "      <td>Long Term</td>\n",
       "      <td>7310.000</td>\n",
       "      <td>&lt; 1 year</td>\n",
       "      <td>Rent</td>\n",
       "      <td>58980.000</td>\n",
       "      <td>Debt Consolidation</td>\n",
       "      <td>973.17</td>\n",
       "      <td>15.600</td>\n",
       "      <td>nan</td>\n",
       "      <td>5</td>\n",
       "      <td>0</td>\n",
       "      <td>23917</td>\n",
       "      <td>33829</td>\n",
       "      <td>0.000</td>\n",
       "      <td>0.000</td>\n",
       "    </tr>\n",
       "    <tr>\n",
       "      <th>16</th>\n",
       "      <td>18cf82cd-f0e6-452e-8429-2a1e70b056ec</td>\n",
       "      <td>a02200bf-f505-4223-aec7-2d1ae72c4426</td>\n",
       "      <td>Charged Off</td>\n",
       "      <td>24341</td>\n",
       "      <td>Long Term</td>\n",
       "      <td>7200.000</td>\n",
       "      <td>3 years</td>\n",
       "      <td>Rent</td>\n",
       "      <td>99392.000</td>\n",
       "      <td>Debt Consolidation</td>\n",
       "      <td>2360.55</td>\n",
       "      <td>17.100</td>\n",
       "      <td>nan</td>\n",
       "      <td>8</td>\n",
       "      <td>0</td>\n",
       "      <td>16604</td>\n",
       "      <td>21288</td>\n",
       "      <td>0.000</td>\n",
       "      <td>0.000</td>\n",
       "    </tr>\n",
       "    <tr>\n",
       "      <th>17</th>\n",
       "      <td>1e3cabdc-ce1c-4449-bbd2-282fea49ab00</td>\n",
       "      <td>22e2f182-2ef4-4ec2-ba19-e601ecf13118</td>\n",
       "      <td>Charged Off</td>\n",
       "      <td>21350</td>\n",
       "      <td>Long Term</td>\n",
       "      <td>7320.000</td>\n",
       "      <td>10+ years</td>\n",
       "      <td>Rent</td>\n",
       "      <td>58626.000</td>\n",
       "      <td>small_business</td>\n",
       "      <td>723.05</td>\n",
       "      <td>15.000</td>\n",
       "      <td>nan</td>\n",
       "      <td>4</td>\n",
       "      <td>0</td>\n",
       "      <td>4085</td>\n",
       "      <td>4886</td>\n",
       "      <td>0.000</td>\n",
       "      <td>0.000</td>\n",
       "    </tr>\n",
       "    <tr>\n",
       "      <th>18</th>\n",
       "      <td>286127c0-04c4-43f9-9bf5-2bc4d691bfa6</td>\n",
       "      <td>a6ce9c02-ea44-4e7b-a86d-7f10ad518930</td>\n",
       "      <td>Charged Off</td>\n",
       "      <td>8792</td>\n",
       "      <td>Short Term</td>\n",
       "      <td>7330.000</td>\n",
       "      <td>10+ years</td>\n",
       "      <td>Own Home</td>\n",
       "      <td>19982.000</td>\n",
       "      <td>Home Improvements</td>\n",
       "      <td>56.95</td>\n",
       "      <td>21.100</td>\n",
       "      <td>nan</td>\n",
       "      <td>7</td>\n",
       "      <td>0</td>\n",
       "      <td>650</td>\n",
       "      <td>40651</td>\n",
       "      <td>0.000</td>\n",
       "      <td>0.000</td>\n",
       "    </tr>\n",
       "    <tr>\n",
       "      <th>19</th>\n",
       "      <td>753d4c56-3e8b-4fa6-a920-c7df31f6777f</td>\n",
       "      <td>df542e57-2fe5-4e4e-85d1-0e85eebcd326</td>\n",
       "      <td>Charged Off</td>\n",
       "      <td>10958</td>\n",
       "      <td>Long Term</td>\n",
       "      <td>6820.000</td>\n",
       "      <td>9 years</td>\n",
       "      <td>Home Mortgage</td>\n",
       "      <td>53812.000</td>\n",
       "      <td>Debt Consolidation</td>\n",
       "      <td>995.52</td>\n",
       "      <td>15.300</td>\n",
       "      <td>nan</td>\n",
       "      <td>13</td>\n",
       "      <td>0</td>\n",
       "      <td>12336</td>\n",
       "      <td>21123</td>\n",
       "      <td>0.000</td>\n",
       "      <td>0.000</td>\n",
       "    </tr>\n",
       "  </tbody>\n",
       "</table>\n",
       "</div>"
      ],
      "text/plain": [
       "                                 loan_id  ... tax_liens\n",
       "0   6cf51492-02a2-423e-b93d-676f05b9ad53  ...     0.000\n",
       "1   552e7ade-4292-4354-9ff9-c48031697d72  ...     0.000\n",
       "2   9b5e32b3-8d76-4801-afc8-d729d5a2e6b9  ...     0.000\n",
       "3   5419b7c7-ac11-4be2-a8a7-b131fb6d6dbe  ...     0.000\n",
       "4   1450910f-9495-4fc9-afaf-9bdf4b9821df  ...     0.000\n",
       "5   7e9f6759-6a13-48ef-adfa-ef9fbcfcfcc8  ...     0.000\n",
       "6   c2b0aa3e-555b-441b-a4aa-e0e4a52c87d3  ...     0.000\n",
       "7   233e0119-6dfe-47c0-a212-b4cc00371c8d  ...     0.000\n",
       "8   fc9d109b-15c2-4fe3-b7d8-27610b89f80b  ...     0.000\n",
       "9   35ee60ed-df2d-4d3a-98ba-03d944d65c74  ...     0.000\n",
       "10  9634dd33-b16d-49f8-b9f6-2d9e1578798c  ...     0.000\n",
       "11  7d8dddd0-3c5a-4e37-a8b6-1d7f20f68397  ...     0.000\n",
       "12  0779025a-3e68-4c58-bec2-8ca929207701  ...     0.000\n",
       "13  30931f26-c9a5-43c4-a724-24f5b1fde039  ...     0.000\n",
       "14  18e58e4b-90fc-4248-99f6-02ed33e8310f  ...     0.000\n",
       "15  cead3a3f-1294-4558-9688-60b92eb2d369  ...     0.000\n",
       "16  18cf82cd-f0e6-452e-8429-2a1e70b056ec  ...     0.000\n",
       "17  1e3cabdc-ce1c-4449-bbd2-282fea49ab00  ...     0.000\n",
       "18  286127c0-04c4-43f9-9bf5-2bc4d691bfa6  ...     0.000\n",
       "19  753d4c56-3e8b-4fa6-a920-c7df31f6777f  ...     0.000\n",
       "\n",
       "[20 rows x 19 columns]"
      ]
     },
     "execution_count": 10,
     "metadata": {
      "tags": []
     },
     "output_type": "execute_result"
    }
   ],
   "source": [
    "data.head(20)"
   ]
  },
  {
   "cell_type": "code",
   "execution_count": null,
   "metadata": {
    "colab": {
     "base_uri": "https://localhost:8080/",
     "height": 334
    },
    "id": "vaIEDag7_mbq",
    "outputId": "cd1e5f12-3b42-4d02-81ee-58f58cb5ffa1",
    "scrolled": true
   },
   "outputs": [
    {
     "name": "stdout",
     "output_type": "stream",
     "text": [
      "(111107, 19)\n"
     ]
    },
    {
     "data": {
      "text/html": [
       "<div>\n",
       "<style scoped>\n",
       "    .dataframe tbody tr th:only-of-type {\n",
       "        vertical-align: middle;\n",
       "    }\n",
       "\n",
       "    .dataframe tbody tr th {\n",
       "        vertical-align: top;\n",
       "    }\n",
       "\n",
       "    .dataframe thead th {\n",
       "        text-align: right;\n",
       "    }\n",
       "</style>\n",
       "<table border=\"1\" class=\"dataframe\">\n",
       "  <thead>\n",
       "    <tr style=\"text-align: right;\">\n",
       "      <th></th>\n",
       "      <th>current_loan_amount</th>\n",
       "      <th>credit_score</th>\n",
       "      <th>annual_income</th>\n",
       "      <th>years_of_credit_history</th>\n",
       "      <th>months_since_last_delinquent</th>\n",
       "      <th>number_of_open_accounts</th>\n",
       "      <th>number_of_credit_problems</th>\n",
       "      <th>current_credit_balance</th>\n",
       "      <th>bankruptcies</th>\n",
       "      <th>tax_liens</th>\n",
       "    </tr>\n",
       "  </thead>\n",
       "  <tbody>\n",
       "    <tr>\n",
       "      <th>count</th>\n",
       "      <td>111107.000</td>\n",
       "      <td>89769.000</td>\n",
       "      <td>89769.000</td>\n",
       "      <td>111107.000</td>\n",
       "      <td>52104.000</td>\n",
       "      <td>111107.000</td>\n",
       "      <td>111107.000</td>\n",
       "      <td>111107.000</td>\n",
       "      <td>110879.000</td>\n",
       "      <td>111096.000</td>\n",
       "    </tr>\n",
       "    <tr>\n",
       "      <th>mean</th>\n",
       "      <td>11477180.218</td>\n",
       "      <td>1075.795</td>\n",
       "      <td>72485.998</td>\n",
       "      <td>18.201</td>\n",
       "      <td>34.902</td>\n",
       "      <td>11.125</td>\n",
       "      <td>0.168</td>\n",
       "      <td>15483.141</td>\n",
       "      <td>0.118</td>\n",
       "      <td>0.029</td>\n",
       "    </tr>\n",
       "    <tr>\n",
       "      <th>std</th>\n",
       "      <td>31855079.735</td>\n",
       "      <td>1474.134</td>\n",
       "      <td>55930.943</td>\n",
       "      <td>7.014</td>\n",
       "      <td>21.971</td>\n",
       "      <td>5.010</td>\n",
       "      <td>0.484</td>\n",
       "      <td>19821.154</td>\n",
       "      <td>0.351</td>\n",
       "      <td>0.261</td>\n",
       "    </tr>\n",
       "    <tr>\n",
       "      <th>min</th>\n",
       "      <td>491.000</td>\n",
       "      <td>585.000</td>\n",
       "      <td>4033.000</td>\n",
       "      <td>3.600</td>\n",
       "      <td>0.000</td>\n",
       "      <td>0.000</td>\n",
       "      <td>0.000</td>\n",
       "      <td>0.000</td>\n",
       "      <td>0.000</td>\n",
       "      <td>0.000</td>\n",
       "    </tr>\n",
       "    <tr>\n",
       "      <th>25%</th>\n",
       "      <td>8162.000</td>\n",
       "      <td>705.000</td>\n",
       "      <td>44688.000</td>\n",
       "      <td>13.500</td>\n",
       "      <td>16.000</td>\n",
       "      <td>8.000</td>\n",
       "      <td>0.000</td>\n",
       "      <td>5905.000</td>\n",
       "      <td>0.000</td>\n",
       "      <td>0.000</td>\n",
       "    </tr>\n",
       "    <tr>\n",
       "      <th>50%</th>\n",
       "      <td>14183.000</td>\n",
       "      <td>724.000</td>\n",
       "      <td>61752.000</td>\n",
       "      <td>16.900</td>\n",
       "      <td>32.000</td>\n",
       "      <td>10.000</td>\n",
       "      <td>0.000</td>\n",
       "      <td>11027.000</td>\n",
       "      <td>0.000</td>\n",
       "      <td>0.000</td>\n",
       "    </tr>\n",
       "    <tr>\n",
       "      <th>75%</th>\n",
       "      <td>23822.000</td>\n",
       "      <td>741.000</td>\n",
       "      <td>86887.000</td>\n",
       "      <td>21.700</td>\n",
       "      <td>51.000</td>\n",
       "      <td>14.000</td>\n",
       "      <td>0.000</td>\n",
       "      <td>19338.000</td>\n",
       "      <td>0.000</td>\n",
       "      <td>0.000</td>\n",
       "    </tr>\n",
       "    <tr>\n",
       "      <th>max</th>\n",
       "      <td>99999999.000</td>\n",
       "      <td>7510.000</td>\n",
       "      <td>8713547.000</td>\n",
       "      <td>70.500</td>\n",
       "      <td>176.000</td>\n",
       "      <td>76.000</td>\n",
       "      <td>15.000</td>\n",
       "      <td>1730472.000</td>\n",
       "      <td>7.000</td>\n",
       "      <td>15.000</td>\n",
       "    </tr>\n",
       "  </tbody>\n",
       "</table>\n",
       "</div>"
      ],
      "text/plain": [
       "       current_loan_amount  credit_score  ...  bankruptcies  tax_liens\n",
       "count           111107.000     89769.000  ...    110879.000 111096.000\n",
       "mean          11477180.218      1075.795  ...         0.118      0.029\n",
       "std           31855079.735      1474.134  ...         0.351      0.261\n",
       "min                491.000       585.000  ...         0.000      0.000\n",
       "25%               8162.000       705.000  ...         0.000      0.000\n",
       "50%              14183.000       724.000  ...         0.000      0.000\n",
       "75%              23822.000       741.000  ...         0.000      0.000\n",
       "max           99999999.000      7510.000  ...         7.000     15.000\n",
       "\n",
       "[8 rows x 10 columns]"
      ]
     },
     "execution_count": 11,
     "metadata": {
      "tags": []
     },
     "output_type": "execute_result"
    }
   ],
   "source": [
    "print(data.shape)\n",
    "data.describe()"
   ]
  },
  {
   "cell_type": "code",
   "execution_count": null,
   "metadata": {
    "colab": {
     "base_uri": "https://localhost:8080/"
    },
    "id": "XQXboHCc_mbr",
    "outputId": "a1da45d3-fc48-4e5c-fff3-dddc55361fe7"
   },
   "outputs": [
    {
     "name": "stdout",
     "output_type": "stream",
     "text": [
      "<class 'pandas.core.frame.DataFrame'>\n",
      "RangeIndex: 111107 entries, 0 to 111106\n",
      "Data columns (total 19 columns):\n",
      " #   Column                        Non-Null Count   Dtype  \n",
      "---  ------                        --------------   -----  \n",
      " 0   loan_id                       111107 non-null  object \n",
      " 1   customer_id                   111107 non-null  object \n",
      " 2   loan_status                   111107 non-null  object \n",
      " 3   current_loan_amount           111107 non-null  int64  \n",
      " 4   term                          111107 non-null  object \n",
      " 5   credit_score                  89769 non-null   float64\n",
      " 6   years_in_current_job          106414 non-null  object \n",
      " 7   home_ownership                111107 non-null  object \n",
      " 8   annual_income                 89769 non-null   float64\n",
      " 9   purpose                       111107 non-null  object \n",
      " 10  monthly_debt                  111107 non-null  object \n",
      " 11  years_of_credit_history       111107 non-null  float64\n",
      " 12  months_since_last_delinquent  52104 non-null   float64\n",
      " 13  number_of_open_accounts       111107 non-null  int64  \n",
      " 14  number_of_credit_problems     111107 non-null  int64  \n",
      " 15  current_credit_balance        111107 non-null  int64  \n",
      " 16  maximum_open_credit           111107 non-null  object \n",
      " 17  bankruptcies                  110879 non-null  float64\n",
      " 18  tax_liens                     111096 non-null  float64\n",
      "dtypes: float64(6), int64(4), object(9)\n",
      "memory usage: 16.1+ MB\n"
     ]
    }
   ],
   "source": [
    "data.info()"
   ]
  },
  {
   "cell_type": "markdown",
   "metadata": {
    "id": "L5t9audU_mbs"
   },
   "source": [
    "### Removing the duplicates"
   ]
  },
  {
   "cell_type": "markdown",
   "metadata": {
    "id": "tdVm3xNZ_mbs"
   },
   "source": [
    "Loan ID is unique for every loan process so we will use Loan ID to remove duplicates"
   ]
  },
  {
   "cell_type": "code",
   "execution_count": null,
   "metadata": {
    "colab": {
     "base_uri": "https://localhost:8080/"
    },
    "id": "Swb7-1HK_mbs",
    "outputId": "64c93cfc-822e-429f-9026-865e3cbaa6fd",
    "scrolled": true
   },
   "outputs": [
    {
     "name": "stdout",
     "output_type": "stream",
     "text": [
      "Total samples in data: 111107\n",
      "Total unique samples in data: 88910\n",
      "Duplicate samples in data: 22197\n"
     ]
    }
   ],
   "source": [
    "# Check the unique values, to see if there is any duplicates\n",
    "unique_loanid=data['loan_id'].unique().tolist()\n",
    "print(\"Total samples in data:\", str(data.shape[0]))\n",
    "print(\"Total unique samples in data:\", str(len(unique_loanid)))\n",
    "print(\"Duplicate samples in data:\", str(data.shape[0] - len(unique_loanid)))"
   ]
  },
  {
   "cell_type": "code",
   "execution_count": null,
   "metadata": {
    "colab": {
     "base_uri": "https://localhost:8080/"
    },
    "id": "llU0F_VU_mbt",
    "outputId": "f2917a92-39e5-4f3a-a1ab-290174e41950"
   },
   "outputs": [
    {
     "name": "stdout",
     "output_type": "stream",
     "text": [
      "Total samples in data: 105238\n",
      "Total unique samples in data: 88910\n",
      "Duplicate samples in data: 16328\n"
     ]
    }
   ],
   "source": [
    "# Drop the duplicates\n",
    "data = data.drop_duplicates()\n",
    "print(\"Total samples in data:\", str(data.shape[0]))\n",
    "print(\"Total unique samples in data:\", str(len(unique_loanid)))\n",
    "print(\"Duplicate samples in data:\", str(data.shape[0] - len(unique_loanid)))"
   ]
  },
  {
   "cell_type": "code",
   "execution_count": null,
   "metadata": {
    "colab": {
     "base_uri": "https://localhost:8080/",
     "height": 334
    },
    "id": "v_A6vnOC_mbt",
    "outputId": "0107352a-19f4-4aaf-fe86-905430829054",
    "scrolled": false
   },
   "outputs": [
    {
     "name": "stdout",
     "output_type": "stream",
     "text": [
      "(32656, 19)\n"
     ]
    },
    {
     "data": {
      "text/html": [
       "<div>\n",
       "<style scoped>\n",
       "    .dataframe tbody tr th:only-of-type {\n",
       "        vertical-align: middle;\n",
       "    }\n",
       "\n",
       "    .dataframe tbody tr th {\n",
       "        vertical-align: top;\n",
       "    }\n",
       "\n",
       "    .dataframe thead th {\n",
       "        text-align: right;\n",
       "    }\n",
       "</style>\n",
       "<table border=\"1\" class=\"dataframe\">\n",
       "  <thead>\n",
       "    <tr style=\"text-align: right;\">\n",
       "      <th></th>\n",
       "      <th>current_loan_amount</th>\n",
       "      <th>credit_score</th>\n",
       "      <th>annual_income</th>\n",
       "      <th>years_of_credit_history</th>\n",
       "      <th>months_since_last_delinquent</th>\n",
       "      <th>number_of_open_accounts</th>\n",
       "      <th>number_of_credit_problems</th>\n",
       "      <th>current_credit_balance</th>\n",
       "      <th>bankruptcies</th>\n",
       "      <th>tax_liens</th>\n",
       "    </tr>\n",
       "  </thead>\n",
       "  <tbody>\n",
       "    <tr>\n",
       "      <th>count</th>\n",
       "      <td>32656.000</td>\n",
       "      <td>27407.000</td>\n",
       "      <td>27407.000</td>\n",
       "      <td>32656.000</td>\n",
       "      <td>17198.000</td>\n",
       "      <td>32656.000</td>\n",
       "      <td>32656.000</td>\n",
       "      <td>32656.000</td>\n",
       "      <td>32604.000</td>\n",
       "      <td>32650.000</td>\n",
       "    </tr>\n",
       "    <tr>\n",
       "      <th>mean</th>\n",
       "      <td>13554181.593</td>\n",
       "      <td>700.004</td>\n",
       "      <td>72628.640</td>\n",
       "      <td>17.760</td>\n",
       "      <td>34.160</td>\n",
       "      <td>11.189</td>\n",
       "      <td>0.198</td>\n",
       "      <td>15588.947</td>\n",
       "      <td>0.137</td>\n",
       "      <td>0.034</td>\n",
       "    </tr>\n",
       "    <tr>\n",
       "      <th>std</th>\n",
       "      <td>34211633.604</td>\n",
       "      <td>24.506</td>\n",
       "      <td>47963.287</td>\n",
       "      <td>6.880</td>\n",
       "      <td>21.711</td>\n",
       "      <td>5.134</td>\n",
       "      <td>0.525</td>\n",
       "      <td>19100.481</td>\n",
       "      <td>0.379</td>\n",
       "      <td>0.280</td>\n",
       "    </tr>\n",
       "    <tr>\n",
       "      <th>min</th>\n",
       "      <td>701.000</td>\n",
       "      <td>585.000</td>\n",
       "      <td>5855.000</td>\n",
       "      <td>3.700</td>\n",
       "      <td>0.000</td>\n",
       "      <td>1.000</td>\n",
       "      <td>0.000</td>\n",
       "      <td>0.000</td>\n",
       "      <td>0.000</td>\n",
       "      <td>0.000</td>\n",
       "    </tr>\n",
       "    <tr>\n",
       "      <th>25%</th>\n",
       "      <td>8823.500</td>\n",
       "      <td>690.000</td>\n",
       "      <td>44946.000</td>\n",
       "      <td>13.000</td>\n",
       "      <td>16.000</td>\n",
       "      <td>8.000</td>\n",
       "      <td>0.000</td>\n",
       "      <td>5730.500</td>\n",
       "      <td>0.000</td>\n",
       "      <td>0.000</td>\n",
       "    </tr>\n",
       "    <tr>\n",
       "      <th>50%</th>\n",
       "      <td>15230.000</td>\n",
       "      <td>708.000</td>\n",
       "      <td>62025.000</td>\n",
       "      <td>16.600</td>\n",
       "      <td>31.000</td>\n",
       "      <td>10.000</td>\n",
       "      <td>0.000</td>\n",
       "      <td>10930.000</td>\n",
       "      <td>0.000</td>\n",
       "      <td>0.000</td>\n",
       "    </tr>\n",
       "    <tr>\n",
       "      <th>75%</th>\n",
       "      <td>26957.750</td>\n",
       "      <td>718.000</td>\n",
       "      <td>87434.000</td>\n",
       "      <td>21.300</td>\n",
       "      <td>50.000</td>\n",
       "      <td>14.000</td>\n",
       "      <td>0.000</td>\n",
       "      <td>19518.250</td>\n",
       "      <td>0.000</td>\n",
       "      <td>0.000</td>\n",
       "    </tr>\n",
       "    <tr>\n",
       "      <th>max</th>\n",
       "      <td>99999999.000</td>\n",
       "      <td>725.000</td>\n",
       "      <td>1181520.000</td>\n",
       "      <td>65.000</td>\n",
       "      <td>120.000</td>\n",
       "      <td>56.000</td>\n",
       "      <td>11.000</td>\n",
       "      <td>683524.000</td>\n",
       "      <td>5.000</td>\n",
       "      <td>11.000</td>\n",
       "    </tr>\n",
       "  </tbody>\n",
       "</table>\n",
       "</div>"
      ],
      "text/plain": [
       "       current_loan_amount  credit_score  ...  bankruptcies  tax_liens\n",
       "count            32656.000     27407.000  ...     32604.000  32650.000\n",
       "mean          13554181.593       700.004  ...         0.137      0.034\n",
       "std           34211633.604        24.506  ...         0.379      0.280\n",
       "min                701.000       585.000  ...         0.000      0.000\n",
       "25%               8823.500       690.000  ...         0.000      0.000\n",
       "50%              15230.000       708.000  ...         0.000      0.000\n",
       "75%              26957.750       718.000  ...         0.000      0.000\n",
       "max           99999999.000       725.000  ...         5.000     11.000\n",
       "\n",
       "[8 rows x 10 columns]"
      ]
     },
     "execution_count": 15,
     "metadata": {
      "tags": []
     },
     "output_type": "execute_result"
    }
   ],
   "source": [
    "#Get the duplicates\n",
    "dup_loanid=data[data.duplicated(['loan_id'],keep=False)]\n",
    "print(dup_loanid.shape)\n",
    "dup_loanid.describe()"
   ]
  },
  {
   "cell_type": "code",
   "execution_count": null,
   "metadata": {
    "colab": {
     "base_uri": "https://localhost:8080/",
     "height": 233
    },
    "id": "-JBsy-2A_mbu",
    "outputId": "422e3cbd-f4cc-476a-c938-05d17af46267"
   },
   "outputs": [
    {
     "data": {
      "text/html": [
       "<div>\n",
       "<style scoped>\n",
       "    .dataframe tbody tr th:only-of-type {\n",
       "        vertical-align: middle;\n",
       "    }\n",
       "\n",
       "    .dataframe tbody tr th {\n",
       "        vertical-align: top;\n",
       "    }\n",
       "\n",
       "    .dataframe thead th {\n",
       "        text-align: right;\n",
       "    }\n",
       "</style>\n",
       "<table border=\"1\" class=\"dataframe\">\n",
       "  <thead>\n",
       "    <tr style=\"text-align: right;\">\n",
       "      <th></th>\n",
       "      <th>loan_id</th>\n",
       "      <th>customer_id</th>\n",
       "      <th>loan_status</th>\n",
       "      <th>current_loan_amount</th>\n",
       "      <th>term</th>\n",
       "      <th>credit_score</th>\n",
       "      <th>years_in_current_job</th>\n",
       "      <th>home_ownership</th>\n",
       "      <th>annual_income</th>\n",
       "      <th>purpose</th>\n",
       "      <th>monthly_debt</th>\n",
       "      <th>years_of_credit_history</th>\n",
       "      <th>months_since_last_delinquent</th>\n",
       "      <th>number_of_open_accounts</th>\n",
       "      <th>number_of_credit_problems</th>\n",
       "      <th>current_credit_balance</th>\n",
       "      <th>maximum_open_credit</th>\n",
       "      <th>bankruptcies</th>\n",
       "      <th>tax_liens</th>\n",
       "    </tr>\n",
       "  </thead>\n",
       "  <tbody>\n",
       "    <tr>\n",
       "      <th>32227</th>\n",
       "      <td>c02558d1-58cb-4b36-9569-ae55baeb328a</td>\n",
       "      <td>f0804ea2-249b-4e6c-ab2a-1554a7ff6a5b</td>\n",
       "      <td>Fully Paid</td>\n",
       "      <td>3571</td>\n",
       "      <td>Short Term</td>\n",
       "      <td>nan</td>\n",
       "      <td>5 years</td>\n",
       "      <td>Home Mortgage</td>\n",
       "      <td>nan</td>\n",
       "      <td>Debt Consolidation</td>\n",
       "      <td>875.67</td>\n",
       "      <td>13.100</td>\n",
       "      <td>6.000</td>\n",
       "      <td>4</td>\n",
       "      <td>0</td>\n",
       "      <td>384</td>\n",
       "      <td>985</td>\n",
       "      <td>0.000</td>\n",
       "      <td>0.000</td>\n",
       "    </tr>\n",
       "    <tr>\n",
       "      <th>109692</th>\n",
       "      <td>c02558d1-58cb-4b36-9569-ae55baeb328a</td>\n",
       "      <td>f0804ea2-249b-4e6c-ab2a-1554a7ff6a5b</td>\n",
       "      <td>Fully Paid</td>\n",
       "      <td>3571</td>\n",
       "      <td>Short Term</td>\n",
       "      <td>700.000</td>\n",
       "      <td>5 years</td>\n",
       "      <td>Home Mortgage</td>\n",
       "      <td>41370.000</td>\n",
       "      <td>Debt Consolidation</td>\n",
       "      <td>875.670</td>\n",
       "      <td>13.100</td>\n",
       "      <td>6.000</td>\n",
       "      <td>4</td>\n",
       "      <td>0</td>\n",
       "      <td>384</td>\n",
       "      <td>985</td>\n",
       "      <td>0.000</td>\n",
       "      <td>0.000</td>\n",
       "    </tr>\n",
       "  </tbody>\n",
       "</table>\n",
       "</div>"
      ],
      "text/plain": [
       "                                     loan_id  ... tax_liens\n",
       "32227   c02558d1-58cb-4b36-9569-ae55baeb328a  ...     0.000\n",
       "109692  c02558d1-58cb-4b36-9569-ae55baeb328a  ...     0.000\n",
       "\n",
       "[2 rows x 19 columns]"
      ]
     },
     "execution_count": 16,
     "metadata": {
      "tags": []
     },
     "output_type": "execute_result"
    }
   ],
   "source": [
    "# dup_loanid.tail(5)\n",
    "dup_loanid[dup_loanid.loan_id == 'c02558d1-58cb-4b36-9569-ae55baeb328a']\n",
    "# dup_loanid[dup_loanid.loan_id == '9a411ca4-2d32-4f92-aefa-337c5562741b']"
   ]
  },
  {
   "cell_type": "code",
   "execution_count": null,
   "metadata": {
    "colab": {
     "base_uri": "https://localhost:8080/",
     "height": 889
    },
    "id": "xMOxddrK_mbu",
    "outputId": "e1880bfa-0bc8-4390-9fa6-980cb509721f",
    "scrolled": true
   },
   "outputs": [
    {
     "data": {
      "text/html": [
       "<div>\n",
       "<style scoped>\n",
       "    .dataframe tbody tr th:only-of-type {\n",
       "        vertical-align: middle;\n",
       "    }\n",
       "\n",
       "    .dataframe tbody tr th {\n",
       "        vertical-align: top;\n",
       "    }\n",
       "\n",
       "    .dataframe thead th {\n",
       "        text-align: right;\n",
       "    }\n",
       "</style>\n",
       "<table border=\"1\" class=\"dataframe\">\n",
       "  <thead>\n",
       "    <tr style=\"text-align: right;\">\n",
       "      <th></th>\n",
       "      <th>loan_id</th>\n",
       "      <th>customer_id</th>\n",
       "      <th>loan_status</th>\n",
       "      <th>current_loan_amount</th>\n",
       "      <th>term</th>\n",
       "      <th>credit_score</th>\n",
       "      <th>years_in_current_job</th>\n",
       "      <th>home_ownership</th>\n",
       "      <th>annual_income</th>\n",
       "      <th>purpose</th>\n",
       "      <th>monthly_debt</th>\n",
       "      <th>years_of_credit_history</th>\n",
       "      <th>months_since_last_delinquent</th>\n",
       "      <th>number_of_open_accounts</th>\n",
       "      <th>number_of_credit_problems</th>\n",
       "      <th>current_credit_balance</th>\n",
       "      <th>maximum_open_credit</th>\n",
       "      <th>bankruptcies</th>\n",
       "      <th>tax_liens</th>\n",
       "    </tr>\n",
       "  </thead>\n",
       "  <tbody>\n",
       "    <tr>\n",
       "      <th>17021</th>\n",
       "      <td>df34de5c-d7aa-49a0-b293-ff8b49779607</td>\n",
       "      <td>d67425db-00be-4d2e-9970-299df0f8d223</td>\n",
       "      <td>Fully Paid</td>\n",
       "      <td>99999999</td>\n",
       "      <td>Short Term</td>\n",
       "      <td>725.000</td>\n",
       "      <td>NaN</td>\n",
       "      <td>Own Home</td>\n",
       "      <td>24065.000</td>\n",
       "      <td>Home Improvements</td>\n",
       "      <td>99.27</td>\n",
       "      <td>26.700</td>\n",
       "      <td>nan</td>\n",
       "      <td>3</td>\n",
       "      <td>1</td>\n",
       "      <td>4106</td>\n",
       "      <td>6820</td>\n",
       "      <td>1.000</td>\n",
       "      <td>0.000</td>\n",
       "    </tr>\n",
       "    <tr>\n",
       "      <th>17024</th>\n",
       "      <td>3363bad1-592d-463c-8320-71795d60b588</td>\n",
       "      <td>79fbab84-04d5-438f-85ec-77a1c8234535</td>\n",
       "      <td>Fully Paid</td>\n",
       "      <td>99999999</td>\n",
       "      <td>Short Term</td>\n",
       "      <td>725.000</td>\n",
       "      <td>10+ years</td>\n",
       "      <td>Home Mortgage</td>\n",
       "      <td>50690.000</td>\n",
       "      <td>Debt Consolidation</td>\n",
       "      <td>340.89</td>\n",
       "      <td>29.000</td>\n",
       "      <td>43.000</td>\n",
       "      <td>12</td>\n",
       "      <td>1</td>\n",
       "      <td>5747</td>\n",
       "      <td>16954</td>\n",
       "      <td>0.000</td>\n",
       "      <td>0.000</td>\n",
       "    </tr>\n",
       "    <tr>\n",
       "      <th>17075</th>\n",
       "      <td>3d97575f-cc18-48ef-b647-a4cc798e2186</td>\n",
       "      <td>f41b6c6c-06a2-4a57-8eff-7bc69f07aa40</td>\n",
       "      <td>Fully Paid</td>\n",
       "      <td>99999999</td>\n",
       "      <td>Short Term</td>\n",
       "      <td>725.000</td>\n",
       "      <td>10+ years</td>\n",
       "      <td>Home Mortgage</td>\n",
       "      <td>84473.000</td>\n",
       "      <td>Debt Consolidation</td>\n",
       "      <td>1956.96</td>\n",
       "      <td>18.900</td>\n",
       "      <td>nan</td>\n",
       "      <td>11</td>\n",
       "      <td>0</td>\n",
       "      <td>56229</td>\n",
       "      <td>60723</td>\n",
       "      <td>0.000</td>\n",
       "      <td>0.000</td>\n",
       "    </tr>\n",
       "    <tr>\n",
       "      <th>17184</th>\n",
       "      <td>70301a96-1836-409b-87d0-e011867ba867</td>\n",
       "      <td>4495f69b-22d1-4e5a-914d-3557bb506fba</td>\n",
       "      <td>Fully Paid</td>\n",
       "      <td>99999999</td>\n",
       "      <td>Long Term</td>\n",
       "      <td>725.000</td>\n",
       "      <td>9 years</td>\n",
       "      <td>Rent</td>\n",
       "      <td>102501.000</td>\n",
       "      <td>Debt Consolidation</td>\n",
       "      <td>460.41</td>\n",
       "      <td>13.900</td>\n",
       "      <td>63.000</td>\n",
       "      <td>8</td>\n",
       "      <td>1</td>\n",
       "      <td>17583</td>\n",
       "      <td>27910</td>\n",
       "      <td>1.000</td>\n",
       "      <td>0.000</td>\n",
       "    </tr>\n",
       "    <tr>\n",
       "      <th>17219</th>\n",
       "      <td>4e316760-c7ee-457a-b14d-fc4a5929155f</td>\n",
       "      <td>be35080d-5270-44dc-9b4c-30ab9de4cf17</td>\n",
       "      <td>Fully Paid</td>\n",
       "      <td>99999999</td>\n",
       "      <td>Short Term</td>\n",
       "      <td>725.000</td>\n",
       "      <td>6 years</td>\n",
       "      <td>Home Mortgage</td>\n",
       "      <td>59886.000</td>\n",
       "      <td>Debt Consolidation</td>\n",
       "      <td>427.19</td>\n",
       "      <td>21.400</td>\n",
       "      <td>nan</td>\n",
       "      <td>8</td>\n",
       "      <td>1</td>\n",
       "      <td>6159</td>\n",
       "      <td>6587</td>\n",
       "      <td>1.000</td>\n",
       "      <td>0.000</td>\n",
       "    </tr>\n",
       "    <tr>\n",
       "      <th>17275</th>\n",
       "      <td>168c3750-5c77-4ee5-b62a-128ca3321a52</td>\n",
       "      <td>2af8676a-b871-4d42-bcc3-57610cc2a04a</td>\n",
       "      <td>Fully Paid</td>\n",
       "      <td>99999999</td>\n",
       "      <td>Short Term</td>\n",
       "      <td>725.000</td>\n",
       "      <td>10+ years</td>\n",
       "      <td>Home Mortgage</td>\n",
       "      <td>32579.000</td>\n",
       "      <td>Debt Consolidation</td>\n",
       "      <td>627.15</td>\n",
       "      <td>17.500</td>\n",
       "      <td>nan</td>\n",
       "      <td>15</td>\n",
       "      <td>0</td>\n",
       "      <td>13856</td>\n",
       "      <td>19966</td>\n",
       "      <td>0.000</td>\n",
       "      <td>0.000</td>\n",
       "    </tr>\n",
       "    <tr>\n",
       "      <th>17405</th>\n",
       "      <td>9a411ca4-2d32-4f92-aefa-337c5562741b</td>\n",
       "      <td>ffe6c960-298d-4a61-8cb3-b3f0d24751ba</td>\n",
       "      <td>Fully Paid</td>\n",
       "      <td>99999999</td>\n",
       "      <td>Short Term</td>\n",
       "      <td>725.000</td>\n",
       "      <td>7 years</td>\n",
       "      <td>Rent</td>\n",
       "      <td>79008.000</td>\n",
       "      <td>Take a Trip</td>\n",
       "      <td>974.44</td>\n",
       "      <td>7.700</td>\n",
       "      <td>11.000</td>\n",
       "      <td>11</td>\n",
       "      <td>0</td>\n",
       "      <td>7264</td>\n",
       "      <td>15521</td>\n",
       "      <td>0.000</td>\n",
       "      <td>0.000</td>\n",
       "    </tr>\n",
       "    <tr>\n",
       "      <th>17584</th>\n",
       "      <td>39760a90-9c99-49eb-a4a2-befd24207319</td>\n",
       "      <td>3f378b62-8ab0-4e53-b8db-e13c59918417</td>\n",
       "      <td>Fully Paid</td>\n",
       "      <td>99999999</td>\n",
       "      <td>Short Term</td>\n",
       "      <td>725.000</td>\n",
       "      <td>9 years</td>\n",
       "      <td>Rent</td>\n",
       "      <td>190347.000</td>\n",
       "      <td>other</td>\n",
       "      <td>2125.55</td>\n",
       "      <td>16.400</td>\n",
       "      <td>19.000</td>\n",
       "      <td>11</td>\n",
       "      <td>0</td>\n",
       "      <td>13465</td>\n",
       "      <td>23831</td>\n",
       "      <td>0.000</td>\n",
       "      <td>0.000</td>\n",
       "    </tr>\n",
       "    <tr>\n",
       "      <th>17770</th>\n",
       "      <td>0c034f37-8afe-4197-bf6d-8ee06b4b2224</td>\n",
       "      <td>78a5bc94-7e8c-4df1-a2d5-cbcd0b7a1a60</td>\n",
       "      <td>Fully Paid</td>\n",
       "      <td>99999999</td>\n",
       "      <td>Short Term</td>\n",
       "      <td>725.000</td>\n",
       "      <td>10+ years</td>\n",
       "      <td>Home Mortgage</td>\n",
       "      <td>60198.000</td>\n",
       "      <td>Debt Consolidation</td>\n",
       "      <td>1710.63</td>\n",
       "      <td>17.600</td>\n",
       "      <td>48.000</td>\n",
       "      <td>17</td>\n",
       "      <td>0</td>\n",
       "      <td>11582</td>\n",
       "      <td>21689</td>\n",
       "      <td>0.000</td>\n",
       "      <td>0.000</td>\n",
       "    </tr>\n",
       "    <tr>\n",
       "      <th>17773</th>\n",
       "      <td>143f0901-8688-400f-b3f4-cfcadd2b0fc3</td>\n",
       "      <td>ccefb98e-4c90-4f6b-83cc-c057f6e7eee6</td>\n",
       "      <td>Fully Paid</td>\n",
       "      <td>99999999</td>\n",
       "      <td>Short Term</td>\n",
       "      <td>725.000</td>\n",
       "      <td>10+ years</td>\n",
       "      <td>Home Mortgage</td>\n",
       "      <td>43008.000</td>\n",
       "      <td>Business Loan</td>\n",
       "      <td>723.97</td>\n",
       "      <td>18.700</td>\n",
       "      <td>nan</td>\n",
       "      <td>8</td>\n",
       "      <td>0</td>\n",
       "      <td>3290</td>\n",
       "      <td>6243</td>\n",
       "      <td>0.000</td>\n",
       "      <td>0.000</td>\n",
       "    </tr>\n",
       "  </tbody>\n",
       "</table>\n",
       "</div>"
      ],
      "text/plain": [
       "                                    loan_id  ... tax_liens\n",
       "17021  df34de5c-d7aa-49a0-b293-ff8b49779607  ...     0.000\n",
       "17024  3363bad1-592d-463c-8320-71795d60b588  ...     0.000\n",
       "17075  3d97575f-cc18-48ef-b647-a4cc798e2186  ...     0.000\n",
       "17184  70301a96-1836-409b-87d0-e011867ba867  ...     0.000\n",
       "17219  4e316760-c7ee-457a-b14d-fc4a5929155f  ...     0.000\n",
       "17275  168c3750-5c77-4ee5-b62a-128ca3321a52  ...     0.000\n",
       "17405  9a411ca4-2d32-4f92-aefa-337c5562741b  ...     0.000\n",
       "17584  39760a90-9c99-49eb-a4a2-befd24207319  ...     0.000\n",
       "17770  0c034f37-8afe-4197-bf6d-8ee06b4b2224  ...     0.000\n",
       "17773  143f0901-8688-400f-b3f4-cfcadd2b0fc3  ...     0.000\n",
       "\n",
       "[10 rows x 19 columns]"
      ]
     },
     "execution_count": 17,
     "metadata": {
      "tags": []
     },
     "output_type": "execute_result"
    }
   ],
   "source": [
    "#Sort the duplicate dataframe in ascending order with NA's in last\n",
    "sorted_df=dup_loanid.sort_values(['current_loan_amount', 'credit_score'], ascending=True, na_position='last')\n",
    "sorted_df.tail(10)"
   ]
  },
  {
   "cell_type": "code",
   "execution_count": null,
   "metadata": {
    "colab": {
     "base_uri": "https://localhost:8080/",
     "height": 496
    },
    "id": "BTX2C9z8_mbu",
    "outputId": "38671a09-be15-4958-e447-f3e28aa9d261",
    "scrolled": false
   },
   "outputs": [
    {
     "name": "stdout",
     "output_type": "stream",
     "text": [
      "(16328, 19)\n"
     ]
    },
    {
     "data": {
      "text/html": [
       "<div>\n",
       "<style scoped>\n",
       "    .dataframe tbody tr th:only-of-type {\n",
       "        vertical-align: middle;\n",
       "    }\n",
       "\n",
       "    .dataframe tbody tr th {\n",
       "        vertical-align: top;\n",
       "    }\n",
       "\n",
       "    .dataframe thead th {\n",
       "        text-align: right;\n",
       "    }\n",
       "</style>\n",
       "<table border=\"1\" class=\"dataframe\">\n",
       "  <thead>\n",
       "    <tr style=\"text-align: right;\">\n",
       "      <th></th>\n",
       "      <th>loan_id</th>\n",
       "      <th>customer_id</th>\n",
       "      <th>loan_status</th>\n",
       "      <th>current_loan_amount</th>\n",
       "      <th>term</th>\n",
       "      <th>credit_score</th>\n",
       "      <th>years_in_current_job</th>\n",
       "      <th>home_ownership</th>\n",
       "      <th>annual_income</th>\n",
       "      <th>purpose</th>\n",
       "      <th>monthly_debt</th>\n",
       "      <th>years_of_credit_history</th>\n",
       "      <th>months_since_last_delinquent</th>\n",
       "      <th>number_of_open_accounts</th>\n",
       "      <th>number_of_credit_problems</th>\n",
       "      <th>current_credit_balance</th>\n",
       "      <th>maximum_open_credit</th>\n",
       "      <th>bankruptcies</th>\n",
       "      <th>tax_liens</th>\n",
       "    </tr>\n",
       "  </thead>\n",
       "  <tbody>\n",
       "    <tr>\n",
       "      <th>61783</th>\n",
       "      <td>50118373-dd2c-402d-918b-a9e49d921eac</td>\n",
       "      <td>66a2647a-daec-494b-8588-2c846bba495f</td>\n",
       "      <td>Fully Paid</td>\n",
       "      <td>701</td>\n",
       "      <td>Short Term</td>\n",
       "      <td>718.000</td>\n",
       "      <td>&lt; 1 year</td>\n",
       "      <td>Rent</td>\n",
       "      <td>19040.000</td>\n",
       "      <td>Debt Consolidation</td>\n",
       "      <td>196.74</td>\n",
       "      <td>11.600</td>\n",
       "      <td>nan</td>\n",
       "      <td>4</td>\n",
       "      <td>0</td>\n",
       "      <td>0</td>\n",
       "      <td>0</td>\n",
       "      <td>0.000</td>\n",
       "      <td>0.000</td>\n",
       "    </tr>\n",
       "    <tr>\n",
       "      <th>55591</th>\n",
       "      <td>95ee0fe0-7e24-4b6d-bd08-797164f72ceb</td>\n",
       "      <td>cf0027fa-0825-4f09-8421-9d5cf90f558a</td>\n",
       "      <td>Fully Paid</td>\n",
       "      <td>975</td>\n",
       "      <td>Short Term</td>\n",
       "      <td>713.000</td>\n",
       "      <td>6 years</td>\n",
       "      <td>Rent</td>\n",
       "      <td>24378.000</td>\n",
       "      <td>Medical Bills</td>\n",
       "      <td>692.73</td>\n",
       "      <td>7.100</td>\n",
       "      <td>nan</td>\n",
       "      <td>10</td>\n",
       "      <td>0</td>\n",
       "      <td>4403</td>\n",
       "      <td>7313</td>\n",
       "      <td>0.000</td>\n",
       "      <td>0.000</td>\n",
       "    </tr>\n",
       "    <tr>\n",
       "      <th>89266</th>\n",
       "      <td>8e00abc0-5851-42ab-b25f-9855abaaf05a</td>\n",
       "      <td>95d93b04-476b-4238-826a-4148e846d9a7</td>\n",
       "      <td>Fully Paid</td>\n",
       "      <td>976</td>\n",
       "      <td>Short Term</td>\n",
       "      <td>683.000</td>\n",
       "      <td>10+ years</td>\n",
       "      <td>Rent</td>\n",
       "      <td>46824.000</td>\n",
       "      <td>Other</td>\n",
       "      <td>924.770</td>\n",
       "      <td>22.000</td>\n",
       "      <td>62.000</td>\n",
       "      <td>13</td>\n",
       "      <td>0</td>\n",
       "      <td>31614</td>\n",
       "      <td>40583</td>\n",
       "      <td>0.000</td>\n",
       "      <td>0.000</td>\n",
       "    </tr>\n",
       "    <tr>\n",
       "      <th>51100</th>\n",
       "      <td>d9cd4ffd-b274-466e-9c6a-6561f09721fe</td>\n",
       "      <td>b415677e-0c22-4ba5-a069-51045a21e351</td>\n",
       "      <td>Fully Paid</td>\n",
       "      <td>976</td>\n",
       "      <td>Short Term</td>\n",
       "      <td>718.000</td>\n",
       "      <td>10+ years</td>\n",
       "      <td>Home Mortgage</td>\n",
       "      <td>59536.000</td>\n",
       "      <td>other</td>\n",
       "      <td>1215.53</td>\n",
       "      <td>27.100</td>\n",
       "      <td>15.000</td>\n",
       "      <td>14</td>\n",
       "      <td>0</td>\n",
       "      <td>28791</td>\n",
       "      <td>53218</td>\n",
       "      <td>0.000</td>\n",
       "      <td>0.000</td>\n",
       "    </tr>\n",
       "    <tr>\n",
       "      <th>41869</th>\n",
       "      <td>0f5850ad-1c8d-4145-b796-7eead9ff4cbb</td>\n",
       "      <td>9747b64f-ad09-42f6-87ac-c34192972a92</td>\n",
       "      <td>Fully Paid</td>\n",
       "      <td>978</td>\n",
       "      <td>Short Term</td>\n",
       "      <td>680.000</td>\n",
       "      <td>NaN</td>\n",
       "      <td>Rent</td>\n",
       "      <td>39699.000</td>\n",
       "      <td>other</td>\n",
       "      <td>840.29</td>\n",
       "      <td>41.800</td>\n",
       "      <td>7.000</td>\n",
       "      <td>6</td>\n",
       "      <td>0</td>\n",
       "      <td>4263</td>\n",
       "      <td>7401</td>\n",
       "      <td>0.000</td>\n",
       "      <td>0.000</td>\n",
       "    </tr>\n",
       "  </tbody>\n",
       "</table>\n",
       "</div>"
      ],
      "text/plain": [
       "                                    loan_id  ... tax_liens\n",
       "61783  50118373-dd2c-402d-918b-a9e49d921eac  ...     0.000\n",
       "55591  95ee0fe0-7e24-4b6d-bd08-797164f72ceb  ...     0.000\n",
       "89266  8e00abc0-5851-42ab-b25f-9855abaaf05a  ...     0.000\n",
       "51100  d9cd4ffd-b274-466e-9c6a-6561f09721fe  ...     0.000\n",
       "41869  0f5850ad-1c8d-4145-b796-7eead9ff4cbb  ...     0.000\n",
       "\n",
       "[5 rows x 19 columns]"
      ]
     },
     "execution_count": 18,
     "metadata": {
      "tags": []
     },
     "output_type": "execute_result"
    }
   ],
   "source": [
    "#Considering samples which are genuine\n",
    "correct_df = sorted_df.drop_duplicates(['loan_id'], keep='first')\n",
    "print(correct_df.shape)\n",
    "correct_df.head()"
   ]
  },
  {
   "cell_type": "code",
   "execution_count": null,
   "metadata": {
    "colab": {
     "base_uri": "https://localhost:8080/",
     "height": 69
    },
    "id": "I8rE1bl2_mbv",
    "outputId": "3fe74791-c56f-4e81-c466-089b9ed00e7d",
    "scrolled": true
   },
   "outputs": [
    {
     "data": {
      "text/html": [
       "<div>\n",
       "<style scoped>\n",
       "    .dataframe tbody tr th:only-of-type {\n",
       "        vertical-align: middle;\n",
       "    }\n",
       "\n",
       "    .dataframe tbody tr th {\n",
       "        vertical-align: top;\n",
       "    }\n",
       "\n",
       "    .dataframe thead th {\n",
       "        text-align: right;\n",
       "    }\n",
       "</style>\n",
       "<table border=\"1\" class=\"dataframe\">\n",
       "  <thead>\n",
       "    <tr style=\"text-align: right;\">\n",
       "      <th></th>\n",
       "      <th>loan_id</th>\n",
       "      <th>customer_id</th>\n",
       "      <th>loan_status</th>\n",
       "      <th>current_loan_amount</th>\n",
       "      <th>term</th>\n",
       "      <th>credit_score</th>\n",
       "      <th>years_in_current_job</th>\n",
       "      <th>home_ownership</th>\n",
       "      <th>annual_income</th>\n",
       "      <th>purpose</th>\n",
       "      <th>monthly_debt</th>\n",
       "      <th>years_of_credit_history</th>\n",
       "      <th>months_since_last_delinquent</th>\n",
       "      <th>number_of_open_accounts</th>\n",
       "      <th>number_of_credit_problems</th>\n",
       "      <th>current_credit_balance</th>\n",
       "      <th>maximum_open_credit</th>\n",
       "      <th>bankruptcies</th>\n",
       "      <th>tax_liens</th>\n",
       "    </tr>\n",
       "  </thead>\n",
       "  <tbody>\n",
       "  </tbody>\n",
       "</table>\n",
       "</div>"
      ],
      "text/plain": [
       "Empty DataFrame\n",
       "Columns: [loan_id, customer_id, loan_status, current_loan_amount, term, credit_score, years_in_current_job, home_ownership, annual_income, purpose, monthly_debt, years_of_credit_history, months_since_last_delinquent, number_of_open_accounts, number_of_credit_problems, current_credit_balance, maximum_open_credit, bankruptcies, tax_liens]\n",
       "Index: []"
      ]
     },
     "execution_count": 19,
     "metadata": {
      "tags": []
     },
     "output_type": "execute_result"
    }
   ],
   "source": [
    "#Check if there is any such placeholder in duplicates\n",
    "correct_df[correct_df['current_loan_amount']==99999999]"
   ]
  },
  {
   "cell_type": "code",
   "execution_count": null,
   "metadata": {
    "colab": {
     "base_uri": "https://localhost:8080/",
     "height": 69
    },
    "id": "NlVK-_I9_mbv",
    "outputId": "653a9459-ed15-4069-e28d-169d1e2b9b5b",
    "scrolled": true
   },
   "outputs": [
    {
     "data": {
      "text/html": [
       "<div>\n",
       "<style scoped>\n",
       "    .dataframe tbody tr th:only-of-type {\n",
       "        vertical-align: middle;\n",
       "    }\n",
       "\n",
       "    .dataframe tbody tr th {\n",
       "        vertical-align: top;\n",
       "    }\n",
       "\n",
       "    .dataframe thead th {\n",
       "        text-align: right;\n",
       "    }\n",
       "</style>\n",
       "<table border=\"1\" class=\"dataframe\">\n",
       "  <thead>\n",
       "    <tr style=\"text-align: right;\">\n",
       "      <th></th>\n",
       "      <th>loan_id</th>\n",
       "      <th>customer_id</th>\n",
       "      <th>loan_status</th>\n",
       "      <th>current_loan_amount</th>\n",
       "      <th>term</th>\n",
       "      <th>credit_score</th>\n",
       "      <th>years_in_current_job</th>\n",
       "      <th>home_ownership</th>\n",
       "      <th>annual_income</th>\n",
       "      <th>purpose</th>\n",
       "      <th>monthly_debt</th>\n",
       "      <th>years_of_credit_history</th>\n",
       "      <th>months_since_last_delinquent</th>\n",
       "      <th>number_of_open_accounts</th>\n",
       "      <th>number_of_credit_problems</th>\n",
       "      <th>current_credit_balance</th>\n",
       "      <th>maximum_open_credit</th>\n",
       "      <th>bankruptcies</th>\n",
       "      <th>tax_liens</th>\n",
       "    </tr>\n",
       "  </thead>\n",
       "  <tbody>\n",
       "  </tbody>\n",
       "</table>\n",
       "</div>"
      ],
      "text/plain": [
       "Empty DataFrame\n",
       "Columns: [loan_id, customer_id, loan_status, current_loan_amount, term, credit_score, years_in_current_job, home_ownership, annual_income, purpose, monthly_debt, years_of_credit_history, months_since_last_delinquent, number_of_open_accounts, number_of_credit_problems, current_credit_balance, maximum_open_credit, bankruptcies, tax_liens]\n",
       "Index: []"
      ]
     },
     "execution_count": 20,
     "metadata": {
      "tags": []
     },
     "output_type": "execute_result"
    }
   ],
   "source": [
    "#check if there is still Na's in duplicates\n",
    "correct_df[correct_df['credit_score'].isnull()]"
   ]
  },
  {
   "cell_type": "code",
   "execution_count": null,
   "metadata": {
    "id": "tyJvpHUP_mbv"
   },
   "outputs": [],
   "source": [
    "# Droping the duplicate loan ID's \n",
    "data.drop_duplicates(['loan_id'], keep=False, inplace=True)"
   ]
  },
  {
   "cell_type": "code",
   "execution_count": null,
   "metadata": {
    "colab": {
     "base_uri": "https://localhost:8080/"
    },
    "id": "a_x63g5a_mbw",
    "outputId": "70ca18f6-db43-4857-ecf5-2245dd301791"
   },
   "outputs": [
    {
     "data": {
      "text/plain": [
       "(72582, 19)"
      ]
     },
     "execution_count": 22,
     "metadata": {
      "tags": []
     },
     "output_type": "execute_result"
    }
   ],
   "source": [
    "data.shape"
   ]
  },
  {
   "cell_type": "code",
   "execution_count": null,
   "metadata": {
    "colab": {
     "base_uri": "https://localhost:8080/",
     "height": 334
    },
    "id": "vrAq6eDZ_mbw",
    "outputId": "8c99bfb6-af09-473f-976c-885d07860426"
   },
   "outputs": [
    {
     "name": "stdout",
     "output_type": "stream",
     "text": [
      "(88910, 19)\n"
     ]
    },
    {
     "data": {
      "text/html": [
       "<div>\n",
       "<style scoped>\n",
       "    .dataframe tbody tr th:only-of-type {\n",
       "        vertical-align: middle;\n",
       "    }\n",
       "\n",
       "    .dataframe tbody tr th {\n",
       "        vertical-align: top;\n",
       "    }\n",
       "\n",
       "    .dataframe thead th {\n",
       "        text-align: right;\n",
       "    }\n",
       "</style>\n",
       "<table border=\"1\" class=\"dataframe\">\n",
       "  <thead>\n",
       "    <tr style=\"text-align: right;\">\n",
       "      <th></th>\n",
       "      <th>current_loan_amount</th>\n",
       "      <th>credit_score</th>\n",
       "      <th>annual_income</th>\n",
       "      <th>years_of_credit_history</th>\n",
       "      <th>months_since_last_delinquent</th>\n",
       "      <th>number_of_open_accounts</th>\n",
       "      <th>number_of_credit_problems</th>\n",
       "      <th>current_credit_balance</th>\n",
       "      <th>bankruptcies</th>\n",
       "      <th>tax_liens</th>\n",
       "    </tr>\n",
       "  </thead>\n",
       "  <tbody>\n",
       "    <tr>\n",
       "      <th>count</th>\n",
       "      <td>88910.000</td>\n",
       "      <td>72821.000</td>\n",
       "      <td>72821.000</td>\n",
       "      <td>88910.000</td>\n",
       "      <td>40404.000</td>\n",
       "      <td>88910.000</td>\n",
       "      <td>88910.000</td>\n",
       "      <td>88910.000</td>\n",
       "      <td>88718.000</td>\n",
       "      <td>88902.000</td>\n",
       "    </tr>\n",
       "    <tr>\n",
       "      <th>mean</th>\n",
       "      <td>9365954.611</td>\n",
       "      <td>1163.220</td>\n",
       "      <td>72404.817</td>\n",
       "      <td>18.315</td>\n",
       "      <td>35.080</td>\n",
       "      <td>11.110</td>\n",
       "      <td>0.160</td>\n",
       "      <td>15435.933</td>\n",
       "      <td>0.113</td>\n",
       "      <td>0.028</td>\n",
       "    </tr>\n",
       "    <tr>\n",
       "      <th>std</th>\n",
       "      <td>29113854.230</td>\n",
       "      <td>1624.255</td>\n",
       "      <td>57713.555</td>\n",
       "      <td>7.049</td>\n",
       "      <td>22.009</td>\n",
       "      <td>4.978</td>\n",
       "      <td>0.474</td>\n",
       "      <td>19658.726</td>\n",
       "      <td>0.343</td>\n",
       "      <td>0.258</td>\n",
       "    </tr>\n",
       "    <tr>\n",
       "      <th>min</th>\n",
       "      <td>491.000</td>\n",
       "      <td>585.000</td>\n",
       "      <td>4033.000</td>\n",
       "      <td>3.600</td>\n",
       "      <td>0.000</td>\n",
       "      <td>0.000</td>\n",
       "      <td>0.000</td>\n",
       "      <td>0.000</td>\n",
       "      <td>0.000</td>\n",
       "      <td>0.000</td>\n",
       "    </tr>\n",
       "    <tr>\n",
       "      <th>25%</th>\n",
       "      <td>8066.000</td>\n",
       "      <td>711.000</td>\n",
       "      <td>44638.000</td>\n",
       "      <td>13.500</td>\n",
       "      <td>16.000</td>\n",
       "      <td>8.000</td>\n",
       "      <td>0.000</td>\n",
       "      <td>5949.000</td>\n",
       "      <td>0.000</td>\n",
       "      <td>0.000</td>\n",
       "    </tr>\n",
       "    <tr>\n",
       "      <th>50%</th>\n",
       "      <td>13386.500</td>\n",
       "      <td>731.000</td>\n",
       "      <td>61585.000</td>\n",
       "      <td>17.000</td>\n",
       "      <td>32.000</td>\n",
       "      <td>10.000</td>\n",
       "      <td>0.000</td>\n",
       "      <td>11039.000</td>\n",
       "      <td>0.000</td>\n",
       "      <td>0.000</td>\n",
       "    </tr>\n",
       "    <tr>\n",
       "      <th>75%</th>\n",
       "      <td>21611.750</td>\n",
       "      <td>743.000</td>\n",
       "      <td>86785.000</td>\n",
       "      <td>21.800</td>\n",
       "      <td>51.000</td>\n",
       "      <td>14.000</td>\n",
       "      <td>0.000</td>\n",
       "      <td>19301.000</td>\n",
       "      <td>0.000</td>\n",
       "      <td>0.000</td>\n",
       "    </tr>\n",
       "    <tr>\n",
       "      <th>max</th>\n",
       "      <td>99999999.000</td>\n",
       "      <td>7510.000</td>\n",
       "      <td>8713547.000</td>\n",
       "      <td>70.500</td>\n",
       "      <td>176.000</td>\n",
       "      <td>76.000</td>\n",
       "      <td>15.000</td>\n",
       "      <td>1730472.000</td>\n",
       "      <td>7.000</td>\n",
       "      <td>15.000</td>\n",
       "    </tr>\n",
       "  </tbody>\n",
       "</table>\n",
       "</div>"
      ],
      "text/plain": [
       "       current_loan_amount  credit_score  ...  bankruptcies  tax_liens\n",
       "count            88910.000     72821.000  ...     88718.000  88902.000\n",
       "mean           9365954.611      1163.220  ...         0.113      0.028\n",
       "std           29113854.230      1624.255  ...         0.343      0.258\n",
       "min                491.000       585.000  ...         0.000      0.000\n",
       "25%               8066.000       711.000  ...         0.000      0.000\n",
       "50%              13386.500       731.000  ...         0.000      0.000\n",
       "75%              21611.750       743.000  ...         0.000      0.000\n",
       "max           99999999.000      7510.000  ...         7.000     15.000\n",
       "\n",
       "[8 rows x 10 columns]"
      ]
     },
     "execution_count": 23,
     "metadata": {
      "tags": []
     },
     "output_type": "execute_result"
    }
   ],
   "source": [
    "# Getting the final train data which is all genuine\n",
    "data = data.append(correct_df, ignore_index=True)\n",
    "print(data.shape)\n",
    "data.describe()"
   ]
  },
  {
   "cell_type": "markdown",
   "metadata": {
    "id": "NTZv2ji6_mbw"
   },
   "source": [
    "### Preprocessing / Cleaning the data"
   ]
  },
  {
   "cell_type": "markdown",
   "metadata": {
    "id": "PPmf7Aoq_mbx"
   },
   "source": [
    "#### Feature: Years in Current Job"
   ]
  },
  {
   "cell_type": "markdown",
   "metadata": {
    "id": "9sSyUSw6_mbx"
   },
   "source": [
    "Remove the special charachters and other words and make it numeric."
   ]
  },
  {
   "cell_type": "code",
   "execution_count": null,
   "metadata": {
    "colab": {
     "base_uri": "https://localhost:8080/"
    },
    "id": "4tsPrpaS_mbx",
    "outputId": "da28c36d-2be7-42b2-b1ba-210a95d74c0b",
    "scrolled": true
   },
   "outputs": [
    {
     "data": {
      "text/plain": [
       "array(['< 1 year', '10+ years', '9 years', '3 years', '2 years',\n",
       "       '7 years', '6 years', '1 year', '5 years', '4 years', '8 years',\n",
       "       nan], dtype=object)"
      ]
     },
     "execution_count": 24,
     "metadata": {
      "tags": []
     },
     "output_type": "execute_result"
    }
   ],
   "source": [
    "data['years_in_current_job'].unique()"
   ]
  },
  {
   "cell_type": "code",
   "execution_count": null,
   "metadata": {
    "colab": {
     "base_uri": "https://localhost:8080/"
    },
    "id": "2nFeyB57_mbx",
    "outputId": "7d3b348c-16ec-432e-f0c7-86103d342044"
   },
   "outputs": [
    {
     "data": {
      "text/plain": [
       "array([ 0., 10.,  9.,  3.,  2.,  7.,  6.,  1.,  5.,  4.,  8., nan])"
      ]
     },
     "execution_count": 25,
     "metadata": {
      "tags": []
     },
     "output_type": "execute_result"
    }
   ],
   "source": [
    "data['years_in_current_job'] = [0 if str(x)=='< 1 year' else x if str(x)=='nan' else int(re.findall(r'\\d+', str(x))[0]) for x in data['years_in_current_job']]\n",
    "data['years_in_current_job'].unique()"
   ]
  },
  {
   "cell_type": "markdown",
   "metadata": {
    "id": "LBlw_apD_mby"
   },
   "source": [
    "#### Feature: Credit Score"
   ]
  },
  {
   "cell_type": "markdown",
   "metadata": {
    "id": "RS98cZqo_mby"
   },
   "source": [
    "Credit Score range is from 0 to 800 but there are some values greater than this basically this is some data error."
   ]
  },
  {
   "cell_type": "code",
   "execution_count": null,
   "metadata": {
    "colab": {
     "base_uri": "https://localhost:8080/"
    },
    "id": "NbN7IPXE_mby",
    "outputId": "1f9c53dc-1198-4d44-9220-d6b8031f24a7"
   },
   "outputs": [
    {
     "data": {
      "text/plain": [
       "0   7280.000\n",
       "1   7330.000\n",
       "2   7240.000\n",
       "3   7400.000\n",
       "4   6860.000\n",
       "5   7420.000\n",
       "6   7420.000\n",
       "7   6630.000\n",
       "8   7360.000\n",
       "9   6720.000\n",
       "Name: credit_score, dtype: float64"
      ]
     },
     "execution_count": 26,
     "metadata": {
      "tags": []
     },
     "output_type": "execute_result"
    }
   ],
   "source": [
    "data['credit_score'].head(10)"
   ]
  },
  {
   "cell_type": "code",
   "execution_count": null,
   "metadata": {
    "id": "7TvbTeWz_mby"
   },
   "outputs": [],
   "source": [
    "# Function to bring credit score in range\n",
    "def credit_range(x):\n",
    "    if x > 800:\n",
    "        return int(x/10)\n",
    "    elif str(x) == 'nan' : \n",
    "        return x\n",
    "    else:\n",
    "        return int(x)"
   ]
  },
  {
   "cell_type": "code",
   "execution_count": null,
   "metadata": {
    "colab": {
     "base_uri": "https://localhost:8080/"
    },
    "id": "7_yZ7Mki_mbz",
    "outputId": "bacb5e55-ea41-4f6c-9dd6-d47d6643623c",
    "scrolled": false
   },
   "outputs": [
    {
     "data": {
      "text/plain": [
       "0   728.000\n",
       "1   733.000\n",
       "2   724.000\n",
       "3   740.000\n",
       "4   686.000\n",
       "5   742.000\n",
       "6   742.000\n",
       "7   663.000\n",
       "8   736.000\n",
       "9   672.000\n",
       "Name: credit_score, dtype: float64"
      ]
     },
     "execution_count": 28,
     "metadata": {
      "tags": []
     },
     "output_type": "execute_result"
    }
   ],
   "source": [
    "data['credit_score'] = data['credit_score'].map(credit_range)\n",
    "data['credit_score'].head(10)"
   ]
  },
  {
   "cell_type": "markdown",
   "metadata": {
    "id": "CGzCYa5V_mbz"
   },
   "source": [
    "#### Feature: Maximum Open Credit"
   ]
  },
  {
   "cell_type": "markdown",
   "metadata": {
    "id": "ps7Ya4rq_mbz"
   },
   "source": [
    "There is one data error which needs to be handled."
   ]
  },
  {
   "cell_type": "code",
   "execution_count": null,
   "metadata": {
    "colab": {
     "base_uri": "https://localhost:8080/",
     "height": 250
    },
    "id": "7dzVd0Ek_mbz",
    "outputId": "0b55f98a-93e9-4a0b-98d8-1a863880c8c4"
   },
   "outputs": [
    {
     "name": "stdout",
     "output_type": "stream",
     "text": [
      "(88910, 19)\n"
     ]
    },
    {
     "data": {
      "text/html": [
       "<div>\n",
       "<style scoped>\n",
       "    .dataframe tbody tr th:only-of-type {\n",
       "        vertical-align: middle;\n",
       "    }\n",
       "\n",
       "    .dataframe tbody tr th {\n",
       "        vertical-align: top;\n",
       "    }\n",
       "\n",
       "    .dataframe thead th {\n",
       "        text-align: right;\n",
       "    }\n",
       "</style>\n",
       "<table border=\"1\" class=\"dataframe\">\n",
       "  <thead>\n",
       "    <tr style=\"text-align: right;\">\n",
       "      <th></th>\n",
       "      <th>loan_id</th>\n",
       "      <th>customer_id</th>\n",
       "      <th>loan_status</th>\n",
       "      <th>current_loan_amount</th>\n",
       "      <th>term</th>\n",
       "      <th>credit_score</th>\n",
       "      <th>years_in_current_job</th>\n",
       "      <th>home_ownership</th>\n",
       "      <th>annual_income</th>\n",
       "      <th>purpose</th>\n",
       "      <th>monthly_debt</th>\n",
       "      <th>years_of_credit_history</th>\n",
       "      <th>months_since_last_delinquent</th>\n",
       "      <th>number_of_open_accounts</th>\n",
       "      <th>number_of_credit_problems</th>\n",
       "      <th>current_credit_balance</th>\n",
       "      <th>maximum_open_credit</th>\n",
       "      <th>bankruptcies</th>\n",
       "      <th>tax_liens</th>\n",
       "    </tr>\n",
       "  </thead>\n",
       "  <tbody>\n",
       "    <tr>\n",
       "      <th>4930</th>\n",
       "      <td>e42ae1f7-74b5-46d7-95ce-46a88918ba12</td>\n",
       "      <td>a679ed55-963a-4de6-8be0-4364eb601b6f</td>\n",
       "      <td>Charged Off</td>\n",
       "      <td>2052</td>\n",
       "      <td>Short Term</td>\n",
       "      <td>703.000</td>\n",
       "      <td>10.000</td>\n",
       "      <td>Rent</td>\n",
       "      <td>95105.000</td>\n",
       "      <td>Debt Consolidation</td>\n",
       "      <td>1910.02</td>\n",
       "      <td>22.400</td>\n",
       "      <td>37.000</td>\n",
       "      <td>9</td>\n",
       "      <td>0</td>\n",
       "      <td>0</td>\n",
       "      <td>#VALUE!</td>\n",
       "      <td>0.000</td>\n",
       "      <td>0.000</td>\n",
       "    </tr>\n",
       "    <tr>\n",
       "      <th>28112</th>\n",
       "      <td>b798f46b-e27b-4823-af83-294b1ffc3490</td>\n",
       "      <td>f61890c5-e264-4b0f-a047-9cfa03b9d182</td>\n",
       "      <td>Charged Off</td>\n",
       "      <td>1470</td>\n",
       "      <td>Short Term</td>\n",
       "      <td>nan</td>\n",
       "      <td>2.000</td>\n",
       "      <td>Rent</td>\n",
       "      <td>nan</td>\n",
       "      <td>Debt Consolidation</td>\n",
       "      <td>506.34</td>\n",
       "      <td>15.300</td>\n",
       "      <td>26.000</td>\n",
       "      <td>3</td>\n",
       "      <td>0</td>\n",
       "      <td>0</td>\n",
       "      <td>#VALUE!</td>\n",
       "      <td>0.000</td>\n",
       "      <td>0.000</td>\n",
       "    </tr>\n",
       "  </tbody>\n",
       "</table>\n",
       "</div>"
      ],
      "text/plain": [
       "                                    loan_id  ... tax_liens\n",
       "4930   e42ae1f7-74b5-46d7-95ce-46a88918ba12  ...     0.000\n",
       "28112  b798f46b-e27b-4823-af83-294b1ffc3490  ...     0.000\n",
       "\n",
       "[2 rows x 19 columns]"
      ]
     },
     "execution_count": 29,
     "metadata": {
      "tags": []
     },
     "output_type": "execute_result"
    }
   ],
   "source": [
    "print(data.shape)\n",
    "data[data['maximum_open_credit']=='#VALUE!']"
   ]
  },
  {
   "cell_type": "code",
   "execution_count": null,
   "metadata": {
    "colab": {
     "base_uri": "https://localhost:8080/"
    },
    "id": "Mt5Ls3F2_mb0",
    "outputId": "b3d12aa9-3177-4db3-c566-b06febd6bed6"
   },
   "outputs": [
    {
     "data": {
      "text/plain": [
       "(88908, 19)"
      ]
     },
     "execution_count": 30,
     "metadata": {
      "tags": []
     },
     "output_type": "execute_result"
    }
   ],
   "source": [
    "data = data[data['maximum_open_credit'] != '#VALUE!']\n",
    "data['maximum_open_credit']= pd.to_numeric(data['maximum_open_credit'])\n",
    "data.shape"
   ]
  },
  {
   "cell_type": "markdown",
   "metadata": {
    "id": "1J1hFyr8_mb0"
   },
   "source": [
    "#### Feature: Monthly Debt"
   ]
  },
  {
   "cell_type": "code",
   "execution_count": null,
   "metadata": {
    "colab": {
     "base_uri": "https://localhost:8080/"
    },
    "id": "jFSRxLD_3GrL",
    "outputId": "c04d1cb6-a8e9-4024-bae9-501b0dc99afc"
   },
   "outputs": [
    {
     "data": {
      "text/plain": [
       "0         777.39\n",
       "1         892.09\n",
       "2        1244.02\n",
       "3         990.94\n",
       "4         503.71\n",
       "          ...   \n",
       "88905    2102.97\n",
       "88906   2044.480\n",
       "88907   2327.800\n",
       "88908   1537.500\n",
       "88909   6005.530\n",
       "Name: monthly_debt, Length: 88908, dtype: object"
      ]
     },
     "execution_count": 31,
     "metadata": {
      "tags": []
     },
     "output_type": "execute_result"
    }
   ],
   "source": [
    "data['monthly_debt']"
   ]
  },
  {
   "cell_type": "markdown",
   "metadata": {
    "id": "nvXAMKDi_mb0"
   },
   "source": [
    "Monthly debt has Currency symbol due to which its datatype is string, remove it and convert it to numeric."
   ]
  },
  {
   "cell_type": "code",
   "execution_count": null,
   "metadata": {
    "colab": {
     "base_uri": "https://localhost:8080/"
    },
    "id": "rC9ZyLWt_mb0",
    "outputId": "effbcd25-55f7-4488-f2ad-fd6f15018756",
    "scrolled": true
   },
   "outputs": [
    {
     "data": {
      "text/plain": [
       "count   55863.000\n",
       "mean      954.744\n",
       "std       628.235\n",
       "min         0.000\n",
       "25%       528.520\n",
       "50%       836.510\n",
       "75%      1240.750\n",
       "max     10831.650\n",
       "Name: monthly_debt, dtype: float64"
      ]
     },
     "execution_count": 32,
     "metadata": {
      "tags": []
     },
     "output_type": "execute_result"
    }
   ],
   "source": [
    "data['monthly_debt']=data['monthly_debt'].str.strip('$')\n",
    "data['monthly_debt']=pd.to_numeric(data['monthly_debt'])\n",
    "data['monthly_debt'].describe()"
   ]
  },
  {
   "cell_type": "markdown",
   "metadata": {
    "id": "YDUARPEx_mb1"
   },
   "source": [
    "### Handling Missing Values and Outliers"
   ]
  },
  {
   "cell_type": "markdown",
   "metadata": {
    "id": "Rd1YRcDM_mb1"
   },
   "source": [
    "Describe the data and check which feature has Missing Values and if there is any Outlier. "
   ]
  },
  {
   "cell_type": "code",
   "execution_count": null,
   "metadata": {
    "colab": {
     "base_uri": "https://localhost:8080/",
     "height": 317
    },
    "id": "ZwgCEtTn_mb1",
    "outputId": "f00ee4db-8ea2-46f3-e3c1-1700b46ce2ef",
    "scrolled": false
   },
   "outputs": [
    {
     "data": {
      "text/html": [
       "<div>\n",
       "<style scoped>\n",
       "    .dataframe tbody tr th:only-of-type {\n",
       "        vertical-align: middle;\n",
       "    }\n",
       "\n",
       "    .dataframe tbody tr th {\n",
       "        vertical-align: top;\n",
       "    }\n",
       "\n",
       "    .dataframe thead th {\n",
       "        text-align: right;\n",
       "    }\n",
       "</style>\n",
       "<table border=\"1\" class=\"dataframe\">\n",
       "  <thead>\n",
       "    <tr style=\"text-align: right;\">\n",
       "      <th></th>\n",
       "      <th>current_loan_amount</th>\n",
       "      <th>credit_score</th>\n",
       "      <th>years_in_current_job</th>\n",
       "      <th>annual_income</th>\n",
       "      <th>monthly_debt</th>\n",
       "      <th>years_of_credit_history</th>\n",
       "      <th>months_since_last_delinquent</th>\n",
       "      <th>number_of_open_accounts</th>\n",
       "      <th>number_of_credit_problems</th>\n",
       "      <th>current_credit_balance</th>\n",
       "      <th>maximum_open_credit</th>\n",
       "      <th>bankruptcies</th>\n",
       "      <th>tax_liens</th>\n",
       "    </tr>\n",
       "  </thead>\n",
       "  <tbody>\n",
       "    <tr>\n",
       "      <th>count</th>\n",
       "      <td>88908.000</td>\n",
       "      <td>72820.000</td>\n",
       "      <td>85091.000</td>\n",
       "      <td>72820.000</td>\n",
       "      <td>55863.000</td>\n",
       "      <td>88908.000</td>\n",
       "      <td>40402.000</td>\n",
       "      <td>88908.000</td>\n",
       "      <td>88908.000</td>\n",
       "      <td>88908.000</td>\n",
       "      <td>88908.000</td>\n",
       "      <td>88716.000</td>\n",
       "      <td>88900.000</td>\n",
       "    </tr>\n",
       "    <tr>\n",
       "      <th>mean</th>\n",
       "      <td>9366165.261</td>\n",
       "      <td>720.048</td>\n",
       "      <td>5.870</td>\n",
       "      <td>72404.505</td>\n",
       "      <td>954.744</td>\n",
       "      <td>18.315</td>\n",
       "      <td>35.080</td>\n",
       "      <td>11.110</td>\n",
       "      <td>0.160</td>\n",
       "      <td>15436.280</td>\n",
       "      <td>35965.310</td>\n",
       "      <td>0.113</td>\n",
       "      <td>0.028</td>\n",
       "    </tr>\n",
       "    <tr>\n",
       "      <th>std</th>\n",
       "      <td>29114147.815</td>\n",
       "      <td>27.814</td>\n",
       "      <td>3.630</td>\n",
       "      <td>57713.890</td>\n",
       "      <td>628.235</td>\n",
       "      <td>7.049</td>\n",
       "      <td>22.009</td>\n",
       "      <td>4.978</td>\n",
       "      <td>0.474</td>\n",
       "      <td>19658.811</td>\n",
       "      <td>404180.506</td>\n",
       "      <td>0.343</td>\n",
       "      <td>0.258</td>\n",
       "    </tr>\n",
       "    <tr>\n",
       "      <th>min</th>\n",
       "      <td>491.000</td>\n",
       "      <td>585.000</td>\n",
       "      <td>0.000</td>\n",
       "      <td>4033.000</td>\n",
       "      <td>0.000</td>\n",
       "      <td>3.600</td>\n",
       "      <td>0.000</td>\n",
       "      <td>0.000</td>\n",
       "      <td>0.000</td>\n",
       "      <td>0.000</td>\n",
       "      <td>0.000</td>\n",
       "      <td>0.000</td>\n",
       "      <td>0.000</td>\n",
       "    </tr>\n",
       "    <tr>\n",
       "      <th>25%</th>\n",
       "      <td>8066.750</td>\n",
       "      <td>708.000</td>\n",
       "      <td>3.000</td>\n",
       "      <td>44637.500</td>\n",
       "      <td>528.520</td>\n",
       "      <td>13.500</td>\n",
       "      <td>16.000</td>\n",
       "      <td>8.000</td>\n",
       "      <td>0.000</td>\n",
       "      <td>5949.000</td>\n",
       "      <td>12775.000</td>\n",
       "      <td>0.000</td>\n",
       "      <td>0.000</td>\n",
       "    </tr>\n",
       "    <tr>\n",
       "      <th>50%</th>\n",
       "      <td>13387.000</td>\n",
       "      <td>728.000</td>\n",
       "      <td>6.000</td>\n",
       "      <td>61585.000</td>\n",
       "      <td>836.510</td>\n",
       "      <td>17.000</td>\n",
       "      <td>32.000</td>\n",
       "      <td>10.000</td>\n",
       "      <td>0.000</td>\n",
       "      <td>11039.000</td>\n",
       "      <td>21781.000</td>\n",
       "      <td>0.000</td>\n",
       "      <td>0.000</td>\n",
       "    </tr>\n",
       "    <tr>\n",
       "      <th>75%</th>\n",
       "      <td>21612.250</td>\n",
       "      <td>741.000</td>\n",
       "      <td>10.000</td>\n",
       "      <td>86785.000</td>\n",
       "      <td>1240.750</td>\n",
       "      <td>21.800</td>\n",
       "      <td>51.000</td>\n",
       "      <td>14.000</td>\n",
       "      <td>0.000</td>\n",
       "      <td>19301.000</td>\n",
       "      <td>36367.000</td>\n",
       "      <td>0.000</td>\n",
       "      <td>0.000</td>\n",
       "    </tr>\n",
       "    <tr>\n",
       "      <th>max</th>\n",
       "      <td>99999999.000</td>\n",
       "      <td>751.000</td>\n",
       "      <td>10.000</td>\n",
       "      <td>8713547.000</td>\n",
       "      <td>10831.650</td>\n",
       "      <td>70.500</td>\n",
       "      <td>176.000</td>\n",
       "      <td>76.000</td>\n",
       "      <td>15.000</td>\n",
       "      <td>1730472.000</td>\n",
       "      <td>69988086.000</td>\n",
       "      <td>7.000</td>\n",
       "      <td>15.000</td>\n",
       "    </tr>\n",
       "  </tbody>\n",
       "</table>\n",
       "</div>"
      ],
      "text/plain": [
       "       current_loan_amount  credit_score  ...  bankruptcies  tax_liens\n",
       "count            88908.000     72820.000  ...     88716.000  88900.000\n",
       "mean           9366165.261       720.048  ...         0.113      0.028\n",
       "std           29114147.815        27.814  ...         0.343      0.258\n",
       "min                491.000       585.000  ...         0.000      0.000\n",
       "25%               8066.750       708.000  ...         0.000      0.000\n",
       "50%              13387.000       728.000  ...         0.000      0.000\n",
       "75%              21612.250       741.000  ...         0.000      0.000\n",
       "max           99999999.000       751.000  ...         7.000     15.000\n",
       "\n",
       "[8 rows x 13 columns]"
      ]
     },
     "execution_count": 33,
     "metadata": {
      "tags": []
     },
     "output_type": "execute_result"
    }
   ],
   "source": [
    "data.describe()"
   ]
  },
  {
   "cell_type": "markdown",
   "metadata": {
    "id": "dnAiGB3F_mb1"
   },
   "source": [
    "#### Outlier treatment: Current Loan Amount"
   ]
  },
  {
   "cell_type": "code",
   "execution_count": null,
   "metadata": {
    "colab": {
     "base_uri": "https://localhost:8080/",
     "height": 278
    },
    "id": "AsHTafNo_mb2",
    "outputId": "4643654d-7616-4850-cba6-fe7c8db4ab44"
   },
   "outputs": [
    {
     "data": {
      "image/png": "[encoded data removed]",
      "text/plain": [
       "<Figure size 432x288 with 1 Axes>"
      ]
     },
     "metadata": {
      "needs_background": "light",
      "tags": []
     },
     "output_type": "display_data"
    }
   ],
   "source": [
    "ax = sns.boxplot(data=data['current_loan_amount'], orient=\"h\", palette=\"Set2\")"
   ]
  },
  {
   "cell_type": "code",
   "execution_count": null,
   "metadata": {
    "colab": {
     "base_uri": "https://localhost:8080/",
     "height": 949
    },
    "id": "zn4xZXog_mb2",
    "outputId": "434a09c8-21d5-4cdd-f594-8a477f9ef381"
   },
   "outputs": [
    {
     "data": {
      "text/html": [
       "<div>\n",
       "<style scoped>\n",
       "    .dataframe tbody tr th:only-of-type {\n",
       "        vertical-align: middle;\n",
       "    }\n",
       "\n",
       "    .dataframe tbody tr th {\n",
       "        vertical-align: top;\n",
       "    }\n",
       "\n",
       "    .dataframe thead th {\n",
       "        text-align: right;\n",
       "    }\n",
       "</style>\n",
       "<table border=\"1\" class=\"dataframe\">\n",
       "  <thead>\n",
       "    <tr style=\"text-align: right;\">\n",
       "      <th></th>\n",
       "      <th>loan_id</th>\n",
       "      <th>customer_id</th>\n",
       "      <th>loan_status</th>\n",
       "      <th>current_loan_amount</th>\n",
       "      <th>term</th>\n",
       "      <th>credit_score</th>\n",
       "      <th>years_in_current_job</th>\n",
       "      <th>home_ownership</th>\n",
       "      <th>annual_income</th>\n",
       "      <th>purpose</th>\n",
       "      <th>monthly_debt</th>\n",
       "      <th>years_of_credit_history</th>\n",
       "      <th>months_since_last_delinquent</th>\n",
       "      <th>number_of_open_accounts</th>\n",
       "      <th>number_of_credit_problems</th>\n",
       "      <th>current_credit_balance</th>\n",
       "      <th>maximum_open_credit</th>\n",
       "      <th>bankruptcies</th>\n",
       "      <th>tax_liens</th>\n",
       "    </tr>\n",
       "  </thead>\n",
       "  <tbody>\n",
       "    <tr>\n",
       "      <th>5044</th>\n",
       "      <td>bac918fa-35e0-40a2-af65-58b456a742e7</td>\n",
       "      <td>c96da120-30d2-4acd-9740-e4d280f4bfcb</td>\n",
       "      <td>Fully Paid</td>\n",
       "      <td>99999999</td>\n",
       "      <td>Short Term</td>\n",
       "      <td>739.000</td>\n",
       "      <td>3.000</td>\n",
       "      <td>Home Mortgage</td>\n",
       "      <td>60012.000</td>\n",
       "      <td>Home Improvements</td>\n",
       "      <td>1295.260</td>\n",
       "      <td>16.600</td>\n",
       "      <td>33.000</td>\n",
       "      <td>16</td>\n",
       "      <td>0</td>\n",
       "      <td>427</td>\n",
       "      <td>8542</td>\n",
       "      <td>0.000</td>\n",
       "      <td>0.000</td>\n",
       "    </tr>\n",
       "    <tr>\n",
       "      <th>5045</th>\n",
       "      <td>0c7fcf5e-ec4a-46d5-8175-15c846df7c74</td>\n",
       "      <td>a709e893-b6b6-49ed-b775-bdef1155c78d</td>\n",
       "      <td>Fully Paid</td>\n",
       "      <td>99999999</td>\n",
       "      <td>Short Term</td>\n",
       "      <td>751.000</td>\n",
       "      <td>5.000</td>\n",
       "      <td>Rent</td>\n",
       "      <td>35693.000</td>\n",
       "      <td>Debt Consolidation</td>\n",
       "      <td>626.120</td>\n",
       "      <td>11.000</td>\n",
       "      <td>nan</td>\n",
       "      <td>7</td>\n",
       "      <td>0</td>\n",
       "      <td>742</td>\n",
       "      <td>9166</td>\n",
       "      <td>0.000</td>\n",
       "      <td>0.000</td>\n",
       "    </tr>\n",
       "    <tr>\n",
       "      <th>5046</th>\n",
       "      <td>878c4189-bd53-4836-a16d-203519034758</td>\n",
       "      <td>64fa8876-80fa-4a69-b16b-144a8ecfb14a</td>\n",
       "      <td>Fully Paid</td>\n",
       "      <td>99999999</td>\n",
       "      <td>Short Term</td>\n",
       "      <td>735.000</td>\n",
       "      <td>nan</td>\n",
       "      <td>Home Mortgage</td>\n",
       "      <td>33884.000</td>\n",
       "      <td>Debt Consolidation</td>\n",
       "      <td>683.340</td>\n",
       "      <td>18.900</td>\n",
       "      <td>10.000</td>\n",
       "      <td>12</td>\n",
       "      <td>0</td>\n",
       "      <td>10835</td>\n",
       "      <td>18028</td>\n",
       "      <td>0.000</td>\n",
       "      <td>0.000</td>\n",
       "    </tr>\n",
       "    <tr>\n",
       "      <th>5047</th>\n",
       "      <td>193ac878-4d50-4be0-995b-20896ebc9ad8</td>\n",
       "      <td>02a4bc6d-db02-406b-9bf6-8e0dd42782eb</td>\n",
       "      <td>Fully Paid</td>\n",
       "      <td>99999999</td>\n",
       "      <td>Short Term</td>\n",
       "      <td>745.000</td>\n",
       "      <td>3.000</td>\n",
       "      <td>Own Home</td>\n",
       "      <td>103343.000</td>\n",
       "      <td>Debt Consolidation</td>\n",
       "      <td>1300.410</td>\n",
       "      <td>14.100</td>\n",
       "      <td>nan</td>\n",
       "      <td>14</td>\n",
       "      <td>0</td>\n",
       "      <td>22746</td>\n",
       "      <td>42835</td>\n",
       "      <td>0.000</td>\n",
       "      <td>0.000</td>\n",
       "    </tr>\n",
       "    <tr>\n",
       "      <th>5048</th>\n",
       "      <td>4b04d7e9-5c67-4437-95f5-8527c9386aaa</td>\n",
       "      <td>2eaf89af-c240-4133-8c89-277128c9e2d2</td>\n",
       "      <td>Fully Paid</td>\n",
       "      <td>99999999</td>\n",
       "      <td>Short Term</td>\n",
       "      <td>736.000</td>\n",
       "      <td>6.000</td>\n",
       "      <td>Home Mortgage</td>\n",
       "      <td>98140.000</td>\n",
       "      <td>Home Improvements</td>\n",
       "      <td>536.500</td>\n",
       "      <td>18.500</td>\n",
       "      <td>59.000</td>\n",
       "      <td>11</td>\n",
       "      <td>1</td>\n",
       "      <td>762</td>\n",
       "      <td>1963</td>\n",
       "      <td>1.000</td>\n",
       "      <td>0.000</td>\n",
       "    </tr>\n",
       "    <tr>\n",
       "      <th>...</th>\n",
       "      <td>...</td>\n",
       "      <td>...</td>\n",
       "      <td>...</td>\n",
       "      <td>...</td>\n",
       "      <td>...</td>\n",
       "      <td>...</td>\n",
       "      <td>...</td>\n",
       "      <td>...</td>\n",
       "      <td>...</td>\n",
       "      <td>...</td>\n",
       "      <td>...</td>\n",
       "      <td>...</td>\n",
       "      <td>...</td>\n",
       "      <td>...</td>\n",
       "      <td>...</td>\n",
       "      <td>...</td>\n",
       "      <td>...</td>\n",
       "      <td>...</td>\n",
       "      <td>...</td>\n",
       "    </tr>\n",
       "    <tr>\n",
       "      <th>13355</th>\n",
       "      <td>691f7f49-7813-4ec7-9f33-092a92290cc8</td>\n",
       "      <td>92f6f74b-f901-4a04-83fd-0af851e00466</td>\n",
       "      <td>Fully Paid</td>\n",
       "      <td>99999999</td>\n",
       "      <td>Short Term</td>\n",
       "      <td>738.000</td>\n",
       "      <td>0.000</td>\n",
       "      <td>Rent</td>\n",
       "      <td>50980.000</td>\n",
       "      <td>Debt Consolidation</td>\n",
       "      <td>671.230</td>\n",
       "      <td>12.500</td>\n",
       "      <td>23.000</td>\n",
       "      <td>7</td>\n",
       "      <td>0</td>\n",
       "      <td>9167</td>\n",
       "      <td>11416</td>\n",
       "      <td>0.000</td>\n",
       "      <td>0.000</td>\n",
       "    </tr>\n",
       "    <tr>\n",
       "      <th>13356</th>\n",
       "      <td>168080e2-2786-4089-952e-f4451fa8947f</td>\n",
       "      <td>e09ceea6-5e15-46a8-b8e0-ca45715b70db</td>\n",
       "      <td>Fully Paid</td>\n",
       "      <td>99999999</td>\n",
       "      <td>Short Term</td>\n",
       "      <td>738.000</td>\n",
       "      <td>10.000</td>\n",
       "      <td>Own Home</td>\n",
       "      <td>58632.000</td>\n",
       "      <td>Debt Consolidation</td>\n",
       "      <td>869.710</td>\n",
       "      <td>19.600</td>\n",
       "      <td>47.000</td>\n",
       "      <td>12</td>\n",
       "      <td>0</td>\n",
       "      <td>14234</td>\n",
       "      <td>19552</td>\n",
       "      <td>0.000</td>\n",
       "      <td>0.000</td>\n",
       "    </tr>\n",
       "    <tr>\n",
       "      <th>13357</th>\n",
       "      <td>fbd7e5e8-c666-4e53-8a7e-6e95f5ecf22b</td>\n",
       "      <td>2f1b37fa-5f91-44d3-adcb-cf5f67f00e07</td>\n",
       "      <td>Fully Paid</td>\n",
       "      <td>99999999</td>\n",
       "      <td>Short Term</td>\n",
       "      <td>730.000</td>\n",
       "      <td>6.000</td>\n",
       "      <td>Home Mortgage</td>\n",
       "      <td>34591.000</td>\n",
       "      <td>other</td>\n",
       "      <td>464.090</td>\n",
       "      <td>26.000</td>\n",
       "      <td>nan</td>\n",
       "      <td>6</td>\n",
       "      <td>0</td>\n",
       "      <td>12070</td>\n",
       "      <td>22229</td>\n",
       "      <td>0.000</td>\n",
       "      <td>0.000</td>\n",
       "    </tr>\n",
       "    <tr>\n",
       "      <th>13358</th>\n",
       "      <td>1245eb4b-d74e-4d32-a211-1a0700e537b8</td>\n",
       "      <td>8872301a-a824-4d6f-b1a4-cb6cd5a36c57</td>\n",
       "      <td>Fully Paid</td>\n",
       "      <td>99999999</td>\n",
       "      <td>Short Term</td>\n",
       "      <td>743.000</td>\n",
       "      <td>10.000</td>\n",
       "      <td>Rent</td>\n",
       "      <td>76144.000</td>\n",
       "      <td>Debt Consolidation</td>\n",
       "      <td>666.260</td>\n",
       "      <td>18.300</td>\n",
       "      <td>94.000</td>\n",
       "      <td>11</td>\n",
       "      <td>0</td>\n",
       "      <td>12954</td>\n",
       "      <td>44062</td>\n",
       "      <td>0.000</td>\n",
       "      <td>0.000</td>\n",
       "    </tr>\n",
       "    <tr>\n",
       "      <th>13359</th>\n",
       "      <td>112e4c93-a77f-4e67-a52b-347153387a83</td>\n",
       "      <td>23254121-2106-4795-9dad-d8a133fe474b</td>\n",
       "      <td>Fully Paid</td>\n",
       "      <td>99999999</td>\n",
       "      <td>Short Term</td>\n",
       "      <td>733.000</td>\n",
       "      <td>0.000</td>\n",
       "      <td>Rent</td>\n",
       "      <td>121788.000</td>\n",
       "      <td>Debt Consolidation</td>\n",
       "      <td>864.690</td>\n",
       "      <td>14.900</td>\n",
       "      <td>48.000</td>\n",
       "      <td>8</td>\n",
       "      <td>0</td>\n",
       "      <td>14916</td>\n",
       "      <td>20294</td>\n",
       "      <td>0.000</td>\n",
       "      <td>0.000</td>\n",
       "    </tr>\n",
       "  </tbody>\n",
       "</table>\n",
       "<p>8316 rows × 19 columns</p>\n",
       "</div>"
      ],
      "text/plain": [
       "                                    loan_id  ... tax_liens\n",
       "5044   bac918fa-35e0-40a2-af65-58b456a742e7  ...     0.000\n",
       "5045   0c7fcf5e-ec4a-46d5-8175-15c846df7c74  ...     0.000\n",
       "5046   878c4189-bd53-4836-a16d-203519034758  ...     0.000\n",
       "5047   193ac878-4d50-4be0-995b-20896ebc9ad8  ...     0.000\n",
       "5048   4b04d7e9-5c67-4437-95f5-8527c9386aaa  ...     0.000\n",
       "...                                     ...  ...       ...\n",
       "13355  691f7f49-7813-4ec7-9f33-092a92290cc8  ...     0.000\n",
       "13356  168080e2-2786-4089-952e-f4451fa8947f  ...     0.000\n",
       "13357  fbd7e5e8-c666-4e53-8a7e-6e95f5ecf22b  ...     0.000\n",
       "13358  1245eb4b-d74e-4d32-a211-1a0700e537b8  ...     0.000\n",
       "13359  112e4c93-a77f-4e67-a52b-347153387a83  ...     0.000\n",
       "\n",
       "[8316 rows x 19 columns]"
      ]
     },
     "execution_count": 35,
     "metadata": {
      "tags": []
     },
     "output_type": "execute_result"
    }
   ],
   "source": [
    "# check the description their is a placeholder in max value\n",
    "data[data['current_loan_amount']==99999999.000]"
   ]
  },
  {
   "cell_type": "code",
   "execution_count": null,
   "metadata": {
    "id": "2U_L2CK2_mb2"
   },
   "outputs": [],
   "source": [
    "#There are such 8316 samples, which is not low so need to replace it by NA's\n",
    "data['current_loan_amount'] = [np.nan if int(x)==99999999 else x for x in data['current_loan_amount']]"
   ]
  },
  {
   "cell_type": "code",
   "execution_count": null,
   "metadata": {
    "colab": {
     "base_uri": "https://localhost:8080/",
     "height": 265
    },
    "id": "zAmVxBr8_mb2",
    "outputId": "656b77eb-d483-4395-e303-09a45bfd7e68",
    "scrolled": true
   },
   "outputs": [
    {
     "data": {
      "image/png": "[encoded data removed]",
      "text/plain": [
       "<Figure size 432x288 with 1 Axes>"
      ]
     },
     "metadata": {
      "needs_background": "light",
      "tags": []
     },
     "output_type": "display_data"
    }
   ],
   "source": [
    "ax = sns.boxplot(data=data['current_loan_amount'], orient=\"h\", palette=\"Set2\")"
   ]
  },
  {
   "cell_type": "code",
   "execution_count": null,
   "metadata": {
    "colab": {
     "base_uri": "https://localhost:8080/",
     "height": 317
    },
    "id": "tgryykIG_mb3",
    "outputId": "8d7508eb-fcfb-46a3-9b98-01a7a564f78e",
    "scrolled": true
   },
   "outputs": [
    {
     "data": {
      "text/html": [
       "<div>\n",
       "<style scoped>\n",
       "    .dataframe tbody tr th:only-of-type {\n",
       "        vertical-align: middle;\n",
       "    }\n",
       "\n",
       "    .dataframe tbody tr th {\n",
       "        vertical-align: top;\n",
       "    }\n",
       "\n",
       "    .dataframe thead th {\n",
       "        text-align: right;\n",
       "    }\n",
       "</style>\n",
       "<table border=\"1\" class=\"dataframe\">\n",
       "  <thead>\n",
       "    <tr style=\"text-align: right;\">\n",
       "      <th></th>\n",
       "      <th>current_loan_amount</th>\n",
       "      <th>credit_score</th>\n",
       "      <th>years_in_current_job</th>\n",
       "      <th>annual_income</th>\n",
       "      <th>monthly_debt</th>\n",
       "      <th>years_of_credit_history</th>\n",
       "      <th>months_since_last_delinquent</th>\n",
       "      <th>number_of_open_accounts</th>\n",
       "      <th>number_of_credit_problems</th>\n",
       "      <th>current_credit_balance</th>\n",
       "      <th>maximum_open_credit</th>\n",
       "      <th>bankruptcies</th>\n",
       "      <th>tax_liens</th>\n",
       "    </tr>\n",
       "  </thead>\n",
       "  <tbody>\n",
       "    <tr>\n",
       "      <th>count</th>\n",
       "      <td>80592.000</td>\n",
       "      <td>72820.000</td>\n",
       "      <td>85091.000</td>\n",
       "      <td>72820.000</td>\n",
       "      <td>55863.000</td>\n",
       "      <td>88908.000</td>\n",
       "      <td>40402.000</td>\n",
       "      <td>88908.000</td>\n",
       "      <td>88908.000</td>\n",
       "      <td>88908.000</td>\n",
       "      <td>88908.000</td>\n",
       "      <td>88716.000</td>\n",
       "      <td>88900.000</td>\n",
       "    </tr>\n",
       "    <tr>\n",
       "      <th>mean</th>\n",
       "      <td>13984.382</td>\n",
       "      <td>720.048</td>\n",
       "      <td>5.870</td>\n",
       "      <td>72404.505</td>\n",
       "      <td>954.744</td>\n",
       "      <td>18.315</td>\n",
       "      <td>35.080</td>\n",
       "      <td>11.110</td>\n",
       "      <td>0.160</td>\n",
       "      <td>15436.280</td>\n",
       "      <td>35965.310</td>\n",
       "      <td>0.113</td>\n",
       "      <td>0.028</td>\n",
       "    </tr>\n",
       "    <tr>\n",
       "      <th>std</th>\n",
       "      <td>8291.838</td>\n",
       "      <td>27.814</td>\n",
       "      <td>3.630</td>\n",
       "      <td>57713.890</td>\n",
       "      <td>628.235</td>\n",
       "      <td>7.049</td>\n",
       "      <td>22.009</td>\n",
       "      <td>4.978</td>\n",
       "      <td>0.474</td>\n",
       "      <td>19658.811</td>\n",
       "      <td>404180.506</td>\n",
       "      <td>0.343</td>\n",
       "      <td>0.258</td>\n",
       "    </tr>\n",
       "    <tr>\n",
       "      <th>min</th>\n",
       "      <td>491.000</td>\n",
       "      <td>585.000</td>\n",
       "      <td>0.000</td>\n",
       "      <td>4033.000</td>\n",
       "      <td>0.000</td>\n",
       "      <td>3.600</td>\n",
       "      <td>0.000</td>\n",
       "      <td>0.000</td>\n",
       "      <td>0.000</td>\n",
       "      <td>0.000</td>\n",
       "      <td>0.000</td>\n",
       "      <td>0.000</td>\n",
       "      <td>0.000</td>\n",
       "    </tr>\n",
       "    <tr>\n",
       "      <th>25%</th>\n",
       "      <td>7810.750</td>\n",
       "      <td>708.000</td>\n",
       "      <td>3.000</td>\n",
       "      <td>44637.500</td>\n",
       "      <td>528.520</td>\n",
       "      <td>13.500</td>\n",
       "      <td>16.000</td>\n",
       "      <td>8.000</td>\n",
       "      <td>0.000</td>\n",
       "      <td>5949.000</td>\n",
       "      <td>12775.000</td>\n",
       "      <td>0.000</td>\n",
       "      <td>0.000</td>\n",
       "    </tr>\n",
       "    <tr>\n",
       "      <th>50%</th>\n",
       "      <td>12058.000</td>\n",
       "      <td>728.000</td>\n",
       "      <td>6.000</td>\n",
       "      <td>61585.000</td>\n",
       "      <td>836.510</td>\n",
       "      <td>17.000</td>\n",
       "      <td>32.000</td>\n",
       "      <td>10.000</td>\n",
       "      <td>0.000</td>\n",
       "      <td>11039.000</td>\n",
       "      <td>21781.000</td>\n",
       "      <td>0.000</td>\n",
       "      <td>0.000</td>\n",
       "    </tr>\n",
       "    <tr>\n",
       "      <th>75%</th>\n",
       "      <td>19493.250</td>\n",
       "      <td>741.000</td>\n",
       "      <td>10.000</td>\n",
       "      <td>86785.000</td>\n",
       "      <td>1240.750</td>\n",
       "      <td>21.800</td>\n",
       "      <td>51.000</td>\n",
       "      <td>14.000</td>\n",
       "      <td>0.000</td>\n",
       "      <td>19301.000</td>\n",
       "      <td>36367.000</td>\n",
       "      <td>0.000</td>\n",
       "      <td>0.000</td>\n",
       "    </tr>\n",
       "    <tr>\n",
       "      <th>max</th>\n",
       "      <td>35875.000</td>\n",
       "      <td>751.000</td>\n",
       "      <td>10.000</td>\n",
       "      <td>8713547.000</td>\n",
       "      <td>10831.650</td>\n",
       "      <td>70.500</td>\n",
       "      <td>176.000</td>\n",
       "      <td>76.000</td>\n",
       "      <td>15.000</td>\n",
       "      <td>1730472.000</td>\n",
       "      <td>69988086.000</td>\n",
       "      <td>7.000</td>\n",
       "      <td>15.000</td>\n",
       "    </tr>\n",
       "  </tbody>\n",
       "</table>\n",
       "</div>"
      ],
      "text/plain": [
       "       current_loan_amount  credit_score  ...  bankruptcies  tax_liens\n",
       "count            80592.000     72820.000  ...     88716.000  88900.000\n",
       "mean             13984.382       720.048  ...         0.113      0.028\n",
       "std               8291.838        27.814  ...         0.343      0.258\n",
       "min                491.000       585.000  ...         0.000      0.000\n",
       "25%               7810.750       708.000  ...         0.000      0.000\n",
       "50%              12058.000       728.000  ...         0.000      0.000\n",
       "75%              19493.250       741.000  ...         0.000      0.000\n",
       "max              35875.000       751.000  ...         7.000     15.000\n",
       "\n",
       "[8 rows x 13 columns]"
      ]
     },
     "execution_count": 38,
     "metadata": {
      "tags": []
     },
     "output_type": "execute_result"
    }
   ],
   "source": [
    "data.describe()"
   ]
  },
  {
   "cell_type": "markdown",
   "metadata": {
    "id": "m_VtpAdc_mb3"
   },
   "source": [
    "#### Outlier treatment: Annual Income"
   ]
  },
  {
   "cell_type": "code",
   "execution_count": null,
   "metadata": {
    "colab": {
     "base_uri": "https://localhost:8080/",
     "height": 278
    },
    "id": "cSzVKcDT_mb4",
    "outputId": "0f476f28-3cc2-40f3-8cfb-6ccf76c639be"
   },
   "outputs": [
    {
     "data": {
      "image/png": "[encoded data removed]",
      "text/plain": [
       "<Figure size 432x288 with 1 Axes>"
      ]
     },
     "metadata": {
      "needs_background": "light",
      "tags": []
     },
     "output_type": "display_data"
    }
   ],
   "source": [
    "ax = sns.boxplot(data=data['annual_income'], orient=\"h\", palette=\"Set2\")"
   ]
  },
  {
   "cell_type": "code",
   "execution_count": null,
   "metadata": {
    "colab": {
     "base_uri": "https://localhost:8080/",
     "height": 151
    },
    "id": "Ud0YZwto_mb4",
    "outputId": "355f9fba-5f14-4acf-d460-b84e07fc46d4",
    "scrolled": true
   },
   "outputs": [
    {
     "data": {
      "text/html": [
       "<div>\n",
       "<style scoped>\n",
       "    .dataframe tbody tr th:only-of-type {\n",
       "        vertical-align: middle;\n",
       "    }\n",
       "\n",
       "    .dataframe tbody tr th {\n",
       "        vertical-align: top;\n",
       "    }\n",
       "\n",
       "    .dataframe thead th {\n",
       "        text-align: right;\n",
       "    }\n",
       "</style>\n",
       "<table border=\"1\" class=\"dataframe\">\n",
       "  <thead>\n",
       "    <tr style=\"text-align: right;\">\n",
       "      <th></th>\n",
       "      <th>loan_id</th>\n",
       "      <th>customer_id</th>\n",
       "      <th>loan_status</th>\n",
       "      <th>current_loan_amount</th>\n",
       "      <th>term</th>\n",
       "      <th>credit_score</th>\n",
       "      <th>years_in_current_job</th>\n",
       "      <th>home_ownership</th>\n",
       "      <th>annual_income</th>\n",
       "      <th>purpose</th>\n",
       "      <th>monthly_debt</th>\n",
       "      <th>years_of_credit_history</th>\n",
       "      <th>months_since_last_delinquent</th>\n",
       "      <th>number_of_open_accounts</th>\n",
       "      <th>number_of_credit_problems</th>\n",
       "      <th>current_credit_balance</th>\n",
       "      <th>maximum_open_credit</th>\n",
       "      <th>bankruptcies</th>\n",
       "      <th>tax_liens</th>\n",
       "    </tr>\n",
       "  </thead>\n",
       "  <tbody>\n",
       "    <tr>\n",
       "      <th>3671</th>\n",
       "      <td>6dfd2f9c-b796-4cb3-8f71-04d6ae8a8f92</td>\n",
       "      <td>ceee183a-9b02-4b82-ae53-14ccd5f785fd</td>\n",
       "      <td>Charged Off</td>\n",
       "      <td>8006.000</td>\n",
       "      <td>Short Term</td>\n",
       "      <td>725.000</td>\n",
       "      <td>10.000</td>\n",
       "      <td>Home Mortgage</td>\n",
       "      <td>8713547.000</td>\n",
       "      <td>Debt Consolidation</td>\n",
       "      <td>798.740</td>\n",
       "      <td>16.000</td>\n",
       "      <td>nan</td>\n",
       "      <td>11</td>\n",
       "      <td>0</td>\n",
       "      <td>16462</td>\n",
       "      <td>30429</td>\n",
       "      <td>0.000</td>\n",
       "      <td>0.000</td>\n",
       "    </tr>\n",
       "  </tbody>\n",
       "</table>\n",
       "</div>"
      ],
      "text/plain": [
       "                                   loan_id  ... tax_liens\n",
       "3671  6dfd2f9c-b796-4cb3-8f71-04d6ae8a8f92  ...     0.000\n",
       "\n",
       "[1 rows x 19 columns]"
      ]
     },
     "execution_count": 40,
     "metadata": {
      "tags": []
     },
     "output_type": "execute_result"
    }
   ],
   "source": [
    "data[data['annual_income']==8713547.000]"
   ]
  },
  {
   "cell_type": "code",
   "execution_count": null,
   "metadata": {
    "colab": {
     "base_uri": "https://localhost:8080/"
    },
    "id": "zzKJRFcB_mb4",
    "outputId": "8640b78f-304d-4edf-9e01-d0f1973717b1"
   },
   "outputs": [
    {
     "data": {
      "text/plain": [
       "(88907, 19)"
      ]
     },
     "execution_count": 41,
     "metadata": {
      "tags": []
     },
     "output_type": "execute_result"
    }
   ],
   "source": [
    "data = data[data['annual_income']!=8713547.000]\n",
    "data.shape"
   ]
  },
  {
   "cell_type": "code",
   "execution_count": null,
   "metadata": {
    "colab": {
     "base_uri": "https://localhost:8080/",
     "height": 278
    },
    "id": "YhWf9t0M_mb4",
    "outputId": "42c80343-2d2a-405c-ac28-682c511290a4",
    "scrolled": false
   },
   "outputs": [
    {
     "data": {
      "image/png": "[encoded data removed]",
      "text/plain": [
       "<Figure size 432x288 with 1 Axes>"
      ]
     },
     "metadata": {
      "needs_background": "light",
      "tags": []
     },
     "output_type": "display_data"
    }
   ],
   "source": [
    "ax = sns.boxplot(data=data['annual_income'], orient=\"h\", palette=\"Set2\")"
   ]
  },
  {
   "cell_type": "code",
   "execution_count": null,
   "metadata": {
    "colab": {
     "base_uri": "https://localhost:8080/",
     "height": 479
    },
    "id": "-0iBD_QY_mb5",
    "outputId": "c533f943-dfc0-486b-d3ec-f5908b9e9b65",
    "scrolled": true
   },
   "outputs": [
    {
     "data": {
      "text/html": [
       "<div>\n",
       "<style scoped>\n",
       "    .dataframe tbody tr th:only-of-type {\n",
       "        vertical-align: middle;\n",
       "    }\n",
       "\n",
       "    .dataframe tbody tr th {\n",
       "        vertical-align: top;\n",
       "    }\n",
       "\n",
       "    .dataframe thead th {\n",
       "        text-align: right;\n",
       "    }\n",
       "</style>\n",
       "<table border=\"1\" class=\"dataframe\">\n",
       "  <thead>\n",
       "    <tr style=\"text-align: right;\">\n",
       "      <th></th>\n",
       "      <th>loan_id</th>\n",
       "      <th>customer_id</th>\n",
       "      <th>loan_status</th>\n",
       "      <th>current_loan_amount</th>\n",
       "      <th>term</th>\n",
       "      <th>credit_score</th>\n",
       "      <th>years_in_current_job</th>\n",
       "      <th>home_ownership</th>\n",
       "      <th>annual_income</th>\n",
       "      <th>purpose</th>\n",
       "      <th>monthly_debt</th>\n",
       "      <th>years_of_credit_history</th>\n",
       "      <th>months_since_last_delinquent</th>\n",
       "      <th>number_of_open_accounts</th>\n",
       "      <th>number_of_credit_problems</th>\n",
       "      <th>current_credit_balance</th>\n",
       "      <th>maximum_open_credit</th>\n",
       "      <th>bankruptcies</th>\n",
       "      <th>tax_liens</th>\n",
       "    </tr>\n",
       "  </thead>\n",
       "  <tbody>\n",
       "    <tr>\n",
       "      <th>182</th>\n",
       "      <td>d728b670-7248-4c64-b99e-251d9e7b88a2</td>\n",
       "      <td>a0222c05-0157-4791-b2b9-c74d51774d16</td>\n",
       "      <td>Charged Off</td>\n",
       "      <td>34430.000</td>\n",
       "      <td>Long Term</td>\n",
       "      <td>739.000</td>\n",
       "      <td>0.000</td>\n",
       "      <td>Home Mortgage</td>\n",
       "      <td>1623105.000</td>\n",
       "      <td>Debt Consolidation</td>\n",
       "      <td>2637.550</td>\n",
       "      <td>14.700</td>\n",
       "      <td>17.000</td>\n",
       "      <td>15</td>\n",
       "      <td>0</td>\n",
       "      <td>26265</td>\n",
       "      <td>69668</td>\n",
       "      <td>0.000</td>\n",
       "      <td>0.000</td>\n",
       "    </tr>\n",
       "    <tr>\n",
       "      <th>39804</th>\n",
       "      <td>076e5ce5-cc5a-4c3e-8e11-91c31a4fa00e</td>\n",
       "      <td>ecc52a5d-a428-455c-9ae6-332cafac55b2</td>\n",
       "      <td>Fully Paid</td>\n",
       "      <td>28291.000</td>\n",
       "      <td>Short Term</td>\n",
       "      <td>747.000</td>\n",
       "      <td>6.000</td>\n",
       "      <td>Own Home</td>\n",
       "      <td>1919760.000</td>\n",
       "      <td>Debt Consolidation</td>\n",
       "      <td>335.960</td>\n",
       "      <td>11.200</td>\n",
       "      <td>nan</td>\n",
       "      <td>7</td>\n",
       "      <td>0</td>\n",
       "      <td>13889</td>\n",
       "      <td>25768</td>\n",
       "      <td>0.000</td>\n",
       "      <td>0.000</td>\n",
       "    </tr>\n",
       "    <tr>\n",
       "      <th>59339</th>\n",
       "      <td>4618d7d2-6eb0-4c05-9956-a421992bdaae</td>\n",
       "      <td>bbf74537-4cd3-4ffb-b75a-7b3d3c0009e2</td>\n",
       "      <td>Fully Paid</td>\n",
       "      <td>34503.000</td>\n",
       "      <td>Short Term</td>\n",
       "      <td>729.000</td>\n",
       "      <td>10.000</td>\n",
       "      <td>Home Mortgage</td>\n",
       "      <td>1478700.000</td>\n",
       "      <td>other</td>\n",
       "      <td>nan</td>\n",
       "      <td>18.400</td>\n",
       "      <td>20.000</td>\n",
       "      <td>15</td>\n",
       "      <td>4</td>\n",
       "      <td>83918</td>\n",
       "      <td>88242</td>\n",
       "      <td>0.000</td>\n",
       "      <td>4.000</td>\n",
       "    </tr>\n",
       "    <tr>\n",
       "      <th>61078</th>\n",
       "      <td>85a6f5ea-41ec-4c8b-9539-bbb75d335ae1</td>\n",
       "      <td>5596983d-4f23-4020-859a-376bf2205b28</td>\n",
       "      <td>Charged Off</td>\n",
       "      <td>34237.000</td>\n",
       "      <td>Short Term</td>\n",
       "      <td>745.000</td>\n",
       "      <td>5.000</td>\n",
       "      <td>Own Home</td>\n",
       "      <td>1271660.000</td>\n",
       "      <td>Debt Consolidation</td>\n",
       "      <td>nan</td>\n",
       "      <td>28.100</td>\n",
       "      <td>nan</td>\n",
       "      <td>22</td>\n",
       "      <td>0</td>\n",
       "      <td>9665</td>\n",
       "      <td>55226</td>\n",
       "      <td>0.000</td>\n",
       "      <td>0.000</td>\n",
       "    </tr>\n",
       "    <tr>\n",
       "      <th>63426</th>\n",
       "      <td>cbd2df62-ea45-4ae0-bbeb-1681d5655221</td>\n",
       "      <td>97b34fe1-09e4-4c27-b8cc-ec335ec29891</td>\n",
       "      <td>Charged Off</td>\n",
       "      <td>15928.000</td>\n",
       "      <td>Long Term</td>\n",
       "      <td>733.000</td>\n",
       "      <td>2.000</td>\n",
       "      <td>Home Mortgage</td>\n",
       "      <td>1262125.000</td>\n",
       "      <td>Debt Consolidation</td>\n",
       "      <td>nan</td>\n",
       "      <td>19.200</td>\n",
       "      <td>nan</td>\n",
       "      <td>10</td>\n",
       "      <td>0</td>\n",
       "      <td>48726</td>\n",
       "      <td>58565</td>\n",
       "      <td>0.000</td>\n",
       "      <td>0.000</td>\n",
       "    </tr>\n",
       "  </tbody>\n",
       "</table>\n",
       "</div>"
      ],
      "text/plain": [
       "                                    loan_id  ... tax_liens\n",
       "182    d728b670-7248-4c64-b99e-251d9e7b88a2  ...     0.000\n",
       "39804  076e5ce5-cc5a-4c3e-8e11-91c31a4fa00e  ...     0.000\n",
       "59339  4618d7d2-6eb0-4c05-9956-a421992bdaae  ...     4.000\n",
       "61078  85a6f5ea-41ec-4c8b-9539-bbb75d335ae1  ...     0.000\n",
       "63426  cbd2df62-ea45-4ae0-bbeb-1681d5655221  ...     0.000\n",
       "\n",
       "[5 rows x 19 columns]"
      ]
     },
     "execution_count": 43,
     "metadata": {
      "tags": []
     },
     "output_type": "execute_result"
    }
   ],
   "source": [
    "data[data['annual_income']>1200000]"
   ]
  },
  {
   "cell_type": "code",
   "execution_count": null,
   "metadata": {
    "colab": {
     "base_uri": "https://localhost:8080/"
    },
    "id": "HChAuNB54Cxn",
    "outputId": "02666223-319f-4ac4-e2e7-5067de74c0c5"
   },
   "outputs": [
    {
     "data": {
      "text/plain": [
       "array([  182, 39804, 59339, 61078, 63426])"
      ]
     },
     "execution_count": 44,
     "metadata": {
      "tags": []
     },
     "output_type": "execute_result"
    }
   ],
   "source": [
    "data[data['annual_income']>1200000].index.values"
   ]
  },
  {
   "cell_type": "code",
   "execution_count": null,
   "metadata": {
    "id": "j73iozzR_mb5"
   },
   "outputs": [],
   "source": [
    "data = data.drop(data[data['annual_income']>1200000].index.values)"
   ]
  },
  {
   "cell_type": "code",
   "execution_count": null,
   "metadata": {
    "colab": {
     "base_uri": "https://localhost:8080/",
     "height": 295
    },
    "id": "LGL3cFi7_mb5",
    "outputId": "361729e3-5993-4f9a-99be-380579cfbb83",
    "scrolled": true
   },
   "outputs": [
    {
     "data": {
      "image/png": "[encoded data removed]",
      "text/plain": [
       "<Figure size 432x288 with 1 Axes>"
      ]
     },
     "metadata": {
      "needs_background": "light",
      "tags": []
     },
     "output_type": "display_data"
    }
   ],
   "source": [
    "ax = sns.distplot(data['annual_income'].dropna(), hist=True, kde=True, \n",
    "             color = 'darkblue', \n",
    "             hist_kws={'edgecolor':'black'},\n",
    "             kde_kws={'linewidth': 2})\n",
    "ax.set(xlabel='Annual Income') \n",
    "plt.title('Annual Income frequency chart'); \n",
    "plt.show()"
   ]
  },
  {
   "cell_type": "code",
   "execution_count": null,
   "metadata": {
    "colab": {
     "base_uri": "https://localhost:8080/",
     "height": 317
    },
    "id": "GCHUBK_B_mb6",
    "outputId": "f1cd60fa-0b63-4138-cd9c-ac5343e28e33",
    "scrolled": true
   },
   "outputs": [
    {
     "data": {
      "text/html": [
       "<div>\n",
       "<style scoped>\n",
       "    .dataframe tbody tr th:only-of-type {\n",
       "        vertical-align: middle;\n",
       "    }\n",
       "\n",
       "    .dataframe tbody tr th {\n",
       "        vertical-align: top;\n",
       "    }\n",
       "\n",
       "    .dataframe thead th {\n",
       "        text-align: right;\n",
       "    }\n",
       "</style>\n",
       "<table border=\"1\" class=\"dataframe\">\n",
       "  <thead>\n",
       "    <tr style=\"text-align: right;\">\n",
       "      <th></th>\n",
       "      <th>current_loan_amount</th>\n",
       "      <th>credit_score</th>\n",
       "      <th>years_in_current_job</th>\n",
       "      <th>annual_income</th>\n",
       "      <th>monthly_debt</th>\n",
       "      <th>years_of_credit_history</th>\n",
       "      <th>months_since_last_delinquent</th>\n",
       "      <th>number_of_open_accounts</th>\n",
       "      <th>number_of_credit_problems</th>\n",
       "      <th>current_credit_balance</th>\n",
       "      <th>maximum_open_credit</th>\n",
       "      <th>bankruptcies</th>\n",
       "      <th>tax_liens</th>\n",
       "    </tr>\n",
       "  </thead>\n",
       "  <tbody>\n",
       "    <tr>\n",
       "      <th>count</th>\n",
       "      <td>80586.000</td>\n",
       "      <td>72814.000</td>\n",
       "      <td>85085.000</td>\n",
       "      <td>72814.000</td>\n",
       "      <td>55860.000</td>\n",
       "      <td>88902.000</td>\n",
       "      <td>40400.000</td>\n",
       "      <td>88902.000</td>\n",
       "      <td>88902.000</td>\n",
       "      <td>88902.000</td>\n",
       "      <td>88902.000</td>\n",
       "      <td>88710.000</td>\n",
       "      <td>88894.000</td>\n",
       "    </tr>\n",
       "    <tr>\n",
       "      <th>mean</th>\n",
       "      <td>13983.495</td>\n",
       "      <td>720.047</td>\n",
       "      <td>5.870</td>\n",
       "      <td>72187.041</td>\n",
       "      <td>954.728</td>\n",
       "      <td>18.315</td>\n",
       "      <td>35.081</td>\n",
       "      <td>11.110</td>\n",
       "      <td>0.160</td>\n",
       "      <td>15435.084</td>\n",
       "      <td>35964.049</td>\n",
       "      <td>0.113</td>\n",
       "      <td>0.028</td>\n",
       "    </tr>\n",
       "    <tr>\n",
       "      <th>std</th>\n",
       "      <td>8291.029</td>\n",
       "      <td>27.814</td>\n",
       "      <td>3.630</td>\n",
       "      <td>46469.111</td>\n",
       "      <td>628.205</td>\n",
       "      <td>7.049</td>\n",
       "      <td>22.009</td>\n",
       "      <td>4.978</td>\n",
       "      <td>0.474</td>\n",
       "      <td>19657.771</td>\n",
       "      <td>404194.077</td>\n",
       "      <td>0.343</td>\n",
       "      <td>0.257</td>\n",
       "    </tr>\n",
       "    <tr>\n",
       "      <th>min</th>\n",
       "      <td>491.000</td>\n",
       "      <td>585.000</td>\n",
       "      <td>0.000</td>\n",
       "      <td>4033.000</td>\n",
       "      <td>0.000</td>\n",
       "      <td>3.600</td>\n",
       "      <td>0.000</td>\n",
       "      <td>0.000</td>\n",
       "      <td>0.000</td>\n",
       "      <td>0.000</td>\n",
       "      <td>0.000</td>\n",
       "      <td>0.000</td>\n",
       "      <td>0.000</td>\n",
       "    </tr>\n",
       "    <tr>\n",
       "      <th>25%</th>\n",
       "      <td>7810.000</td>\n",
       "      <td>708.000</td>\n",
       "      <td>3.000</td>\n",
       "      <td>44636.000</td>\n",
       "      <td>528.525</td>\n",
       "      <td>13.500</td>\n",
       "      <td>16.000</td>\n",
       "      <td>8.000</td>\n",
       "      <td>0.000</td>\n",
       "      <td>5949.000</td>\n",
       "      <td>12775.000</td>\n",
       "      <td>0.000</td>\n",
       "      <td>0.000</td>\n",
       "    </tr>\n",
       "    <tr>\n",
       "      <th>50%</th>\n",
       "      <td>12058.000</td>\n",
       "      <td>728.000</td>\n",
       "      <td>6.000</td>\n",
       "      <td>61584.000</td>\n",
       "      <td>836.525</td>\n",
       "      <td>17.000</td>\n",
       "      <td>32.000</td>\n",
       "      <td>10.000</td>\n",
       "      <td>0.000</td>\n",
       "      <td>11039.000</td>\n",
       "      <td>21779.000</td>\n",
       "      <td>0.000</td>\n",
       "      <td>0.000</td>\n",
       "    </tr>\n",
       "    <tr>\n",
       "      <th>75%</th>\n",
       "      <td>19491.500</td>\n",
       "      <td>741.000</td>\n",
       "      <td>10.000</td>\n",
       "      <td>86784.000</td>\n",
       "      <td>1240.750</td>\n",
       "      <td>21.800</td>\n",
       "      <td>51.000</td>\n",
       "      <td>14.000</td>\n",
       "      <td>0.000</td>\n",
       "      <td>19300.750</td>\n",
       "      <td>36366.000</td>\n",
       "      <td>0.000</td>\n",
       "      <td>0.000</td>\n",
       "    </tr>\n",
       "    <tr>\n",
       "      <th>max</th>\n",
       "      <td>35875.000</td>\n",
       "      <td>751.000</td>\n",
       "      <td>10.000</td>\n",
       "      <td>1181520.000</td>\n",
       "      <td>10831.650</td>\n",
       "      <td>70.500</td>\n",
       "      <td>176.000</td>\n",
       "      <td>76.000</td>\n",
       "      <td>15.000</td>\n",
       "      <td>1730472.000</td>\n",
       "      <td>69988086.000</td>\n",
       "      <td>7.000</td>\n",
       "      <td>15.000</td>\n",
       "    </tr>\n",
       "  </tbody>\n",
       "</table>\n",
       "</div>"
      ],
      "text/plain": [
       "       current_loan_amount  credit_score  ...  bankruptcies  tax_liens\n",
       "count            80586.000     72814.000  ...     88710.000  88894.000\n",
       "mean             13983.495       720.047  ...         0.113      0.028\n",
       "std               8291.029        27.814  ...         0.343      0.257\n",
       "min                491.000       585.000  ...         0.000      0.000\n",
       "25%               7810.000       708.000  ...         0.000      0.000\n",
       "50%              12058.000       728.000  ...         0.000      0.000\n",
       "75%              19491.500       741.000  ...         0.000      0.000\n",
       "max              35875.000       751.000  ...         7.000     15.000\n",
       "\n",
       "[8 rows x 13 columns]"
      ]
     },
     "execution_count": 47,
     "metadata": {
      "tags": []
     },
     "output_type": "execute_result"
    }
   ],
   "source": [
    "data.describe()"
   ]
  },
  {
   "cell_type": "markdown",
   "metadata": {
    "id": "VQvJ1EXm_mb6"
   },
   "source": [
    "#### Outlier Treatment: Years of Credit History"
   ]
  },
  {
   "cell_type": "code",
   "execution_count": null,
   "metadata": {
    "colab": {
     "base_uri": "https://localhost:8080/",
     "height": 265
    },
    "id": "LFzHGwzF_mb7",
    "outputId": "8335b65b-2f42-4f72-cf56-8672d0323a16",
    "scrolled": true
   },
   "outputs": [
    {
     "data": {
      "image/png": "[encoded data removed]",
      "text/plain": [
       "<Figure size 432x288 with 1 Axes>"
      ]
     },
     "metadata": {
      "needs_background": "light",
      "tags": []
     },
     "output_type": "display_data"
    }
   ],
   "source": [
    "ax = sns.boxplot(data=data['years_of_credit_history'], orient=\"h\", palette=\"Set2\")"
   ]
  },
  {
   "cell_type": "code",
   "execution_count": null,
   "metadata": {
    "colab": {
     "base_uri": "https://localhost:8080/"
    },
    "id": "_2FBjVuQ_mb8",
    "outputId": "9afd9ce6-cd0c-4515-931f-b50ff88180c5",
    "scrolled": true
   },
   "outputs": [
    {
     "data": {
      "text/plain": [
       "(8, 19)"
      ]
     },
     "execution_count": 49,
     "metadata": {
      "tags": []
     },
     "output_type": "execute_result"
    }
   ],
   "source": [
    "data[data['years_of_credit_history']>58].shape"
   ]
  },
  {
   "cell_type": "code",
   "execution_count": null,
   "metadata": {
    "id": "9vAPcEcI_mb9"
   },
   "outputs": [],
   "source": [
    "data = data.drop(data[data['years_of_credit_history']>58].index.values)"
   ]
  },
  {
   "cell_type": "code",
   "execution_count": null,
   "metadata": {
    "colab": {
     "base_uri": "https://localhost:8080/",
     "height": 265
    },
    "id": "q13PKCnp_mb-",
    "outputId": "a524b111-d591-4e85-ce83-b5ff063042b3",
    "scrolled": true
   },
   "outputs": [
    {
     "data": {
      "image/png": "[encoded data removed]",
      "text/plain": [
       "<Figure size 432x288 with 1 Axes>"
      ]
     },
     "metadata": {
      "needs_background": "light",
      "tags": []
     },
     "output_type": "display_data"
    }
   ],
   "source": [
    "ax = sns.boxplot(data=data['years_of_credit_history'], orient=\"h\", palette=\"Set2\")"
   ]
  },
  {
   "cell_type": "code",
   "execution_count": null,
   "metadata": {
    "colab": {
     "base_uri": "https://localhost:8080/",
     "height": 317
    },
    "id": "K2dGFpfW_mb_",
    "outputId": "b20b205d-784f-46c2-a5cb-a2752384a33f",
    "scrolled": true
   },
   "outputs": [
    {
     "data": {
      "text/html": [
       "<div>\n",
       "<style scoped>\n",
       "    .dataframe tbody tr th:only-of-type {\n",
       "        vertical-align: middle;\n",
       "    }\n",
       "\n",
       "    .dataframe tbody tr th {\n",
       "        vertical-align: top;\n",
       "    }\n",
       "\n",
       "    .dataframe thead th {\n",
       "        text-align: right;\n",
       "    }\n",
       "</style>\n",
       "<table border=\"1\" class=\"dataframe\">\n",
       "  <thead>\n",
       "    <tr style=\"text-align: right;\">\n",
       "      <th></th>\n",
       "      <th>current_loan_amount</th>\n",
       "      <th>credit_score</th>\n",
       "      <th>years_in_current_job</th>\n",
       "      <th>annual_income</th>\n",
       "      <th>monthly_debt</th>\n",
       "      <th>years_of_credit_history</th>\n",
       "      <th>months_since_last_delinquent</th>\n",
       "      <th>number_of_open_accounts</th>\n",
       "      <th>number_of_credit_problems</th>\n",
       "      <th>current_credit_balance</th>\n",
       "      <th>maximum_open_credit</th>\n",
       "      <th>bankruptcies</th>\n",
       "      <th>tax_liens</th>\n",
       "    </tr>\n",
       "  </thead>\n",
       "  <tbody>\n",
       "    <tr>\n",
       "      <th>count</th>\n",
       "      <td>80578.000</td>\n",
       "      <td>72808.000</td>\n",
       "      <td>85079.000</td>\n",
       "      <td>72808.000</td>\n",
       "      <td>55857.000</td>\n",
       "      <td>88894.000</td>\n",
       "      <td>40395.000</td>\n",
       "      <td>88894.000</td>\n",
       "      <td>88894.000</td>\n",
       "      <td>88894.000</td>\n",
       "      <td>88894.000</td>\n",
       "      <td>88702.000</td>\n",
       "      <td>88886.000</td>\n",
       "    </tr>\n",
       "    <tr>\n",
       "      <th>mean</th>\n",
       "      <td>13983.217</td>\n",
       "      <td>720.047</td>\n",
       "      <td>5.869</td>\n",
       "      <td>72187.605</td>\n",
       "      <td>954.720</td>\n",
       "      <td>18.311</td>\n",
       "      <td>35.081</td>\n",
       "      <td>11.110</td>\n",
       "      <td>0.160</td>\n",
       "      <td>15435.144</td>\n",
       "      <td>35965.132</td>\n",
       "      <td>0.113</td>\n",
       "      <td>0.028</td>\n",
       "    </tr>\n",
       "    <tr>\n",
       "      <th>std</th>\n",
       "      <td>8291.009</td>\n",
       "      <td>27.814</td>\n",
       "      <td>3.630</td>\n",
       "      <td>46470.095</td>\n",
       "      <td>628.217</td>\n",
       "      <td>7.037</td>\n",
       "      <td>22.009</td>\n",
       "      <td>4.979</td>\n",
       "      <td>0.474</td>\n",
       "      <td>19657.904</td>\n",
       "      <td>404212.200</td>\n",
       "      <td>0.343</td>\n",
       "      <td>0.257</td>\n",
       "    </tr>\n",
       "    <tr>\n",
       "      <th>min</th>\n",
       "      <td>491.000</td>\n",
       "      <td>585.000</td>\n",
       "      <td>0.000</td>\n",
       "      <td>4033.000</td>\n",
       "      <td>0.000</td>\n",
       "      <td>3.600</td>\n",
       "      <td>0.000</td>\n",
       "      <td>0.000</td>\n",
       "      <td>0.000</td>\n",
       "      <td>0.000</td>\n",
       "      <td>0.000</td>\n",
       "      <td>0.000</td>\n",
       "      <td>0.000</td>\n",
       "    </tr>\n",
       "    <tr>\n",
       "      <th>25%</th>\n",
       "      <td>7810.000</td>\n",
       "      <td>708.000</td>\n",
       "      <td>3.000</td>\n",
       "      <td>44636.000</td>\n",
       "      <td>528.510</td>\n",
       "      <td>13.500</td>\n",
       "      <td>16.000</td>\n",
       "      <td>8.000</td>\n",
       "      <td>0.000</td>\n",
       "      <td>5949.000</td>\n",
       "      <td>12775.000</td>\n",
       "      <td>0.000</td>\n",
       "      <td>0.000</td>\n",
       "    </tr>\n",
       "    <tr>\n",
       "      <th>50%</th>\n",
       "      <td>12058.000</td>\n",
       "      <td>728.000</td>\n",
       "      <td>6.000</td>\n",
       "      <td>61585.000</td>\n",
       "      <td>836.510</td>\n",
       "      <td>17.000</td>\n",
       "      <td>32.000</td>\n",
       "      <td>10.000</td>\n",
       "      <td>0.000</td>\n",
       "      <td>11039.000</td>\n",
       "      <td>21779.000</td>\n",
       "      <td>0.000</td>\n",
       "      <td>0.000</td>\n",
       "    </tr>\n",
       "    <tr>\n",
       "      <th>75%</th>\n",
       "      <td>19490.000</td>\n",
       "      <td>741.000</td>\n",
       "      <td>10.000</td>\n",
       "      <td>86784.000</td>\n",
       "      <td>1240.750</td>\n",
       "      <td>21.800</td>\n",
       "      <td>51.000</td>\n",
       "      <td>14.000</td>\n",
       "      <td>0.000</td>\n",
       "      <td>19300.750</td>\n",
       "      <td>36366.750</td>\n",
       "      <td>0.000</td>\n",
       "      <td>0.000</td>\n",
       "    </tr>\n",
       "    <tr>\n",
       "      <th>max</th>\n",
       "      <td>35875.000</td>\n",
       "      <td>751.000</td>\n",
       "      <td>10.000</td>\n",
       "      <td>1181520.000</td>\n",
       "      <td>10831.650</td>\n",
       "      <td>58.000</td>\n",
       "      <td>176.000</td>\n",
       "      <td>76.000</td>\n",
       "      <td>15.000</td>\n",
       "      <td>1730472.000</td>\n",
       "      <td>69988086.000</td>\n",
       "      <td>7.000</td>\n",
       "      <td>15.000</td>\n",
       "    </tr>\n",
       "  </tbody>\n",
       "</table>\n",
       "</div>"
      ],
      "text/plain": [
       "       current_loan_amount  credit_score  ...  bankruptcies  tax_liens\n",
       "count            80578.000     72808.000  ...     88702.000  88886.000\n",
       "mean             13983.217       720.047  ...         0.113      0.028\n",
       "std               8291.009        27.814  ...         0.343      0.257\n",
       "min                491.000       585.000  ...         0.000      0.000\n",
       "25%               7810.000       708.000  ...         0.000      0.000\n",
       "50%              12058.000       728.000  ...         0.000      0.000\n",
       "75%              19490.000       741.000  ...         0.000      0.000\n",
       "max              35875.000       751.000  ...         7.000     15.000\n",
       "\n",
       "[8 rows x 13 columns]"
      ]
     },
     "execution_count": 52,
     "metadata": {
      "tags": []
     },
     "output_type": "execute_result"
    }
   ],
   "source": [
    "data.describe()"
   ]
  },
  {
   "cell_type": "markdown",
   "metadata": {
    "id": "aqreESF2_mcA"
   },
   "source": [
    "#### Outlier treatment: Number of Open Accounts"
   ]
  },
  {
   "cell_type": "code",
   "execution_count": null,
   "metadata": {
    "colab": {
     "base_uri": "https://localhost:8080/",
     "height": 265
    },
    "id": "iykBDjXs_mcA",
    "outputId": "cf1c0134-62f2-4908-c35c-173220cd8623",
    "scrolled": true
   },
   "outputs": [
    {
     "data": {
      "image/png": "[encoded data removed]",
      "text/plain": [
       "<Figure size 432x288 with 1 Axes>"
      ]
     },
     "metadata": {
      "needs_background": "light",
      "tags": []
     },
     "output_type": "display_data"
    }
   ],
   "source": [
    "ax = sns.boxplot(data=data['number_of_open_accounts'], orient=\"h\", palette=\"Set2\")"
   ]
  },
  {
   "cell_type": "code",
   "execution_count": null,
   "metadata": {
    "colab": {
     "base_uri": "https://localhost:8080/",
     "height": 561
    },
    "id": "RlBMNdUt_mcB",
    "outputId": "e022d6fd-d916-4c58-d235-6360dc56af5e",
    "scrolled": true
   },
   "outputs": [
    {
     "data": {
      "text/html": [
       "<div>\n",
       "<style scoped>\n",
       "    .dataframe tbody tr th:only-of-type {\n",
       "        vertical-align: middle;\n",
       "    }\n",
       "\n",
       "    .dataframe tbody tr th {\n",
       "        vertical-align: top;\n",
       "    }\n",
       "\n",
       "    .dataframe thead th {\n",
       "        text-align: right;\n",
       "    }\n",
       "</style>\n",
       "<table border=\"1\" class=\"dataframe\">\n",
       "  <thead>\n",
       "    <tr style=\"text-align: right;\">\n",
       "      <th></th>\n",
       "      <th>loan_id</th>\n",
       "      <th>customer_id</th>\n",
       "      <th>loan_status</th>\n",
       "      <th>current_loan_amount</th>\n",
       "      <th>term</th>\n",
       "      <th>credit_score</th>\n",
       "      <th>years_in_current_job</th>\n",
       "      <th>home_ownership</th>\n",
       "      <th>annual_income</th>\n",
       "      <th>purpose</th>\n",
       "      <th>monthly_debt</th>\n",
       "      <th>years_of_credit_history</th>\n",
       "      <th>months_since_last_delinquent</th>\n",
       "      <th>number_of_open_accounts</th>\n",
       "      <th>number_of_credit_problems</th>\n",
       "      <th>current_credit_balance</th>\n",
       "      <th>maximum_open_credit</th>\n",
       "      <th>bankruptcies</th>\n",
       "      <th>tax_liens</th>\n",
       "    </tr>\n",
       "  </thead>\n",
       "  <tbody>\n",
       "    <tr>\n",
       "      <th>2251</th>\n",
       "      <td>08dab131-9db3-4184-a32a-e12e48fd5d6c</td>\n",
       "      <td>907c2a89-76f8-4089-9a47-d410bb885339</td>\n",
       "      <td>Charged Off</td>\n",
       "      <td>18755.000</td>\n",
       "      <td>Long Term</td>\n",
       "      <td>670.000</td>\n",
       "      <td>7.000</td>\n",
       "      <td>Rent</td>\n",
       "      <td>46912.000</td>\n",
       "      <td>Debt Consolidation</td>\n",
       "      <td>1032.060</td>\n",
       "      <td>27.400</td>\n",
       "      <td>nan</td>\n",
       "      <td>76</td>\n",
       "      <td>0</td>\n",
       "      <td>22111</td>\n",
       "      <td>28131</td>\n",
       "      <td>0.000</td>\n",
       "      <td>0.000</td>\n",
       "    </tr>\n",
       "    <tr>\n",
       "      <th>40856</th>\n",
       "      <td>f4e0a453-a5ec-4011-9513-9d203ffe8e3c</td>\n",
       "      <td>3e62a9e2-a61b-472d-8e56-234e30061580</td>\n",
       "      <td>Charged Off</td>\n",
       "      <td>20426.000</td>\n",
       "      <td>Short Term</td>\n",
       "      <td>708.000</td>\n",
       "      <td>5.000</td>\n",
       "      <td>Home Mortgage</td>\n",
       "      <td>122556.000</td>\n",
       "      <td>Debt Consolidation</td>\n",
       "      <td>2195.800</td>\n",
       "      <td>15.700</td>\n",
       "      <td>nan</td>\n",
       "      <td>76</td>\n",
       "      <td>0</td>\n",
       "      <td>40606</td>\n",
       "      <td>121575</td>\n",
       "      <td>0.000</td>\n",
       "      <td>0.000</td>\n",
       "    </tr>\n",
       "    <tr>\n",
       "      <th>47246</th>\n",
       "      <td>8c32029e-0af5-4d1f-852f-2f0325bf6f42</td>\n",
       "      <td>50636032-0df6-4e6d-af9d-474f317c77e0</td>\n",
       "      <td>Charged Off</td>\n",
       "      <td>5837.000</td>\n",
       "      <td>Short Term</td>\n",
       "      <td>711.000</td>\n",
       "      <td>3.000</td>\n",
       "      <td>Own Home</td>\n",
       "      <td>36297.000</td>\n",
       "      <td>Debt Consolidation</td>\n",
       "      <td>356.920</td>\n",
       "      <td>8.900</td>\n",
       "      <td>nan</td>\n",
       "      <td>52</td>\n",
       "      <td>0</td>\n",
       "      <td>1678</td>\n",
       "      <td>12342</td>\n",
       "      <td>0.000</td>\n",
       "      <td>0.000</td>\n",
       "    </tr>\n",
       "    <tr>\n",
       "      <th>47944</th>\n",
       "      <td>7d000d90-1538-4d4d-b7c2-15724be2025e</td>\n",
       "      <td>080f449b-c0b7-4226-8a51-cdcc7e68954f</td>\n",
       "      <td>Fully Paid</td>\n",
       "      <td>6082.000</td>\n",
       "      <td>Short Term</td>\n",
       "      <td>742.000</td>\n",
       "      <td>10.000</td>\n",
       "      <td>Home Mortgage</td>\n",
       "      <td>71973.000</td>\n",
       "      <td>Debt Consolidation</td>\n",
       "      <td>422.840</td>\n",
       "      <td>18.700</td>\n",
       "      <td>nan</td>\n",
       "      <td>52</td>\n",
       "      <td>0</td>\n",
       "      <td>7234</td>\n",
       "      <td>164404</td>\n",
       "      <td>0.000</td>\n",
       "      <td>0.000</td>\n",
       "    </tr>\n",
       "    <tr>\n",
       "      <th>65859</th>\n",
       "      <td>4f8a7824-b9bd-4b8c-b2a1-6b7b196d2c0f</td>\n",
       "      <td>67a534d6-7038-4e0b-8d42-8aab6d220701</td>\n",
       "      <td>Fully Paid</td>\n",
       "      <td>28185.000</td>\n",
       "      <td>Long Term</td>\n",
       "      <td>744.000</td>\n",
       "      <td>2.000</td>\n",
       "      <td>Home Mortgage</td>\n",
       "      <td>201320.000</td>\n",
       "      <td>Debt Consolidation</td>\n",
       "      <td>nan</td>\n",
       "      <td>15.600</td>\n",
       "      <td>nan</td>\n",
       "      <td>55</td>\n",
       "      <td>0</td>\n",
       "      <td>34159</td>\n",
       "      <td>185646</td>\n",
       "      <td>0.000</td>\n",
       "      <td>0.000</td>\n",
       "    </tr>\n",
       "    <tr>\n",
       "      <th>83562</th>\n",
       "      <td>1653fa6e-eaef-41ce-831c-db5172fc966b</td>\n",
       "      <td>9646ae9b-104e-4b8d-913a-cecfbcd11de4</td>\n",
       "      <td>Fully Paid</td>\n",
       "      <td>18214.000</td>\n",
       "      <td>Short Term</td>\n",
       "      <td>721.000</td>\n",
       "      <td>8.000</td>\n",
       "      <td>Rent</td>\n",
       "      <td>67440.000</td>\n",
       "      <td>Debt Consolidation</td>\n",
       "      <td>nan</td>\n",
       "      <td>16.800</td>\n",
       "      <td>nan</td>\n",
       "      <td>56</td>\n",
       "      <td>0</td>\n",
       "      <td>33929</td>\n",
       "      <td>55169</td>\n",
       "      <td>0.000</td>\n",
       "      <td>0.000</td>\n",
       "    </tr>\n",
       "  </tbody>\n",
       "</table>\n",
       "</div>"
      ],
      "text/plain": [
       "                                    loan_id  ... tax_liens\n",
       "2251   08dab131-9db3-4184-a32a-e12e48fd5d6c  ...     0.000\n",
       "40856  f4e0a453-a5ec-4011-9513-9d203ffe8e3c  ...     0.000\n",
       "47246  8c32029e-0af5-4d1f-852f-2f0325bf6f42  ...     0.000\n",
       "47944  7d000d90-1538-4d4d-b7c2-15724be2025e  ...     0.000\n",
       "65859  4f8a7824-b9bd-4b8c-b2a1-6b7b196d2c0f  ...     0.000\n",
       "83562  1653fa6e-eaef-41ce-831c-db5172fc966b  ...     0.000\n",
       "\n",
       "[6 rows x 19 columns]"
      ]
     },
     "execution_count": 54,
     "metadata": {
      "tags": []
     },
     "output_type": "execute_result"
    }
   ],
   "source": [
    "data[data['number_of_open_accounts']>50]"
   ]
  },
  {
   "cell_type": "code",
   "execution_count": null,
   "metadata": {
    "id": "CgSD8jut_mcC"
   },
   "outputs": [],
   "source": [
    "data = data.drop(data[data['number_of_open_accounts']>50].index.values)"
   ]
  },
  {
   "cell_type": "code",
   "execution_count": null,
   "metadata": {
    "colab": {
     "base_uri": "https://localhost:8080/",
     "height": 265
    },
    "id": "lJtmOmB6_mcD",
    "outputId": "7a53f3ed-4c20-4ce3-e470-c4c0397081a8",
    "scrolled": true
   },
   "outputs": [
    {
     "data": {
      "image/png": "[encoded data removed]",
      "text/plain": [
       "<Figure size 432x288 with 1 Axes>"
      ]
     },
     "metadata": {
      "needs_background": "light",
      "tags": []
     },
     "output_type": "display_data"
    }
   ],
   "source": [
    "ax = sns.boxplot(data=data['number_of_open_accounts'], orient=\"h\", palette=\"Set2\")"
   ]
  },
  {
   "cell_type": "code",
   "execution_count": null,
   "metadata": {
    "colab": {
     "base_uri": "https://localhost:8080/"
    },
    "id": "HoRUEsm8_mcE",
    "outputId": "e133cf05-59aa-4a54-aed5-85fa5001ba52",
    "scrolled": true
   },
   "outputs": [
    {
     "name": "stdout",
     "output_type": "stream",
     "text": [
      "Upper Limit: 23.0\n"
     ]
    }
   ],
   "source": [
    "#Capping the outliers\n",
    "IQR = data['number_of_open_accounts'].quantile(0.75) - data['number_of_open_accounts'].quantile(0.25)\n",
    "upper_limit = data['number_of_open_accounts'].quantile(0.75) + (IQR * 1.5)\n",
    "print(\"Upper Limit:\", upper_limit)"
   ]
  },
  {
   "cell_type": "code",
   "execution_count": null,
   "metadata": {
    "colab": {
     "base_uri": "https://localhost:8080/",
     "height": 265
    },
    "id": "uRuW-FO6_mcF",
    "outputId": "546d5f4f-e114-454d-c12a-f8977e3f515c",
    "scrolled": true
   },
   "outputs": [
    {
     "data": {
      "image/png": "[encoded data removed]",
      "text/plain": [
       "<Figure size 432x288 with 1 Axes>"
      ]
     },
     "metadata": {
      "needs_background": "light",
      "tags": []
     },
     "output_type": "display_data"
    }
   ],
   "source": [
    "data['number_of_open_accounts'] = [23.0 if ( x>23.0 and x!=np.nan) else x for x in data['number_of_open_accounts']]\n",
    "ax = sns.boxplot(data=data['number_of_open_accounts'], orient=\"h\", palette=\"Set2\")"
   ]
  },
  {
   "cell_type": "code",
   "execution_count": null,
   "metadata": {
    "colab": {
     "base_uri": "https://localhost:8080/",
     "height": 334
    },
    "id": "8EtGi7xG_mcG",
    "outputId": "fe335a17-f1b0-4bfb-a093-62c5e839af49",
    "scrolled": true
   },
   "outputs": [
    {
     "name": "stdout",
     "output_type": "stream",
     "text": [
      "(88888, 19)\n"
     ]
    },
    {
     "data": {
      "text/html": [
       "<div>\n",
       "<style scoped>\n",
       "    .dataframe tbody tr th:only-of-type {\n",
       "        vertical-align: middle;\n",
       "    }\n",
       "\n",
       "    .dataframe tbody tr th {\n",
       "        vertical-align: top;\n",
       "    }\n",
       "\n",
       "    .dataframe thead th {\n",
       "        text-align: right;\n",
       "    }\n",
       "</style>\n",
       "<table border=\"1\" class=\"dataframe\">\n",
       "  <thead>\n",
       "    <tr style=\"text-align: right;\">\n",
       "      <th></th>\n",
       "      <th>current_loan_amount</th>\n",
       "      <th>credit_score</th>\n",
       "      <th>years_in_current_job</th>\n",
       "      <th>annual_income</th>\n",
       "      <th>monthly_debt</th>\n",
       "      <th>years_of_credit_history</th>\n",
       "      <th>months_since_last_delinquent</th>\n",
       "      <th>number_of_open_accounts</th>\n",
       "      <th>number_of_credit_problems</th>\n",
       "      <th>current_credit_balance</th>\n",
       "      <th>maximum_open_credit</th>\n",
       "      <th>bankruptcies</th>\n",
       "      <th>tax_liens</th>\n",
       "    </tr>\n",
       "  </thead>\n",
       "  <tbody>\n",
       "    <tr>\n",
       "      <th>count</th>\n",
       "      <td>80572.000</td>\n",
       "      <td>72802.000</td>\n",
       "      <td>85073.000</td>\n",
       "      <td>72802.000</td>\n",
       "      <td>55853.000</td>\n",
       "      <td>88888.000</td>\n",
       "      <td>40395.000</td>\n",
       "      <td>88888.000</td>\n",
       "      <td>88888.000</td>\n",
       "      <td>88888.000</td>\n",
       "      <td>88888.000</td>\n",
       "      <td>88696.000</td>\n",
       "      <td>88880.000</td>\n",
       "    </tr>\n",
       "    <tr>\n",
       "      <th>mean</th>\n",
       "      <td>13983.048</td>\n",
       "      <td>720.047</td>\n",
       "      <td>5.869</td>\n",
       "      <td>72186.047</td>\n",
       "      <td>954.716</td>\n",
       "      <td>18.311</td>\n",
       "      <td>35.081</td>\n",
       "      <td>11.012</td>\n",
       "      <td>0.160</td>\n",
       "      <td>15434.614</td>\n",
       "      <td>35961.177</td>\n",
       "      <td>0.113</td>\n",
       "      <td>0.028</td>\n",
       "    </tr>\n",
       "    <tr>\n",
       "      <th>std</th>\n",
       "      <td>8291.009</td>\n",
       "      <td>27.815</td>\n",
       "      <td>3.630</td>\n",
       "      <td>46468.882</td>\n",
       "      <td>628.208</td>\n",
       "      <td>7.037</td>\n",
       "      <td>22.009</td>\n",
       "      <td>4.645</td>\n",
       "      <td>0.474</td>\n",
       "      <td>19658.102</td>\n",
       "      <td>404225.185</td>\n",
       "      <td>0.343</td>\n",
       "      <td>0.257</td>\n",
       "    </tr>\n",
       "    <tr>\n",
       "      <th>min</th>\n",
       "      <td>491.000</td>\n",
       "      <td>585.000</td>\n",
       "      <td>0.000</td>\n",
       "      <td>4033.000</td>\n",
       "      <td>0.000</td>\n",
       "      <td>3.600</td>\n",
       "      <td>0.000</td>\n",
       "      <td>0.000</td>\n",
       "      <td>0.000</td>\n",
       "      <td>0.000</td>\n",
       "      <td>0.000</td>\n",
       "      <td>0.000</td>\n",
       "      <td>0.000</td>\n",
       "    </tr>\n",
       "    <tr>\n",
       "      <th>25%</th>\n",
       "      <td>7810.000</td>\n",
       "      <td>708.000</td>\n",
       "      <td>3.000</td>\n",
       "      <td>44636.000</td>\n",
       "      <td>528.530</td>\n",
       "      <td>13.500</td>\n",
       "      <td>16.000</td>\n",
       "      <td>8.000</td>\n",
       "      <td>0.000</td>\n",
       "      <td>5949.000</td>\n",
       "      <td>12775.000</td>\n",
       "      <td>0.000</td>\n",
       "      <td>0.000</td>\n",
       "    </tr>\n",
       "    <tr>\n",
       "      <th>50%</th>\n",
       "      <td>12058.000</td>\n",
       "      <td>728.000</td>\n",
       "      <td>6.000</td>\n",
       "      <td>61584.000</td>\n",
       "      <td>836.510</td>\n",
       "      <td>17.000</td>\n",
       "      <td>32.000</td>\n",
       "      <td>10.000</td>\n",
       "      <td>0.000</td>\n",
       "      <td>11039.000</td>\n",
       "      <td>21776.000</td>\n",
       "      <td>0.000</td>\n",
       "      <td>0.000</td>\n",
       "    </tr>\n",
       "    <tr>\n",
       "      <th>75%</th>\n",
       "      <td>19490.000</td>\n",
       "      <td>741.000</td>\n",
       "      <td>10.000</td>\n",
       "      <td>86784.000</td>\n",
       "      <td>1240.750</td>\n",
       "      <td>21.800</td>\n",
       "      <td>51.000</td>\n",
       "      <td>14.000</td>\n",
       "      <td>0.000</td>\n",
       "      <td>19299.250</td>\n",
       "      <td>36366.000</td>\n",
       "      <td>0.000</td>\n",
       "      <td>0.000</td>\n",
       "    </tr>\n",
       "    <tr>\n",
       "      <th>max</th>\n",
       "      <td>35875.000</td>\n",
       "      <td>751.000</td>\n",
       "      <td>10.000</td>\n",
       "      <td>1181520.000</td>\n",
       "      <td>10831.650</td>\n",
       "      <td>58.000</td>\n",
       "      <td>176.000</td>\n",
       "      <td>23.000</td>\n",
       "      <td>15.000</td>\n",
       "      <td>1730472.000</td>\n",
       "      <td>69988086.000</td>\n",
       "      <td>7.000</td>\n",
       "      <td>15.000</td>\n",
       "    </tr>\n",
       "  </tbody>\n",
       "</table>\n",
       "</div>"
      ],
      "text/plain": [
       "       current_loan_amount  credit_score  ...  bankruptcies  tax_liens\n",
       "count            80572.000     72802.000  ...     88696.000  88880.000\n",
       "mean             13983.048       720.047  ...         0.113      0.028\n",
       "std               8291.009        27.815  ...         0.343      0.257\n",
       "min                491.000       585.000  ...         0.000      0.000\n",
       "25%               7810.000       708.000  ...         0.000      0.000\n",
       "50%              12058.000       728.000  ...         0.000      0.000\n",
       "75%              19490.000       741.000  ...         0.000      0.000\n",
       "max              35875.000       751.000  ...         7.000     15.000\n",
       "\n",
       "[8 rows x 13 columns]"
      ]
     },
     "execution_count": 59,
     "metadata": {
      "tags": []
     },
     "output_type": "execute_result"
    }
   ],
   "source": [
    "print(data.shape)\n",
    "data.describe()"
   ]
  },
  {
   "cell_type": "code",
   "execution_count": null,
   "metadata": {
    "id": "JLyAAwcDgVZh"
   },
   "outputs": [],
   "source": [
    "data.to_csv(\"Partialclean_Loandata.csv\", index=False)"
   ]
  },
  {
   "cell_type": "code",
   "execution_count": null,
   "metadata": {
    "colab": {
     "base_uri": "https://localhost:8080/"
    },
    "id": "1tRnnf3-gkvr",
    "outputId": "a6f147da-93ad-484e-ed9c-7d24c2411ada"
   },
   "outputs": [
    {
     "data": {
      "text/plain": [
       "(88888, 19)"
      ]
     },
     "execution_count": 61,
     "metadata": {
      "tags": []
     },
     "output_type": "execute_result"
    }
   ],
   "source": [
    "data = pd.read_csv(\"Partialclean_Loandata.csv\")\n",
    "data.shape"
   ]
  },
  {
   "cell_type": "markdown",
   "metadata": {
    "id": "fre7F-e4_mcH"
   },
   "source": [
    "Now, all outliers has been handled so let's check the missing values."
   ]
  },
  {
   "cell_type": "code",
   "execution_count": null,
   "metadata": {
    "colab": {
     "base_uri": "https://localhost:8080/"
    },
    "id": "JtUsqSDQ_mcH",
    "outputId": "0bf66c99-bfd0-42c1-9253-c29dc6b19a04"
   },
   "outputs": [
    {
     "data": {
      "text/plain": [
       "loan_id                             0\n",
       "customer_id                         0\n",
       "loan_status                         0\n",
       "current_loan_amount              8316\n",
       "term                                0\n",
       "credit_score                    16086\n",
       "years_in_current_job             3815\n",
       "home_ownership                      0\n",
       "annual_income                   16086\n",
       "purpose                             0\n",
       "monthly_debt                    33035\n",
       "years_of_credit_history             0\n",
       "months_since_last_delinquent    48493\n",
       "number_of_open_accounts             0\n",
       "number_of_credit_problems           0\n",
       "current_credit_balance              0\n",
       "maximum_open_credit                 0\n",
       "bankruptcies                      192\n",
       "tax_liens                           8\n",
       "dtype: int64"
      ]
     },
     "execution_count": 62,
     "metadata": {
      "tags": []
     },
     "output_type": "execute_result"
    }
   ],
   "source": [
    "data.isnull().sum()"
   ]
  },
  {
   "cell_type": "markdown",
   "metadata": {
    "id": "F7-uLU5H_mcI"
   },
   "source": [
    "#### Missing Value Treatment: Bankruptcies & Tax Liens"
   ]
  },
  {
   "cell_type": "markdown",
   "metadata": {
    "id": "Q7-qaWb1_mcI"
   },
   "source": [
    "Reference Link for Iterative Imputing:\n",
    "https://scikit-learn.org/stable/auto_examples/impute/plot_iterative_imputer_variants_comparison.html#sphx-glr-auto-examples-impute-plot-iterative-imputer-variants-comparison-py"
   ]
  },
  {
   "cell_type": "code",
   "execution_count": null,
   "metadata": {
    "colab": {
     "base_uri": "https://localhost:8080/"
    },
    "id": "MkihuVVe_mcJ",
    "outputId": "363f2602-6024-4cff-d222-6d9566814fcb"
   },
   "outputs": [
    {
     "name": "stdout",
     "output_type": "stream",
     "text": [
      "(88696, 19)\n"
     ]
    },
    {
     "data": {
      "text/plain": [
       "loan_id                             0\n",
       "customer_id                         0\n",
       "loan_status                         0\n",
       "current_loan_amount              8295\n",
       "term                                0\n",
       "credit_score                    16049\n",
       "years_in_current_job             3815\n",
       "home_ownership                      0\n",
       "annual_income                   16049\n",
       "purpose                             0\n",
       "monthly_debt                    32973\n",
       "years_of_credit_history             0\n",
       "months_since_last_delinquent    48492\n",
       "number_of_open_accounts             0\n",
       "number_of_credit_problems           0\n",
       "current_credit_balance              0\n",
       "maximum_open_credit                 0\n",
       "bankruptcies                        0\n",
       "tax_liens                           0\n",
       "dtype: int64"
      ]
     },
     "execution_count": 63,
     "metadata": {
      "tags": []
     },
     "output_type": "execute_result"
    }
   ],
   "source": [
    "# Since percentage value of Missing values in Bankruptcies and Tax Liens are very low we can delete the rows\n",
    "data = data.dropna(subset=['bankruptcies', 'tax_liens'])\n",
    "print(data.shape)\n",
    "data.isnull().sum()"
   ]
  },
  {
   "cell_type": "markdown",
   "metadata": {
    "id": "vtBX8PW8_mcJ"
   },
   "source": [
    "#### Missing Value Treatment: Months Since Last Delinquent"
   ]
  },
  {
   "cell_type": "markdown",
   "metadata": {
    "id": "3MRmxiCz_mcK"
   },
   "source": [
    "This feature describes the number of months since the credit is not paid, so NA's actually are the genuine customers so replacing it with 0."
   ]
  },
  {
   "cell_type": "code",
   "execution_count": null,
   "metadata": {
    "colab": {
     "base_uri": "https://localhost:8080/"
    },
    "id": "Srl_fjEQ_mcK",
    "outputId": "30393fc9-f323-46a8-a237-9092be0fff40"
   },
   "outputs": [
    {
     "name": "stdout",
     "output_type": "stream",
     "text": [
      "(88696, 19)\n"
     ]
    },
    {
     "data": {
      "text/plain": [
       "loan_id                             0\n",
       "customer_id                         0\n",
       "loan_status                         0\n",
       "current_loan_amount              8295\n",
       "term                                0\n",
       "credit_score                    16049\n",
       "years_in_current_job             3815\n",
       "home_ownership                      0\n",
       "annual_income                   16049\n",
       "purpose                             0\n",
       "monthly_debt                    32973\n",
       "years_of_credit_history             0\n",
       "months_since_last_delinquent        0\n",
       "number_of_open_accounts             0\n",
       "number_of_credit_problems           0\n",
       "current_credit_balance              0\n",
       "maximum_open_credit                 0\n",
       "bankruptcies                        0\n",
       "tax_liens                           0\n",
       "dtype: int64"
      ]
     },
     "execution_count": 64,
     "metadata": {
      "tags": []
     },
     "output_type": "execute_result"
    }
   ],
   "source": [
    "data[\"months_since_last_delinquent\"].fillna(0, inplace = True)\n",
    "print(data.shape)\n",
    "data.isnull().sum()"
   ]
  },
  {
   "cell_type": "markdown",
   "metadata": {
    "id": "UY4O_1od_mcL"
   },
   "source": [
    "#### Missing Value Treatment: Current Loan Amount, Credit Score, Years In Current Job, Annual Income"
   ]
  },
  {
   "cell_type": "markdown",
   "metadata": {
    "id": "aPUG38YS_mcM"
   },
   "source": [
    "Applying **'Iterative Imputer'** using default estimator **'Bayesian Ridge'** which is **Regularized Linear Regression**."
   ]
  },
  {
   "cell_type": "code",
   "execution_count": null,
   "metadata": {
    "colab": {
     "base_uri": "https://localhost:8080/"
    },
    "id": "V8XZeAkb_mcM",
    "outputId": "03eff063-a954-4b99-baa3-61b8b7cf1d85"
   },
   "outputs": [
    {
     "name": "stdout",
     "output_type": "stream",
     "text": [
      "(88696, 13)\n"
     ]
    },
    {
     "data": {
      "text/plain": [
       "current_loan_amount              8295\n",
       "credit_score                    16049\n",
       "years_in_current_job             3815\n",
       "annual_income                   16049\n",
       "monthly_debt                    32973\n",
       "years_of_credit_history             0\n",
       "months_since_last_delinquent        0\n",
       "number_of_open_accounts             0\n",
       "number_of_credit_problems           0\n",
       "current_credit_balance              0\n",
       "maximum_open_credit                 0\n",
       "bankruptcies                        0\n",
       "tax_liens                           0\n",
       "dtype: int64"
      ]
     },
     "execution_count": 65,
     "metadata": {
      "tags": []
     },
     "output_type": "execute_result"
    }
   ],
   "source": [
    "data.reset_index(drop=True, inplace=True)\n",
    "my_imputer = IterativeImputer()\n",
    "#For this we need only numerical variables so filtering this\n",
    "data_numerical = data._get_numeric_data()\n",
    "data_numerical_columns = data_numerical.columns \n",
    "print(data_numerical.shape)\n",
    "data_numerical.isnull().sum()"
   ]
  },
  {
   "cell_type": "code",
   "execution_count": null,
   "metadata": {
    "colab": {
     "base_uri": "https://localhost:8080/"
    },
    "id": "gAlu0Ltv_mcN",
    "outputId": "fbb6e800-8763-4041-a083-0afb2e1d7354"
   },
   "outputs": [
    {
     "data": {
      "text/plain": [
       "current_loan_amount             0\n",
       "credit_score                    0\n",
       "years_in_current_job            0\n",
       "annual_income                   0\n",
       "monthly_debt                    0\n",
       "years_of_credit_history         0\n",
       "months_since_last_delinquent    0\n",
       "number_of_open_accounts         0\n",
       "number_of_credit_problems       0\n",
       "current_credit_balance          0\n",
       "maximum_open_credit             0\n",
       "bankruptcies                    0\n",
       "tax_liens                       0\n",
       "dtype: int64"
      ]
     },
     "execution_count": 66,
     "metadata": {
      "tags": []
     },
     "output_type": "execute_result"
    }
   ],
   "source": [
    "data_imputed = my_imputer.fit_transform(data_numerical)\n",
    "#Imputer will give the array as an object so need to convert it to Dataframe with columns\n",
    "data_imputed = pd.DataFrame(data_imputed, columns=data_numerical_columns)\n",
    "data_imputed.isnull().sum()"
   ]
  },
  {
   "cell_type": "code",
   "execution_count": null,
   "metadata": {
    "colab": {
     "base_uri": "https://localhost:8080/",
     "height": 317
    },
    "id": "UITYxRj3_mcO",
    "outputId": "c691d5f7-ca35-4382-a941-73c6880ad6c2",
    "scrolled": true
   },
   "outputs": [
    {
     "data": {
      "text/html": [
       "<div>\n",
       "<style scoped>\n",
       "    .dataframe tbody tr th:only-of-type {\n",
       "        vertical-align: middle;\n",
       "    }\n",
       "\n",
       "    .dataframe tbody tr th {\n",
       "        vertical-align: top;\n",
       "    }\n",
       "\n",
       "    .dataframe thead th {\n",
       "        text-align: right;\n",
       "    }\n",
       "</style>\n",
       "<table border=\"1\" class=\"dataframe\">\n",
       "  <thead>\n",
       "    <tr style=\"text-align: right;\">\n",
       "      <th></th>\n",
       "      <th>current_loan_amount</th>\n",
       "      <th>credit_score</th>\n",
       "      <th>years_in_current_job</th>\n",
       "      <th>annual_income</th>\n",
       "      <th>monthly_debt</th>\n",
       "      <th>years_of_credit_history</th>\n",
       "      <th>months_since_last_delinquent</th>\n",
       "      <th>number_of_open_accounts</th>\n",
       "      <th>number_of_credit_problems</th>\n",
       "      <th>current_credit_balance</th>\n",
       "      <th>maximum_open_credit</th>\n",
       "      <th>bankruptcies</th>\n",
       "      <th>tax_liens</th>\n",
       "    </tr>\n",
       "  </thead>\n",
       "  <tbody>\n",
       "    <tr>\n",
       "      <th>count</th>\n",
       "      <td>88696.000</td>\n",
       "      <td>88696.000</td>\n",
       "      <td>88696.000</td>\n",
       "      <td>88696.000</td>\n",
       "      <td>88696.000</td>\n",
       "      <td>88696.000</td>\n",
       "      <td>88696.000</td>\n",
       "      <td>88696.000</td>\n",
       "      <td>88696.000</td>\n",
       "      <td>88696.000</td>\n",
       "      <td>88696.000</td>\n",
       "      <td>88696.000</td>\n",
       "      <td>88696.000</td>\n",
       "    </tr>\n",
       "    <tr>\n",
       "      <th>mean</th>\n",
       "      <td>13865.129</td>\n",
       "      <td>720.166</td>\n",
       "      <td>5.892</td>\n",
       "      <td>71940.021</td>\n",
       "      <td>966.537</td>\n",
       "      <td>18.306</td>\n",
       "      <td>15.948</td>\n",
       "      <td>11.015</td>\n",
       "      <td>0.161</td>\n",
       "      <td>15439.161</td>\n",
       "      <td>35800.372</td>\n",
       "      <td>0.113</td>\n",
       "      <td>0.028</td>\n",
       "    </tr>\n",
       "    <tr>\n",
       "      <th>std</th>\n",
       "      <td>8012.791</td>\n",
       "      <td>25.409</td>\n",
       "      <td>3.559</td>\n",
       "      <td>44707.950</td>\n",
       "      <td>586.225</td>\n",
       "      <td>7.037</td>\n",
       "      <td>22.920</td>\n",
       "      <td>4.643</td>\n",
       "      <td>0.474</td>\n",
       "      <td>19656.190</td>\n",
       "      <td>402564.760</td>\n",
       "      <td>0.343</td>\n",
       "      <td>0.257</td>\n",
       "    </tr>\n",
       "    <tr>\n",
       "      <th>min</th>\n",
       "      <td>701.000</td>\n",
       "      <td>585.000</td>\n",
       "      <td>0.000</td>\n",
       "      <td>-5158.546</td>\n",
       "      <td>-361.109</td>\n",
       "      <td>3.600</td>\n",
       "      <td>0.000</td>\n",
       "      <td>0.000</td>\n",
       "      <td>0.000</td>\n",
       "      <td>0.000</td>\n",
       "      <td>0.000</td>\n",
       "      <td>0.000</td>\n",
       "      <td>0.000</td>\n",
       "    </tr>\n",
       "    <tr>\n",
       "      <th>25%</th>\n",
       "      <td>7998.000</td>\n",
       "      <td>711.000</td>\n",
       "      <td>3.000</td>\n",
       "      <td>44876.000</td>\n",
       "      <td>582.420</td>\n",
       "      <td>13.500</td>\n",
       "      <td>0.000</td>\n",
       "      <td>8.000</td>\n",
       "      <td>0.000</td>\n",
       "      <td>5957.000</td>\n",
       "      <td>12779.000</td>\n",
       "      <td>0.000</td>\n",
       "      <td>0.000</td>\n",
       "    </tr>\n",
       "    <tr>\n",
       "      <th>50%</th>\n",
       "      <td>12043.000</td>\n",
       "      <td>725.000</td>\n",
       "      <td>6.000</td>\n",
       "      <td>62242.000</td>\n",
       "      <td>864.859</td>\n",
       "      <td>17.000</td>\n",
       "      <td>0.000</td>\n",
       "      <td>10.000</td>\n",
       "      <td>0.000</td>\n",
       "      <td>11048.000</td>\n",
       "      <td>21779.000</td>\n",
       "      <td>0.000</td>\n",
       "      <td>0.000</td>\n",
       "    </tr>\n",
       "    <tr>\n",
       "      <th>75%</th>\n",
       "      <td>18416.000</td>\n",
       "      <td>739.000</td>\n",
       "      <td>10.000</td>\n",
       "      <td>86826.500</td>\n",
       "      <td>1227.360</td>\n",
       "      <td>21.800</td>\n",
       "      <td>29.000</td>\n",
       "      <td>14.000</td>\n",
       "      <td>0.000</td>\n",
       "      <td>19304.000</td>\n",
       "      <td>36364.000</td>\n",
       "      <td>0.000</td>\n",
       "      <td>0.000</td>\n",
       "    </tr>\n",
       "    <tr>\n",
       "      <th>max</th>\n",
       "      <td>87109.717</td>\n",
       "      <td>802.634</td>\n",
       "      <td>10.440</td>\n",
       "      <td>1181520.000</td>\n",
       "      <td>10831.650</td>\n",
       "      <td>58.000</td>\n",
       "      <td>176.000</td>\n",
       "      <td>23.000</td>\n",
       "      <td>15.000</td>\n",
       "      <td>1730472.000</td>\n",
       "      <td>69988086.000</td>\n",
       "      <td>7.000</td>\n",
       "      <td>15.000</td>\n",
       "    </tr>\n",
       "  </tbody>\n",
       "</table>\n",
       "</div>"
      ],
      "text/plain": [
       "       current_loan_amount  credit_score  ...  bankruptcies  tax_liens\n",
       "count            88696.000     88696.000  ...     88696.000  88696.000\n",
       "mean             13865.129       720.166  ...         0.113      0.028\n",
       "std               8012.791        25.409  ...         0.343      0.257\n",
       "min                701.000       585.000  ...         0.000      0.000\n",
       "25%               7998.000       711.000  ...         0.000      0.000\n",
       "50%              12043.000       725.000  ...         0.000      0.000\n",
       "75%              18416.000       739.000  ...         0.000      0.000\n",
       "max              87109.717       802.634  ...         7.000     15.000\n",
       "\n",
       "[8 rows x 13 columns]"
      ]
     },
     "execution_count": 67,
     "metadata": {
      "tags": []
     },
     "output_type": "execute_result"
    }
   ],
   "source": [
    "data_imputed.describe()"
   ]
  },
  {
   "cell_type": "markdown",
   "metadata": {
    "id": "Wg5i9Fsk_mcO"
   },
   "source": [
    "Plotting histogram to see the difference between without na values and after replacing na values with Iterative Imputer. <br>\n",
    "data_numerical is our Dataframe with NA's, while, data_imputed is our Dataframe without NA's."
   ]
  },
  {
   "cell_type": "markdown",
   "metadata": {
    "id": "vHhNFNAJ_mcP"
   },
   "source": [
    "#### Histogram: Current Loan Amount"
   ]
  },
  {
   "cell_type": "code",
   "execution_count": null,
   "metadata": {
    "colab": {
     "base_uri": "https://localhost:8080/",
     "height": 295
    },
    "id": "DFOT05l4_mcP",
    "outputId": "295b5e6d-1703-4a3f-92e4-19b6a3750533"
   },
   "outputs": [
    {
     "data": {
      "image/png": "[encoded data removed]",
      "text/plain": [
       "<Figure size 432x288 with 1 Axes>"
      ]
     },
     "metadata": {
      "needs_background": "light",
      "tags": []
     },
     "output_type": "display_data"
    }
   ],
   "source": [
    "ax = sns.distplot(data_numerical['current_loan_amount'].dropna(), hist=True, kde=True, \n",
    "             bins=int(42740/1000), color = 'darkblue', \n",
    "             hist_kws={'edgecolor':'black'},\n",
    "             kde_kws={'linewidth': 2})\n",
    "ax.set(xlabel='Current Loan Amount') \n",
    "plt.title('Current Loan Amount before Imputation'); \n",
    "plt.show()"
   ]
  },
  {
   "cell_type": "code",
   "execution_count": null,
   "metadata": {
    "colab": {
     "base_uri": "https://localhost:8080/",
     "height": 295
    },
    "id": "Kvyu9zE-_mcQ",
    "outputId": "124c25b7-6af0-41eb-99fb-7a890f16fc5f",
    "scrolled": false
   },
   "outputs": [
    {
     "data": {
      "image/png": "[encoded data removed]",
      "text/plain": [
       "<Figure size 432x288 with 1 Axes>"
      ]
     },
     "metadata": {
      "needs_background": "light",
      "tags": []
     },
     "output_type": "display_data"
    }
   ],
   "source": [
    "ax = sns.distplot(data_imputed['current_loan_amount'], hist=True, kde=True, \n",
    "             bins=int(42740/1000), color = 'darkblue', \n",
    "             hist_kws={'edgecolor':'black'},\n",
    "             kde_kws={'linewidth': 2})\n",
    "ax.set(xlabel='Current Loan Amount') \n",
    "plt.title('Current Loan Amount after Imputation'); \n",
    "plt.show()"
   ]
  },
  {
   "cell_type": "code",
   "execution_count": null,
   "metadata": {
    "id": "sPOKzdE-_mcQ"
   },
   "outputs": [],
   "source": [
    "temp = data_imputed[data_imputed['current_loan_amount']<40000]"
   ]
  },
  {
   "cell_type": "code",
   "execution_count": null,
   "metadata": {
    "colab": {
     "base_uri": "https://localhost:8080/",
     "height": 295
    },
    "id": "9-Gc4pOa_mcR",
    "outputId": "d68ac1f7-cc09-4b92-f371-365d5701569a",
    "scrolled": true
   },
   "outputs": [
    {
     "data": {
      "image/png": "[encoded data removed]",
      "text/plain": [
       "<Figure size 432x288 with 1 Axes>"
      ]
     },
     "metadata": {
      "needs_background": "light",
      "tags": []
     },
     "output_type": "display_data"
    }
   ],
   "source": [
    "ax = sns.distplot(temp['current_loan_amount'], hist=True, kde=True, \n",
    "             bins=int(42740/1000), color = 'darkblue', \n",
    "             hist_kws={'edgecolor':'black'},\n",
    "             kde_kws={'linewidth': 2})\n",
    "ax.set(xlabel='Current Loan Amount') \n",
    "plt.title('Current Loan Amount after Imputation'); \n",
    "plt.show()"
   ]
  },
  {
   "cell_type": "markdown",
   "metadata": {
    "id": "Q8LLNRm-_mcR"
   },
   "source": [
    "#### Histogram: Credit Score"
   ]
  },
  {
   "cell_type": "code",
   "execution_count": null,
   "metadata": {
    "colab": {
     "base_uri": "https://localhost:8080/",
     "height": 295
    },
    "id": "2ecFbNhM_mcS",
    "outputId": "2530a37b-d7d8-4916-d722-bfcb5e0b897c",
    "scrolled": true
   },
   "outputs": [
    {
     "data": {
      "image/png": "[encoded data removed]",
      "text/plain": [
       "<Figure size 432x288 with 1 Axes>"
      ]
     },
     "metadata": {
      "needs_background": "light",
      "tags": []
     },
     "output_type": "display_data"
    }
   ],
   "source": [
    "ax = sns.distplot(data_numerical['credit_score'].dropna(), hist=True, kde=True, \n",
    "             bins=int(800/20), color = 'darkblue', \n",
    "             hist_kws={'edgecolor':'black'},\n",
    "             kde_kws={'linewidth': 2})\n",
    "ax.set(xlabel='Credit Score') \n",
    "plt.title('Credit Score before Imputation'); \n",
    "plt.show()"
   ]
  },
  {
   "cell_type": "code",
   "execution_count": null,
   "metadata": {
    "colab": {
     "base_uri": "https://localhost:8080/",
     "height": 295
    },
    "id": "VBzfrnby_mcS",
    "outputId": "3f71e255-34d2-4831-83a6-985daf7ea51d",
    "scrolled": false
   },
   "outputs": [
    {
     "data": {
      "image/png": "[encoded data removed]",
      "text/plain": [
       "<Figure size 432x288 with 1 Axes>"
      ]
     },
     "metadata": {
      "needs_background": "light",
      "tags": []
     },
     "output_type": "display_data"
    }
   ],
   "source": [
    "ax = sns.distplot(data_imputed['credit_score'], hist=True, kde=True, \n",
    "             bins=int(800/20), color = 'darkblue', \n",
    "             hist_kws={'edgecolor':'black'},\n",
    "             kde_kws={'linewidth': 2})\n",
    "ax.set(xlabel='Credit Score') \n",
    "plt.title('Credit Score after Imputation'); \n",
    "plt.show() "
   ]
  },
  {
   "cell_type": "markdown",
   "metadata": {
    "id": "K4U-bQTr_mcT"
   },
   "source": [
    "#### Histogram: Annual Income"
   ]
  },
  {
   "cell_type": "code",
   "execution_count": null,
   "metadata": {
    "colab": {
     "base_uri": "https://localhost:8080/",
     "height": 295
    },
    "id": "7p_s_PzY_mcT",
    "outputId": "34395738-d2df-423c-df30-9bc753cf8178",
    "scrolled": true
   },
   "outputs": [
    {
     "data": {
      "image/png": "[encoded data removed]",
      "text/plain": [
       "<Figure size 432x288 with 1 Axes>"
      ]
     },
     "metadata": {
      "needs_background": "light",
      "tags": []
     },
     "output_type": "display_data"
    }
   ],
   "source": [
    "ax = sns.distplot(data_numerical['annual_income'].dropna(), hist=True, kde=True, \n",
    "             bins=int(215580/10000), color = 'darkblue', \n",
    "             hist_kws={'edgecolor':'black'},\n",
    "             kde_kws={'linewidth': 2})\n",
    "ax.set(xlabel='Annual Income') \n",
    "plt.title('Annual Income before Imputation'); \n",
    "plt.show()"
   ]
  },
  {
   "cell_type": "code",
   "execution_count": null,
   "metadata": {
    "colab": {
     "base_uri": "https://localhost:8080/",
     "height": 295
    },
    "id": "0VFEo9su_mcT",
    "outputId": "130cf5ee-9054-4895-c1f1-1c4a195d604e"
   },
   "outputs": [
    {
     "data": {
      "image/png": "[encoded data removed]",
      "text/plain": [
       "<Figure size 432x288 with 1 Axes>"
      ]
     },
     "metadata": {
      "needs_background": "light",
      "tags": []
     },
     "output_type": "display_data"
    }
   ],
   "source": [
    "ax = sns.distplot(data_imputed['annual_income'], hist=True, kde=True, \n",
    "             bins=int(215580/10000), color = 'darkblue', \n",
    "             hist_kws={'edgecolor':'black'},\n",
    "             kde_kws={'linewidth': 2})\n",
    "ax.set(xlabel='Annual Income') \n",
    "plt.title('Annual Income after Imputation'); \n",
    "plt.show()"
   ]
  },
  {
   "cell_type": "markdown",
   "metadata": {
    "id": "-U_EefY1_mcU"
   },
   "source": [
    "#### Histogram: Years In Current Job"
   ]
  },
  {
   "cell_type": "code",
   "execution_count": null,
   "metadata": {
    "colab": {
     "base_uri": "https://localhost:8080/",
     "height": 295
    },
    "id": "8L2estnb_mcU",
    "outputId": "75d3adeb-8fc9-416e-fa1e-83e576a6091a"
   },
   "outputs": [
    {
     "data": {
      "image/png": "[encoded data removed]",
      "text/plain": [
       "<Figure size 432x288 with 1 Axes>"
      ]
     },
     "metadata": {
      "needs_background": "light",
      "tags": []
     },
     "output_type": "display_data"
    }
   ],
   "source": [
    "ax = sns.distplot(data_numerical['years_in_current_job'].dropna(), hist=True, kde=True, \n",
    "             bins=int(215580/10000), color = 'darkblue', \n",
    "             hist_kws={'edgecolor':'black'},\n",
    "             kde_kws={'linewidth': 2})\n",
    "ax.set(xlabel='Years In Current Job') \n",
    "plt.title('Years In Current Job before Imputation'); \n",
    "plt.show()"
   ]
  },
  {
   "cell_type": "code",
   "execution_count": null,
   "metadata": {
    "colab": {
     "base_uri": "https://localhost:8080/",
     "height": 295
    },
    "id": "zpD3B6rn_mcV",
    "outputId": "35da7b39-a6ca-4ff0-ef13-7a2c9a6fdb85"
   },
   "outputs": [
    {
     "data": {
      "image/png": "[encoded data removed]",
      "text/plain": [
       "<Figure size 432x288 with 1 Axes>"
      ]
     },
     "metadata": {
      "needs_background": "light",
      "tags": []
     },
     "output_type": "display_data"
    }
   ],
   "source": [
    "ax = sns.distplot(data_imputed['years_in_current_job'], hist=True, kde=True, \n",
    "             bins=int(215580/10000), color = 'darkblue', \n",
    "             hist_kws={'edgecolor':'black'},\n",
    "             kde_kws={'linewidth': 2})\n",
    "ax.set(xlabel='Years In Current Job') \n",
    "plt.title('Years In Current Job after Imputation'); \n",
    "plt.show()"
   ]
  },
  {
   "cell_type": "markdown",
   "metadata": {
    "id": "PF09qQ8v_mcV"
   },
   "source": [
    "Replacing the feature in data dataframe by above Imputed dataframe."
   ]
  },
  {
   "cell_type": "code",
   "execution_count": null,
   "metadata": {
    "colab": {
     "base_uri": "https://localhost:8080/"
    },
    "id": "PyUcc9Cy_mcW",
    "outputId": "5a3f80f4-558c-45d3-d7cc-c71fd3640315"
   },
   "outputs": [
    {
     "data": {
      "text/plain": [
       "(88696, 13)"
      ]
     },
     "execution_count": 78,
     "metadata": {
      "tags": []
     },
     "output_type": "execute_result"
    }
   ],
   "source": [
    "data_imputed.shape"
   ]
  },
  {
   "cell_type": "code",
   "execution_count": null,
   "metadata": {
    "colab": {
     "base_uri": "https://localhost:8080/"
    },
    "id": "j65tCTT2_mcW",
    "outputId": "63c6c5a7-4839-453c-f7c3-0efded63b89d"
   },
   "outputs": [
    {
     "data": {
      "text/plain": [
       "(88696, 19)"
      ]
     },
     "execution_count": 79,
     "metadata": {
      "tags": []
     },
     "output_type": "execute_result"
    }
   ],
   "source": [
    "data.shape"
   ]
  },
  {
   "cell_type": "code",
   "execution_count": null,
   "metadata": {
    "id": "2bdpsEja_mcX"
   },
   "outputs": [],
   "source": [
    "data['years_in_current_job'] = data_imputed['years_in_current_job']\n",
    "data['current_loan_amount'] = data_imputed['current_loan_amount']\n",
    "data['credit_score'] = data_imputed['credit_score']\n",
    "data['annual_income'] = data_imputed['annual_income']\n",
    "data['monthly_debt'] = data_imputed['monthly_debt']"
   ]
  },
  {
   "cell_type": "code",
   "execution_count": null,
   "metadata": {
    "colab": {
     "base_uri": "https://localhost:8080/"
    },
    "id": "DjSjTBBa_mcX",
    "outputId": "45f579b4-fce1-4e48-fc17-2655a7e5c306"
   },
   "outputs": [
    {
     "name": "stdout",
     "output_type": "stream",
     "text": [
      "(88696, 19)\n"
     ]
    },
    {
     "data": {
      "text/plain": [
       "loan_id                         0\n",
       "customer_id                     0\n",
       "loan_status                     0\n",
       "current_loan_amount             0\n",
       "term                            0\n",
       "credit_score                    0\n",
       "years_in_current_job            0\n",
       "home_ownership                  0\n",
       "annual_income                   0\n",
       "purpose                         0\n",
       "monthly_debt                    0\n",
       "years_of_credit_history         0\n",
       "months_since_last_delinquent    0\n",
       "number_of_open_accounts         0\n",
       "number_of_credit_problems       0\n",
       "current_credit_balance          0\n",
       "maximum_open_credit             0\n",
       "bankruptcies                    0\n",
       "tax_liens                       0\n",
       "dtype: int64"
      ]
     },
     "execution_count": 81,
     "metadata": {
      "tags": []
     },
     "output_type": "execute_result"
    }
   ],
   "source": [
    "print(data.shape)\n",
    "data.isnull().sum()"
   ]
  },
  {
   "cell_type": "markdown",
   "metadata": {
    "id": "bjl51aRn_mcX"
   },
   "source": [
    "#### Converting Months since last delinquent into categories"
   ]
  },
  {
   "cell_type": "code",
   "execution_count": null,
   "metadata": {
    "id": "HgdPwsy9_mcY"
   },
   "outputs": [],
   "source": [
    "data['months_since_last_delinquent'] = ['extreme_risk' if x>51 \n",
    "        else 'high_risk' if x>32 \n",
    "        else 'moderate_risk' if x>16 \n",
    "        else 'low_risk' if x>0 else 'no_risk' for x in data['months_since_last_delinquent']]"
   ]
  },
  {
   "cell_type": "code",
   "execution_count": null,
   "metadata": {
    "colab": {
     "base_uri": "https://localhost:8080/"
    },
    "id": "lJOHiXyl_mcY",
    "outputId": "d98e2368-0632-4f1e-bed2-c99a588bcf8c",
    "scrolled": true
   },
   "outputs": [
    {
     "data": {
      "text/plain": [
       "array(['low_risk', 'no_risk', 'moderate_risk', 'extreme_risk',\n",
       "       'high_risk'], dtype=object)"
      ]
     },
     "execution_count": 83,
     "metadata": {
      "tags": []
     },
     "output_type": "execute_result"
    }
   ],
   "source": [
    "data['months_since_last_delinquent'].unique()"
   ]
  },
  {
   "cell_type": "markdown",
   "metadata": {
    "id": "BRUu9ZrP_mcZ"
   },
   "source": [
    "**Dropping of Loan ID and Customer ID as we have removed the duplicates and now it's not required further.**"
   ]
  },
  {
   "cell_type": "code",
   "execution_count": null,
   "metadata": {
    "id": "npvKebA8_mcZ"
   },
   "outputs": [],
   "source": [
    "data.drop(['loan_id', 'customer_id'], axis=1, inplace=True)"
   ]
  },
  {
   "cell_type": "code",
   "execution_count": null,
   "metadata": {
    "colab": {
     "base_uri": "https://localhost:8080/"
    },
    "id": "zXLGf53o_mcZ",
    "outputId": "795a0b84-e7fb-4e8e-8d6b-758a9cf2be99",
    "scrolled": false
   },
   "outputs": [
    {
     "data": {
      "text/plain": [
       "(88696, 17)"
      ]
     },
     "execution_count": 85,
     "metadata": {
      "tags": []
     },
     "output_type": "execute_result"
    }
   ],
   "source": [
    "data.shape"
   ]
  },
  {
   "cell_type": "markdown",
   "metadata": {
    "id": "aq4BrssC_mca"
   },
   "source": [
    "### Handling Categorical Variables"
   ]
  },
  {
   "cell_type": "markdown",
   "metadata": {
    "id": "Bh1cFzZb_mcb"
   },
   "source": [
    "We have 5 Categorical Variables in our data which are as below: <br>\n",
    "1. Term\n",
    "2. Home Ownership\n",
    "3. Purpose\n",
    "4. Months Since Last Delinquent\n",
    "5. Loan Status\n",
    "\n",
    "We will apply Label Encoding to Loan Status as this is a dependent variable, while for other we will apply One Hot Encoding."
   ]
  },
  {
   "cell_type": "code",
   "execution_count": null,
   "metadata": {
    "id": "c2zPXn4n_mcb"
   },
   "outputs": [],
   "source": [
    "# importing one hot encoder from sklearn \n",
    "from sklearn.preprocessing import LabelEncoder"
   ]
  },
  {
   "cell_type": "code",
   "execution_count": null,
   "metadata": {
    "colab": {
     "base_uri": "https://localhost:8080/"
    },
    "id": "wijSrMQI_mcc",
    "outputId": "d9c7ff3b-3e02-4c97-e109-97893ccba79f"
   },
   "outputs": [
    {
     "name": "stdout",
     "output_type": "stream",
     "text": [
      "['Charged Off' 'Fully Paid']\n"
     ]
    }
   ],
   "source": [
    "#Applying Label Encoding to Loan Status\n",
    "le = LabelEncoder()\n",
    "data['loan_status'] = le.fit_transform(data.loan_status)\n",
    "print(le.classes_)"
   ]
  },
  {
   "cell_type": "code",
   "execution_count": null,
   "metadata": {
    "colab": {
     "base_uri": "https://localhost:8080/"
    },
    "id": "gSSyzjvY_mcc",
    "outputId": "5526084a-4919-41a7-d13e-ea005aad051e"
   },
   "outputs": [
    {
     "data": {
      "text/plain": [
       "array([0, 1])"
      ]
     },
     "execution_count": 88,
     "metadata": {
      "tags": []
     },
     "output_type": "execute_result"
    }
   ],
   "source": [
    "data.loan_status.unique()"
   ]
  },
  {
   "cell_type": "code",
   "execution_count": null,
   "metadata": {
    "colab": {
     "base_uri": "https://localhost:8080/"
    },
    "id": "7RtG6xdA_mcd",
    "outputId": "35899392-cc5f-4ec6-bd23-e514a16b24c1"
   },
   "outputs": [
    {
     "data": {
      "text/plain": [
       "array(['Short Term', 'Long Term'], dtype=object)"
      ]
     },
     "execution_count": 89,
     "metadata": {
      "tags": []
     },
     "output_type": "execute_result"
    }
   ],
   "source": [
    "data.term.unique()"
   ]
  },
  {
   "cell_type": "code",
   "execution_count": null,
   "metadata": {
    "colab": {
     "base_uri": "https://localhost:8080/"
    },
    "id": "Kr9ZbHZb_mcd",
    "outputId": "2458a54f-3199-489c-92d1-79ffbc1381ff",
    "scrolled": false
   },
   "outputs": [
    {
     "data": {
      "text/plain": [
       "array(['Rent', 'Home Mortgage', 'Own Home', 'HaveMortgage'], dtype=object)"
      ]
     },
     "execution_count": 90,
     "metadata": {
      "tags": []
     },
     "output_type": "execute_result"
    }
   ],
   "source": [
    "data.home_ownership.unique()"
   ]
  },
  {
   "cell_type": "code",
   "execution_count": null,
   "metadata": {
    "id": "WLEQgpvO_mce"
   },
   "outputs": [],
   "source": [
    "data['home_ownership'] = ['Mortgage' if 'Mortgage' in x else x for x in data['home_ownership']]"
   ]
  },
  {
   "cell_type": "code",
   "execution_count": null,
   "metadata": {
    "colab": {
     "base_uri": "https://localhost:8080/"
    },
    "id": "OHZUZqcT_mce",
    "outputId": "f5eb6fec-9792-42c4-df58-8008bf975205"
   },
   "outputs": [
    {
     "data": {
      "text/plain": [
       "array(['Rent', 'Mortgage', 'Own Home'], dtype=object)"
      ]
     },
     "execution_count": 92,
     "metadata": {
      "tags": []
     },
     "output_type": "execute_result"
    }
   ],
   "source": [
    "data.home_ownership.unique()"
   ]
  },
  {
   "cell_type": "code",
   "execution_count": null,
   "metadata": {
    "colab": {
     "base_uri": "https://localhost:8080/"
    },
    "id": "pQ-yj8AI_mce",
    "outputId": "66133cb9-bd60-43f3-9955-cc61e9cc94a6",
    "scrolled": true
   },
   "outputs": [
    {
     "data": {
      "text/plain": [
       "array(['Debt Consolidation', 'Home Improvements', 'other',\n",
       "       'Business Loan', 'small_business', 'Other', 'moving', 'Buy a Car',\n",
       "       'Medical Bills', 'Buy House', 'Take a Trip', 'vacation',\n",
       "       'major_purchase', 'Educational Expenses', 'wedding',\n",
       "       'renewable_energy'], dtype=object)"
      ]
     },
     "execution_count": 93,
     "metadata": {
      "tags": []
     },
     "output_type": "execute_result"
    }
   ],
   "source": [
    "data.purpose.unique()"
   ]
  },
  {
   "cell_type": "markdown",
   "metadata": {
    "id": "jt4B0NQE_mcf"
   },
   "source": [
    "So if you see here there can be n number of purpose to take loan its define and its actually not needed to data the model so dropping this feature."
   ]
  },
  {
   "cell_type": "code",
   "execution_count": null,
   "metadata": {
    "id": "O2nNu-78_mcf"
   },
   "outputs": [],
   "source": [
    "data.drop(['purpose'], axis=1, inplace=True)"
   ]
  },
  {
   "cell_type": "code",
   "execution_count": null,
   "metadata": {
    "colab": {
     "base_uri": "https://localhost:8080/"
    },
    "id": "i2wLggOm_mcf",
    "outputId": "6b3ec8e6-1729-4886-845a-cbba04cec5b7"
   },
   "outputs": [
    {
     "data": {
      "text/plain": [
       "array(['low_risk', 'no_risk', 'moderate_risk', 'extreme_risk',\n",
       "       'high_risk'], dtype=object)"
      ]
     },
     "execution_count": 95,
     "metadata": {
      "tags": []
     },
     "output_type": "execute_result"
    }
   ],
   "source": [
    "data.months_since_last_delinquent.unique()"
   ]
  },
  {
   "cell_type": "code",
   "execution_count": null,
   "metadata": {
    "id": "8t3-itY1_mcg"
   },
   "outputs": [],
   "source": [
    "cols_to_transform = ['term', 'months_since_last_delinquent', 'home_ownership' ]\n",
    "data_with_dummies = pd.get_dummies(data, prefix=cols_to_transform )"
   ]
  },
  {
   "cell_type": "code",
   "execution_count": null,
   "metadata": {
    "colab": {
     "base_uri": "https://localhost:8080/",
     "height": 456
    },
    "id": "ffrFNzkL_mcg",
    "outputId": "44d91ec0-8b29-40df-ffd1-637a8bcfe1a4"
   },
   "outputs": [
    {
     "data": {
      "text/html": [
       "<div>\n",
       "<style scoped>\n",
       "    .dataframe tbody tr th:only-of-type {\n",
       "        vertical-align: middle;\n",
       "    }\n",
       "\n",
       "    .dataframe tbody tr th {\n",
       "        vertical-align: top;\n",
       "    }\n",
       "\n",
       "    .dataframe thead th {\n",
       "        text-align: right;\n",
       "    }\n",
       "</style>\n",
       "<table border=\"1\" class=\"dataframe\">\n",
       "  <thead>\n",
       "    <tr style=\"text-align: right;\">\n",
       "      <th></th>\n",
       "      <th>loan_status</th>\n",
       "      <th>current_loan_amount</th>\n",
       "      <th>credit_score</th>\n",
       "      <th>years_in_current_job</th>\n",
       "      <th>annual_income</th>\n",
       "      <th>monthly_debt</th>\n",
       "      <th>years_of_credit_history</th>\n",
       "      <th>number_of_open_accounts</th>\n",
       "      <th>number_of_credit_problems</th>\n",
       "      <th>current_credit_balance</th>\n",
       "      <th>maximum_open_credit</th>\n",
       "      <th>bankruptcies</th>\n",
       "      <th>tax_liens</th>\n",
       "      <th>term_Long Term</th>\n",
       "      <th>term_Short Term</th>\n",
       "      <th>months_since_last_delinquent_Mortgage</th>\n",
       "      <th>months_since_last_delinquent_Own Home</th>\n",
       "      <th>months_since_last_delinquent_Rent</th>\n",
       "      <th>home_ownership_extreme_risk</th>\n",
       "      <th>home_ownership_high_risk</th>\n",
       "      <th>home_ownership_low_risk</th>\n",
       "      <th>home_ownership_moderate_risk</th>\n",
       "      <th>home_ownership_no_risk</th>\n",
       "    </tr>\n",
       "  </thead>\n",
       "  <tbody>\n",
       "    <tr>\n",
       "      <th>0</th>\n",
       "      <td>0</td>\n",
       "      <td>12232.000</td>\n",
       "      <td>728.000</td>\n",
       "      <td>0.000</td>\n",
       "      <td>46643.000</td>\n",
       "      <td>777.390</td>\n",
       "      <td>18.000</td>\n",
       "      <td>12.000</td>\n",
       "      <td>0</td>\n",
       "      <td>6762</td>\n",
       "      <td>7946</td>\n",
       "      <td>0.000</td>\n",
       "      <td>0.000</td>\n",
       "      <td>0</td>\n",
       "      <td>1</td>\n",
       "      <td>0</td>\n",
       "      <td>0</td>\n",
       "      <td>1</td>\n",
       "      <td>0</td>\n",
       "      <td>0</td>\n",
       "      <td>1</td>\n",
       "      <td>0</td>\n",
       "      <td>0</td>\n",
       "    </tr>\n",
       "    <tr>\n",
       "      <th>1</th>\n",
       "      <td>0</td>\n",
       "      <td>25014.000</td>\n",
       "      <td>733.000</td>\n",
       "      <td>10.000</td>\n",
       "      <td>81099.000</td>\n",
       "      <td>892.090</td>\n",
       "      <td>26.700</td>\n",
       "      <td>14.000</td>\n",
       "      <td>0</td>\n",
       "      <td>35706</td>\n",
       "      <td>77961</td>\n",
       "      <td>0.000</td>\n",
       "      <td>0.000</td>\n",
       "      <td>1</td>\n",
       "      <td>0</td>\n",
       "      <td>1</td>\n",
       "      <td>0</td>\n",
       "      <td>0</td>\n",
       "      <td>0</td>\n",
       "      <td>0</td>\n",
       "      <td>0</td>\n",
       "      <td>0</td>\n",
       "      <td>1</td>\n",
       "    </tr>\n",
       "    <tr>\n",
       "      <th>2</th>\n",
       "      <td>0</td>\n",
       "      <td>16117.000</td>\n",
       "      <td>724.000</td>\n",
       "      <td>9.000</td>\n",
       "      <td>60438.000</td>\n",
       "      <td>1244.020</td>\n",
       "      <td>16.700</td>\n",
       "      <td>11.000</td>\n",
       "      <td>1</td>\n",
       "      <td>11275</td>\n",
       "      <td>14815</td>\n",
       "      <td>1.000</td>\n",
       "      <td>0.000</td>\n",
       "      <td>0</td>\n",
       "      <td>1</td>\n",
       "      <td>1</td>\n",
       "      <td>0</td>\n",
       "      <td>0</td>\n",
       "      <td>0</td>\n",
       "      <td>0</td>\n",
       "      <td>0</td>\n",
       "      <td>1</td>\n",
       "      <td>0</td>\n",
       "    </tr>\n",
       "    <tr>\n",
       "      <th>3</th>\n",
       "      <td>0</td>\n",
       "      <td>11716.000</td>\n",
       "      <td>740.000</td>\n",
       "      <td>3.000</td>\n",
       "      <td>34171.000</td>\n",
       "      <td>990.940</td>\n",
       "      <td>10.000</td>\n",
       "      <td>21.000</td>\n",
       "      <td>0</td>\n",
       "      <td>7009</td>\n",
       "      <td>43533</td>\n",
       "      <td>0.000</td>\n",
       "      <td>0.000</td>\n",
       "      <td>0</td>\n",
       "      <td>1</td>\n",
       "      <td>0</td>\n",
       "      <td>0</td>\n",
       "      <td>1</td>\n",
       "      <td>0</td>\n",
       "      <td>0</td>\n",
       "      <td>0</td>\n",
       "      <td>0</td>\n",
       "      <td>1</td>\n",
       "    </tr>\n",
       "    <tr>\n",
       "      <th>4</th>\n",
       "      <td>0</td>\n",
       "      <td>9789.000</td>\n",
       "      <td>686.000</td>\n",
       "      <td>10.000</td>\n",
       "      <td>47003.000</td>\n",
       "      <td>503.710</td>\n",
       "      <td>16.700</td>\n",
       "      <td>13.000</td>\n",
       "      <td>1</td>\n",
       "      <td>16913</td>\n",
       "      <td>19553</td>\n",
       "      <td>1.000</td>\n",
       "      <td>0.000</td>\n",
       "      <td>1</td>\n",
       "      <td>0</td>\n",
       "      <td>1</td>\n",
       "      <td>0</td>\n",
       "      <td>0</td>\n",
       "      <td>0</td>\n",
       "      <td>0</td>\n",
       "      <td>0</td>\n",
       "      <td>1</td>\n",
       "      <td>0</td>\n",
       "    </tr>\n",
       "    <tr>\n",
       "      <th>...</th>\n",
       "      <td>...</td>\n",
       "      <td>...</td>\n",
       "      <td>...</td>\n",
       "      <td>...</td>\n",
       "      <td>...</td>\n",
       "      <td>...</td>\n",
       "      <td>...</td>\n",
       "      <td>...</td>\n",
       "      <td>...</td>\n",
       "      <td>...</td>\n",
       "      <td>...</td>\n",
       "      <td>...</td>\n",
       "      <td>...</td>\n",
       "      <td>...</td>\n",
       "      <td>...</td>\n",
       "      <td>...</td>\n",
       "      <td>...</td>\n",
       "      <td>...</td>\n",
       "      <td>...</td>\n",
       "      <td>...</td>\n",
       "      <td>...</td>\n",
       "      <td>...</td>\n",
       "      <td>...</td>\n",
       "    </tr>\n",
       "    <tr>\n",
       "      <th>88691</th>\n",
       "      <td>1</td>\n",
       "      <td>35868.000</td>\n",
       "      <td>681.000</td>\n",
       "      <td>6.000</td>\n",
       "      <td>128100.000</td>\n",
       "      <td>2102.970</td>\n",
       "      <td>28.100</td>\n",
       "      <td>17.000</td>\n",
       "      <td>0</td>\n",
       "      <td>115354</td>\n",
       "      <td>117708</td>\n",
       "      <td>0.000</td>\n",
       "      <td>0.000</td>\n",
       "      <td>1</td>\n",
       "      <td>0</td>\n",
       "      <td>1</td>\n",
       "      <td>0</td>\n",
       "      <td>0</td>\n",
       "      <td>0</td>\n",
       "      <td>0</td>\n",
       "      <td>0</td>\n",
       "      <td>0</td>\n",
       "      <td>1</td>\n",
       "    </tr>\n",
       "    <tr>\n",
       "      <th>88692</th>\n",
       "      <td>1</td>\n",
       "      <td>35868.000</td>\n",
       "      <td>709.000</td>\n",
       "      <td>0.000</td>\n",
       "      <td>97356.000</td>\n",
       "      <td>1842.970</td>\n",
       "      <td>24.400</td>\n",
       "      <td>23.000</td>\n",
       "      <td>0</td>\n",
       "      <td>41150</td>\n",
       "      <td>94597</td>\n",
       "      <td>0.000</td>\n",
       "      <td>0.000</td>\n",
       "      <td>0</td>\n",
       "      <td>1</td>\n",
       "      <td>1</td>\n",
       "      <td>0</td>\n",
       "      <td>0</td>\n",
       "      <td>0</td>\n",
       "      <td>0</td>\n",
       "      <td>0</td>\n",
       "      <td>0</td>\n",
       "      <td>1</td>\n",
       "    </tr>\n",
       "    <tr>\n",
       "      <th>88693</th>\n",
       "      <td>1</td>\n",
       "      <td>35872.000</td>\n",
       "      <td>713.000</td>\n",
       "      <td>10.000</td>\n",
       "      <td>117864.000</td>\n",
       "      <td>1780.167</td>\n",
       "      <td>17.300</td>\n",
       "      <td>17.000</td>\n",
       "      <td>0</td>\n",
       "      <td>33277</td>\n",
       "      <td>56690</td>\n",
       "      <td>0.000</td>\n",
       "      <td>0.000</td>\n",
       "      <td>1</td>\n",
       "      <td>0</td>\n",
       "      <td>1</td>\n",
       "      <td>0</td>\n",
       "      <td>0</td>\n",
       "      <td>0</td>\n",
       "      <td>0</td>\n",
       "      <td>0</td>\n",
       "      <td>0</td>\n",
       "      <td>1</td>\n",
       "    </tr>\n",
       "    <tr>\n",
       "      <th>88694</th>\n",
       "      <td>1</td>\n",
       "      <td>35875.000</td>\n",
       "      <td>672.000</td>\n",
       "      <td>10.000</td>\n",
       "      <td>92250.000</td>\n",
       "      <td>1572.625</td>\n",
       "      <td>8.500</td>\n",
       "      <td>11.000</td>\n",
       "      <td>0</td>\n",
       "      <td>51132</td>\n",
       "      <td>69948</td>\n",
       "      <td>0.000</td>\n",
       "      <td>0.000</td>\n",
       "      <td>1</td>\n",
       "      <td>0</td>\n",
       "      <td>0</td>\n",
       "      <td>0</td>\n",
       "      <td>1</td>\n",
       "      <td>0</td>\n",
       "      <td>0</td>\n",
       "      <td>0</td>\n",
       "      <td>0</td>\n",
       "      <td>1</td>\n",
       "    </tr>\n",
       "    <tr>\n",
       "      <th>88695</th>\n",
       "      <td>1</td>\n",
       "      <td>35875.000</td>\n",
       "      <td>721.000</td>\n",
       "      <td>6.000</td>\n",
       "      <td>423920.000</td>\n",
       "      <td>4537.600</td>\n",
       "      <td>31.400</td>\n",
       "      <td>21.000</td>\n",
       "      <td>0</td>\n",
       "      <td>96113</td>\n",
       "      <td>109344</td>\n",
       "      <td>0.000</td>\n",
       "      <td>0.000</td>\n",
       "      <td>0</td>\n",
       "      <td>1</td>\n",
       "      <td>1</td>\n",
       "      <td>0</td>\n",
       "      <td>0</td>\n",
       "      <td>0</td>\n",
       "      <td>0</td>\n",
       "      <td>1</td>\n",
       "      <td>0</td>\n",
       "      <td>0</td>\n",
       "    </tr>\n",
       "  </tbody>\n",
       "</table>\n",
       "<p>88696 rows × 23 columns</p>\n",
       "</div>"
      ],
      "text/plain": [
       "       loan_status  ...  home_ownership_no_risk\n",
       "0                0  ...                       0\n",
       "1                0  ...                       1\n",
       "2                0  ...                       0\n",
       "3                0  ...                       1\n",
       "4                0  ...                       0\n",
       "...            ...  ...                     ...\n",
       "88691            1  ...                       1\n",
       "88692            1  ...                       1\n",
       "88693            1  ...                       1\n",
       "88694            1  ...                       1\n",
       "88695            1  ...                       0\n",
       "\n",
       "[88696 rows x 23 columns]"
      ]
     },
     "execution_count": 97,
     "metadata": {
      "tags": []
     },
     "output_type": "execute_result"
    }
   ],
   "source": [
    "data_with_dummies"
   ]
  },
  {
   "cell_type": "markdown",
   "metadata": {
    "id": "WrOAmMJA_mch"
   },
   "source": [
    "### EDA"
   ]
  },
  {
   "cell_type": "markdown",
   "metadata": {
    "id": "xtQ9bjuD_mch"
   },
   "source": [
    "#### Checking the distribution of Dependent Variable"
   ]
  },
  {
   "cell_type": "code",
   "execution_count": null,
   "metadata": {
    "colab": {
     "base_uri": "https://localhost:8080/"
    },
    "id": "bw46ChQ9_mch",
    "outputId": "f01bd79e-7d8b-4956-c9f5-76e964989146",
    "scrolled": true
   },
   "outputs": [
    {
     "data": {
      "text/plain": [
       "1   71.693\n",
       "0   28.307\n",
       "Name: loan_status, dtype: float64"
      ]
     },
     "execution_count": 102,
     "metadata": {
      "tags": []
     },
     "output_type": "execute_result"
    }
   ],
   "source": [
    "# This give you the calulation of the target lebels. Which category of the target lebel is how many percentage.\n",
    "total_len = len(data_with_dummies['loan_status'])\n",
    "percentage_labels = (data_with_dummies['loan_status'].value_counts()/total_len)*100\n",
    "percentage_labels"
   ]
  },
  {
   "cell_type": "code",
   "execution_count": null,
   "metadata": {
    "colab": {
     "base_uri": "https://localhost:8080/",
     "height": 301
    },
    "id": "eetqGYTn_mch",
    "outputId": "e7221a0b-3359-46e9-a73d-df9000e63bc6"
   },
   "outputs": [
    {
     "data": {
      "image/png": "[encoded data removed]",
      "text/plain": [
       "<Figure size 432x288 with 1 Axes>"
      ]
     },
     "metadata": {
      "tags": []
     },
     "output_type": "display_data"
    }
   ],
   "source": [
    "# Graphical representation of the target label percentage.\n",
    "sns.set()\n",
    "sns.countplot(data_with_dummies.loan_status).set_title('Data Distribution')\n",
    "ax = plt.gca()\n",
    "for p in ax.patches:\n",
    "    height = p.get_height()\n",
    "    ax.text(p.get_x() + p.get_width()/2.,\n",
    "            height + 2,\n",
    "            '{:.2f}%'.format(100*(height/total_len)),\n",
    "            fontsize=14, ha='center', va='bottom')\n",
    "sns.set(font_scale=2)\n",
    "sns.set(rc={'figure.figsize':(8,8)})\n",
    "ax.set_xlabel(\"Labels for Loan Status attribute\")\n",
    "ax.set_ylabel(\"Numbers of records\")\n",
    "plt.show()"
   ]
  },
  {
   "cell_type": "code",
   "execution_count": null,
   "metadata": {
    "colab": {
     "base_uri": "https://localhost:8080/",
     "height": 816
    },
    "id": "8Gc_13Hk_mci",
    "outputId": "e16c6be4-4057-4031-9b0a-77c4c81ea9d8",
    "scrolled": true
   },
   "outputs": [
    {
     "data": {
      "text/html": [
       "<div>\n",
       "<style scoped>\n",
       "    .dataframe tbody tr th:only-of-type {\n",
       "        vertical-align: middle;\n",
       "    }\n",
       "\n",
       "    .dataframe tbody tr th {\n",
       "        vertical-align: top;\n",
       "    }\n",
       "\n",
       "    .dataframe thead th {\n",
       "        text-align: right;\n",
       "    }\n",
       "</style>\n",
       "<table border=\"1\" class=\"dataframe\">\n",
       "  <thead>\n",
       "    <tr style=\"text-align: right;\">\n",
       "      <th></th>\n",
       "      <th>loan_status</th>\n",
       "      <th>current_loan_amount</th>\n",
       "      <th>credit_score</th>\n",
       "      <th>years_in_current_job</th>\n",
       "      <th>annual_income</th>\n",
       "      <th>monthly_debt</th>\n",
       "      <th>years_of_credit_history</th>\n",
       "      <th>number_of_open_accounts</th>\n",
       "      <th>number_of_credit_problems</th>\n",
       "      <th>current_credit_balance</th>\n",
       "      <th>maximum_open_credit</th>\n",
       "      <th>bankruptcies</th>\n",
       "      <th>tax_liens</th>\n",
       "      <th>term_Long Term</th>\n",
       "      <th>term_Short Term</th>\n",
       "      <th>months_since_last_delinquent_Mortgage</th>\n",
       "      <th>months_since_last_delinquent_Own Home</th>\n",
       "      <th>months_since_last_delinquent_Rent</th>\n",
       "      <th>home_ownership_extreme_risk</th>\n",
       "      <th>home_ownership_high_risk</th>\n",
       "      <th>home_ownership_low_risk</th>\n",
       "      <th>home_ownership_moderate_risk</th>\n",
       "      <th>home_ownership_no_risk</th>\n",
       "    </tr>\n",
       "  </thead>\n",
       "  <tbody>\n",
       "    <tr>\n",
       "      <th>loan_status</th>\n",
       "      <td>1.000</td>\n",
       "      <td>-0.069</td>\n",
       "      <td>0.189</td>\n",
       "      <td>0.005</td>\n",
       "      <td>0.061</td>\n",
       "      <td>-0.006</td>\n",
       "      <td>0.039</td>\n",
       "      <td>-0.017</td>\n",
       "      <td>-0.012</td>\n",
       "      <td>0.009</td>\n",
       "      <td>0.011</td>\n",
       "      <td>0.000</td>\n",
       "      <td>-0.015</td>\n",
       "      <td>-0.176</td>\n",
       "      <td>0.176</td>\n",
       "      <td>0.062</td>\n",
       "      <td>-0.004</td>\n",
       "      <td>-0.060</td>\n",
       "      <td>0.003</td>\n",
       "      <td>0.002</td>\n",
       "      <td>-0.020</td>\n",
       "      <td>0.006</td>\n",
       "      <td>0.006</td>\n",
       "    </tr>\n",
       "    <tr>\n",
       "      <th>current_loan_amount</th>\n",
       "      <td>-0.069</td>\n",
       "      <td>1.000</td>\n",
       "      <td>-0.251</td>\n",
       "      <td>0.119</td>\n",
       "      <td>0.465</td>\n",
       "      <td>0.490</td>\n",
       "      <td>0.158</td>\n",
       "      <td>0.214</td>\n",
       "      <td>-0.076</td>\n",
       "      <td>0.338</td>\n",
       "      <td>0.036</td>\n",
       "      <td>-0.104</td>\n",
       "      <td>0.019</td>\n",
       "      <td>0.406</td>\n",
       "      <td>-0.406</td>\n",
       "      <td>0.190</td>\n",
       "      <td>-0.024</td>\n",
       "      <td>-0.178</td>\n",
       "      <td>-0.017</td>\n",
       "      <td>-0.011</td>\n",
       "      <td>0.032</td>\n",
       "      <td>-0.005</td>\n",
       "      <td>0.001</td>\n",
       "    </tr>\n",
       "    <tr>\n",
       "      <th>credit_score</th>\n",
       "      <td>0.189</td>\n",
       "      <td>-0.251</td>\n",
       "      <td>1.000</td>\n",
       "      <td>-0.016</td>\n",
       "      <td>-0.017</td>\n",
       "      <td>-0.125</td>\n",
       "      <td>0.093</td>\n",
       "      <td>-0.027</td>\n",
       "      <td>-0.056</td>\n",
       "      <td>-0.012</td>\n",
       "      <td>0.024</td>\n",
       "      <td>-0.041</td>\n",
       "      <td>-0.024</td>\n",
       "      <td>-0.455</td>\n",
       "      <td>0.455</td>\n",
       "      <td>0.041</td>\n",
       "      <td>-0.006</td>\n",
       "      <td>-0.038</td>\n",
       "      <td>-0.031</td>\n",
       "      <td>-0.026</td>\n",
       "      <td>-0.059</td>\n",
       "      <td>-0.039</td>\n",
       "      <td>0.098</td>\n",
       "    </tr>\n",
       "    <tr>\n",
       "      <th>years_in_current_job</th>\n",
       "      <td>0.005</td>\n",
       "      <td>0.119</td>\n",
       "      <td>-0.016</td>\n",
       "      <td>1.000</td>\n",
       "      <td>0.093</td>\n",
       "      <td>0.133</td>\n",
       "      <td>0.231</td>\n",
       "      <td>0.056</td>\n",
       "      <td>0.042</td>\n",
       "      <td>0.097</td>\n",
       "      <td>0.002</td>\n",
       "      <td>0.044</td>\n",
       "      <td>0.012</td>\n",
       "      <td>0.064</td>\n",
       "      <td>-0.064</td>\n",
       "      <td>0.196</td>\n",
       "      <td>0.013</td>\n",
       "      <td>-0.206</td>\n",
       "      <td>0.024</td>\n",
       "      <td>0.023</td>\n",
       "      <td>0.031</td>\n",
       "      <td>0.019</td>\n",
       "      <td>-0.062</td>\n",
       "    </tr>\n",
       "    <tr>\n",
       "      <th>annual_income</th>\n",
       "      <td>0.061</td>\n",
       "      <td>0.465</td>\n",
       "      <td>-0.017</td>\n",
       "      <td>0.093</td>\n",
       "      <td>1.000</td>\n",
       "      <td>0.730</td>\n",
       "      <td>0.199</td>\n",
       "      <td>0.183</td>\n",
       "      <td>-0.021</td>\n",
       "      <td>0.378</td>\n",
       "      <td>0.054</td>\n",
       "      <td>-0.060</td>\n",
       "      <td>0.050</td>\n",
       "      <td>0.102</td>\n",
       "      <td>-0.102</td>\n",
       "      <td>0.210</td>\n",
       "      <td>-0.046</td>\n",
       "      <td>-0.185</td>\n",
       "      <td>-0.004</td>\n",
       "      <td>0.014</td>\n",
       "      <td>0.067</td>\n",
       "      <td>0.026</td>\n",
       "      <td>-0.066</td>\n",
       "    </tr>\n",
       "    <tr>\n",
       "      <th>monthly_debt</th>\n",
       "      <td>-0.006</td>\n",
       "      <td>0.490</td>\n",
       "      <td>-0.125</td>\n",
       "      <td>0.133</td>\n",
       "      <td>0.730</td>\n",
       "      <td>1.000</td>\n",
       "      <td>0.206</td>\n",
       "      <td>0.450</td>\n",
       "      <td>-0.056</td>\n",
       "      <td>0.516</td>\n",
       "      <td>0.045</td>\n",
       "      <td>-0.084</td>\n",
       "      <td>0.022</td>\n",
       "      <td>0.163</td>\n",
       "      <td>-0.163</td>\n",
       "      <td>0.216</td>\n",
       "      <td>-0.038</td>\n",
       "      <td>-0.197</td>\n",
       "      <td>-0.002</td>\n",
       "      <td>0.008</td>\n",
       "      <td>0.063</td>\n",
       "      <td>0.013</td>\n",
       "      <td>-0.052</td>\n",
       "    </tr>\n",
       "    <tr>\n",
       "      <th>years_of_credit_history</th>\n",
       "      <td>0.039</td>\n",
       "      <td>0.158</td>\n",
       "      <td>0.093</td>\n",
       "      <td>0.231</td>\n",
       "      <td>0.199</td>\n",
       "      <td>0.206</td>\n",
       "      <td>1.000</td>\n",
       "      <td>0.132</td>\n",
       "      <td>0.061</td>\n",
       "      <td>0.205</td>\n",
       "      <td>0.031</td>\n",
       "      <td>0.064</td>\n",
       "      <td>0.021</td>\n",
       "      <td>0.035</td>\n",
       "      <td>-0.035</td>\n",
       "      <td>0.179</td>\n",
       "      <td>0.032</td>\n",
       "      <td>-0.200</td>\n",
       "      <td>0.034</td>\n",
       "      <td>0.046</td>\n",
       "      <td>0.077</td>\n",
       "      <td>0.051</td>\n",
       "      <td>-0.133</td>\n",
       "    </tr>\n",
       "    <tr>\n",
       "      <th>number_of_open_accounts</th>\n",
       "      <td>-0.017</td>\n",
       "      <td>0.214</td>\n",
       "      <td>-0.027</td>\n",
       "      <td>0.056</td>\n",
       "      <td>0.183</td>\n",
       "      <td>0.450</td>\n",
       "      <td>0.132</td>\n",
       "      <td>1.000</td>\n",
       "      <td>-0.014</td>\n",
       "      <td>0.228</td>\n",
       "      <td>0.030</td>\n",
       "      <td>-0.025</td>\n",
       "      <td>0.008</td>\n",
       "      <td>0.078</td>\n",
       "      <td>-0.078</td>\n",
       "      <td>0.140</td>\n",
       "      <td>-0.012</td>\n",
       "      <td>-0.135</td>\n",
       "      <td>0.015</td>\n",
       "      <td>0.014</td>\n",
       "      <td>0.057</td>\n",
       "      <td>0.017</td>\n",
       "      <td>-0.065</td>\n",
       "    </tr>\n",
       "    <tr>\n",
       "      <th>number_of_credit_problems</th>\n",
       "      <td>-0.012</td>\n",
       "      <td>-0.076</td>\n",
       "      <td>-0.056</td>\n",
       "      <td>0.042</td>\n",
       "      <td>-0.021</td>\n",
       "      <td>-0.056</td>\n",
       "      <td>0.061</td>\n",
       "      <td>-0.014</td>\n",
       "      <td>1.000</td>\n",
       "      <td>-0.108</td>\n",
       "      <td>-0.012</td>\n",
       "      <td>0.751</td>\n",
       "      <td>0.589</td>\n",
       "      <td>-0.023</td>\n",
       "      <td>0.023</td>\n",
       "      <td>-0.003</td>\n",
       "      <td>0.011</td>\n",
       "      <td>-0.003</td>\n",
       "      <td>0.081</td>\n",
       "      <td>0.012</td>\n",
       "      <td>-0.020</td>\n",
       "      <td>-0.010</td>\n",
       "      <td>-0.040</td>\n",
       "    </tr>\n",
       "    <tr>\n",
       "      <th>current_credit_balance</th>\n",
       "      <td>0.009</td>\n",
       "      <td>0.338</td>\n",
       "      <td>-0.012</td>\n",
       "      <td>0.097</td>\n",
       "      <td>0.378</td>\n",
       "      <td>0.516</td>\n",
       "      <td>0.205</td>\n",
       "      <td>0.228</td>\n",
       "      <td>-0.108</td>\n",
       "      <td>1.000</td>\n",
       "      <td>0.133</td>\n",
       "      <td>-0.120</td>\n",
       "      <td>-0.014</td>\n",
       "      <td>0.094</td>\n",
       "      <td>-0.094</td>\n",
       "      <td>0.156</td>\n",
       "      <td>0.002</td>\n",
       "      <td>-0.159</td>\n",
       "      <td>-0.041</td>\n",
       "      <td>-0.032</td>\n",
       "      <td>-0.016</td>\n",
       "      <td>-0.034</td>\n",
       "      <td>0.078</td>\n",
       "    </tr>\n",
       "    <tr>\n",
       "      <th>maximum_open_credit</th>\n",
       "      <td>0.011</td>\n",
       "      <td>0.036</td>\n",
       "      <td>0.024</td>\n",
       "      <td>0.002</td>\n",
       "      <td>0.054</td>\n",
       "      <td>0.045</td>\n",
       "      <td>0.031</td>\n",
       "      <td>0.030</td>\n",
       "      <td>-0.012</td>\n",
       "      <td>0.133</td>\n",
       "      <td>1.000</td>\n",
       "      <td>-0.014</td>\n",
       "      <td>-0.002</td>\n",
       "      <td>0.008</td>\n",
       "      <td>-0.008</td>\n",
       "      <td>0.022</td>\n",
       "      <td>0.007</td>\n",
       "      <td>-0.026</td>\n",
       "      <td>-0.008</td>\n",
       "      <td>-0.000</td>\n",
       "      <td>-0.003</td>\n",
       "      <td>-0.007</td>\n",
       "      <td>0.012</td>\n",
       "    </tr>\n",
       "    <tr>\n",
       "      <th>bankruptcies</th>\n",
       "      <td>0.000</td>\n",
       "      <td>-0.104</td>\n",
       "      <td>-0.041</td>\n",
       "      <td>0.044</td>\n",
       "      <td>-0.060</td>\n",
       "      <td>-0.084</td>\n",
       "      <td>0.064</td>\n",
       "      <td>-0.025</td>\n",
       "      <td>0.751</td>\n",
       "      <td>-0.120</td>\n",
       "      <td>-0.014</td>\n",
       "      <td>1.000</td>\n",
       "      <td>0.046</td>\n",
       "      <td>-0.026</td>\n",
       "      <td>0.026</td>\n",
       "      <td>-0.007</td>\n",
       "      <td>0.006</td>\n",
       "      <td>0.004</td>\n",
       "      <td>0.079</td>\n",
       "      <td>-0.008</td>\n",
       "      <td>-0.041</td>\n",
       "      <td>-0.028</td>\n",
       "      <td>-0.001</td>\n",
       "    </tr>\n",
       "    <tr>\n",
       "      <th>tax_liens</th>\n",
       "      <td>-0.015</td>\n",
       "      <td>0.019</td>\n",
       "      <td>-0.024</td>\n",
       "      <td>0.012</td>\n",
       "      <td>0.050</td>\n",
       "      <td>0.022</td>\n",
       "      <td>0.021</td>\n",
       "      <td>0.008</td>\n",
       "      <td>0.589</td>\n",
       "      <td>-0.014</td>\n",
       "      <td>-0.002</td>\n",
       "      <td>0.046</td>\n",
       "      <td>1.000</td>\n",
       "      <td>-0.002</td>\n",
       "      <td>0.002</td>\n",
       "      <td>0.001</td>\n",
       "      <td>0.010</td>\n",
       "      <td>-0.006</td>\n",
       "      <td>0.018</td>\n",
       "      <td>0.017</td>\n",
       "      <td>0.012</td>\n",
       "      <td>0.006</td>\n",
       "      <td>-0.033</td>\n",
       "    </tr>\n",
       "    <tr>\n",
       "      <th>term_Long Term</th>\n",
       "      <td>-0.176</td>\n",
       "      <td>0.406</td>\n",
       "      <td>-0.455</td>\n",
       "      <td>0.064</td>\n",
       "      <td>0.102</td>\n",
       "      <td>0.163</td>\n",
       "      <td>0.035</td>\n",
       "      <td>0.078</td>\n",
       "      <td>-0.023</td>\n",
       "      <td>0.094</td>\n",
       "      <td>0.008</td>\n",
       "      <td>-0.026</td>\n",
       "      <td>-0.002</td>\n",
       "      <td>1.000</td>\n",
       "      <td>-1.000</td>\n",
       "      <td>0.100</td>\n",
       "      <td>-0.007</td>\n",
       "      <td>-0.097</td>\n",
       "      <td>-0.004</td>\n",
       "      <td>-0.004</td>\n",
       "      <td>0.013</td>\n",
       "      <td>-0.004</td>\n",
       "      <td>-0.000</td>\n",
       "    </tr>\n",
       "    <tr>\n",
       "      <th>term_Short Term</th>\n",
       "      <td>0.176</td>\n",
       "      <td>-0.406</td>\n",
       "      <td>0.455</td>\n",
       "      <td>-0.064</td>\n",
       "      <td>-0.102</td>\n",
       "      <td>-0.163</td>\n",
       "      <td>-0.035</td>\n",
       "      <td>-0.078</td>\n",
       "      <td>0.023</td>\n",
       "      <td>-0.094</td>\n",
       "      <td>-0.008</td>\n",
       "      <td>0.026</td>\n",
       "      <td>0.002</td>\n",
       "      <td>-1.000</td>\n",
       "      <td>1.000</td>\n",
       "      <td>-0.100</td>\n",
       "      <td>0.007</td>\n",
       "      <td>0.097</td>\n",
       "      <td>0.004</td>\n",
       "      <td>0.004</td>\n",
       "      <td>-0.013</td>\n",
       "      <td>0.004</td>\n",
       "      <td>0.000</td>\n",
       "    </tr>\n",
       "    <tr>\n",
       "      <th>months_since_last_delinquent_Mortgage</th>\n",
       "      <td>0.062</td>\n",
       "      <td>0.190</td>\n",
       "      <td>0.041</td>\n",
       "      <td>0.196</td>\n",
       "      <td>0.210</td>\n",
       "      <td>0.216</td>\n",
       "      <td>0.179</td>\n",
       "      <td>0.140</td>\n",
       "      <td>-0.003</td>\n",
       "      <td>0.156</td>\n",
       "      <td>0.022</td>\n",
       "      <td>-0.007</td>\n",
       "      <td>0.001</td>\n",
       "      <td>0.100</td>\n",
       "      <td>-0.100</td>\n",
       "      <td>1.000</td>\n",
       "      <td>-0.309</td>\n",
       "      <td>-0.833</td>\n",
       "      <td>0.004</td>\n",
       "      <td>0.008</td>\n",
       "      <td>0.057</td>\n",
       "      <td>0.018</td>\n",
       "      <td>-0.055</td>\n",
       "    </tr>\n",
       "    <tr>\n",
       "      <th>months_since_last_delinquent_Own Home</th>\n",
       "      <td>-0.004</td>\n",
       "      <td>-0.024</td>\n",
       "      <td>-0.006</td>\n",
       "      <td>0.013</td>\n",
       "      <td>-0.046</td>\n",
       "      <td>-0.038</td>\n",
       "      <td>0.032</td>\n",
       "      <td>-0.012</td>\n",
       "      <td>0.011</td>\n",
       "      <td>0.002</td>\n",
       "      <td>0.007</td>\n",
       "      <td>0.006</td>\n",
       "      <td>0.010</td>\n",
       "      <td>-0.007</td>\n",
       "      <td>0.007</td>\n",
       "      <td>-0.309</td>\n",
       "      <td>1.000</td>\n",
       "      <td>-0.269</td>\n",
       "      <td>-0.007</td>\n",
       "      <td>0.004</td>\n",
       "      <td>0.000</td>\n",
       "      <td>0.000</td>\n",
       "      <td>0.002</td>\n",
       "    </tr>\n",
       "    <tr>\n",
       "      <th>months_since_last_delinquent_Rent</th>\n",
       "      <td>-0.060</td>\n",
       "      <td>-0.178</td>\n",
       "      <td>-0.038</td>\n",
       "      <td>-0.206</td>\n",
       "      <td>-0.185</td>\n",
       "      <td>-0.197</td>\n",
       "      <td>-0.200</td>\n",
       "      <td>-0.135</td>\n",
       "      <td>-0.003</td>\n",
       "      <td>-0.159</td>\n",
       "      <td>-0.026</td>\n",
       "      <td>0.004</td>\n",
       "      <td>-0.006</td>\n",
       "      <td>-0.097</td>\n",
       "      <td>0.097</td>\n",
       "      <td>-0.833</td>\n",
       "      <td>-0.269</td>\n",
       "      <td>1.000</td>\n",
       "      <td>0.001</td>\n",
       "      <td>-0.011</td>\n",
       "      <td>-0.058</td>\n",
       "      <td>-0.018</td>\n",
       "      <td>0.055</td>\n",
       "    </tr>\n",
       "    <tr>\n",
       "      <th>home_ownership_extreme_risk</th>\n",
       "      <td>0.003</td>\n",
       "      <td>-0.017</td>\n",
       "      <td>-0.031</td>\n",
       "      <td>0.024</td>\n",
       "      <td>-0.004</td>\n",
       "      <td>-0.002</td>\n",
       "      <td>0.034</td>\n",
       "      <td>0.015</td>\n",
       "      <td>0.081</td>\n",
       "      <td>-0.041</td>\n",
       "      <td>-0.008</td>\n",
       "      <td>0.079</td>\n",
       "      <td>0.018</td>\n",
       "      <td>-0.004</td>\n",
       "      <td>0.004</td>\n",
       "      <td>0.004</td>\n",
       "      <td>-0.007</td>\n",
       "      <td>0.001</td>\n",
       "      <td>1.000</td>\n",
       "      <td>-0.126</td>\n",
       "      <td>-0.127</td>\n",
       "      <td>-0.129</td>\n",
       "      <td>-0.392</td>\n",
       "    </tr>\n",
       "    <tr>\n",
       "      <th>home_ownership_high_risk</th>\n",
       "      <td>0.002</td>\n",
       "      <td>-0.011</td>\n",
       "      <td>-0.026</td>\n",
       "      <td>0.023</td>\n",
       "      <td>0.014</td>\n",
       "      <td>0.008</td>\n",
       "      <td>0.046</td>\n",
       "      <td>0.014</td>\n",
       "      <td>0.012</td>\n",
       "      <td>-0.032</td>\n",
       "      <td>-0.000</td>\n",
       "      <td>-0.008</td>\n",
       "      <td>0.017</td>\n",
       "      <td>-0.004</td>\n",
       "      <td>0.004</td>\n",
       "      <td>0.008</td>\n",
       "      <td>0.004</td>\n",
       "      <td>-0.011</td>\n",
       "      <td>-0.126</td>\n",
       "      <td>1.000</td>\n",
       "      <td>-0.126</td>\n",
       "      <td>-0.128</td>\n",
       "      <td>-0.389</td>\n",
       "    </tr>\n",
       "    <tr>\n",
       "      <th>home_ownership_low_risk</th>\n",
       "      <td>-0.020</td>\n",
       "      <td>0.032</td>\n",
       "      <td>-0.059</td>\n",
       "      <td>0.031</td>\n",
       "      <td>0.067</td>\n",
       "      <td>0.063</td>\n",
       "      <td>0.077</td>\n",
       "      <td>0.057</td>\n",
       "      <td>-0.020</td>\n",
       "      <td>-0.016</td>\n",
       "      <td>-0.003</td>\n",
       "      <td>-0.041</td>\n",
       "      <td>0.012</td>\n",
       "      <td>0.013</td>\n",
       "      <td>-0.013</td>\n",
       "      <td>0.057</td>\n",
       "      <td>0.000</td>\n",
       "      <td>-0.058</td>\n",
       "      <td>-0.127</td>\n",
       "      <td>-0.126</td>\n",
       "      <td>1.000</td>\n",
       "      <td>-0.129</td>\n",
       "      <td>-0.392</td>\n",
       "    </tr>\n",
       "    <tr>\n",
       "      <th>home_ownership_moderate_risk</th>\n",
       "      <td>0.006</td>\n",
       "      <td>-0.005</td>\n",
       "      <td>-0.039</td>\n",
       "      <td>0.019</td>\n",
       "      <td>0.026</td>\n",
       "      <td>0.013</td>\n",
       "      <td>0.051</td>\n",
       "      <td>0.017</td>\n",
       "      <td>-0.010</td>\n",
       "      <td>-0.034</td>\n",
       "      <td>-0.007</td>\n",
       "      <td>-0.028</td>\n",
       "      <td>0.006</td>\n",
       "      <td>-0.004</td>\n",
       "      <td>0.004</td>\n",
       "      <td>0.018</td>\n",
       "      <td>0.000</td>\n",
       "      <td>-0.018</td>\n",
       "      <td>-0.129</td>\n",
       "      <td>-0.128</td>\n",
       "      <td>-0.129</td>\n",
       "      <td>1.000</td>\n",
       "      <td>-0.398</td>\n",
       "    </tr>\n",
       "    <tr>\n",
       "      <th>home_ownership_no_risk</th>\n",
       "      <td>0.006</td>\n",
       "      <td>0.001</td>\n",
       "      <td>0.098</td>\n",
       "      <td>-0.062</td>\n",
       "      <td>-0.066</td>\n",
       "      <td>-0.052</td>\n",
       "      <td>-0.133</td>\n",
       "      <td>-0.065</td>\n",
       "      <td>-0.040</td>\n",
       "      <td>0.078</td>\n",
       "      <td>0.012</td>\n",
       "      <td>-0.001</td>\n",
       "      <td>-0.033</td>\n",
       "      <td>-0.000</td>\n",
       "      <td>0.000</td>\n",
       "      <td>-0.055</td>\n",
       "      <td>0.002</td>\n",
       "      <td>0.055</td>\n",
       "      <td>-0.392</td>\n",
       "      <td>-0.389</td>\n",
       "      <td>-0.392</td>\n",
       "      <td>-0.398</td>\n",
       "      <td>1.000</td>\n",
       "    </tr>\n",
       "  </tbody>\n",
       "</table>\n",
       "</div>"
      ],
      "text/plain": [
       "                                       loan_status  ...  home_ownership_no_risk\n",
       "loan_status                                  1.000  ...                   0.006\n",
       "current_loan_amount                         -0.069  ...                   0.001\n",
       "credit_score                                 0.189  ...                   0.098\n",
       "years_in_current_job                         0.005  ...                  -0.062\n",
       "annual_income                                0.061  ...                  -0.066\n",
       "monthly_debt                                -0.006  ...                  -0.052\n",
       "years_of_credit_history                      0.039  ...                  -0.133\n",
       "number_of_open_accounts                     -0.017  ...                  -0.065\n",
       "number_of_credit_problems                   -0.012  ...                  -0.040\n",
       "current_credit_balance                       0.009  ...                   0.078\n",
       "maximum_open_credit                          0.011  ...                   0.012\n",
       "bankruptcies                                 0.000  ...                  -0.001\n",
       "tax_liens                                   -0.015  ...                  -0.033\n",
       "term_Long Term                              -0.176  ...                  -0.000\n",
       "term_Short Term                              0.176  ...                   0.000\n",
       "months_since_last_delinquent_Mortgage        0.062  ...                  -0.055\n",
       "months_since_last_delinquent_Own Home       -0.004  ...                   0.002\n",
       "months_since_last_delinquent_Rent           -0.060  ...                   0.055\n",
       "home_ownership_extreme_risk                  0.003  ...                  -0.392\n",
       "home_ownership_high_risk                     0.002  ...                  -0.389\n",
       "home_ownership_low_risk                     -0.020  ...                  -0.392\n",
       "home_ownership_moderate_risk                 0.006  ...                  -0.398\n",
       "home_ownership_no_risk                       0.006  ...                   1.000\n",
       "\n",
       "[23 rows x 23 columns]"
      ]
     },
     "execution_count": 104,
     "metadata": {
      "tags": []
     },
     "output_type": "execute_result"
    }
   ],
   "source": [
    "# Get the correlation of the dataing dataset\n",
    "correlation = data_with_dummies[1:].corr()\n",
    "correlation"
   ]
  },
  {
   "cell_type": "code",
   "execution_count": null,
   "metadata": {
    "colab": {
     "base_uri": "https://localhost:8080/",
     "height": 1000
    },
    "id": "xC1MXbjX_mci",
    "outputId": "c228f0ae-12cf-493b-f07a-084e9d8092c0"
   },
   "outputs": [
    {
     "data": {
      "image/png": "[encoded data removed]",
      "text/plain": [
       "<Figure size 1080x1080 with 2 Axes>"
      ]
     },
     "metadata": {
      "tags": []
     },
     "output_type": "display_data"
    }
   ],
   "source": [
    "sns.set(font_scale=0.8)\n",
    "sns.heatmap(data_with_dummies[1:].corr(),annot=True,fmt=\".1f\")\n",
    "sns.set(rc={'figure.figsize':(25,15)})\n",
    "plt.show()"
   ]
  },
  {
   "cell_type": "markdown",
   "metadata": {
    "id": "tkQhoDmp_mcj"
   },
   "source": [
    "### Feature Selection"
   ]
  },
  {
   "cell_type": "code",
   "execution_count": null,
   "metadata": {
    "id": "H-C4imfY_mcj"
   },
   "outputs": [],
   "source": [
    "X = data_with_dummies.drop('loan_status',axis=1)\n",
    "y = data_with_dummies.loan_status"
   ]
  },
  {
   "cell_type": "code",
   "execution_count": null,
   "metadata": {
    "id": "lbZv47AZ_mcj"
   },
   "outputs": [],
   "source": [
    "features_label = X.columns"
   ]
  },
  {
   "cell_type": "code",
   "execution_count": null,
   "metadata": {
    "colab": {
     "base_uri": "https://localhost:8080/"
    },
    "id": "uFpz11Py_mck",
    "outputId": "e1a52b29-fc32-4b06-c45f-244f6efb251b"
   },
   "outputs": [
    {
     "name": "stdout",
     "output_type": "stream",
     "text": [
      "[0.11416763 0.11644551 0.05477654 0.11373284 0.11171872 0.1015484\n",
      " 0.06926857 0.01000326 0.10755344 0.10976259 0.00731478 0.00329085\n",
      " 0.01061108 0.01040144 0.00572181 0.00470582 0.00590615 0.00784713\n",
      " 0.00794531 0.00774094 0.00801372 0.01152344]\n"
     ]
    }
   ],
   "source": [
    "#Fitting Random Forest Classification to the dataing set\n",
    "from sklearn.ensemble import RandomForestClassifier\n",
    "classifier = RandomForestClassifier(n_estimators = 200, criterion = 'entropy', random_state = 0)\n",
    "classifier.fit(X, y)\n",
    "importances = classifier.feature_importances_\n",
    "print(importances)"
   ]
  },
  {
   "cell_type": "code",
   "execution_count": null,
   "metadata": {
    "colab": {
     "base_uri": "https://localhost:8080/"
    },
    "id": "MXD4DuO1_mck",
    "outputId": "2a9e679e-1546-4fcc-f705-28879245daf0"
   },
   "outputs": [
    {
     "name": "stdout",
     "output_type": "stream",
     "text": [
      " 1) current_loan_amount            0.116446\n",
      " 2) credit_score                   0.114168\n",
      " 3) years_in_current_job           0.113733\n",
      " 4) annual_income                  0.111719\n",
      " 5) monthly_debt                   0.109763\n",
      " 6) years_of_credit_history        0.107553\n",
      " 7) number_of_open_accounts        0.101548\n",
      " 8) number_of_credit_problems      0.069269\n",
      " 9) current_credit_balance         0.054777\n",
      "10) maximum_open_credit            0.011523\n",
      "11) bankruptcies                   0.010611\n",
      "12) tax_liens                      0.010401\n",
      "13) term_Long Term                 0.010003\n",
      "14) term_Short Term                0.008014\n",
      "15) months_since_last_delinquent_Mortgage 0.007945\n",
      "16) months_since_last_delinquent_Own Home 0.007847\n",
      "17) months_since_last_delinquent_Rent 0.007741\n",
      "18) home_ownership_extreme_risk    0.007315\n",
      "19) home_ownership_high_risk       0.005906\n",
      "20) home_ownership_low_risk        0.005722\n",
      "21) home_ownership_moderate_risk   0.004706\n",
      "22) home_ownership_no_risk         0.003291\n"
     ]
    }
   ],
   "source": [
    "indices = np.argsort(importances)[::-1]\n",
    "for i in range(X.shape[1]):\n",
    "    print (\"%2d) %-*s %f\" % (i + 1, 30, features_label[i],importances[indices[i]]))"
   ]
  },
  {
   "cell_type": "code",
   "execution_count": null,
   "metadata": {
    "colab": {
     "base_uri": "https://localhost:8080/",
     "height": 1000
    },
    "id": "VBiVpJcI_mck",
    "outputId": "b447c60d-4bb7-42b9-e83b-d6c2081543b3"
   },
   "outputs": [
    {
     "data": {
      "image/png": "[encoded data removed]",
      "text/plain": [
       "<Figure size 1080x1080 with 1 Axes>"
      ]
     },
     "metadata": {
      "tags": []
     },
     "output_type": "display_data"
    }
   ],
   "source": [
    "plt.title('Feature Importances')\n",
    "plt.bar(range(X.shape[1]),importances[indices], color=\"green\", align=\"center\")\n",
    "plt.xticks(range(X.shape[1]),features_label, rotation=90)\n",
    "plt.xlim([-1, X.shape[1]])\n",
    "plt.show()"
   ]
  },
  {
   "cell_type": "markdown",
   "metadata": {
    "id": "6sSUaF5p_mcl"
   },
   "source": [
    "### Train and Build Baseline Model"
   ]
  },
  {
   "cell_type": "code",
   "execution_count": null,
   "metadata": {
    "id": "ktCZbSAt_mcl"
   },
   "outputs": [],
   "source": [
    "from sklearn.ensemble import RandomForestClassifier\n",
    "from sklearn.model_selection  import train_test_split\n",
    "from sklearn.metrics import confusion_matrix,accuracy_score,auc"
   ]
  },
  {
   "cell_type": "code",
   "execution_count": null,
   "metadata": {
    "id": "0c0hB_Ty_mcl"
   },
   "outputs": [],
   "source": [
    "X_train, X_test, y_train, y_test = train_test_split(X, y, test_size = 0.20, random_state = 42)"
   ]
  },
  {
   "cell_type": "code",
   "execution_count": null,
   "metadata": {
    "colab": {
     "base_uri": "https://localhost:8080/"
    },
    "id": "9PcWRiiW_mcl",
    "outputId": "708bf771-65a6-446d-c1a7-e81efdab3f57",
    "scrolled": true
   },
   "outputs": [
    {
     "data": {
      "text/plain": [
       "RandomForestClassifier(bootstrap=True, ccp_alpha=0.0, class_weight=None,\n",
       "                       criterion='gini', max_depth=None, max_features='auto',\n",
       "                       max_leaf_nodes=None, max_samples=None,\n",
       "                       min_impurity_decrease=0.0, min_impurity_split=None,\n",
       "                       min_samples_leaf=1, min_samples_split=2,\n",
       "                       min_weight_fraction_leaf=0.0, n_estimators=10,\n",
       "                       n_jobs=None, oob_score=False, random_state=None,\n",
       "                       verbose=0, warm_start=False)"
      ]
     },
     "execution_count": 113,
     "metadata": {
      "tags": []
     },
     "output_type": "execute_result"
    }
   ],
   "source": [
    "Random = RandomForestClassifier(n_estimators=10)\n",
    "\n",
    "Random.fit(X_train, y_train)"
   ]
  },
  {
   "cell_type": "code",
   "execution_count": null,
   "metadata": {
    "id": "xKask-B__mcm"
   },
   "outputs": [],
   "source": [
    "# Predicting the Test set results\n",
    "y_pred = Random.predict(X_test)\n",
    "\n",
    "# Making the Confusion Matrix \n",
    "cm = confusion_matrix(y_test, y_pred)\n",
    "accuracy = accuracy_score(y_test,y_pred)\n"
   ]
  },
  {
   "cell_type": "code",
   "execution_count": null,
   "metadata": {
    "colab": {
     "base_uri": "https://localhost:8080/"
    },
    "id": "0AGshjS2_mcm",
    "outputId": "afe117a4-a46d-41d4-c0b0-229fe774732d"
   },
   "outputs": [
    {
     "data": {
      "text/plain": [
       "array([[ 1561,  3452],\n",
       "       [ 2036, 10691]])"
      ]
     },
     "execution_count": 115,
     "metadata": {
      "tags": []
     },
     "output_type": "execute_result"
    }
   ],
   "source": [
    "cm"
   ]
  },
  {
   "cell_type": "code",
   "execution_count": null,
   "metadata": {
    "colab": {
     "base_uri": "https://localhost:8080/"
    },
    "id": "MhP7d4Vz_mcm",
    "outputId": "9e7104aa-9238-4bf4-919a-599f638019ec"
   },
   "outputs": [
    {
     "data": {
      "text/plain": [
       "0.6906426155580608"
      ]
     },
     "execution_count": 116,
     "metadata": {
      "tags": []
     },
     "output_type": "execute_result"
    }
   ],
   "source": [
    "accuracy"
   ]
  },
  {
   "cell_type": "markdown",
   "metadata": {
    "id": "U9NFrXgh_mco"
   },
   "source": [
    "#### Filtering Features"
   ]
  },
  {
   "cell_type": "code",
   "execution_count": null,
   "metadata": {
    "id": "E5BUa2Ik_mco"
   },
   "outputs": [],
   "source": [
    "X_filter = X[['current_loan_amount', 'credit_score', 'years_in_current_job', 'annual_income', 'monthly_debt', 'years_of_credit_history',\n",
    "             'number_of_open_accounts', 'number_of_credit_problems', 'current_credit_balance']]"
   ]
  },
  {
   "cell_type": "code",
   "execution_count": null,
   "metadata": {
    "id": "FpRbCAjx_mcp"
   },
   "outputs": [],
   "source": [
    "X_train, X_test, y_train, y_test = train_test_split(X_filter, y, test_size = 0.20, random_state = 42, stratify=y)"
   ]
  },
  {
   "cell_type": "code",
   "execution_count": null,
   "metadata": {
    "colab": {
     "base_uri": "https://localhost:8080/"
    },
    "id": "3IpL0Bow_mcp",
    "outputId": "7c3d3ed5-0055-427c-d7b2-725ad03f29a4"
   },
   "outputs": [
    {
     "data": {
      "text/plain": [
       "RandomForestClassifier(n_estimators=10)"
      ]
     },
     "execution_count": 108,
     "metadata": {
      "tags": []
     },
     "output_type": "execute_result"
    }
   ],
   "source": [
    "Random = RandomForestClassifier(n_estimators=10)\n",
    "\n",
    "Random.fit(X_train, y_train)"
   ]
  },
  {
   "cell_type": "code",
   "execution_count": null,
   "metadata": {
    "id": "fypIpXA0_mcp"
   },
   "outputs": [],
   "source": [
    "# Predicting the Test set results\n",
    "y_pred = Random.predict(X_test)\n",
    "\n",
    "# Making the Confusion Matrix \n",
    "cm = confusion_matrix(y_test, y_pred)\n",
    "acc = accuracy_score(y_test, y_pred)\n"
   ]
  },
  {
   "cell_type": "code",
   "execution_count": null,
   "metadata": {
    "colab": {
     "base_uri": "https://localhost:8080/"
    },
    "id": "WV9bVYqY_mcq",
    "outputId": "6aaa4148-b26a-4801-f566-0dcf8b70bfad",
    "scrolled": true
   },
   "outputs": [
    {
     "data": {
      "text/plain": [
       "array([[ 1489,  3533],\n",
       "       [ 2275, 10443]])"
      ]
     },
     "execution_count": 110,
     "metadata": {
      "tags": []
     },
     "output_type": "execute_result"
    }
   ],
   "source": [
    "cm"
   ]
  },
  {
   "cell_type": "code",
   "execution_count": null,
   "metadata": {
    "colab": {
     "base_uri": "https://localhost:8080/"
    },
    "id": "4M8fQsbZ_mcq",
    "outputId": "3127a44e-5e71-4e19-8b71-0d93e84656b1"
   },
   "outputs": [
    {
     "data": {
      "text/plain": [
       "0.6726042841037204"
      ]
     },
     "execution_count": 111,
     "metadata": {
      "tags": []
     },
     "output_type": "execute_result"
    }
   ],
   "source": [
    "acc"
   ]
  },
  {
   "cell_type": "markdown",
   "metadata": {
    "id": "ChQ8Gujo_mcr"
   },
   "source": [
    "#### Hyperparameter Tuning"
   ]
  },
  {
   "cell_type": "code",
   "execution_count": null,
   "metadata": {
    "id": "noX8UGDy_mcr"
   },
   "outputs": [],
   "source": [
    "from sklearn.model_selection import RandomizedSearchCV"
   ]
  },
  {
   "cell_type": "code",
   "execution_count": null,
   "metadata": {
    "id": "SoZwxFja_mcr"
   },
   "outputs": [],
   "source": [
    "# Number of trees in random forest\n",
    "n_estimators = [50,100,150,200,250,300]\n",
    "# Minimum number of samples required to split a node\n",
    "min_samples_split = [10, 15, 20, 25, 30, 35]\n",
    "# Create the random grid\n",
    "random_grid = {'n_estimators': n_estimators,\n",
    "               'min_samples_split': min_samples_split}\n",
    "               "
   ]
  },
  {
   "cell_type": "code",
   "execution_count": null,
   "metadata": {
    "colab": {
     "base_uri": "https://localhost:8080/"
    },
    "id": "d3gsSqYw_mcr",
    "outputId": "0c7496a7-41be-403d-dbc5-ec5104797411"
   },
   "outputs": [
    {
     "data": {
      "text/plain": [
       "RandomizedSearchCV(cv=5, estimator=RandomForestClassifier(),\n",
       "                   param_distributions={'min_samples_split': [10, 15, 20, 25,\n",
       "                                                              30, 35],\n",
       "                                        'n_estimators': [50, 100, 150, 200, 250,\n",
       "                                                         300]},\n",
       "                   random_state=42)"
      ]
     },
     "execution_count": 114,
     "metadata": {
      "tags": []
     },
     "output_type": "execute_result"
    }
   ],
   "source": [
    "#Use the random grid to search for best hyperparameters\n",
    "#First create the base model to tune\n",
    "rf = RandomForestClassifier()\n",
    "#Random search of parameters, using 5 fold cross validation, \n",
    "#search across 100 different combinations, and use all available cores\n",
    "rf_random = RandomizedSearchCV(estimator=rf, param_distributions=random_grid, cv=5, random_state=42)\n",
    "#Fit the random search model\n",
    "rf_random.fit(X_train, y_train)"
   ]
  },
  {
   "cell_type": "code",
   "execution_count": null,
   "metadata": {
    "colab": {
     "base_uri": "https://localhost:8080/"
    },
    "id": "EF6mNNgG_mcs",
    "outputId": "661f832f-e571-4618-dbda-fe769ee2e02b"
   },
   "outputs": [
    {
     "data": {
      "text/plain": [
       "{'min_samples_split': 35, 'n_estimators': 300}"
      ]
     },
     "execution_count": 115,
     "metadata": {
      "tags": []
     },
     "output_type": "execute_result"
    }
   ],
   "source": [
    "rf_random.best_params_"
   ]
  },
  {
   "cell_type": "code",
   "execution_count": null,
   "metadata": {
    "colab": {
     "base_uri": "https://localhost:8080/"
    },
    "id": "t8INf4vv_mcs",
    "outputId": "3e3a0146-46c7-4846-ecb5-3c068c48cfa3"
   },
   "outputs": [
    {
     "data": {
      "text/plain": [
       "RandomForestClassifier(max_features='sqrt', min_samples_split=35,\n",
       "                       n_estimators=300, oob_score=True, random_state=42)"
      ]
     },
     "execution_count": 116,
     "metadata": {
      "tags": []
     },
     "output_type": "execute_result"
    }
   ],
   "source": [
    "Random = RandomForestClassifier(n_estimators=300, min_samples_split=35, max_features='sqrt', \n",
    "                               bootstrap=True, oob_score=True, random_state=42)\n",
    "\n",
    "Random.fit(X_train, y_train)"
   ]
  },
  {
   "cell_type": "code",
   "execution_count": null,
   "metadata": {
    "id": "rECYog1p_mcs"
   },
   "outputs": [],
   "source": [
    "# Predicting the Test set results\n",
    "y_pred = Random.predict(X_test)\n",
    "\n",
    "# Making the Confusion Matrix \n",
    "cm = confusion_matrix(y_test, y_pred)\n",
    "acc = accuracy_score(y_test, y_pred)"
   ]
  },
  {
   "cell_type": "code",
   "execution_count": null,
   "metadata": {
    "colab": {
     "base_uri": "https://localhost:8080/"
    },
    "id": "DaYEx4zM_mct",
    "outputId": "9e0694cf-3f81-4825-da48-228ff4920bb1"
   },
   "outputs": [
    {
     "data": {
      "text/plain": [
       "array([[  461,  4561],\n",
       "       [  401, 12317]])"
      ]
     },
     "execution_count": 118,
     "metadata": {
      "tags": []
     },
     "output_type": "execute_result"
    }
   ],
   "source": [
    "cm"
   ]
  },
  {
   "cell_type": "code",
   "execution_count": null,
   "metadata": {
    "colab": {
     "base_uri": "https://localhost:8080/"
    },
    "id": "hsbkn_cvM4bQ",
    "outputId": "30bf68b9-8d93-4980-eabe-7f5e8acf5311"
   },
   "outputs": [
    {
     "data": {
      "text/plain": [
       "0.720293122886133"
      ]
     },
     "execution_count": 119,
     "metadata": {
      "tags": []
     },
     "output_type": "execute_result"
    }
   ],
   "source": [
    "acc"
   ]
  },
  {
   "cell_type": "markdown",
   "metadata": {
    "id": "8VZwqRVW_mct"
   },
   "source": [
    "#### Logistic Regression"
   ]
  },
  {
   "cell_type": "code",
   "execution_count": null,
   "metadata": {
    "colab": {
     "base_uri": "https://localhost:8080/"
    },
    "id": "yiVqgyNZ_mcu",
    "outputId": "4b6f7ce0-f2ed-4af2-a83c-a245a3d45180"
   },
   "outputs": [
    {
     "data": {
      "text/plain": [
       "LogisticRegression(class_weight='balanced')"
      ]
     },
     "execution_count": 121,
     "metadata": {
      "tags": []
     },
     "output_type": "execute_result"
    }
   ],
   "source": [
    "from sklearn.linear_model import LogisticRegression\n",
    "Logistic = LogisticRegression(class_weight='balanced')\n",
    "Logistic.fit(X_train, y_train)"
   ]
  },
  {
   "cell_type": "code",
   "execution_count": null,
   "metadata": {
    "id": "CZdUULCL_mcu"
   },
   "outputs": [],
   "source": [
    "# Predicting the Test set results\n",
    "y_pred = Logistic.predict(X_test)\n",
    "\n",
    "cm = confusion_matrix(y_test, y_pred)\n",
    "acc = accuracy_score(y_test, y_pred)\n"
   ]
  },
  {
   "cell_type": "code",
   "execution_count": null,
   "metadata": {
    "colab": {
     "base_uri": "https://localhost:8080/"
    },
    "id": "ZJf505Dr_mcu",
    "outputId": "3b64aba6-e6fc-44d9-d05e-117feab1d96f"
   },
   "outputs": [
    {
     "data": {
      "text/plain": [
       "array([[2723, 2299],\n",
       "       [5278, 7440]])"
      ]
     },
     "execution_count": 123,
     "metadata": {
      "tags": []
     },
     "output_type": "execute_result"
    }
   ],
   "source": [
    "cm"
   ]
  },
  {
   "cell_type": "code",
   "execution_count": null,
   "metadata": {
    "colab": {
     "base_uri": "https://localhost:8080/"
    },
    "id": "mHAD4wqZMwXT",
    "outputId": "609ce52d-8416-4a92-d0d5-bc11f0edb329"
   },
   "outputs": [
    {
     "data": {
      "text/plain": [
       "0.5728861330326944"
      ]
     },
     "execution_count": 124,
     "metadata": {
      "tags": []
     },
     "output_type": "execute_result"
    }
   ],
   "source": [
    "acc"
   ]
  },
  {
   "cell_type": "markdown",
   "metadata": {
    "id": "tB7aQN9K_mcv"
   },
   "source": [
    "#### KNN"
   ]
  },
  {
   "cell_type": "code",
   "execution_count": null,
   "metadata": {
    "colab": {
     "base_uri": "https://localhost:8080/"
    },
    "id": "cE-xT-jM_mcv",
    "outputId": "d2755025-9535-4235-b805-119d5b48aaf8"
   },
   "outputs": [
    {
     "data": {
      "text/plain": [
       "KNeighborsClassifier()"
      ]
     },
     "execution_count": 125,
     "metadata": {
      "tags": []
     },
     "output_type": "execute_result"
    }
   ],
   "source": [
    "# Fitting K-NN to the Training set\n",
    "from sklearn.neighbors import KNeighborsClassifier\n",
    "KNN = KNeighborsClassifier()\n",
    "KNN.fit(X_train, y_train)"
   ]
  },
  {
   "cell_type": "code",
   "execution_count": null,
   "metadata": {
    "id": "blzEG9Re_mcv"
   },
   "outputs": [],
   "source": [
    "y_pred = KNN.predict(X_test)\n",
    "\n",
    "# Making the Confusion Matrix \n",
    "from sklearn.metrics import confusion_matrix\n",
    "cm = confusion_matrix(y_test, y_pred)\n",
    "acc = accuracy_score(y_test, y_pred)"
   ]
  },
  {
   "cell_type": "code",
   "execution_count": null,
   "metadata": {
    "colab": {
     "base_uri": "https://localhost:8080/"
    },
    "id": "h7jJ-bYY_mcv",
    "outputId": "1771ad29-57c7-4697-ba52-28e000fb2c62"
   },
   "outputs": [
    {
     "data": {
      "text/plain": [
       "array([[  898,  4124],\n",
       "       [ 1845, 10873]])"
      ]
     },
     "execution_count": 127,
     "metadata": {
      "tags": []
     },
     "output_type": "execute_result"
    }
   ],
   "source": [
    "cm"
   ]
  },
  {
   "cell_type": "code",
   "execution_count": null,
   "metadata": {
    "colab": {
     "base_uri": "https://localhost:8080/"
    },
    "id": "zBOvy-jqMuxO",
    "outputId": "281ae73e-684a-46ae-bfa1-a779e622d8be"
   },
   "outputs": [
    {
     "data": {
      "text/plain": [
       "0.6635287485907554"
      ]
     },
     "execution_count": 128,
     "metadata": {
      "tags": []
     },
     "output_type": "execute_result"
    }
   ],
   "source": [
    "acc"
   ]
  },
  {
   "cell_type": "markdown",
   "metadata": {
    "id": "3DDR_hjn_mcw"
   },
   "source": [
    "#### Gradient Boosting"
   ]
  },
  {
   "cell_type": "code",
   "execution_count": null,
   "metadata": {
    "colab": {
     "base_uri": "https://localhost:8080/"
    },
    "id": "_WuvDOI1_mcx",
    "outputId": "768b6172-6fe0-4489-f51d-184c934c08e2"
   },
   "outputs": [
    {
     "data": {
      "text/plain": [
       "GradientBoostingClassifier()"
      ]
     },
     "execution_count": 130,
     "metadata": {
      "tags": []
     },
     "output_type": "execute_result"
    }
   ],
   "source": [
    "# Fitting GradientBoosting to the Training set\n",
    "from sklearn.ensemble import GradientBoostingClassifier\n",
    "GradientBoo = GradientBoostingClassifier()\n",
    "GradientBoo.fit(X_train, y_train)"
   ]
  },
  {
   "cell_type": "code",
   "execution_count": null,
   "metadata": {
    "colab": {
     "base_uri": "https://localhost:8080/"
    },
    "id": "Q56hH6ln_mcx",
    "outputId": "619761b6-168f-46ab-ee7b-8cdd999d48b2"
   },
   "outputs": [
    {
     "data": {
      "text/plain": [
       "array([[  197,  4825],\n",
       "       [  159, 12559]])"
      ]
     },
     "execution_count": 131,
     "metadata": {
      "tags": []
     },
     "output_type": "execute_result"
    }
   ],
   "source": [
    "# Predicting the Test set results\n",
    "y_pred = GradientBoo.predict(X_test)\n",
    "\n",
    "# Making the Confusion Matrix \n",
    "from sklearn.metrics import confusion_matrix\n",
    "cm = confusion_matrix(y_test, y_pred)\n",
    "acc = accuracy_score(y_test, y_pred)\n",
    "cm"
   ]
  },
  {
   "cell_type": "code",
   "execution_count": null,
   "metadata": {
    "colab": {
     "base_uri": "https://localhost:8080/"
    },
    "id": "ZgwM9HeiM0Rq",
    "outputId": "e5d3b494-478c-4919-ee90-72f8ebd4911b"
   },
   "outputs": [
    {
     "data": {
      "text/plain": [
       "0.7190529875986471"
      ]
     },
     "execution_count": 132,
     "metadata": {
      "tags": []
     },
     "output_type": "execute_result"
    }
   ],
   "source": [
    "acc"
   ]
  },
  {
   "cell_type": "markdown",
   "metadata": {
    "id": "oAJcGVO08qP-"
   },
   "source": [
    "## Model Deployment"
   ]
  },
  {
   "cell_type": "code",
   "execution_count": null,
   "metadata": {
    "id": "8v5HmX-k8Z6k"
   },
   "outputs": [],
   "source": [
    "import pickle"
   ]
  },
  {
   "cell_type": "code",
   "execution_count": null,
   "metadata": {
    "id": "ZY4Gi1FL8Zqi"
   },
   "outputs": [],
   "source": [
    "pickle.dump(Random, open('model_final.pkl','wb'))"
   ]
  },
  {
   "cell_type": "code",
   "execution_count": null,
   "metadata": {
    "colab": {
     "base_uri": "https://localhost:8080/",
     "height": 224
    },
    "id": "9-4ybrhsTlYv",
    "outputId": "8d9db3c7-9c59-46eb-ae5a-126252677044"
   },
   "outputs": [
    {
     "data": {
      "text/html": [
       "<div>\n",
       "<style scoped>\n",
       "    .dataframe tbody tr th:only-of-type {\n",
       "        vertical-align: middle;\n",
       "    }\n",
       "\n",
       "    .dataframe tbody tr th {\n",
       "        vertical-align: top;\n",
       "    }\n",
       "\n",
       "    .dataframe thead th {\n",
       "        text-align: right;\n",
       "    }\n",
       "</style>\n",
       "<table border=\"1\" class=\"dataframe\">\n",
       "  <thead>\n",
       "    <tr style=\"text-align: right;\">\n",
       "      <th></th>\n",
       "      <th>current_loan_amount</th>\n",
       "      <th>credit_score</th>\n",
       "      <th>years_in_current_job</th>\n",
       "      <th>annual_income</th>\n",
       "      <th>monthly_debt</th>\n",
       "      <th>years_of_credit_history</th>\n",
       "      <th>number_of_open_accounts</th>\n",
       "      <th>number_of_credit_problems</th>\n",
       "      <th>current_credit_balance</th>\n",
       "    </tr>\n",
       "  </thead>\n",
       "  <tbody>\n",
       "    <tr>\n",
       "      <th>37829</th>\n",
       "      <td>12753.000</td>\n",
       "      <td>739.000</td>\n",
       "      <td>10.000</td>\n",
       "      <td>54446.000</td>\n",
       "      <td>671.490</td>\n",
       "      <td>17.400</td>\n",
       "      <td>11.000</td>\n",
       "      <td>0</td>\n",
       "      <td>13933</td>\n",
       "    </tr>\n",
       "    <tr>\n",
       "      <th>8074</th>\n",
       "      <td>8974.272</td>\n",
       "      <td>737.000</td>\n",
       "      <td>3.000</td>\n",
       "      <td>29451.000</td>\n",
       "      <td>635.650</td>\n",
       "      <td>7.900</td>\n",
       "      <td>12.000</td>\n",
       "      <td>0</td>\n",
       "      <td>7828</td>\n",
       "    </tr>\n",
       "    <tr>\n",
       "      <th>71924</th>\n",
       "      <td>4891.000</td>\n",
       "      <td>706.000</td>\n",
       "      <td>5.000</td>\n",
       "      <td>103679.000</td>\n",
       "      <td>1145.348</td>\n",
       "      <td>16.700</td>\n",
       "      <td>12.000</td>\n",
       "      <td>0</td>\n",
       "      <td>4201</td>\n",
       "    </tr>\n",
       "    <tr>\n",
       "      <th>87978</th>\n",
       "      <td>34552.000</td>\n",
       "      <td>678.000</td>\n",
       "      <td>0.000</td>\n",
       "      <td>112541.000</td>\n",
       "      <td>1345.241</td>\n",
       "      <td>26.000</td>\n",
       "      <td>9.000</td>\n",
       "      <td>0</td>\n",
       "      <td>13378</td>\n",
       "    </tr>\n",
       "    <tr>\n",
       "      <th>74865</th>\n",
       "      <td>5362.000</td>\n",
       "      <td>716.000</td>\n",
       "      <td>10.000</td>\n",
       "      <td>35910.000</td>\n",
       "      <td>478.076</td>\n",
       "      <td>18.500</td>\n",
       "      <td>7.000</td>\n",
       "      <td>0</td>\n",
       "      <td>3198</td>\n",
       "    </tr>\n",
       "  </tbody>\n",
       "</table>\n",
       "</div>"
      ],
      "text/plain": [
       "       current_loan_amount  ...  current_credit_balance\n",
       "37829            12753.000  ...                   13933\n",
       "8074              8974.272  ...                    7828\n",
       "71924             4891.000  ...                    4201\n",
       "87978            34552.000  ...                   13378\n",
       "74865             5362.000  ...                    3198\n",
       "\n",
       "[5 rows x 9 columns]"
      ]
     },
     "execution_count": 152,
     "metadata": {
      "tags": []
     },
     "output_type": "execute_result"
    }
   ],
   "source": [
    "X_test.head()"
   ]
  },
  {
   "cell_type": "code",
   "execution_count": null,
   "metadata": {
    "colab": {
     "base_uri": "https://localhost:8080/"
    },
    "id": "UAEug_cezRpx",
    "outputId": "aa5e821a-2388-4b38-9d66-015be05d452d"
   },
   "outputs": [
    {
     "data": {
      "text/plain": [
       "Index(['current_loan_amount', 'credit_score', 'years_in_current_job',\n",
       "       'annual_income', 'monthly_debt', 'years_of_credit_history',\n",
       "       'number_of_open_accounts', 'number_of_credit_problems',\n",
       "       'current_credit_balance'],\n",
       "      dtype='object')"
      ]
     },
     "execution_count": 153,
     "metadata": {
      "tags": []
     },
     "output_type": "execute_result"
    }
   ],
   "source": [
    "X_test.columns"
   ]
  },
  {
   "cell_type": "code",
   "execution_count": null,
   "metadata": {
    "colab": {
     "base_uri": "https://localhost:8080/"
    },
    "id": "g6wds4qVUHnF",
    "outputId": "c22d371f-ff41-4217-d3b1-6f693d952f50"
   },
   "outputs": [
    {
     "data": {
      "text/plain": [
       "37829    1\n",
       "8074     1\n",
       "71924    1\n",
       "87978    1\n",
       "74865    1\n",
       "Name: loan_status, dtype: int64"
      ]
     },
     "execution_count": 150,
     "metadata": {
      "tags": []
     },
     "output_type": "execute_result"
    }
   ],
   "source": [
    "y_test.head()"
   ]
  },
  {
   "cell_type": "code",
   "execution_count": null,
   "metadata": {
    "colab": {
     "base_uri": "https://localhost:8080/"
    },
    "id": "qGlEGJ2BGRco",
    "outputId": "61d5bd81-4837-44ae-c36c-edb4de4c0d97"
   },
   "outputs": [
    {
     "name": "stdout",
     "output_type": "stream",
     "text": [
      "[0]\n"
     ]
    }
   ],
   "source": [
    "model = pickle.load(open('model_final.pkl','rb'))\n",
    "print(model.predict([[10000, 580, 5, 500000, 1500, 15, 5, 0, 10000]]))"
   ]
  },
  {
   "cell_type": "code",
   "execution_count": null,
   "metadata": {
    "colab": {
     "base_uri": "https://localhost:8080/"
    },
    "id": "4o46LEFNGRW5",
    "outputId": "5fa26902-e831-4240-fe33-9caa4939ee1f"
   },
   "outputs": [
    {
     "data": {
      "text/plain": [
       "array([1])"
      ]
     },
     "execution_count": 137,
     "metadata": {
      "tags": []
     },
     "output_type": "execute_result"
    }
   ],
   "source": [
    "model.predict([[12753.000,\t739.000,\t10.000,\t54446.000,\t671.490,\t17.400,\t11.000,\t0\t,13933]])"
   ]
  }
 ],
 "metadata": {
  "colab": {
   "collapsed_sections": [],
   "name": "CRMEndtoEnd.ipynb",
   "provenance": []
  },
  "kernelspec": {
   "display_name": "Python 3",
   "language": "python",
   "name": "python3"
  },
  "language_info": {
   "codemirror_mode": {
    "name": "ipython",
    "version": 3
   },
   "file_extension": ".py",
   "mimetype": "text/x-python",
   "name": "python",
   "nbconvert_exporter": "python",
   "pygments_lexer": "ipython3",
   "version": "3.8.3"
  },
  "toc": {
   "base_numbering": 1,
   "nav_menu": {},
   "number_sections": true,
   "sideBar": true,
   "skip_h1_title": false,
   "title_cell": "Table of Contents",
   "title_sidebar": "Contents",
   "toc_cell": false,
   "toc_position": {
    "height": "calc(100% - 180px)",
    "left": "10px",
    "top": "150px",
    "width": "384px"
   },
   "toc_section_display": true,
   "toc_window_display": true
  },
  "varInspector": {
   "cols": {
    "lenName": 16,
    "lenType": 16,
    "lenVar": 40
   },
   "kernels_config": {
    "python": {
     "delete_cmd_postfix": "",
     "delete_cmd_prefix": "del ",
     "library": "var_list.py",
     "varRefreshCmd": "print(var_dic_list())"
    },
    "r": {
     "delete_cmd_postfix": ") ",
     "delete_cmd_prefix": "rm(",
     "library": "var_list.r",
     "varRefreshCmd": "cat(var_dic_list()) "
    }
   },
   "types_to_exclude": [
    "module",
    "function",
    "builtin_function_or_method",
    "instance",
    "_Feature"
   ],
   "window_display": false
  }
 },
 "nbformat": 4,
 "nbformat_minor": 1
}
