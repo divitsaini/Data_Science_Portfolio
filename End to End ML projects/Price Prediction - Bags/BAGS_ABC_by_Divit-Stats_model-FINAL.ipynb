{
 "cells": [
  {
   "cell_type": "markdown",
   "metadata": {},
   "source": [
    "# **Bags - Cost Predictive Model for ABC Industries using Multiple Linear Regression**\n",
    "### By Divit Saini\n",
    "![Image of baggage_dimensions_en_2](https://www.saudia.com/static_files/baggage/baggage_dimensions_en_2.png)\n"
   ]
  },
  {
   "cell_type": "markdown",
   "metadata": {},
   "source": [
    "## Objective: \n",
    "The company wants to predict the cost they should set for a new variant of the kinds of bags based on the attributes mentioned below using **multiple linear regression model**:\n",
    "\n",
    "1.\tHeight – The height of the bag\n",
    "2.\tWidth – The width of the bag\n",
    "3.\tLength – The length of the bag\n",
    "4.\tWeight – The weight the bag can carry\n",
    "5.\tWeight1 – Weight the bag can carry after expansion\n",
    "\n",
    "## Methodology:\n",
    "The Steps that we are going to follow to complete this implementation is as follows:\n",
    "\n",
    "1. Importing the necessary libraries.\n",
    "\n",
    "2. Reading the dataset from the CSV file and searching for any pre-processsing required.\n",
    "\n",
    "3. Discover and visualise data while finding correlations\n",
    "\n",
    "4. Data Preprocessing\n",
    "\n",
    "5. Splitting the dataset into independent (x) and dependent (y) variables.\n",
    "\n",
    "6. Multiple linear regression model creation:\n",
    "    1. Without feature scaling (Considering all independent variables (Attributes))\n",
    "    2. Feature selection\n",
    "        1. Forward selection\n",
    "            1. Manual one by one addition\n",
    "            2. Using Sequential Feature Selection Class\n",
    "        2. Backward elimination\n",
    "     \n",
    "        3. Recursive Feature Elimination\n",
    "        \n",
    "7. Selection of Best Model using Performance Metrics such as R-2, adjusted R-2 and RMSE"
   ]
  },
  {
   "cell_type": "markdown",
   "metadata": {},
   "source": [
    "## 1. Importing the necessary libraries."
   ]
  },
  {
   "cell_type": "code",
   "execution_count": 1,
   "metadata": {},
   "outputs": [],
   "source": [
    "import numpy as np\n",
    "import pandas as pd\n",
    "import matplotlib.pyplot as plt\n",
    "from sklearn.linear_model import LinearRegression\n",
    "from sklearn.metrics import mean_squared_error, r2_score"
   ]
  },
  {
   "cell_type": "markdown",
   "metadata": {},
   "source": [
    "## 2. Reading the dataset from the CSV file and searching for any pre-processsing required."
   ]
  },
  {
   "cell_type": "code",
   "execution_count": 2,
   "metadata": {
    "scrolled": true
   },
   "outputs": [
    {
     "data": {
      "text/html": [
       "<div>\n",
       "<style scoped>\n",
       "    .dataframe tbody tr th:only-of-type {\n",
       "        vertical-align: middle;\n",
       "    }\n",
       "\n",
       "    .dataframe tbody tr th {\n",
       "        vertical-align: top;\n",
       "    }\n",
       "\n",
       "    .dataframe thead th {\n",
       "        text-align: right;\n",
       "    }\n",
       "</style>\n",
       "<table border=\"1\" class=\"dataframe\">\n",
       "  <thead>\n",
       "    <tr style=\"text-align: right;\">\n",
       "      <th></th>\n",
       "      <th>Cost</th>\n",
       "      <th>Weight</th>\n",
       "      <th>Weight1</th>\n",
       "      <th>Length</th>\n",
       "      <th>Height</th>\n",
       "      <th>Width</th>\n",
       "    </tr>\n",
       "  </thead>\n",
       "  <tbody>\n",
       "    <tr>\n",
       "      <th>0</th>\n",
       "      <td>242.0</td>\n",
       "      <td>23.2</td>\n",
       "      <td>25.4</td>\n",
       "      <td>30.0</td>\n",
       "      <td>11.5200</td>\n",
       "      <td>4.0200</td>\n",
       "    </tr>\n",
       "    <tr>\n",
       "      <th>1</th>\n",
       "      <td>290.0</td>\n",
       "      <td>24.0</td>\n",
       "      <td>26.3</td>\n",
       "      <td>31.2</td>\n",
       "      <td>12.4800</td>\n",
       "      <td>4.3056</td>\n",
       "    </tr>\n",
       "    <tr>\n",
       "      <th>2</th>\n",
       "      <td>340.0</td>\n",
       "      <td>23.9</td>\n",
       "      <td>26.5</td>\n",
       "      <td>31.1</td>\n",
       "      <td>12.3778</td>\n",
       "      <td>4.6961</td>\n",
       "    </tr>\n",
       "    <tr>\n",
       "      <th>3</th>\n",
       "      <td>363.0</td>\n",
       "      <td>26.3</td>\n",
       "      <td>29.0</td>\n",
       "      <td>33.5</td>\n",
       "      <td>12.7300</td>\n",
       "      <td>4.4555</td>\n",
       "    </tr>\n",
       "    <tr>\n",
       "      <th>4</th>\n",
       "      <td>430.0</td>\n",
       "      <td>26.5</td>\n",
       "      <td>29.0</td>\n",
       "      <td>34.0</td>\n",
       "      <td>12.4440</td>\n",
       "      <td>5.1340</td>\n",
       "    </tr>\n",
       "    <tr>\n",
       "      <th>...</th>\n",
       "      <td>...</td>\n",
       "      <td>...</td>\n",
       "      <td>...</td>\n",
       "      <td>...</td>\n",
       "      <td>...</td>\n",
       "      <td>...</td>\n",
       "    </tr>\n",
       "    <tr>\n",
       "      <th>154</th>\n",
       "      <td>12.2</td>\n",
       "      <td>11.5</td>\n",
       "      <td>12.2</td>\n",
       "      <td>13.4</td>\n",
       "      <td>2.0904</td>\n",
       "      <td>1.3936</td>\n",
       "    </tr>\n",
       "    <tr>\n",
       "      <th>155</th>\n",
       "      <td>13.4</td>\n",
       "      <td>11.7</td>\n",
       "      <td>12.4</td>\n",
       "      <td>13.5</td>\n",
       "      <td>2.4300</td>\n",
       "      <td>1.2690</td>\n",
       "    </tr>\n",
       "    <tr>\n",
       "      <th>156</th>\n",
       "      <td>12.2</td>\n",
       "      <td>12.1</td>\n",
       "      <td>13.0</td>\n",
       "      <td>13.8</td>\n",
       "      <td>2.2770</td>\n",
       "      <td>1.2558</td>\n",
       "    </tr>\n",
       "    <tr>\n",
       "      <th>157</th>\n",
       "      <td>19.7</td>\n",
       "      <td>13.2</td>\n",
       "      <td>14.3</td>\n",
       "      <td>15.2</td>\n",
       "      <td>2.8728</td>\n",
       "      <td>2.0672</td>\n",
       "    </tr>\n",
       "    <tr>\n",
       "      <th>158</th>\n",
       "      <td>19.9</td>\n",
       "      <td>13.8</td>\n",
       "      <td>15.0</td>\n",
       "      <td>16.2</td>\n",
       "      <td>2.9322</td>\n",
       "      <td>1.8792</td>\n",
       "    </tr>\n",
       "  </tbody>\n",
       "</table>\n",
       "<p>159 rows × 6 columns</p>\n",
       "</div>"
      ],
      "text/plain": [
       "      Cost  Weight  Weight1  Length   Height   Width\n",
       "0    242.0    23.2     25.4    30.0  11.5200  4.0200\n",
       "1    290.0    24.0     26.3    31.2  12.4800  4.3056\n",
       "2    340.0    23.9     26.5    31.1  12.3778  4.6961\n",
       "3    363.0    26.3     29.0    33.5  12.7300  4.4555\n",
       "4    430.0    26.5     29.0    34.0  12.4440  5.1340\n",
       "..     ...     ...      ...     ...      ...     ...\n",
       "154   12.2    11.5     12.2    13.4   2.0904  1.3936\n",
       "155   13.4    11.7     12.4    13.5   2.4300  1.2690\n",
       "156   12.2    12.1     13.0    13.8   2.2770  1.2558\n",
       "157   19.7    13.2     14.3    15.2   2.8728  2.0672\n",
       "158   19.9    13.8     15.0    16.2   2.9322  1.8792\n",
       "\n",
       "[159 rows x 6 columns]"
      ]
     },
     "execution_count": 2,
     "metadata": {},
     "output_type": "execute_result"
    }
   ],
   "source": [
    "Htrain = pd.read_csv(\"Data_1.csv\")\n",
    "Htrain"
   ]
  },
  {
   "cell_type": "code",
   "execution_count": 3,
   "metadata": {},
   "outputs": [
    {
     "data": {
      "text/plain": [
       "(159, 6)"
      ]
     },
     "execution_count": 3,
     "metadata": {},
     "output_type": "execute_result"
    }
   ],
   "source": [
    "# Printing the no of rows and columns\n",
    "Htrain.shape "
   ]
  },
  {
   "cell_type": "code",
   "execution_count": 4,
   "metadata": {},
   "outputs": [
    {
     "data": {
      "text/html": [
       "<div>\n",
       "<style scoped>\n",
       "    .dataframe tbody tr th:only-of-type {\n",
       "        vertical-align: middle;\n",
       "    }\n",
       "\n",
       "    .dataframe tbody tr th {\n",
       "        vertical-align: top;\n",
       "    }\n",
       "\n",
       "    .dataframe thead th {\n",
       "        text-align: right;\n",
       "    }\n",
       "</style>\n",
       "<table border=\"1\" class=\"dataframe\">\n",
       "  <thead>\n",
       "    <tr style=\"text-align: right;\">\n",
       "      <th></th>\n",
       "      <th>Cost</th>\n",
       "      <th>Weight</th>\n",
       "      <th>Weight1</th>\n",
       "      <th>Length</th>\n",
       "      <th>Height</th>\n",
       "      <th>Width</th>\n",
       "    </tr>\n",
       "  </thead>\n",
       "  <tbody>\n",
       "    <tr>\n",
       "      <th>count</th>\n",
       "      <td>159.000000</td>\n",
       "      <td>159.000000</td>\n",
       "      <td>159.000000</td>\n",
       "      <td>159.000000</td>\n",
       "      <td>159.000000</td>\n",
       "      <td>159.000000</td>\n",
       "    </tr>\n",
       "    <tr>\n",
       "      <th>mean</th>\n",
       "      <td>398.326415</td>\n",
       "      <td>26.247170</td>\n",
       "      <td>28.415723</td>\n",
       "      <td>31.227044</td>\n",
       "      <td>8.970994</td>\n",
       "      <td>4.417486</td>\n",
       "    </tr>\n",
       "    <tr>\n",
       "      <th>std</th>\n",
       "      <td>357.978317</td>\n",
       "      <td>9.996441</td>\n",
       "      <td>10.716328</td>\n",
       "      <td>11.610246</td>\n",
       "      <td>4.286208</td>\n",
       "      <td>1.685804</td>\n",
       "    </tr>\n",
       "    <tr>\n",
       "      <th>min</th>\n",
       "      <td>0.000000</td>\n",
       "      <td>7.500000</td>\n",
       "      <td>8.400000</td>\n",
       "      <td>8.800000</td>\n",
       "      <td>1.728400</td>\n",
       "      <td>1.047600</td>\n",
       "    </tr>\n",
       "    <tr>\n",
       "      <th>25%</th>\n",
       "      <td>120.000000</td>\n",
       "      <td>19.050000</td>\n",
       "      <td>21.000000</td>\n",
       "      <td>23.150000</td>\n",
       "      <td>5.944800</td>\n",
       "      <td>3.385650</td>\n",
       "    </tr>\n",
       "    <tr>\n",
       "      <th>50%</th>\n",
       "      <td>273.000000</td>\n",
       "      <td>25.200000</td>\n",
       "      <td>27.300000</td>\n",
       "      <td>29.400000</td>\n",
       "      <td>7.786000</td>\n",
       "      <td>4.248500</td>\n",
       "    </tr>\n",
       "    <tr>\n",
       "      <th>75%</th>\n",
       "      <td>650.000000</td>\n",
       "      <td>32.700000</td>\n",
       "      <td>35.500000</td>\n",
       "      <td>39.650000</td>\n",
       "      <td>12.365900</td>\n",
       "      <td>5.584500</td>\n",
       "    </tr>\n",
       "    <tr>\n",
       "      <th>max</th>\n",
       "      <td>1650.000000</td>\n",
       "      <td>59.000000</td>\n",
       "      <td>63.400000</td>\n",
       "      <td>68.000000</td>\n",
       "      <td>18.957000</td>\n",
       "      <td>8.142000</td>\n",
       "    </tr>\n",
       "  </tbody>\n",
       "</table>\n",
       "</div>"
      ],
      "text/plain": [
       "              Cost      Weight     Weight1      Length      Height       Width\n",
       "count   159.000000  159.000000  159.000000  159.000000  159.000000  159.000000\n",
       "mean    398.326415   26.247170   28.415723   31.227044    8.970994    4.417486\n",
       "std     357.978317    9.996441   10.716328   11.610246    4.286208    1.685804\n",
       "min       0.000000    7.500000    8.400000    8.800000    1.728400    1.047600\n",
       "25%     120.000000   19.050000   21.000000   23.150000    5.944800    3.385650\n",
       "50%     273.000000   25.200000   27.300000   29.400000    7.786000    4.248500\n",
       "75%     650.000000   32.700000   35.500000   39.650000   12.365900    5.584500\n",
       "max    1650.000000   59.000000   63.400000   68.000000   18.957000    8.142000"
      ]
     },
     "execution_count": 4,
     "metadata": {},
     "output_type": "execute_result"
    }
   ],
   "source": [
    "Htrain.describe()"
   ]
  },
  {
   "cell_type": "code",
   "execution_count": 5,
   "metadata": {},
   "outputs": [
    {
     "name": "stdout",
     "output_type": "stream",
     "text": [
      "<class 'pandas.core.frame.DataFrame'>\n",
      "RangeIndex: 159 entries, 0 to 158\n",
      "Data columns (total 6 columns):\n",
      " #   Column   Non-Null Count  Dtype  \n",
      "---  ------   --------------  -----  \n",
      " 0   Cost     159 non-null    float64\n",
      " 1   Weight   159 non-null    float64\n",
      " 2   Weight1  159 non-null    float64\n",
      " 3   Length   159 non-null    float64\n",
      " 4   Height   159 non-null    float64\n",
      " 5   Width    159 non-null    float64\n",
      "dtypes: float64(6)\n",
      "memory usage: 7.6 KB\n"
     ]
    }
   ],
   "source": [
    "# Getting the information about the dataset including missing values, datatype of attributes\n",
    "Htrain.info()"
   ]
  },
  {
   "cell_type": "markdown",
   "metadata": {},
   "source": [
    "**Conclusion**: From here, we can clearly see that:\n",
    "1. There are no missing values in the data.\n",
    "2. After observing the range of the different atrributes, we can conclude that dataset **requires feature scaling** as the range of Weight (7.5 to 59) while Width (1 to 8). This step will be done after data visualisation.\n",
    "3. There are no categorical variables present. Hence, no OneHotEncoding() required.\n"
   ]
  },
  {
   "cell_type": "markdown",
   "metadata": {},
   "source": [
    "Hence, We can continue with visualising the data and finding correlations"
   ]
  },
  {
   "cell_type": "markdown",
   "metadata": {},
   "source": [
    "## 3. Discover and visualise data while finding correlations"
   ]
  },
  {
   "cell_type": "code",
   "execution_count": 6,
   "metadata": {},
   "outputs": [
    {
     "data": {
      "text/plain": [
       "array([[<matplotlib.axes._subplots.AxesSubplot object at 0x00000212F109E3D0>,\n",
       "        <matplotlib.axes._subplots.AxesSubplot object at 0x00000212F1778880>],\n",
       "       [<matplotlib.axes._subplots.AxesSubplot object at 0x00000212F17A8CD0>,\n",
       "        <matplotlib.axes._subplots.AxesSubplot object at 0x00000212F17E3190>],\n",
       "       [<matplotlib.axes._subplots.AxesSubplot object at 0x00000212F18105E0>,\n",
       "        <matplotlib.axes._subplots.AxesSubplot object at 0x00000212F183A970>]],\n",
       "      dtype=object)"
      ]
     },
     "execution_count": 6,
     "metadata": {},
     "output_type": "execute_result"
    },
    {
     "data": {
      "image/png": "[encoded data removed]",
      "text/plain": [
       "<Figure size 1440x1440 with 6 Axes>"
      ]
     },
     "metadata": {
      "needs_background": "light"
     },
     "output_type": "display_data"
    }
   ],
   "source": [
    "#duplicating the main dataset only for visualisation section purpose\n",
    "H_vis = Htrain.copy()\n",
    "\n",
    "#gives you the histogram for various attributes\n",
    "H_vis.hist(bins=20, figsize = (20,20))"
   ]
  },
  {
   "cell_type": "code",
   "execution_count": 7,
   "metadata": {},
   "outputs": [],
   "source": [
    "#creating a correlation matrix of all the features/attributes\n",
    "corr_matrix = H_vis.corr()\n"
   ]
  },
  {
   "cell_type": "code",
   "execution_count": 8,
   "metadata": {},
   "outputs": [
    {
     "data": {
      "text/html": [
       "<div>\n",
       "<style scoped>\n",
       "    .dataframe tbody tr th:only-of-type {\n",
       "        vertical-align: middle;\n",
       "    }\n",
       "\n",
       "    .dataframe tbody tr th {\n",
       "        vertical-align: top;\n",
       "    }\n",
       "\n",
       "    .dataframe thead th {\n",
       "        text-align: right;\n",
       "    }\n",
       "</style>\n",
       "<table border=\"1\" class=\"dataframe\">\n",
       "  <thead>\n",
       "    <tr style=\"text-align: right;\">\n",
       "      <th></th>\n",
       "      <th>Cost</th>\n",
       "    </tr>\n",
       "  </thead>\n",
       "  <tbody>\n",
       "    <tr>\n",
       "      <th>Cost</th>\n",
       "      <td>1.000000</td>\n",
       "    </tr>\n",
       "    <tr>\n",
       "      <th>Weight</th>\n",
       "      <td>0.915712</td>\n",
       "    </tr>\n",
       "    <tr>\n",
       "      <th>Weight1</th>\n",
       "      <td>0.918618</td>\n",
       "    </tr>\n",
       "    <tr>\n",
       "      <th>Length</th>\n",
       "      <td>0.923044</td>\n",
       "    </tr>\n",
       "    <tr>\n",
       "      <th>Height</th>\n",
       "      <td>0.724345</td>\n",
       "    </tr>\n",
       "    <tr>\n",
       "      <th>Width</th>\n",
       "      <td>0.886507</td>\n",
       "    </tr>\n",
       "  </tbody>\n",
       "</table>\n",
       "</div>"
      ],
      "text/plain": [
       "             Cost\n",
       "Cost     1.000000\n",
       "Weight   0.915712\n",
       "Weight1  0.918618\n",
       "Length   0.923044\n",
       "Height   0.724345\n",
       "Width    0.886507"
      ]
     },
     "execution_count": 8,
     "metadata": {},
     "output_type": "execute_result"
    }
   ],
   "source": [
    "#print the correlation of cost with all the independent variables\n",
    "corr_matrix[['Cost']]"
   ]
  },
  {
   "cell_type": "markdown",
   "metadata": {},
   "source": [
    "Here, We can clearly see that **Cost - dependent variable** is very strongly related with all the **independent variables - (Height, width, length, Weight, weight 1)** (Correlation is higher than 0.8).  The maximum correlation is with the length (**0.923044**)"
   ]
  },
  {
   "cell_type": "markdown",
   "metadata": {},
   "source": [
    "Hence multiple linear regression has to be performed "
   ]
  },
  {
   "cell_type": "code",
   "execution_count": 9,
   "metadata": {},
   "outputs": [
    {
     "data": {
      "text/html": [
       "<div>\n",
       "<style scoped>\n",
       "    .dataframe tbody tr th:only-of-type {\n",
       "        vertical-align: middle;\n",
       "    }\n",
       "\n",
       "    .dataframe tbody tr th {\n",
       "        vertical-align: top;\n",
       "    }\n",
       "\n",
       "    .dataframe thead th {\n",
       "        text-align: right;\n",
       "    }\n",
       "</style>\n",
       "<table border=\"1\" class=\"dataframe\">\n",
       "  <thead>\n",
       "    <tr style=\"text-align: right;\">\n",
       "      <th></th>\n",
       "      <th>Cost</th>\n",
       "      <th>Weight</th>\n",
       "      <th>Weight1</th>\n",
       "      <th>Length</th>\n",
       "      <th>Height</th>\n",
       "      <th>Width</th>\n",
       "    </tr>\n",
       "  </thead>\n",
       "  <tbody>\n",
       "    <tr>\n",
       "      <th>Cost</th>\n",
       "      <td>1.000000</td>\n",
       "      <td>0.915712</td>\n",
       "      <td>0.918618</td>\n",
       "      <td>0.923044</td>\n",
       "      <td>0.724345</td>\n",
       "      <td>0.886507</td>\n",
       "    </tr>\n",
       "    <tr>\n",
       "      <th>Weight</th>\n",
       "      <td>0.915712</td>\n",
       "      <td>1.000000</td>\n",
       "      <td>0.999517</td>\n",
       "      <td>0.992031</td>\n",
       "      <td>0.625378</td>\n",
       "      <td>0.867050</td>\n",
       "    </tr>\n",
       "    <tr>\n",
       "      <th>Weight1</th>\n",
       "      <td>0.918618</td>\n",
       "      <td>0.999517</td>\n",
       "      <td>1.000000</td>\n",
       "      <td>0.994103</td>\n",
       "      <td>0.640441</td>\n",
       "      <td>0.873547</td>\n",
       "    </tr>\n",
       "    <tr>\n",
       "      <th>Length</th>\n",
       "      <td>0.923044</td>\n",
       "      <td>0.992031</td>\n",
       "      <td>0.994103</td>\n",
       "      <td>1.000000</td>\n",
       "      <td>0.703409</td>\n",
       "      <td>0.878520</td>\n",
       "    </tr>\n",
       "    <tr>\n",
       "      <th>Height</th>\n",
       "      <td>0.724345</td>\n",
       "      <td>0.625378</td>\n",
       "      <td>0.640441</td>\n",
       "      <td>0.703409</td>\n",
       "      <td>1.000000</td>\n",
       "      <td>0.792881</td>\n",
       "    </tr>\n",
       "    <tr>\n",
       "      <th>Width</th>\n",
       "      <td>0.886507</td>\n",
       "      <td>0.867050</td>\n",
       "      <td>0.873547</td>\n",
       "      <td>0.878520</td>\n",
       "      <td>0.792881</td>\n",
       "      <td>1.000000</td>\n",
       "    </tr>\n",
       "  </tbody>\n",
       "</table>\n",
       "</div>"
      ],
      "text/plain": [
       "             Cost    Weight   Weight1    Length    Height     Width\n",
       "Cost     1.000000  0.915712  0.918618  0.923044  0.724345  0.886507\n",
       "Weight   0.915712  1.000000  0.999517  0.992031  0.625378  0.867050\n",
       "Weight1  0.918618  0.999517  1.000000  0.994103  0.640441  0.873547\n",
       "Length   0.923044  0.992031  0.994103  1.000000  0.703409  0.878520\n",
       "Height   0.724345  0.625378  0.640441  0.703409  1.000000  0.792881\n",
       "Width    0.886507  0.867050  0.873547  0.878520  0.792881  1.000000"
      ]
     },
     "execution_count": 9,
     "metadata": {},
     "output_type": "execute_result"
    }
   ],
   "source": [
    "corr_matrix"
   ]
  },
  {
   "cell_type": "markdown",
   "metadata": {},
   "source": [
    "From the above matrix, The following correlations will be shown graphically using a scatter plot:\n",
    "1. Weight Vs Weight 1 (0.999517 - maximum +ve correlation among all possibilities)\n",
    "2. Cost vs Length (0.923044 - maximum +ve correlation between dependent and independent variable)\n",
    "3. Height vs Weight (0.635378 - minimum +ve correlation)\n",
    "4. Cost vs Height (0.724345 - minimum +ve correlation between dependent and independent variable)"
   ]
  },
  {
   "cell_type": "markdown",
   "metadata": {},
   "source": [
    "### 1. Weight Vs Weight1 (0.999517 - maximum)"
   ]
  },
  {
   "cell_type": "code",
   "execution_count": 10,
   "metadata": {},
   "outputs": [
    {
     "data": {
      "text/plain": [
       "<matplotlib.axes._subplots.AxesSubplot at 0x212f22bcdf0>"
      ]
     },
     "execution_count": 10,
     "metadata": {},
     "output_type": "execute_result"
    },
    {
     "data": {
      "image/png": "[encoded data removed]",
      "text/plain": [
       "<Figure size 432x288 with 1 Axes>"
      ]
     },
     "metadata": {
      "needs_background": "light"
     },
     "output_type": "display_data"
    }
   ],
   "source": [
    "H_vis.plot(kind=\"scatter\", x=\"Weight\", y=\"Weight1\",alpha=0.5)"
   ]
  },
  {
   "cell_type": "markdown",
   "metadata": {},
   "source": [
    "### 2. Cost vs Length (0.923044 - maximum between dependent and independent variable)"
   ]
  },
  {
   "cell_type": "code",
   "execution_count": 11,
   "metadata": {},
   "outputs": [
    {
     "data": {
      "text/plain": [
       "<matplotlib.axes._subplots.AxesSubplot at 0x212f2866670>"
      ]
     },
     "execution_count": 11,
     "metadata": {},
     "output_type": "execute_result"
    },
    {
     "data": {
      "image/png": "[encoded data removed]",
      "text/plain": [
       "<Figure size 432x288 with 1 Axes>"
      ]
     },
     "metadata": {
      "needs_background": "light"
     },
     "output_type": "display_data"
    }
   ],
   "source": [
    "H_vis.plot(kind=\"scatter\", x=\"Cost\", y=\"Length\",alpha=1)"
   ]
  },
  {
   "cell_type": "markdown",
   "metadata": {},
   "source": [
    "### 3. Height vs Weight (0.635378 - minimum)"
   ]
  },
  {
   "cell_type": "code",
   "execution_count": 12,
   "metadata": {},
   "outputs": [
    {
     "data": {
      "text/plain": [
       "<matplotlib.axes._subplots.AxesSubplot at 0x212f28c89d0>"
      ]
     },
     "execution_count": 12,
     "metadata": {},
     "output_type": "execute_result"
    },
    {
     "data": {
      "image/png": "[encoded data removed]",
      "text/plain": [
       "<Figure size 432x288 with 1 Axes>"
      ]
     },
     "metadata": {
      "needs_background": "light"
     },
     "output_type": "display_data"
    }
   ],
   "source": [
    "H_vis.plot(kind=\"scatter\", x=\"Height\", y=\"Weight\",alpha=1)"
   ]
  },
  {
   "cell_type": "markdown",
   "metadata": {},
   "source": [
    "### 4. Cost vs Height (0.724345 - minimum between dependent and independent variable)"
   ]
  },
  {
   "cell_type": "code",
   "execution_count": 13,
   "metadata": {
    "scrolled": true
   },
   "outputs": [
    {
     "data": {
      "text/plain": [
       "<matplotlib.axes._subplots.AxesSubplot at 0x212f2910880>"
      ]
     },
     "execution_count": 13,
     "metadata": {},
     "output_type": "execute_result"
    },
    {
     "data": {
      "image/png": "[encoded data removed]",
      "text/plain": [
       "<Figure size 432x288 with 1 Axes>"
      ]
     },
     "metadata": {
      "needs_background": "light"
     },
     "output_type": "display_data"
    }
   ],
   "source": [
    "H_vis.plot(kind=\"scatter\", x=\"Cost\", y=\"Height\",alpha=1)"
   ]
  },
  {
   "cell_type": "markdown",
   "metadata": {},
   "source": [
    "## 4. Data Preprocessing: Feature Scaling"
   ]
  },
  {
   "cell_type": "markdown",
   "metadata": {},
   "source": [
    "Standardising the independent variables as Machine learning algorithms don’t perform well when the input numerical attributes have\n",
    "very different scales"
   ]
  },
  {
   "cell_type": "code",
   "execution_count": 14,
   "metadata": {},
   "outputs": [],
   "source": [
    "#importing Standard scaler class fron sklearn preprocessing module\n",
    "from sklearn.preprocessing import StandardScaler\n",
    "\n",
    "#creating an object of the class StandardScaler\n",
    "std_scaler = StandardScaler()"
   ]
  },
  {
   "cell_type": "code",
   "execution_count": 15,
   "metadata": {
    "scrolled": true
   },
   "outputs": [
    {
     "data": {
      "text/html": [
       "<div>\n",
       "<style scoped>\n",
       "    .dataframe tbody tr th:only-of-type {\n",
       "        vertical-align: middle;\n",
       "    }\n",
       "\n",
       "    .dataframe tbody tr th {\n",
       "        vertical-align: top;\n",
       "    }\n",
       "\n",
       "    .dataframe thead th {\n",
       "        text-align: right;\n",
       "    }\n",
       "</style>\n",
       "<table border=\"1\" class=\"dataframe\">\n",
       "  <thead>\n",
       "    <tr style=\"text-align: right;\">\n",
       "      <th></th>\n",
       "      <th>Weight</th>\n",
       "      <th>Weight1</th>\n",
       "      <th>Length</th>\n",
       "      <th>Height</th>\n",
       "      <th>Width</th>\n",
       "    </tr>\n",
       "  </thead>\n",
       "  <tbody>\n",
       "    <tr>\n",
       "      <th>0</th>\n",
       "      <td>23.2</td>\n",
       "      <td>25.4</td>\n",
       "      <td>30.0</td>\n",
       "      <td>11.5200</td>\n",
       "      <td>4.0200</td>\n",
       "    </tr>\n",
       "    <tr>\n",
       "      <th>1</th>\n",
       "      <td>24.0</td>\n",
       "      <td>26.3</td>\n",
       "      <td>31.2</td>\n",
       "      <td>12.4800</td>\n",
       "      <td>4.3056</td>\n",
       "    </tr>\n",
       "    <tr>\n",
       "      <th>2</th>\n",
       "      <td>23.9</td>\n",
       "      <td>26.5</td>\n",
       "      <td>31.1</td>\n",
       "      <td>12.3778</td>\n",
       "      <td>4.6961</td>\n",
       "    </tr>\n",
       "    <tr>\n",
       "      <th>3</th>\n",
       "      <td>26.3</td>\n",
       "      <td>29.0</td>\n",
       "      <td>33.5</td>\n",
       "      <td>12.7300</td>\n",
       "      <td>4.4555</td>\n",
       "    </tr>\n",
       "    <tr>\n",
       "      <th>4</th>\n",
       "      <td>26.5</td>\n",
       "      <td>29.0</td>\n",
       "      <td>34.0</td>\n",
       "      <td>12.4440</td>\n",
       "      <td>5.1340</td>\n",
       "    </tr>\n",
       "    <tr>\n",
       "      <th>...</th>\n",
       "      <td>...</td>\n",
       "      <td>...</td>\n",
       "      <td>...</td>\n",
       "      <td>...</td>\n",
       "      <td>...</td>\n",
       "    </tr>\n",
       "    <tr>\n",
       "      <th>154</th>\n",
       "      <td>11.5</td>\n",
       "      <td>12.2</td>\n",
       "      <td>13.4</td>\n",
       "      <td>2.0904</td>\n",
       "      <td>1.3936</td>\n",
       "    </tr>\n",
       "    <tr>\n",
       "      <th>155</th>\n",
       "      <td>11.7</td>\n",
       "      <td>12.4</td>\n",
       "      <td>13.5</td>\n",
       "      <td>2.4300</td>\n",
       "      <td>1.2690</td>\n",
       "    </tr>\n",
       "    <tr>\n",
       "      <th>156</th>\n",
       "      <td>12.1</td>\n",
       "      <td>13.0</td>\n",
       "      <td>13.8</td>\n",
       "      <td>2.2770</td>\n",
       "      <td>1.2558</td>\n",
       "    </tr>\n",
       "    <tr>\n",
       "      <th>157</th>\n",
       "      <td>13.2</td>\n",
       "      <td>14.3</td>\n",
       "      <td>15.2</td>\n",
       "      <td>2.8728</td>\n",
       "      <td>2.0672</td>\n",
       "    </tr>\n",
       "    <tr>\n",
       "      <th>158</th>\n",
       "      <td>13.8</td>\n",
       "      <td>15.0</td>\n",
       "      <td>16.2</td>\n",
       "      <td>2.9322</td>\n",
       "      <td>1.8792</td>\n",
       "    </tr>\n",
       "  </tbody>\n",
       "</table>\n",
       "<p>159 rows × 5 columns</p>\n",
       "</div>"
      ],
      "text/plain": [
       "     Weight  Weight1  Length   Height   Width\n",
       "0      23.2     25.4    30.0  11.5200  4.0200\n",
       "1      24.0     26.3    31.2  12.4800  4.3056\n",
       "2      23.9     26.5    31.1  12.3778  4.6961\n",
       "3      26.3     29.0    33.5  12.7300  4.4555\n",
       "4      26.5     29.0    34.0  12.4440  5.1340\n",
       "..      ...      ...     ...      ...     ...\n",
       "154    11.5     12.2    13.4   2.0904  1.3936\n",
       "155    11.7     12.4    13.5   2.4300  1.2690\n",
       "156    12.1     13.0    13.8   2.2770  1.2558\n",
       "157    13.2     14.3    15.2   2.8728  2.0672\n",
       "158    13.8     15.0    16.2   2.9322  1.8792\n",
       "\n",
       "[159 rows x 5 columns]"
      ]
     },
     "execution_count": 15,
     "metadata": {},
     "output_type": "execute_result"
    }
   ],
   "source": [
    "#separating independent variables to be scaled before training the data\n",
    "X_unscaled = Htrain.drop('Cost', axis = 1)\n",
    "X_unscaled"
   ]
  },
  {
   "cell_type": "code",
   "execution_count": 16,
   "metadata": {
    "scrolled": false
   },
   "outputs": [
    {
     "data": {
      "text/plain": [
       "StandardScaler()"
      ]
     },
     "execution_count": 16,
     "metadata": {},
     "output_type": "execute_result"
    }
   ],
   "source": [
    "std_scaler.fit(X_unscaled)"
   ]
  },
  {
   "cell_type": "code",
   "execution_count": 17,
   "metadata": {
    "scrolled": false
   },
   "outputs": [
    {
     "data": {
      "text/html": [
       "<div>\n",
       "<style scoped>\n",
       "    .dataframe tbody tr th:only-of-type {\n",
       "        vertical-align: middle;\n",
       "    }\n",
       "\n",
       "    .dataframe tbody tr th {\n",
       "        vertical-align: top;\n",
       "    }\n",
       "\n",
       "    .dataframe thead th {\n",
       "        text-align: right;\n",
       "    }\n",
       "</style>\n",
       "<table border=\"1\" class=\"dataframe\">\n",
       "  <thead>\n",
       "    <tr style=\"text-align: right;\">\n",
       "      <th></th>\n",
       "      <th>Weight</th>\n",
       "      <th>Weight1</th>\n",
       "      <th>Length</th>\n",
       "      <th>Height</th>\n",
       "      <th>Width</th>\n",
       "    </tr>\n",
       "  </thead>\n",
       "  <tbody>\n",
       "    <tr>\n",
       "      <th>count</th>\n",
       "      <td>1.590000e+02</td>\n",
       "      <td>1.590000e+02</td>\n",
       "      <td>1.590000e+02</td>\n",
       "      <td>1.590000e+02</td>\n",
       "      <td>1.590000e+02</td>\n",
       "    </tr>\n",
       "    <tr>\n",
       "      <th>mean</th>\n",
       "      <td>-1.564088e-16</td>\n",
       "      <td>-1.326682e-16</td>\n",
       "      <td>1.955110e-17</td>\n",
       "      <td>-9.496247e-17</td>\n",
       "      <td>-2.290271e-16</td>\n",
       "    </tr>\n",
       "    <tr>\n",
       "      <th>std</th>\n",
       "      <td>1.003160e+00</td>\n",
       "      <td>1.003160e+00</td>\n",
       "      <td>1.003160e+00</td>\n",
       "      <td>1.003160e+00</td>\n",
       "      <td>1.003160e+00</td>\n",
       "    </tr>\n",
       "    <tr>\n",
       "      <th>min</th>\n",
       "      <td>-1.881310e+00</td>\n",
       "      <td>-1.873679e+00</td>\n",
       "      <td>-1.937763e+00</td>\n",
       "      <td>-1.695083e+00</td>\n",
       "      <td>-2.005294e+00</td>\n",
       "    </tr>\n",
       "    <tr>\n",
       "      <th>25%</th>\n",
       "      <td>-7.222480e-01</td>\n",
       "      <td>-6.941887e-01</td>\n",
       "      <td>-6.978805e-01</td>\n",
       "      <td>-7.082613e-01</td>\n",
       "      <td>-6.140072e-01</td>\n",
       "    </tr>\n",
       "    <tr>\n",
       "      <th>50%</th>\n",
       "      <td>-1.050852e-01</td>\n",
       "      <td>-1.044433e-01</td>\n",
       "      <td>-1.578620e-01</td>\n",
       "      <td>-2.773402e-01</td>\n",
       "      <td>-1.005570e-01</td>\n",
       "    </tr>\n",
       "    <tr>\n",
       "      <th>75%</th>\n",
       "      <td>6.475523e-01</td>\n",
       "      <td>6.631618e-01</td>\n",
       "      <td>7.277683e-01</td>\n",
       "      <td>7.945562e-01</td>\n",
       "      <td>6.944472e-01</td>\n",
       "    </tr>\n",
       "    <tr>\n",
       "      <th>max</th>\n",
       "      <td>3.286801e+00</td>\n",
       "      <td>3.274892e+00</td>\n",
       "      <td>3.177292e+00</td>\n",
       "      <td>2.337161e+00</td>\n",
       "      <td>2.216321e+00</td>\n",
       "    </tr>\n",
       "  </tbody>\n",
       "</table>\n",
       "</div>"
      ],
      "text/plain": [
       "             Weight       Weight1        Length        Height         Width\n",
       "count  1.590000e+02  1.590000e+02  1.590000e+02  1.590000e+02  1.590000e+02\n",
       "mean  -1.564088e-16 -1.326682e-16  1.955110e-17 -9.496247e-17 -2.290271e-16\n",
       "std    1.003160e+00  1.003160e+00  1.003160e+00  1.003160e+00  1.003160e+00\n",
       "min   -1.881310e+00 -1.873679e+00 -1.937763e+00 -1.695083e+00 -2.005294e+00\n",
       "25%   -7.222480e-01 -6.941887e-01 -6.978805e-01 -7.082613e-01 -6.140072e-01\n",
       "50%   -1.050852e-01 -1.044433e-01 -1.578620e-01 -2.773402e-01 -1.005570e-01\n",
       "75%    6.475523e-01  6.631618e-01  7.277683e-01  7.945562e-01  6.944472e-01\n",
       "max    3.286801e+00  3.274892e+00  3.177292e+00  2.337161e+00  2.216321e+00"
      ]
     },
     "execution_count": 17,
     "metadata": {},
     "output_type": "execute_result"
    }
   ],
   "source": [
    "scaled_values = std_scaler.transform(X_unscaled)\n",
    "\n",
    "#converting the array obtained of the scaled values to a dataframe\n",
    "X_scaled = pd.DataFrame(scaled_values)\n",
    "\n",
    "#Labelling the columns\n",
    "X_scaled.columns = ['Weight', 'Weight1', 'Length', 'Height', 'Width']\n",
    "\n",
    "X_scaled.describe()"
   ]
  },
  {
   "cell_type": "code",
   "execution_count": 18,
   "metadata": {
    "scrolled": true
   },
   "outputs": [
    {
     "data": {
      "text/html": [
       "<div>\n",
       "<style scoped>\n",
       "    .dataframe tbody tr th:only-of-type {\n",
       "        vertical-align: middle;\n",
       "    }\n",
       "\n",
       "    .dataframe tbody tr th {\n",
       "        vertical-align: top;\n",
       "    }\n",
       "\n",
       "    .dataframe thead th {\n",
       "        text-align: right;\n",
       "    }\n",
       "</style>\n",
       "<table border=\"1\" class=\"dataframe\">\n",
       "  <thead>\n",
       "    <tr style=\"text-align: right;\">\n",
       "      <th></th>\n",
       "      <th>Weight</th>\n",
       "      <th>Weight1</th>\n",
       "      <th>Length</th>\n",
       "      <th>Height</th>\n",
       "      <th>Width</th>\n",
       "    </tr>\n",
       "  </thead>\n",
       "  <tbody>\n",
       "    <tr>\n",
       "      <th>0</th>\n",
       "      <td>-0.305789</td>\n",
       "      <td>-0.282303</td>\n",
       "      <td>-0.106020</td>\n",
       "      <td>0.596579</td>\n",
       "      <td>-0.236529</td>\n",
       "    </tr>\n",
       "    <tr>\n",
       "      <th>1</th>\n",
       "      <td>-0.225507</td>\n",
       "      <td>-0.198054</td>\n",
       "      <td>-0.002337</td>\n",
       "      <td>0.821261</td>\n",
       "      <td>-0.066579</td>\n",
       "    </tr>\n",
       "    <tr>\n",
       "      <th>2</th>\n",
       "      <td>-0.235542</td>\n",
       "      <td>-0.179332</td>\n",
       "      <td>-0.010977</td>\n",
       "      <td>0.797341</td>\n",
       "      <td>0.165793</td>\n",
       "    </tr>\n",
       "    <tr>\n",
       "      <th>3</th>\n",
       "      <td>0.005302</td>\n",
       "      <td>0.054694</td>\n",
       "      <td>0.196390</td>\n",
       "      <td>0.879771</td>\n",
       "      <td>0.022621</td>\n",
       "    </tr>\n",
       "    <tr>\n",
       "      <th>4</th>\n",
       "      <td>0.025372</td>\n",
       "      <td>0.054694</td>\n",
       "      <td>0.239592</td>\n",
       "      <td>0.812835</td>\n",
       "      <td>0.426371</td>\n",
       "    </tr>\n",
       "    <tr>\n",
       "      <th>...</th>\n",
       "      <td>...</td>\n",
       "      <td>...</td>\n",
       "      <td>...</td>\n",
       "      <td>...</td>\n",
       "      <td>...</td>\n",
       "    </tr>\n",
       "    <tr>\n",
       "      <th>154</th>\n",
       "      <td>-1.479903</td>\n",
       "      <td>-1.517960</td>\n",
       "      <td>-1.540309</td>\n",
       "      <td>-1.610359</td>\n",
       "      <td>-1.799403</td>\n",
       "    </tr>\n",
       "    <tr>\n",
       "      <th>155</th>\n",
       "      <td>-1.459833</td>\n",
       "      <td>-1.499238</td>\n",
       "      <td>-1.531669</td>\n",
       "      <td>-1.530878</td>\n",
       "      <td>-1.873547</td>\n",
       "    </tr>\n",
       "    <tr>\n",
       "      <th>156</th>\n",
       "      <td>-1.419692</td>\n",
       "      <td>-1.443072</td>\n",
       "      <td>-1.505748</td>\n",
       "      <td>-1.566687</td>\n",
       "      <td>-1.881402</td>\n",
       "    </tr>\n",
       "    <tr>\n",
       "      <th>157</th>\n",
       "      <td>-1.309305</td>\n",
       "      <td>-1.321378</td>\n",
       "      <td>-1.384784</td>\n",
       "      <td>-1.427243</td>\n",
       "      <td>-1.398568</td>\n",
       "    </tr>\n",
       "    <tr>\n",
       "      <th>158</th>\n",
       "      <td>-1.249094</td>\n",
       "      <td>-1.255851</td>\n",
       "      <td>-1.298381</td>\n",
       "      <td>-1.413341</td>\n",
       "      <td>-1.510440</td>\n",
       "    </tr>\n",
       "  </tbody>\n",
       "</table>\n",
       "<p>159 rows × 5 columns</p>\n",
       "</div>"
      ],
      "text/plain": [
       "       Weight   Weight1    Length    Height     Width\n",
       "0   -0.305789 -0.282303 -0.106020  0.596579 -0.236529\n",
       "1   -0.225507 -0.198054 -0.002337  0.821261 -0.066579\n",
       "2   -0.235542 -0.179332 -0.010977  0.797341  0.165793\n",
       "3    0.005302  0.054694  0.196390  0.879771  0.022621\n",
       "4    0.025372  0.054694  0.239592  0.812835  0.426371\n",
       "..        ...       ...       ...       ...       ...\n",
       "154 -1.479903 -1.517960 -1.540309 -1.610359 -1.799403\n",
       "155 -1.459833 -1.499238 -1.531669 -1.530878 -1.873547\n",
       "156 -1.419692 -1.443072 -1.505748 -1.566687 -1.881402\n",
       "157 -1.309305 -1.321378 -1.384784 -1.427243 -1.398568\n",
       "158 -1.249094 -1.255851 -1.298381 -1.413341 -1.510440\n",
       "\n",
       "[159 rows x 5 columns]"
      ]
     },
     "execution_count": 18,
     "metadata": {},
     "output_type": "execute_result"
    }
   ],
   "source": [
    "X_scaled"
   ]
  },
  {
   "cell_type": "markdown",
   "metadata": {},
   "source": [
    "## 5. Splitting the dataset into independent (x) and dependent (y) variables."
   ]
  },
  {
   "cell_type": "markdown",
   "metadata": {},
   "source": [
    "Independent Variables (X) = Weight, Weight 1, Height, Length, Width\n",
    "\n",
    "Depnedent Variable (Y) = Cost (Which we want to predict)"
   ]
  },
  {
   "cell_type": "code",
   "execution_count": 19,
   "metadata": {},
   "outputs": [
    {
     "data": {
      "text/html": [
       "<div>\n",
       "<style scoped>\n",
       "    .dataframe tbody tr th:only-of-type {\n",
       "        vertical-align: middle;\n",
       "    }\n",
       "\n",
       "    .dataframe tbody tr th {\n",
       "        vertical-align: top;\n",
       "    }\n",
       "\n",
       "    .dataframe thead th {\n",
       "        text-align: right;\n",
       "    }\n",
       "</style>\n",
       "<table border=\"1\" class=\"dataframe\">\n",
       "  <thead>\n",
       "    <tr style=\"text-align: right;\">\n",
       "      <th></th>\n",
       "      <th>Weight</th>\n",
       "      <th>Weight1</th>\n",
       "      <th>Length</th>\n",
       "      <th>Height</th>\n",
       "      <th>Width</th>\n",
       "    </tr>\n",
       "  </thead>\n",
       "  <tbody>\n",
       "    <tr>\n",
       "      <th>0</th>\n",
       "      <td>-0.305789</td>\n",
       "      <td>-0.282303</td>\n",
       "      <td>-0.106020</td>\n",
       "      <td>0.596579</td>\n",
       "      <td>-0.236529</td>\n",
       "    </tr>\n",
       "    <tr>\n",
       "      <th>1</th>\n",
       "      <td>-0.225507</td>\n",
       "      <td>-0.198054</td>\n",
       "      <td>-0.002337</td>\n",
       "      <td>0.821261</td>\n",
       "      <td>-0.066579</td>\n",
       "    </tr>\n",
       "    <tr>\n",
       "      <th>2</th>\n",
       "      <td>-0.235542</td>\n",
       "      <td>-0.179332</td>\n",
       "      <td>-0.010977</td>\n",
       "      <td>0.797341</td>\n",
       "      <td>0.165793</td>\n",
       "    </tr>\n",
       "    <tr>\n",
       "      <th>3</th>\n",
       "      <td>0.005302</td>\n",
       "      <td>0.054694</td>\n",
       "      <td>0.196390</td>\n",
       "      <td>0.879771</td>\n",
       "      <td>0.022621</td>\n",
       "    </tr>\n",
       "    <tr>\n",
       "      <th>4</th>\n",
       "      <td>0.025372</td>\n",
       "      <td>0.054694</td>\n",
       "      <td>0.239592</td>\n",
       "      <td>0.812835</td>\n",
       "      <td>0.426371</td>\n",
       "    </tr>\n",
       "  </tbody>\n",
       "</table>\n",
       "</div>"
      ],
      "text/plain": [
       "     Weight   Weight1    Length    Height     Width\n",
       "0 -0.305789 -0.282303 -0.106020  0.596579 -0.236529\n",
       "1 -0.225507 -0.198054 -0.002337  0.821261 -0.066579\n",
       "2 -0.235542 -0.179332 -0.010977  0.797341  0.165793\n",
       "3  0.005302  0.054694  0.196390  0.879771  0.022621\n",
       "4  0.025372  0.054694  0.239592  0.812835  0.426371"
      ]
     },
     "execution_count": 19,
     "metadata": {},
     "output_type": "execute_result"
    }
   ],
   "source": [
    "#Independent variable traning set (X_train) is equal to the scaled values of X (X_scaled)\n",
    "X_train = X_scaled.copy()\n",
    "X_train.head()"
   ]
  },
  {
   "cell_type": "code",
   "execution_count": 20,
   "metadata": {},
   "outputs": [
    {
     "data": {
      "text/plain": [
       "(159, 5)"
      ]
     },
     "execution_count": 20,
     "metadata": {},
     "output_type": "execute_result"
    }
   ],
   "source": [
    "X_train.shape"
   ]
  },
  {
   "cell_type": "code",
   "execution_count": 21,
   "metadata": {},
   "outputs": [
    {
     "data": {
      "text/plain": [
       "0      242.0\n",
       "1      290.0\n",
       "2      340.0\n",
       "3      363.0\n",
       "4      430.0\n",
       "       ...  \n",
       "154     12.2\n",
       "155     13.4\n",
       "156     12.2\n",
       "157     19.7\n",
       "158     19.9\n",
       "Name: Cost, Length: 159, dtype: float64"
      ]
     },
     "execution_count": 21,
     "metadata": {},
     "output_type": "execute_result"
    }
   ],
   "source": [
    "#Dependent Variable\n",
    "y_train = Htrain['Cost']\n",
    "y_train"
   ]
  },
  {
   "cell_type": "code",
   "execution_count": 22,
   "metadata": {},
   "outputs": [
    {
     "data": {
      "text/plain": [
       "(159,)"
      ]
     },
     "execution_count": 22,
     "metadata": {},
     "output_type": "execute_result"
    }
   ],
   "source": [
    "y_train.shape"
   ]
  },
  {
   "cell_type": "markdown",
   "metadata": {},
   "source": [
    "## 5. Multiple linear regression model creation"
   ]
  },
  {
   "cell_type": "markdown",
   "metadata": {},
   "source": [
    "### A.  Without feature selectiom (Considering all independent variables (Attributes))"
   ]
  },
  {
   "cell_type": "code",
   "execution_count": 23,
   "metadata": {},
   "outputs": [],
   "source": [
    "model_all = LinearRegression()"
   ]
  },
  {
   "cell_type": "code",
   "execution_count": 24,
   "metadata": {},
   "outputs": [
    {
     "data": {
      "text/plain": [
       "LinearRegression()"
      ]
     },
     "execution_count": 24,
     "metadata": {},
     "output_type": "execute_result"
    }
   ],
   "source": [
    "# multiple linear regression model is created by fit method of the class LineaRegression\n",
    "model_all.fit(X_train, y_train)"
   ]
  },
  {
   "cell_type": "code",
   "execution_count": 25,
   "metadata": {},
   "outputs": [
    {
     "data": {
      "text/plain": [
       "array([ 621.36698553,  -69.72252823, -335.9401089 ,  120.90631145,\n",
       "         37.76626234])"
      ]
     },
     "execution_count": 25,
     "metadata": {},
     "output_type": "execute_result"
    }
   ],
   "source": [
    "# gives coefficients of various independent variables (i.e. column names of X_train)\n",
    "model_all.coef_"
   ]
  },
  {
   "cell_type": "code",
   "execution_count": 26,
   "metadata": {},
   "outputs": [
    {
     "data": {
      "text/html": [
       "<div>\n",
       "<style scoped>\n",
       "    .dataframe tbody tr th:only-of-type {\n",
       "        vertical-align: middle;\n",
       "    }\n",
       "\n",
       "    .dataframe tbody tr th {\n",
       "        vertical-align: top;\n",
       "    }\n",
       "\n",
       "    .dataframe thead th {\n",
       "        text-align: right;\n",
       "    }\n",
       "</style>\n",
       "<table border=\"1\" class=\"dataframe\">\n",
       "  <thead>\n",
       "    <tr style=\"text-align: right;\">\n",
       "      <th></th>\n",
       "      <th>Coefficients after considering all attrinutes</th>\n",
       "    </tr>\n",
       "  </thead>\n",
       "  <tbody>\n",
       "    <tr>\n",
       "      <th>Weight</th>\n",
       "      <td>621.366986</td>\n",
       "    </tr>\n",
       "    <tr>\n",
       "      <th>Weight1</th>\n",
       "      <td>-69.722528</td>\n",
       "    </tr>\n",
       "    <tr>\n",
       "      <th>Length</th>\n",
       "      <td>-335.940109</td>\n",
       "    </tr>\n",
       "    <tr>\n",
       "      <th>Height</th>\n",
       "      <td>120.906311</td>\n",
       "    </tr>\n",
       "    <tr>\n",
       "      <th>Width</th>\n",
       "      <td>37.766262</td>\n",
       "    </tr>\n",
       "  </tbody>\n",
       "</table>\n",
       "</div>"
      ],
      "text/plain": [
       "         Coefficients after considering all attrinutes\n",
       "Weight                                      621.366986\n",
       "Weight1                                     -69.722528\n",
       "Length                                     -335.940109\n",
       "Height                                      120.906311\n",
       "Width                                        37.766262"
      ]
     },
     "execution_count": 26,
     "metadata": {},
     "output_type": "execute_result"
    }
   ],
   "source": [
    "# creation of the dataframe of coefficient for better representation\n",
    "model_all_coeff = pd.DataFrame(model_all.coef_)\n",
    "\n",
    "#labelling column\n",
    "model_all_coeff.columns = ['Coefficients after considering all attrinutes']\n",
    "\n",
    "#'labelling rows = independent variable'\n",
    "model_all_coeff.index = ['Weight', 'Weight1', 'Length', 'Height', 'Width']\n",
    "model_all_coeff"
   ]
  },
  {
   "cell_type": "markdown",
   "metadata": {},
   "source": [
    "1. -ve coefficient means that there is an inverse correlation between independent variable and dependent variable\n",
    "\n",
    "2. +ve coefficient means that directly proportional to independent variable\n",
    "\n",
    "2. When we are predicting the coefficient of one indepen variable, other coefficients should be constant"
   ]
  },
  {
   "cell_type": "code",
   "execution_count": 27,
   "metadata": {},
   "outputs": [
    {
     "data": {
      "text/plain": [
       "398.32641509433967"
      ]
     },
     "execution_count": 27,
     "metadata": {},
     "output_type": "execute_result"
    }
   ],
   "source": [
    "#intercept of the model (C in y = m1x1 + m2x2 + ....+ mnxn + C)\n",
    "model_all.intercept_"
   ]
  },
  {
   "cell_type": "code",
   "execution_count": 28,
   "metadata": {},
   "outputs": [
    {
     "data": {
      "text/plain": [
       "array([326.81612777, 369.57859339, 370.82418025, 439.05613854,\n",
       "       444.16916821])"
      ]
     },
     "execution_count": 28,
     "metadata": {},
     "output_type": "execute_result"
    }
   ],
   "source": [
    "y_pred_train = model_all.predict(X_train)\n",
    "y_pred_train[:5]"
   ]
  },
  {
   "cell_type": "code",
   "execution_count": 29,
   "metadata": {},
   "outputs": [
    {
     "data": {
      "text/html": [
       "<div>\n",
       "<style scoped>\n",
       "    .dataframe tbody tr th:only-of-type {\n",
       "        vertical-align: middle;\n",
       "    }\n",
       "\n",
       "    .dataframe tbody tr th {\n",
       "        vertical-align: top;\n",
       "    }\n",
       "\n",
       "    .dataframe thead th {\n",
       "        text-align: right;\n",
       "    }\n",
       "</style>\n",
       "<table border=\"1\" class=\"dataframe\">\n",
       "  <thead>\n",
       "    <tr style=\"text-align: right;\">\n",
       "      <th></th>\n",
       "      <th>Cost_predicted</th>\n",
       "    </tr>\n",
       "  </thead>\n",
       "  <tbody>\n",
       "    <tr>\n",
       "      <th>0</th>\n",
       "      <td>326.816128</td>\n",
       "    </tr>\n",
       "    <tr>\n",
       "      <th>1</th>\n",
       "      <td>369.578593</td>\n",
       "    </tr>\n",
       "    <tr>\n",
       "      <th>2</th>\n",
       "      <td>370.824180</td>\n",
       "    </tr>\n",
       "    <tr>\n",
       "      <th>3</th>\n",
       "      <td>439.056139</td>\n",
       "    </tr>\n",
       "    <tr>\n",
       "      <th>4</th>\n",
       "      <td>444.169168</td>\n",
       "    </tr>\n",
       "    <tr>\n",
       "      <th>...</th>\n",
       "      <td>...</td>\n",
       "    </tr>\n",
       "    <tr>\n",
       "      <th>154</th>\n",
       "      <td>-160.608116</td>\n",
       "    </tr>\n",
       "    <tr>\n",
       "      <th>155</th>\n",
       "      <td>-145.535439</td>\n",
       "    </tr>\n",
       "    <tr>\n",
       "      <th>156</th>\n",
       "      <td>-137.843413</td>\n",
       "    </tr>\n",
       "    <tr>\n",
       "      <th>157</th>\n",
       "      <td>-83.279758</td>\n",
       "    </tr>\n",
       "    <tr>\n",
       "      <th>158</th>\n",
       "      <td>-82.005694</td>\n",
       "    </tr>\n",
       "  </tbody>\n",
       "</table>\n",
       "<p>159 rows × 1 columns</p>\n",
       "</div>"
      ],
      "text/plain": [
       "     Cost_predicted\n",
       "0        326.816128\n",
       "1        369.578593\n",
       "2        370.824180\n",
       "3        439.056139\n",
       "4        444.169168\n",
       "..              ...\n",
       "154     -160.608116\n",
       "155     -145.535439\n",
       "156     -137.843413\n",
       "157      -83.279758\n",
       "158      -82.005694\n",
       "\n",
       "[159 rows x 1 columns]"
      ]
     },
     "execution_count": 29,
     "metadata": {},
     "output_type": "execute_result"
    }
   ],
   "source": [
    "#converting the array obtained of the scaled values to a dataframe\n",
    "y_pred_df = pd.DataFrame(y_pred_train)\n",
    "\n",
    "#Labelling the columns\n",
    "y_pred_df.columns = ['Cost_predicted']\n",
    "y_pred_df"
   ]
  },
  {
   "cell_type": "code",
   "execution_count": 30,
   "metadata": {},
   "outputs": [
    {
     "data": {
      "text/html": [
       "<div>\n",
       "<style scoped>\n",
       "    .dataframe tbody tr th:only-of-type {\n",
       "        vertical-align: middle;\n",
       "    }\n",
       "\n",
       "    .dataframe tbody tr th {\n",
       "        vertical-align: top;\n",
       "    }\n",
       "\n",
       "    .dataframe thead th {\n",
       "        text-align: right;\n",
       "    }\n",
       "</style>\n",
       "<table border=\"1\" class=\"dataframe\">\n",
       "  <thead>\n",
       "    <tr style=\"text-align: right;\">\n",
       "      <th></th>\n",
       "      <th>Cost_predicted</th>\n",
       "    </tr>\n",
       "  </thead>\n",
       "  <tbody>\n",
       "    <tr>\n",
       "      <th>count</th>\n",
       "      <td>159.000000</td>\n",
       "    </tr>\n",
       "    <tr>\n",
       "      <th>mean</th>\n",
       "      <td>398.326415</td>\n",
       "    </tr>\n",
       "    <tr>\n",
       "      <th>std</th>\n",
       "      <td>336.820637</td>\n",
       "    </tr>\n",
       "    <tr>\n",
       "      <th>min</th>\n",
       "      <td>-250.771870</td>\n",
       "    </tr>\n",
       "    <tr>\n",
       "      <th>25%</th>\n",
       "      <td>160.588566</td>\n",
       "    </tr>\n",
       "    <tr>\n",
       "      <th>50%</th>\n",
       "      <td>370.824180</td>\n",
       "    </tr>\n",
       "    <tr>\n",
       "      <th>75%</th>\n",
       "      <td>671.304613</td>\n",
       "    </tr>\n",
       "    <tr>\n",
       "      <th>max</th>\n",
       "      <td>1265.843019</td>\n",
       "    </tr>\n",
       "  </tbody>\n",
       "</table>\n",
       "</div>"
      ],
      "text/plain": [
       "       Cost_predicted\n",
       "count      159.000000\n",
       "mean       398.326415\n",
       "std        336.820637\n",
       "min       -250.771870\n",
       "25%        160.588566\n",
       "50%        370.824180\n",
       "75%        671.304613\n",
       "max       1265.843019"
      ]
     },
     "execution_count": 30,
     "metadata": {},
     "output_type": "execute_result"
    }
   ],
   "source": [
    "y_pred_df.describe()"
   ]
  },
  {
   "cell_type": "code",
   "execution_count": 31,
   "metadata": {},
   "outputs": [
    {
     "data": {
      "image/png": "[encoded data removed]",
      "text/plain": [
       "<Figure size 432x288 with 1 Axes>"
      ]
     },
     "metadata": {
      "needs_background": "light"
     },
     "output_type": "display_data"
    }
   ],
   "source": [
    "\n",
    "# scatter plot of the actual cost values w.rt. Length\n",
    "plt.scatter(X_unscaled[['Length']], y_train, label = \"Actual Value\")\n",
    "\n",
    "# Scatter plot of predicted cost values w.r.t. Length\n",
    "plt.scatter(X_unscaled[['Length']], y_pred_train, label = \"predicted values\")\n",
    "\n",
    "plt.axis([0,80,0,1900])\n",
    "plt.xlabel('Length')\n",
    "\n",
    "plt.ylabel('Cost')\n",
    "\n",
    "plt.title(\"Predicted vs Actual values of Cost Against 'Length' attribute\")\n",
    "\n",
    "plt.legend()\n",
    "\n",
    "plt.show()\n"
   ]
  },
  {
   "cell_type": "markdown",
   "metadata": {},
   "source": [
    "Similarly, we can plot 2-D scatter plots for predicted cost and actual cost against different independent variables."
   ]
  },
  {
   "cell_type": "markdown",
   "metadata": {},
   "source": [
    "#### **Calculation of Performance metrics**"
   ]
  },
  {
   "cell_type": "code",
   "execution_count": 32,
   "metadata": {},
   "outputs": [
    {
     "data": {
      "text/plain": [
       "0.8852867046546207"
      ]
     },
     "execution_count": 32,
     "metadata": {},
     "output_type": "execute_result"
    }
   ],
   "source": [
    "# R-squared Value\n",
    "r2_all = model_all.score(X_train, y_train)\n",
    "r2_all"
   ]
  },
  {
   "cell_type": "markdown",
   "metadata": {},
   "source": [
    "The better the linear regression fits the data in comparison to the simple average, the closer the value of R2 is to 1.\n",
    "\n",
    "Here, R-Squared value here is pretty descent givinga good predictive model"
   ]
  },
  {
   "cell_type": "code",
   "execution_count": 33,
   "metadata": {},
   "outputs": [
    {
     "data": {
      "text/plain": [
       "120.86305864300286"
      ]
     },
     "execution_count": 33,
     "metadata": {},
     "output_type": "execute_result"
    }
   ],
   "source": [
    "#Root mean Squared Error\n",
    "lin_rmse = np.sqrt(mean_squared_error(y_train, y_pred_train))\n",
    "lin_rmse"
   ]
  },
  {
   "cell_type": "code",
   "execution_count": 34,
   "metadata": {},
   "outputs": [
    {
     "data": {
      "text/html": [
       "<table class=\"simpletable\">\n",
       "<caption>OLS Regression Results</caption>\n",
       "<tr>\n",
       "  <th>Dep. Variable:</th>          <td>Cost</td>       <th>  R-squared:         </th> <td>   0.885</td>\n",
       "</tr>\n",
       "<tr>\n",
       "  <th>Model:</th>                   <td>OLS</td>       <th>  Adj. R-squared:    </th> <td>   0.882</td>\n",
       "</tr>\n",
       "<tr>\n",
       "  <th>Method:</th>             <td>Least Squares</td>  <th>  F-statistic:       </th> <td>   236.2</td>\n",
       "</tr>\n",
       "<tr>\n",
       "  <th>Date:</th>             <td>Thu, 01 Oct 2020</td> <th>  Prob (F-statistic):</th> <td>4.95e-70</td>\n",
       "</tr>\n",
       "<tr>\n",
       "  <th>Time:</th>                 <td>14:39:19</td>     <th>  Log-Likelihood:    </th> <td> -987.96</td>\n",
       "</tr>\n",
       "<tr>\n",
       "  <th>No. Observations:</th>      <td>   159</td>      <th>  AIC:               </th> <td>   1988.</td>\n",
       "</tr>\n",
       "<tr>\n",
       "  <th>Df Residuals:</th>          <td>   153</td>      <th>  BIC:               </th> <td>   2006.</td>\n",
       "</tr>\n",
       "<tr>\n",
       "  <th>Df Model:</th>              <td>     5</td>      <th>                     </th>     <td> </td>   \n",
       "</tr>\n",
       "<tr>\n",
       "  <th>Covariance Type:</th>      <td>nonrobust</td>    <th>                     </th>     <td> </td>   \n",
       "</tr>\n",
       "</table>\n",
       "<table class=\"simpletable\">\n",
       "<tr>\n",
       "     <td></td>        <th>coef</th>     <th>std err</th>      <th>t</th>      <th>P>|t|</th>  <th>[0.025</th>    <th>0.975]</th>  \n",
       "</tr>\n",
       "<tr>\n",
       "  <th>const</th>   <td>  398.3264</td> <td>    9.771</td> <td>   40.765</td> <td> 0.000</td> <td>  379.023</td> <td>  417.630</td>\n",
       "</tr>\n",
       "<tr>\n",
       "  <th>Weight</th>  <td>  621.3670</td> <td>  400.678</td> <td>    1.551</td> <td> 0.123</td> <td> -170.209</td> <td> 1412.943</td>\n",
       "</tr>\n",
       "<tr>\n",
       "  <th>Weight1</th> <td>  -69.7225</td> <td>  446.091</td> <td>   -0.156</td> <td> 0.876</td> <td> -951.016</td> <td>  811.571</td>\n",
       "</tr>\n",
       "<tr>\n",
       "  <th>Length</th>  <td> -335.9401</td> <td>  200.838</td> <td>   -1.673</td> <td> 0.096</td> <td> -732.713</td> <td>   60.833</td>\n",
       "</tr>\n",
       "<tr>\n",
       "  <th>Height</th>  <td>  120.9063</td> <td>   37.297</td> <td>    3.242</td> <td> 0.001</td> <td>   47.222</td> <td>  194.591</td>\n",
       "</tr>\n",
       "<tr>\n",
       "  <th>Width</th>   <td>   37.7663</td> <td>   34.235</td> <td>    1.103</td> <td> 0.272</td> <td>  -29.867</td> <td>  105.400</td>\n",
       "</tr>\n",
       "</table>\n",
       "<table class=\"simpletable\">\n",
       "<tr>\n",
       "  <th>Omnibus:</th>       <td>20.989</td> <th>  Durbin-Watson:     </th> <td>   0.424</td>\n",
       "</tr>\n",
       "<tr>\n",
       "  <th>Prob(Omnibus):</th> <td> 0.000</td> <th>  Jarque-Bera (JB):  </th> <td>  27.307</td>\n",
       "</tr>\n",
       "<tr>\n",
       "  <th>Skew:</th>          <td> 0.792</td> <th>  Prob(JB):          </th> <td>1.18e-06</td>\n",
       "</tr>\n",
       "<tr>\n",
       "  <th>Kurtosis:</th>      <td> 4.269</td> <th>  Cond. No.          </th> <td>    125.</td>\n",
       "</tr>\n",
       "</table><br/><br/>Warnings:<br/>[1] Standard Errors assume that the covariance matrix of the errors is correctly specified."
      ],
      "text/plain": [
       "<class 'statsmodels.iolib.summary.Summary'>\n",
       "\"\"\"\n",
       "                            OLS Regression Results                            \n",
       "==============================================================================\n",
       "Dep. Variable:                   Cost   R-squared:                       0.885\n",
       "Model:                            OLS   Adj. R-squared:                  0.882\n",
       "Method:                 Least Squares   F-statistic:                     236.2\n",
       "Date:                Thu, 01 Oct 2020   Prob (F-statistic):           4.95e-70\n",
       "Time:                        14:39:19   Log-Likelihood:                -987.96\n",
       "No. Observations:                 159   AIC:                             1988.\n",
       "Df Residuals:                     153   BIC:                             2006.\n",
       "Df Model:                           5                                         \n",
       "Covariance Type:            nonrobust                                         \n",
       "==============================================================================\n",
       "                 coef    std err          t      P>|t|      [0.025      0.975]\n",
       "------------------------------------------------------------------------------\n",
       "const        398.3264      9.771     40.765      0.000     379.023     417.630\n",
       "Weight       621.3670    400.678      1.551      0.123    -170.209    1412.943\n",
       "Weight1      -69.7225    446.091     -0.156      0.876    -951.016     811.571\n",
       "Length      -335.9401    200.838     -1.673      0.096    -732.713      60.833\n",
       "Height       120.9063     37.297      3.242      0.001      47.222     194.591\n",
       "Width         37.7663     34.235      1.103      0.272     -29.867     105.400\n",
       "==============================================================================\n",
       "Omnibus:                       20.989   Durbin-Watson:                   0.424\n",
       "Prob(Omnibus):                  0.000   Jarque-Bera (JB):               27.307\n",
       "Skew:                           0.792   Prob(JB):                     1.18e-06\n",
       "Kurtosis:                       4.269   Cond. No.                         125.\n",
       "==============================================================================\n",
       "\n",
       "Warnings:\n",
       "[1] Standard Errors assume that the covariance matrix of the errors is correctly specified.\n",
       "\"\"\""
      ]
     },
     "execution_count": 34,
     "metadata": {},
     "output_type": "execute_result"
    }
   ],
   "source": [
    "import statsmodels.api as sm\n",
    "X = sm.add_constant(X_train)\n",
    "model_s1 = sm.OLS( y_train, X)\n",
    "\n",
    "\n",
    "r = model_s1.fit()\n",
    "\n",
    "r.summary()"
   ]
  },
  {
   "cell_type": "code",
   "execution_count": 35,
   "metadata": {},
   "outputs": [
    {
     "data": {
      "text/plain": [
       "0.8815379041531377"
      ]
     },
     "execution_count": 35,
     "metadata": {},
     "output_type": "execute_result"
    }
   ],
   "source": [
    "r.rsquared_adj"
   ]
  },
  {
   "cell_type": "markdown",
   "metadata": {},
   "source": [
    "### B.  Feature selection:"
   ]
  },
  {
   "cell_type": "markdown",
   "metadata": {},
   "source": [
    "### 1. Forward Selection"
   ]
  },
  {
   "cell_type": "markdown",
   "metadata": {},
   "source": [
    "The procedure starts with an empty set of features [reduced set]. The best of the original features is determined and added to the reduced set. At each subsequent iteration, the best of the remaining original attributes is added to the set."
   ]
  },
  {
   "cell_type": "markdown",
   "metadata": {},
   "source": [
    "#### **1.1.  Manual one by one addition (Using R-2 as well as Adjusted R-2):**\n",
    "In this delecton technique we take the first attribute and then keep on adding another one in each iteration to calculate the r-2 and Lmse values for comparison later. We do it until all the attributes are added.\n",
    "\n",
    "**1.1.1. Model1 with \"Weight\"**"
   ]
  },
  {
   "cell_type": "code",
   "execution_count": 36,
   "metadata": {},
   "outputs": [
    {
     "data": {
      "text/plain": [
       "LinearRegression()"
      ]
     },
     "execution_count": 36,
     "metadata": {},
     "output_type": "execute_result"
    }
   ],
   "source": [
    "model1 = LinearRegression()\n",
    "model1.fit(X_train[['Weight']],y_train)"
   ]
  },
  {
   "cell_type": "code",
   "execution_count": 37,
   "metadata": {},
   "outputs": [
    {
     "data": {
      "text/plain": [
       "array([326.77247949])"
      ]
     },
     "execution_count": 37,
     "metadata": {},
     "output_type": "execute_result"
    }
   ],
   "source": [
    "model1.coef_"
   ]
  },
  {
   "cell_type": "code",
   "execution_count": 38,
   "metadata": {},
   "outputs": [
    {
     "data": {
      "text/plain": [
       "398.32641509433967"
      ]
     },
     "execution_count": 38,
     "metadata": {},
     "output_type": "execute_result"
    }
   ],
   "source": [
    "model1.intercept_"
   ]
  },
  {
   "cell_type": "code",
   "execution_count": 39,
   "metadata": {},
   "outputs": [
    {
     "data": {
      "text/plain": [
       "0.8385279468768119"
      ]
     },
     "execution_count": 39,
     "metadata": {},
     "output_type": "execute_result"
    }
   ],
   "source": [
    "r2_1 = model1.score(X_train[['Weight']],y_train)\n",
    "r2_1"
   ]
  },
  {
   "cell_type": "code",
   "execution_count": 40,
   "metadata": {},
   "outputs": [
    {
     "data": {
      "text/plain": [
       "array([298.40312322, 324.63685434, 321.35763795, 400.0588313 ,\n",
       "       406.61726408])"
      ]
     },
     "execution_count": 40,
     "metadata": {},
     "output_type": "execute_result"
    }
   ],
   "source": [
    "y_pred_model1 = model1.predict(X_train[['Weight']])\n",
    "y_pred_model1[:5]"
   ]
  },
  {
   "cell_type": "code",
   "execution_count": 41,
   "metadata": {},
   "outputs": [
    {
     "data": {
      "text/plain": [
       "143.3954550126715"
      ]
     },
     "execution_count": 41,
     "metadata": {},
     "output_type": "execute_result"
    }
   ],
   "source": [
    "lin_rmse_model1 = np.sqrt(mean_squared_error(y_train, y_pred_model1))\n",
    "lin_rmse_model1"
   ]
  },
  {
   "cell_type": "code",
   "execution_count": 42,
   "metadata": {},
   "outputs": [
    {
     "data": {
      "text/html": [
       "<table class=\"simpletable\">\n",
       "<caption>OLS Regression Results</caption>\n",
       "<tr>\n",
       "  <th>Dep. Variable:</th>          <td>Cost</td>       <th>  R-squared:         </th> <td>   0.839</td>\n",
       "</tr>\n",
       "<tr>\n",
       "  <th>Model:</th>                   <td>OLS</td>       <th>  Adj. R-squared:    </th> <td>   0.837</td>\n",
       "</tr>\n",
       "<tr>\n",
       "  <th>Method:</th>             <td>Least Squares</td>  <th>  F-statistic:       </th> <td>   815.3</td>\n",
       "</tr>\n",
       "<tr>\n",
       "  <th>Date:</th>             <td>Thu, 01 Oct 2020</td> <th>  Prob (F-statistic):</th> <td>4.75e-64</td>\n",
       "</tr>\n",
       "<tr>\n",
       "  <th>Time:</th>                 <td>14:39:19</td>     <th>  Log-Likelihood:    </th> <td> -1015.1</td>\n",
       "</tr>\n",
       "<tr>\n",
       "  <th>No. Observations:</th>      <td>   159</td>      <th>  AIC:               </th> <td>   2034.</td>\n",
       "</tr>\n",
       "<tr>\n",
       "  <th>Df Residuals:</th>          <td>   157</td>      <th>  BIC:               </th> <td>   2040.</td>\n",
       "</tr>\n",
       "<tr>\n",
       "  <th>Df Model:</th>              <td>     1</td>      <th>                     </th>     <td> </td>   \n",
       "</tr>\n",
       "<tr>\n",
       "  <th>Covariance Type:</th>      <td>nonrobust</td>    <th>                     </th>     <td> </td>   \n",
       "</tr>\n",
       "</table>\n",
       "<table class=\"simpletable\">\n",
       "<tr>\n",
       "     <td></td>       <th>coef</th>     <th>std err</th>      <th>t</th>      <th>P>|t|</th>  <th>[0.025</th>    <th>0.975]</th>  \n",
       "</tr>\n",
       "<tr>\n",
       "  <th>const</th>  <td>  398.3264</td> <td>   11.444</td> <td>   34.806</td> <td> 0.000</td> <td>  375.722</td> <td>  420.931</td>\n",
       "</tr>\n",
       "<tr>\n",
       "  <th>Weight</th> <td>  326.7725</td> <td>   11.444</td> <td>   28.554</td> <td> 0.000</td> <td>  304.168</td> <td>  349.377</td>\n",
       "</tr>\n",
       "</table>\n",
       "<table class=\"simpletable\">\n",
       "<tr>\n",
       "  <th>Omnibus:</th>       <td> 9.385</td> <th>  Durbin-Watson:     </th> <td>   0.369</td>\n",
       "</tr>\n",
       "<tr>\n",
       "  <th>Prob(Omnibus):</th> <td> 0.009</td> <th>  Jarque-Bera (JB):  </th> <td>   9.768</td>\n",
       "</tr>\n",
       "<tr>\n",
       "  <th>Skew:</th>          <td>-0.489</td> <th>  Prob(JB):          </th> <td> 0.00757</td>\n",
       "</tr>\n",
       "<tr>\n",
       "  <th>Kurtosis:</th>      <td> 3.721</td> <th>  Cond. No.          </th> <td>    1.00</td>\n",
       "</tr>\n",
       "</table><br/><br/>Warnings:<br/>[1] Standard Errors assume that the covariance matrix of the errors is correctly specified."
      ],
      "text/plain": [
       "<class 'statsmodels.iolib.summary.Summary'>\n",
       "\"\"\"\n",
       "                            OLS Regression Results                            \n",
       "==============================================================================\n",
       "Dep. Variable:                   Cost   R-squared:                       0.839\n",
       "Model:                            OLS   Adj. R-squared:                  0.837\n",
       "Method:                 Least Squares   F-statistic:                     815.3\n",
       "Date:                Thu, 01 Oct 2020   Prob (F-statistic):           4.75e-64\n",
       "Time:                        14:39:19   Log-Likelihood:                -1015.1\n",
       "No. Observations:                 159   AIC:                             2034.\n",
       "Df Residuals:                     157   BIC:                             2040.\n",
       "Df Model:                           1                                         \n",
       "Covariance Type:            nonrobust                                         \n",
       "==============================================================================\n",
       "                 coef    std err          t      P>|t|      [0.025      0.975]\n",
       "------------------------------------------------------------------------------\n",
       "const        398.3264     11.444     34.806      0.000     375.722     420.931\n",
       "Weight       326.7725     11.444     28.554      0.000     304.168     349.377\n",
       "==============================================================================\n",
       "Omnibus:                        9.385   Durbin-Watson:                   0.369\n",
       "Prob(Omnibus):                  0.009   Jarque-Bera (JB):                9.768\n",
       "Skew:                          -0.489   Prob(JB):                      0.00757\n",
       "Kurtosis:                       3.721   Cond. No.                         1.00\n",
       "==============================================================================\n",
       "\n",
       "Warnings:\n",
       "[1] Standard Errors assume that the covariance matrix of the errors is correctly specified.\n",
       "\"\"\""
      ]
     },
     "execution_count": 42,
     "metadata": {},
     "output_type": "execute_result"
    }
   ],
   "source": [
    "import statsmodels.api as sm\n",
    "X = sm.add_constant(X_train[['Weight']])\n",
    "model_s1 = sm.OLS( y_train, X)\n",
    "\n",
    "\n",
    "r = model_s1.fit()\n",
    "\n",
    "r.summary()"
   ]
  },
  {
   "cell_type": "code",
   "execution_count": 43,
   "metadata": {},
   "outputs": [
    {
     "data": {
      "text/plain": [
       "0.8374994624620146"
      ]
     },
     "execution_count": 43,
     "metadata": {},
     "output_type": "execute_result"
    }
   ],
   "source": [
    "adjusted_r2_1 = r.rsquared_adj\n",
    "adjusted_r2_1"
   ]
  },
  {
   "cell_type": "markdown",
   "metadata": {},
   "source": [
    "**1.1.2. Model1 with \"Weight\" and \"Weight1\"**"
   ]
  },
  {
   "cell_type": "code",
   "execution_count": 44,
   "metadata": {},
   "outputs": [
    {
     "data": {
      "text/plain": [
       "0.8501409783114509"
      ]
     },
     "execution_count": 44,
     "metadata": {},
     "output_type": "execute_result"
    }
   ],
   "source": [
    "model1 = LinearRegression()\n",
    "model1.fit(X_train[['Weight','Weight1']],y_train)\n",
    "r2_2 = model1.score(X_train[['Weight','Weight1']],y_train)\n",
    "r2_2"
   ]
  },
  {
   "cell_type": "code",
   "execution_count": 45,
   "metadata": {},
   "outputs": [
    {
     "data": {
      "text/plain": [
       "array([327.29033958, 358.48355446, 390.79343385, 461.1992985 ,\n",
       "       442.92709972])"
      ]
     },
     "execution_count": 45,
     "metadata": {},
     "output_type": "execute_result"
    }
   ],
   "source": [
    "y_pred_model1 = model1.predict(X_train[['Weight','Weight1']])\n",
    "y_pred_model1[:5]"
   ]
  },
  {
   "cell_type": "code",
   "execution_count": 46,
   "metadata": {},
   "outputs": [
    {
     "data": {
      "text/plain": [
       "138.1427665432575"
      ]
     },
     "execution_count": 46,
     "metadata": {},
     "output_type": "execute_result"
    }
   ],
   "source": [
    "lin_rmse_model1 = np.sqrt(mean_squared_error(y_train, y_pred_model1))\n",
    "lin_rmse_model1"
   ]
  },
  {
   "cell_type": "code",
   "execution_count": 47,
   "metadata": {},
   "outputs": [
    {
     "data": {
      "text/html": [
       "<table class=\"simpletable\">\n",
       "<caption>OLS Regression Results</caption>\n",
       "<tr>\n",
       "  <th>Dep. Variable:</th>          <td>Cost</td>       <th>  R-squared:         </th> <td>   0.850</td>\n",
       "</tr>\n",
       "<tr>\n",
       "  <th>Model:</th>                   <td>OLS</td>       <th>  Adj. R-squared:    </th> <td>   0.848</td>\n",
       "</tr>\n",
       "<tr>\n",
       "  <th>Method:</th>             <td>Least Squares</td>  <th>  F-statistic:       </th> <td>   442.5</td>\n",
       "</tr>\n",
       "<tr>\n",
       "  <th>Date:</th>             <td>Thu, 01 Oct 2020</td> <th>  Prob (F-statistic):</th> <td>5.05e-65</td>\n",
       "</tr>\n",
       "<tr>\n",
       "  <th>Time:</th>                 <td>14:39:19</td>     <th>  Log-Likelihood:    </th> <td> -1009.2</td>\n",
       "</tr>\n",
       "<tr>\n",
       "  <th>No. Observations:</th>      <td>   159</td>      <th>  AIC:               </th> <td>   2024.</td>\n",
       "</tr>\n",
       "<tr>\n",
       "  <th>Df Residuals:</th>          <td>   156</td>      <th>  BIC:               </th> <td>   2034.</td>\n",
       "</tr>\n",
       "<tr>\n",
       "  <th>Df Model:</th>              <td>     2</td>      <th>                     </th>     <td> </td>   \n",
       "</tr>\n",
       "<tr>\n",
       "  <th>Covariance Type:</th>      <td>nonrobust</td>    <th>                     </th>     <td> </td>   \n",
       "</tr>\n",
       "</table>\n",
       "<table class=\"simpletable\">\n",
       "<tr>\n",
       "     <td></td>        <th>coef</th>     <th>std err</th>      <th>t</th>      <th>P>|t|</th>  <th>[0.025</th>    <th>0.975]</th>  \n",
       "</tr>\n",
       "<tr>\n",
       "  <th>const</th>   <td>  398.3264</td> <td>   11.060</td> <td>   36.014</td> <td> 0.000</td> <td>  376.479</td> <td>  420.174</td>\n",
       "</tr>\n",
       "<tr>\n",
       "  <th>Weight</th>  <td> -910.4083</td> <td>  355.999</td> <td>   -2.557</td> <td> 0.012</td> <td>-1613.609</td> <td> -207.207</td>\n",
       "</tr>\n",
       "<tr>\n",
       "  <th>Weight1</th> <td> 1237.7783</td> <td>  355.999</td> <td>    3.477</td> <td> 0.001</td> <td>  534.577</td> <td> 1940.979</td>\n",
       "</tr>\n",
       "</table>\n",
       "<table class=\"simpletable\">\n",
       "<tr>\n",
       "  <th>Omnibus:</th>       <td> 0.950</td> <th>  Durbin-Watson:     </th> <td>   0.427</td>\n",
       "</tr>\n",
       "<tr>\n",
       "  <th>Prob(Omnibus):</th> <td> 0.622</td> <th>  Jarque-Bera (JB):  </th> <td>   0.842</td>\n",
       "</tr>\n",
       "<tr>\n",
       "  <th>Skew:</th>          <td>-0.178</td> <th>  Prob(JB):          </th> <td>   0.656</td>\n",
       "</tr>\n",
       "<tr>\n",
       "  <th>Kurtosis:</th>      <td> 2.984</td> <th>  Cond. No.          </th> <td>    64.4</td>\n",
       "</tr>\n",
       "</table><br/><br/>Warnings:<br/>[1] Standard Errors assume that the covariance matrix of the errors is correctly specified."
      ],
      "text/plain": [
       "<class 'statsmodels.iolib.summary.Summary'>\n",
       "\"\"\"\n",
       "                            OLS Regression Results                            \n",
       "==============================================================================\n",
       "Dep. Variable:                   Cost   R-squared:                       0.850\n",
       "Model:                            OLS   Adj. R-squared:                  0.848\n",
       "Method:                 Least Squares   F-statistic:                     442.5\n",
       "Date:                Thu, 01 Oct 2020   Prob (F-statistic):           5.05e-65\n",
       "Time:                        14:39:19   Log-Likelihood:                -1009.2\n",
       "No. Observations:                 159   AIC:                             2024.\n",
       "Df Residuals:                     156   BIC:                             2034.\n",
       "Df Model:                           2                                         \n",
       "Covariance Type:            nonrobust                                         \n",
       "==============================================================================\n",
       "                 coef    std err          t      P>|t|      [0.025      0.975]\n",
       "------------------------------------------------------------------------------\n",
       "const        398.3264     11.060     36.014      0.000     376.479     420.174\n",
       "Weight      -910.4083    355.999     -2.557      0.012   -1613.609    -207.207\n",
       "Weight1     1237.7783    355.999      3.477      0.001     534.577    1940.979\n",
       "==============================================================================\n",
       "Omnibus:                        0.950   Durbin-Watson:                   0.427\n",
       "Prob(Omnibus):                  0.622   Jarque-Bera (JB):                0.842\n",
       "Skew:                          -0.178   Prob(JB):                        0.656\n",
       "Kurtosis:                       2.984   Cond. No.                         64.4\n",
       "==============================================================================\n",
       "\n",
       "Warnings:\n",
       "[1] Standard Errors assume that the covariance matrix of the errors is correctly specified.\n",
       "\"\"\""
      ]
     },
     "execution_count": 47,
     "metadata": {},
     "output_type": "execute_result"
    }
   ],
   "source": [
    "import statsmodels.api as sm\n",
    "X = sm.add_constant(X_train[['Weight','Weight1']])\n",
    "model_s1 = sm.OLS( y_train, X)\n",
    "\n",
    "\n",
    "r = model_s1.fit()\n",
    "\n",
    "r.summary()"
   ]
  },
  {
   "cell_type": "code",
   "execution_count": 48,
   "metadata": {},
   "outputs": [
    {
     "data": {
      "text/plain": [
       "0.8482197088026232"
      ]
     },
     "execution_count": 48,
     "metadata": {},
     "output_type": "execute_result"
    }
   ],
   "source": [
    "adjusted_r2_2 = r.rsquared_adj\n",
    "adjusted_r2_2"
   ]
  },
  {
   "cell_type": "markdown",
   "metadata": {},
   "source": [
    "**1.1.3. Model1 with \"Weight\", \"Weight1\", \"Length\"**"
   ]
  },
  {
   "cell_type": "code",
   "execution_count": 49,
   "metadata": {},
   "outputs": [
    {
     "data": {
      "text/plain": [
       "0.8538011360752531"
      ]
     },
     "execution_count": 49,
     "metadata": {},
     "output_type": "execute_result"
    }
   ],
   "source": [
    "model1 = LinearRegression()\n",
    "model1.fit(X_train[['Weight','Weight1', 'Length']],y_train)\n",
    "r2_3 = model1.score(X_train[['Weight','Weight1', 'Length']],y_train)\n",
    "r2_3"
   ]
  },
  {
   "cell_type": "code",
   "execution_count": 50,
   "metadata": {},
   "outputs": [
    {
     "data": {
      "text/plain": [
       "array([357.93431132, 392.16666789, 407.61214929, 474.88979819,\n",
       "       473.852214  ])"
      ]
     },
     "execution_count": 50,
     "metadata": {},
     "output_type": "execute_result"
    }
   ],
   "source": [
    "y_pred_model1 = model1.predict(X_train[['Weight','Weight1', 'Length']])\n",
    "y_pred_model1[:5]"
   ]
  },
  {
   "cell_type": "code",
   "execution_count": 51,
   "metadata": {},
   "outputs": [
    {
     "data": {
      "text/plain": [
       "136.44533803713665"
      ]
     },
     "execution_count": 51,
     "metadata": {},
     "output_type": "execute_result"
    }
   ],
   "source": [
    "lin_rmse_model1 = np.sqrt(mean_squared_error(y_train, y_pred_model1))\n",
    "lin_rmse_model1"
   ]
  },
  {
   "cell_type": "code",
   "execution_count": 52,
   "metadata": {},
   "outputs": [
    {
     "data": {
      "text/html": [
       "<table class=\"simpletable\">\n",
       "<caption>OLS Regression Results</caption>\n",
       "<tr>\n",
       "  <th>Dep. Variable:</th>          <td>Cost</td>       <th>  R-squared:         </th> <td>   0.854</td>\n",
       "</tr>\n",
       "<tr>\n",
       "  <th>Model:</th>                   <td>OLS</td>       <th>  Adj. R-squared:    </th> <td>   0.851</td>\n",
       "</tr>\n",
       "<tr>\n",
       "  <th>Method:</th>             <td>Least Squares</td>  <th>  F-statistic:       </th> <td>   301.7</td>\n",
       "</tr>\n",
       "<tr>\n",
       "  <th>Date:</th>             <td>Thu, 01 Oct 2020</td> <th>  Prob (F-statistic):</th> <td>1.77e-64</td>\n",
       "</tr>\n",
       "<tr>\n",
       "  <th>Time:</th>                 <td>14:39:19</td>     <th>  Log-Likelihood:    </th> <td> -1007.2</td>\n",
       "</tr>\n",
       "<tr>\n",
       "  <th>No. Observations:</th>      <td>   159</td>      <th>  AIC:               </th> <td>   2022.</td>\n",
       "</tr>\n",
       "<tr>\n",
       "  <th>Df Residuals:</th>          <td>   155</td>      <th>  BIC:               </th> <td>   2035.</td>\n",
       "</tr>\n",
       "<tr>\n",
       "  <th>Df Model:</th>              <td>     3</td>      <th>                     </th>     <td> </td>   \n",
       "</tr>\n",
       "<tr>\n",
       "  <th>Covariance Type:</th>      <td>nonrobust</td>    <th>                     </th>     <td> </td>   \n",
       "</tr>\n",
       "</table>\n",
       "<table class=\"simpletable\">\n",
       "<tr>\n",
       "     <td></td>        <th>coef</th>     <th>std err</th>      <th>t</th>      <th>P>|t|</th>  <th>[0.025</th>    <th>0.975]</th>  \n",
       "</tr>\n",
       "<tr>\n",
       "  <th>const</th>   <td>  398.3264</td> <td>   10.960</td> <td>   36.345</td> <td> 0.000</td> <td>  376.677</td> <td>  419.976</td>\n",
       "</tr>\n",
       "<tr>\n",
       "  <th>Weight</th>  <td> -537.9097</td> <td>  400.244</td> <td>   -1.344</td> <td> 0.181</td> <td>-1328.546</td> <td>  252.726</td>\n",
       "</tr>\n",
       "<tr>\n",
       "  <th>Weight1</th> <td>  640.9095</td> <td>  465.020</td> <td>    1.378</td> <td> 0.170</td> <td> -277.685</td> <td> 1559.504</td>\n",
       "</tr>\n",
       "<tr>\n",
       "  <th>Length</th>  <td>  225.8822</td> <td>  114.667</td> <td>    1.970</td> <td> 0.051</td> <td>   -0.629</td> <td>  452.394</td>\n",
       "</tr>\n",
       "</table>\n",
       "<table class=\"simpletable\">\n",
       "<tr>\n",
       "  <th>Omnibus:</th>       <td> 0.900</td> <th>  Durbin-Watson:     </th> <td>   0.428</td>\n",
       "</tr>\n",
       "<tr>\n",
       "  <th>Prob(Omnibus):</th> <td> 0.638</td> <th>  Jarque-Bera (JB):  </th> <td>   0.577</td>\n",
       "</tr>\n",
       "<tr>\n",
       "  <th>Skew:</th>          <td>-0.120</td> <th>  Prob(JB):          </th> <td>   0.749</td>\n",
       "</tr>\n",
       "<tr>\n",
       "  <th>Kurtosis:</th>      <td> 3.171</td> <th>  Cond. No.          </th> <td>    96.8</td>\n",
       "</tr>\n",
       "</table><br/><br/>Warnings:<br/>[1] Standard Errors assume that the covariance matrix of the errors is correctly specified."
      ],
      "text/plain": [
       "<class 'statsmodels.iolib.summary.Summary'>\n",
       "\"\"\"\n",
       "                            OLS Regression Results                            \n",
       "==============================================================================\n",
       "Dep. Variable:                   Cost   R-squared:                       0.854\n",
       "Model:                            OLS   Adj. R-squared:                  0.851\n",
       "Method:                 Least Squares   F-statistic:                     301.7\n",
       "Date:                Thu, 01 Oct 2020   Prob (F-statistic):           1.77e-64\n",
       "Time:                        14:39:19   Log-Likelihood:                -1007.2\n",
       "No. Observations:                 159   AIC:                             2022.\n",
       "Df Residuals:                     155   BIC:                             2035.\n",
       "Df Model:                           3                                         \n",
       "Covariance Type:            nonrobust                                         \n",
       "==============================================================================\n",
       "                 coef    std err          t      P>|t|      [0.025      0.975]\n",
       "------------------------------------------------------------------------------\n",
       "const        398.3264     10.960     36.345      0.000     376.677     419.976\n",
       "Weight      -537.9097    400.244     -1.344      0.181   -1328.546     252.726\n",
       "Weight1      640.9095    465.020      1.378      0.170    -277.685    1559.504\n",
       "Length       225.8822    114.667      1.970      0.051      -0.629     452.394\n",
       "==============================================================================\n",
       "Omnibus:                        0.900   Durbin-Watson:                   0.428\n",
       "Prob(Omnibus):                  0.638   Jarque-Bera (JB):                0.577\n",
       "Skew:                          -0.120   Prob(JB):                        0.749\n",
       "Kurtosis:                       3.171   Cond. No.                         96.8\n",
       "==============================================================================\n",
       "\n",
       "Warnings:\n",
       "[1] Standard Errors assume that the covariance matrix of the errors is correctly specified.\n",
       "\"\"\""
      ]
     },
     "execution_count": 52,
     "metadata": {},
     "output_type": "execute_result"
    }
   ],
   "source": [
    "import statsmodels.api as sm\n",
    "X = sm.add_constant(X_train[['Weight','Weight1', 'Length']])\n",
    "model_s1 = sm.OLS( y_train, X)\n",
    "\n",
    "\n",
    "r = model_s1.fit()\n",
    "\n",
    "r.summary()"
   ]
  },
  {
   "cell_type": "code",
   "execution_count": 53,
   "metadata": {},
   "outputs": [
    {
     "data": {
      "text/plain": [
       "0.8509714806444515"
      ]
     },
     "execution_count": 53,
     "metadata": {},
     "output_type": "execute_result"
    }
   ],
   "source": [
    "adjusted_r2_3 = r.rsquared_adj\n",
    "adjusted_r2_3"
   ]
  },
  {
   "cell_type": "markdown",
   "metadata": {},
   "source": [
    "**1.1.4. Model1 with \"Weight\", \"Weight1\", \"Length\", \"Height\"**"
   ]
  },
  {
   "cell_type": "code",
   "execution_count": 54,
   "metadata": {},
   "outputs": [
    {
     "data": {
      "text/plain": [
       "0.8843742730162711"
      ]
     },
     "execution_count": 54,
     "metadata": {},
     "output_type": "execute_result"
    }
   ],
   "source": [
    "model1 = LinearRegression()\n",
    "model1.fit(X_train[['Weight','Weight1', 'Length', 'Height']],y_train)\n",
    "r2_4 = model1.score(X_train[['Weight','Weight1', 'Length', 'Height']],y_train)\n",
    "r2_4"
   ]
  },
  {
   "cell_type": "code",
   "execution_count": 55,
   "metadata": {},
   "outputs": [
    {
     "data": {
      "text/plain": [
       "array([325.36028573, 366.94732504, 362.76894098, 445.72362238,\n",
       "       427.23509912])"
      ]
     },
     "execution_count": 55,
     "metadata": {},
     "output_type": "execute_result"
    }
   ],
   "source": [
    "y_pred_model1 = model1.predict(X_train[['Weight','Weight1', 'Length', 'Height']])\n",
    "y_pred_model1[:5]"
   ]
  },
  {
   "cell_type": "code",
   "execution_count": 56,
   "metadata": {},
   "outputs": [
    {
     "data": {
      "text/plain": [
       "121.34278008786762"
      ]
     },
     "execution_count": 56,
     "metadata": {},
     "output_type": "execute_result"
    }
   ],
   "source": [
    "lin_rmse_model1 = np.sqrt(mean_squared_error(y_train, y_pred_model1))\n",
    "lin_rmse_model1"
   ]
  },
  {
   "cell_type": "code",
   "execution_count": 57,
   "metadata": {},
   "outputs": [
    {
     "data": {
      "text/html": [
       "<table class=\"simpletable\">\n",
       "<caption>OLS Regression Results</caption>\n",
       "<tr>\n",
       "  <th>Dep. Variable:</th>          <td>Cost</td>       <th>  R-squared:         </th> <td>   0.884</td>\n",
       "</tr>\n",
       "<tr>\n",
       "  <th>Model:</th>                   <td>OLS</td>       <th>  Adj. R-squared:    </th> <td>   0.881</td>\n",
       "</tr>\n",
       "<tr>\n",
       "  <th>Method:</th>             <td>Least Squares</td>  <th>  F-statistic:       </th> <td>   294.5</td>\n",
       "</tr>\n",
       "<tr>\n",
       "  <th>Date:</th>             <td>Thu, 01 Oct 2020</td> <th>  Prob (F-statistic):</th> <td>4.95e-71</td>\n",
       "</tr>\n",
       "<tr>\n",
       "  <th>Time:</th>                 <td>14:39:19</td>     <th>  Log-Likelihood:    </th> <td> -988.59</td>\n",
       "</tr>\n",
       "<tr>\n",
       "  <th>No. Observations:</th>      <td>   159</td>      <th>  AIC:               </th> <td>   1987.</td>\n",
       "</tr>\n",
       "<tr>\n",
       "  <th>Df Residuals:</th>          <td>   154</td>      <th>  BIC:               </th> <td>   2003.</td>\n",
       "</tr>\n",
       "<tr>\n",
       "  <th>Df Model:</th>              <td>     4</td>      <th>                     </th>     <td> </td>   \n",
       "</tr>\n",
       "<tr>\n",
       "  <th>Covariance Type:</th>      <td>nonrobust</td>    <th>                     </th>     <td> </td>   \n",
       "</tr>\n",
       "</table>\n",
       "<table class=\"simpletable\">\n",
       "<tr>\n",
       "     <td></td>        <th>coef</th>     <th>std err</th>      <th>t</th>      <th>P>|t|</th>  <th>[0.025</th>    <th>0.975]</th>  \n",
       "</tr>\n",
       "<tr>\n",
       "  <th>const</th>   <td>  398.3264</td> <td>    9.778</td> <td>   40.737</td> <td> 0.000</td> <td>  379.010</td> <td>  417.643</td>\n",
       "</tr>\n",
       "<tr>\n",
       "  <th>Weight</th>  <td>  625.4655</td> <td>  400.943</td> <td>    1.560</td> <td> 0.121</td> <td> -166.593</td> <td> 1417.524</td>\n",
       "</tr>\n",
       "<tr>\n",
       "  <th>Weight1</th> <td>   84.3661</td> <td>  423.957</td> <td>    0.199</td> <td> 0.843</td> <td> -753.157</td> <td>  921.889</td>\n",
       "</tr>\n",
       "<tr>\n",
       "  <th>Length</th>  <td> -482.2375</td> <td>  150.933</td> <td>   -3.195</td> <td> 0.002</td> <td> -780.403</td> <td> -184.072</td>\n",
       "</tr>\n",
       "<tr>\n",
       "  <th>Height</th>  <td>  152.5096</td> <td>   23.900</td> <td>    6.381</td> <td> 0.000</td> <td>  105.296</td> <td>  199.723</td>\n",
       "</tr>\n",
       "</table>\n",
       "<table class=\"simpletable\">\n",
       "<tr>\n",
       "  <th>Omnibus:</th>       <td>15.163</td> <th>  Durbin-Watson:     </th> <td>   0.461</td>\n",
       "</tr>\n",
       "<tr>\n",
       "  <th>Prob(Omnibus):</th> <td> 0.001</td> <th>  Jarque-Bera (JB):  </th> <td>  17.975</td>\n",
       "</tr>\n",
       "<tr>\n",
       "  <th>Skew:</th>          <td> 0.642</td> <th>  Prob(JB):          </th> <td>0.000125</td>\n",
       "</tr>\n",
       "<tr>\n",
       "  <th>Kurtosis:</th>      <td> 4.032</td> <th>  Cond. No.          </th> <td>    110.</td>\n",
       "</tr>\n",
       "</table><br/><br/>Warnings:<br/>[1] Standard Errors assume that the covariance matrix of the errors is correctly specified."
      ],
      "text/plain": [
       "<class 'statsmodels.iolib.summary.Summary'>\n",
       "\"\"\"\n",
       "                            OLS Regression Results                            \n",
       "==============================================================================\n",
       "Dep. Variable:                   Cost   R-squared:                       0.884\n",
       "Model:                            OLS   Adj. R-squared:                  0.881\n",
       "Method:                 Least Squares   F-statistic:                     294.5\n",
       "Date:                Thu, 01 Oct 2020   Prob (F-statistic):           4.95e-71\n",
       "Time:                        14:39:19   Log-Likelihood:                -988.59\n",
       "No. Observations:                 159   AIC:                             1987.\n",
       "Df Residuals:                     154   BIC:                             2003.\n",
       "Df Model:                           4                                         \n",
       "Covariance Type:            nonrobust                                         \n",
       "==============================================================================\n",
       "                 coef    std err          t      P>|t|      [0.025      0.975]\n",
       "------------------------------------------------------------------------------\n",
       "const        398.3264      9.778     40.737      0.000     379.010     417.643\n",
       "Weight       625.4655    400.943      1.560      0.121    -166.593    1417.524\n",
       "Weight1       84.3661    423.957      0.199      0.843    -753.157     921.889\n",
       "Length      -482.2375    150.933     -3.195      0.002    -780.403    -184.072\n",
       "Height       152.5096     23.900      6.381      0.000     105.296     199.723\n",
       "==============================================================================\n",
       "Omnibus:                       15.163   Durbin-Watson:                   0.461\n",
       "Prob(Omnibus):                  0.001   Jarque-Bera (JB):               17.975\n",
       "Skew:                           0.642   Prob(JB):                     0.000125\n",
       "Kurtosis:                       4.032   Cond. No.                         110.\n",
       "==============================================================================\n",
       "\n",
       "Warnings:\n",
       "[1] Standard Errors assume that the covariance matrix of the errors is correctly specified.\n",
       "\"\"\""
      ]
     },
     "execution_count": 57,
     "metadata": {},
     "output_type": "execute_result"
    }
   ],
   "source": [
    "import statsmodels.api as sm\n",
    "X = sm.add_constant(X_train[['Weight','Weight1', 'Length', 'Height']])\n",
    "model_s1 = sm.OLS( y_train, X)\n",
    "\n",
    "\n",
    "r = model_s1.fit()\n",
    "\n",
    "r.summary()"
   ]
  },
  {
   "cell_type": "code",
   "execution_count": 58,
   "metadata": {},
   "outputs": [
    {
     "data": {
      "text/plain": [
       "0.8813710073803301"
      ]
     },
     "execution_count": 58,
     "metadata": {},
     "output_type": "execute_result"
    }
   ],
   "source": [
    "adjusted_r2_4 = r.rsquared_adj\n",
    "adjusted_r2_4"
   ]
  },
  {
   "cell_type": "markdown",
   "metadata": {},
   "source": [
    "**1.1.5. Model1 with \"Weight\", \"Weight1\", \"Length\", \"Height\", \"Width\"**"
   ]
  },
  {
   "cell_type": "code",
   "execution_count": 59,
   "metadata": {},
   "outputs": [
    {
     "data": {
      "text/plain": [
       "0.8852867046546207"
      ]
     },
     "execution_count": 59,
     "metadata": {},
     "output_type": "execute_result"
    }
   ],
   "source": [
    "model1 = LinearRegression()\n",
    "model1.fit(X_train[['Weight','Weight1', 'Length', 'Height', 'Width']],y_train)\n",
    "r2_5 = model1.score(X_train[['Weight','Weight1', 'Length', 'Height', 'Width']],y_train)\n",
    "r2_5"
   ]
  },
  {
   "cell_type": "code",
   "execution_count": 60,
   "metadata": {},
   "outputs": [
    {
     "data": {
      "text/plain": [
       "array([326.81612777, 369.57859339, 370.82418025, 439.05613854,\n",
       "       444.16916821])"
      ]
     },
     "execution_count": 60,
     "metadata": {},
     "output_type": "execute_result"
    }
   ],
   "source": [
    "y_pred_model1 = model1.predict(X_train[['Weight','Weight1', 'Length', 'Height', 'Width']])\n",
    "y_pred_model1[:5]"
   ]
  },
  {
   "cell_type": "code",
   "execution_count": 61,
   "metadata": {},
   "outputs": [
    {
     "data": {
      "text/plain": [
       "120.86305864300286"
      ]
     },
     "execution_count": 61,
     "metadata": {},
     "output_type": "execute_result"
    }
   ],
   "source": [
    "lin_rmse_model1 = np.sqrt(mean_squared_error(y_train, y_pred_model1))\n",
    "lin_rmse_model1"
   ]
  },
  {
   "cell_type": "code",
   "execution_count": 62,
   "metadata": {},
   "outputs": [
    {
     "data": {
      "text/html": [
       "<table class=\"simpletable\">\n",
       "<caption>OLS Regression Results</caption>\n",
       "<tr>\n",
       "  <th>Dep. Variable:</th>          <td>Cost</td>       <th>  R-squared:         </th> <td>   0.885</td>\n",
       "</tr>\n",
       "<tr>\n",
       "  <th>Model:</th>                   <td>OLS</td>       <th>  Adj. R-squared:    </th> <td>   0.882</td>\n",
       "</tr>\n",
       "<tr>\n",
       "  <th>Method:</th>             <td>Least Squares</td>  <th>  F-statistic:       </th> <td>   236.2</td>\n",
       "</tr>\n",
       "<tr>\n",
       "  <th>Date:</th>             <td>Thu, 01 Oct 2020</td> <th>  Prob (F-statistic):</th> <td>4.95e-70</td>\n",
       "</tr>\n",
       "<tr>\n",
       "  <th>Time:</th>                 <td>14:39:19</td>     <th>  Log-Likelihood:    </th> <td> -987.96</td>\n",
       "</tr>\n",
       "<tr>\n",
       "  <th>No. Observations:</th>      <td>   159</td>      <th>  AIC:               </th> <td>   1988.</td>\n",
       "</tr>\n",
       "<tr>\n",
       "  <th>Df Residuals:</th>          <td>   153</td>      <th>  BIC:               </th> <td>   2006.</td>\n",
       "</tr>\n",
       "<tr>\n",
       "  <th>Df Model:</th>              <td>     5</td>      <th>                     </th>     <td> </td>   \n",
       "</tr>\n",
       "<tr>\n",
       "  <th>Covariance Type:</th>      <td>nonrobust</td>    <th>                     </th>     <td> </td>   \n",
       "</tr>\n",
       "</table>\n",
       "<table class=\"simpletable\">\n",
       "<tr>\n",
       "     <td></td>        <th>coef</th>     <th>std err</th>      <th>t</th>      <th>P>|t|</th>  <th>[0.025</th>    <th>0.975]</th>  \n",
       "</tr>\n",
       "<tr>\n",
       "  <th>const</th>   <td>  398.3264</td> <td>    9.771</td> <td>   40.765</td> <td> 0.000</td> <td>  379.023</td> <td>  417.630</td>\n",
       "</tr>\n",
       "<tr>\n",
       "  <th>Weight</th>  <td>  621.3670</td> <td>  400.678</td> <td>    1.551</td> <td> 0.123</td> <td> -170.209</td> <td> 1412.943</td>\n",
       "</tr>\n",
       "<tr>\n",
       "  <th>Weight1</th> <td>  -69.7225</td> <td>  446.091</td> <td>   -0.156</td> <td> 0.876</td> <td> -951.016</td> <td>  811.571</td>\n",
       "</tr>\n",
       "<tr>\n",
       "  <th>Length</th>  <td> -335.9401</td> <td>  200.838</td> <td>   -1.673</td> <td> 0.096</td> <td> -732.713</td> <td>   60.833</td>\n",
       "</tr>\n",
       "<tr>\n",
       "  <th>Height</th>  <td>  120.9063</td> <td>   37.297</td> <td>    3.242</td> <td> 0.001</td> <td>   47.222</td> <td>  194.591</td>\n",
       "</tr>\n",
       "<tr>\n",
       "  <th>Width</th>   <td>   37.7663</td> <td>   34.235</td> <td>    1.103</td> <td> 0.272</td> <td>  -29.867</td> <td>  105.400</td>\n",
       "</tr>\n",
       "</table>\n",
       "<table class=\"simpletable\">\n",
       "<tr>\n",
       "  <th>Omnibus:</th>       <td>20.989</td> <th>  Durbin-Watson:     </th> <td>   0.424</td>\n",
       "</tr>\n",
       "<tr>\n",
       "  <th>Prob(Omnibus):</th> <td> 0.000</td> <th>  Jarque-Bera (JB):  </th> <td>  27.307</td>\n",
       "</tr>\n",
       "<tr>\n",
       "  <th>Skew:</th>          <td> 0.792</td> <th>  Prob(JB):          </th> <td>1.18e-06</td>\n",
       "</tr>\n",
       "<tr>\n",
       "  <th>Kurtosis:</th>      <td> 4.269</td> <th>  Cond. No.          </th> <td>    125.</td>\n",
       "</tr>\n",
       "</table><br/><br/>Warnings:<br/>[1] Standard Errors assume that the covariance matrix of the errors is correctly specified."
      ],
      "text/plain": [
       "<class 'statsmodels.iolib.summary.Summary'>\n",
       "\"\"\"\n",
       "                            OLS Regression Results                            \n",
       "==============================================================================\n",
       "Dep. Variable:                   Cost   R-squared:                       0.885\n",
       "Model:                            OLS   Adj. R-squared:                  0.882\n",
       "Method:                 Least Squares   F-statistic:                     236.2\n",
       "Date:                Thu, 01 Oct 2020   Prob (F-statistic):           4.95e-70\n",
       "Time:                        14:39:19   Log-Likelihood:                -987.96\n",
       "No. Observations:                 159   AIC:                             1988.\n",
       "Df Residuals:                     153   BIC:                             2006.\n",
       "Df Model:                           5                                         \n",
       "Covariance Type:            nonrobust                                         \n",
       "==============================================================================\n",
       "                 coef    std err          t      P>|t|      [0.025      0.975]\n",
       "------------------------------------------------------------------------------\n",
       "const        398.3264      9.771     40.765      0.000     379.023     417.630\n",
       "Weight       621.3670    400.678      1.551      0.123    -170.209    1412.943\n",
       "Weight1      -69.7225    446.091     -0.156      0.876    -951.016     811.571\n",
       "Length      -335.9401    200.838     -1.673      0.096    -732.713      60.833\n",
       "Height       120.9063     37.297      3.242      0.001      47.222     194.591\n",
       "Width         37.7663     34.235      1.103      0.272     -29.867     105.400\n",
       "==============================================================================\n",
       "Omnibus:                       20.989   Durbin-Watson:                   0.424\n",
       "Prob(Omnibus):                  0.000   Jarque-Bera (JB):               27.307\n",
       "Skew:                           0.792   Prob(JB):                     1.18e-06\n",
       "Kurtosis:                       4.269   Cond. No.                         125.\n",
       "==============================================================================\n",
       "\n",
       "Warnings:\n",
       "[1] Standard Errors assume that the covariance matrix of the errors is correctly specified.\n",
       "\"\"\""
      ]
     },
     "execution_count": 62,
     "metadata": {},
     "output_type": "execute_result"
    }
   ],
   "source": [
    "import statsmodels.api as sm\n",
    "X = sm.add_constant(X_train[['Weight','Weight1', 'Length', 'Height', 'Width']])\n",
    "model_s1 = sm.OLS( y_train, X)\n",
    "\n",
    "\n",
    "r = model_s1.fit()\n",
    "\n",
    "r.summary()"
   ]
  },
  {
   "cell_type": "code",
   "execution_count": 63,
   "metadata": {},
   "outputs": [
    {
     "data": {
      "text/plain": [
       "0.8815379041531377"
      ]
     },
     "execution_count": 63,
     "metadata": {},
     "output_type": "execute_result"
    }
   ],
   "source": [
    "adjusted_r2_5 = r.rsquared_adj\n",
    "adjusted_r2_5"
   ]
  },
  {
   "cell_type": "markdown",
   "metadata": {},
   "source": [
    "**Creation of Adjusted R-squared values column in the Table for comparison**"
   ]
  },
  {
   "cell_type": "code",
   "execution_count": 64,
   "metadata": {},
   "outputs": [
    {
     "data": {
      "text/html": [
       "<div>\n",
       "<style scoped>\n",
       "    .dataframe tbody tr th:only-of-type {\n",
       "        vertical-align: middle;\n",
       "    }\n",
       "\n",
       "    .dataframe tbody tr th {\n",
       "        vertical-align: top;\n",
       "    }\n",
       "\n",
       "    .dataframe thead th {\n",
       "        text-align: right;\n",
       "    }\n",
       "</style>\n",
       "<table border=\"1\" class=\"dataframe\">\n",
       "  <thead>\n",
       "    <tr style=\"text-align: right;\">\n",
       "      <th></th>\n",
       "      <th>Features Used</th>\n",
       "      <th>Num_features</th>\n",
       "      <th>R-Squared value</th>\n",
       "      <th>R_squared_adj</th>\n",
       "    </tr>\n",
       "  </thead>\n",
       "  <tbody>\n",
       "    <tr>\n",
       "      <th>0</th>\n",
       "      <td>'Weight'</td>\n",
       "      <td>1</td>\n",
       "      <td>0.838528</td>\n",
       "      <td>0.837499</td>\n",
       "    </tr>\n",
       "    <tr>\n",
       "      <th>1</th>\n",
       "      <td>'Weight','Weight1'</td>\n",
       "      <td>2</td>\n",
       "      <td>0.850141</td>\n",
       "      <td>0.848220</td>\n",
       "    </tr>\n",
       "    <tr>\n",
       "      <th>2</th>\n",
       "      <td>'Weight','Weight1', 'Length'</td>\n",
       "      <td>3</td>\n",
       "      <td>0.853801</td>\n",
       "      <td>0.850971</td>\n",
       "    </tr>\n",
       "    <tr>\n",
       "      <th>3</th>\n",
       "      <td>'Weight','Weight1', 'Length', 'Height'</td>\n",
       "      <td>4</td>\n",
       "      <td>0.884374</td>\n",
       "      <td>0.881371</td>\n",
       "    </tr>\n",
       "    <tr>\n",
       "      <th>4</th>\n",
       "      <td>'Weight','Weight1', 'Length', 'Height', 'Width'</td>\n",
       "      <td>5</td>\n",
       "      <td>0.885287</td>\n",
       "      <td>0.881538</td>\n",
       "    </tr>\n",
       "  </tbody>\n",
       "</table>\n",
       "</div>"
      ],
      "text/plain": [
       "                                     Features Used  Num_features  \\\n",
       "0                                         'Weight'             1   \n",
       "1                               'Weight','Weight1'             2   \n",
       "2                     'Weight','Weight1', 'Length'             3   \n",
       "3           'Weight','Weight1', 'Length', 'Height'             4   \n",
       "4  'Weight','Weight1', 'Length', 'Height', 'Width'             5   \n",
       "\n",
       "   R-Squared value  R_squared_adj  \n",
       "0         0.838528       0.837499  \n",
       "1         0.850141       0.848220  \n",
       "2         0.853801       0.850971  \n",
       "3         0.884374       0.881371  \n",
       "4         0.885287       0.881538  "
      ]
     },
     "execution_count": 64,
     "metadata": {},
     "output_type": "execute_result"
    }
   ],
   "source": [
    "#creation of a Dataframe using Dictionary\n",
    "compare_dict = {'Features Used' : [\"'Weight'\", \"'Weight','Weight1'\", \"'Weight','Weight1', 'Length'\", \"'Weight','Weight1', 'Length', 'Height'\" , \"'Weight','Weight1', 'Length', 'Height', 'Width'\"], 'Num_features' : [1,2,3,4,5], 'R-Squared value' : [r2_1, r2_2, r2_3, r2_4, r2_5]}\n",
    "Table_Comparison = pd.DataFrame(compare_dict)\n",
    "\n",
    "#no of sample size\n",
    "m = len(y_train)\n",
    "\n",
    "#creation of a new column 'R_squared_adj'\n",
    "Table_Comparison['R_squared_adj'] = 1 - ( (1 - Table_Comparison['R-Squared value'])*(m-1)/(m-Table_Comparison['Num_features'] -1))\n",
    "\n",
    "\n",
    "Table_Comparison"
   ]
  },
  {
   "cell_type": "markdown",
   "metadata": {},
   "source": [
    "The table above is used for comparison of different attributes which were added one by one.\n",
    "we can compare the different attributes in each step by looking at the variation of R-2 score.\n",
    "\n",
    "**Observation: **\n",
    "In this case, \n",
    "1. when **'WIDTH'** was added after 'Height', there was no significant variation in R-2 score as well as **Adjusted R-2 score** . \n",
    "2. when **'Length'** was added after 'Weight1', there was no significant variation in R-2 score as well as **Adjusted R-2 score**.\n",
    "Hence, they can be discared for future calculation.\n",
    "\n",
    "**Conclusion:**\n",
    "The parameters selected from forward addition are: **'Weight', 'Weight1', 'Height'**.\n",
    "But we move on to using the Sequential Feature Selection Class which is much more reliable than manual forward addition and it is based on R-squared scoring."
   ]
  },
  {
   "cell_type": "markdown",
   "metadata": {},
   "source": [
    "#### OR\n",
    "\n",
    "#### 1.2. Using Sequential Feature Selection Class from mlxtend.feature_selction module"
   ]
  },
  {
   "cell_type": "code",
   "execution_count": 65,
   "metadata": {
    "scrolled": true
   },
   "outputs": [
    {
     "name": "stdout",
     "output_type": "stream",
     "text": [
      "Requirement already satisfied: mlxtend in c:\\users\\divit\\anaconda3\\lib\\site-packages (0.17.3)\n",
      "Requirement already satisfied: numpy>=1.16.2 in c:\\users\\divit\\anaconda3\\lib\\site-packages (from mlxtend) (1.18.5)\n",
      "Requirement already satisfied: scikit-learn>=0.20.3 in c:\\users\\divit\\anaconda3\\lib\\site-packages (from mlxtend) (0.23.1)\n",
      "Requirement already satisfied: pandas>=0.24.2 in c:\\users\\divit\\anaconda3\\lib\\site-packages (from mlxtend) (1.0.5)\n",
      "Requirement already satisfied: scipy>=1.2.1 in c:\\users\\divit\\anaconda3\\lib\\site-packages (from mlxtend) (1.5.0)\n",
      "Requirement already satisfied: setuptools in c:\\users\\divit\\anaconda3\\lib\\site-packages (from mlxtend) (49.2.0.post20200714)\n",
      "Requirement already satisfied: joblib>=0.13.2 in c:\\users\\divit\\anaconda3\\lib\\site-packages (from mlxtend) (0.16.0)\n",
      "Requirement already satisfied: matplotlib>=3.0.0 in c:\\users\\divit\\anaconda3\\lib\\site-packages (from mlxtend) (3.2.2)\n",
      "Requirement already satisfied: threadpoolctl>=2.0.0 in c:\\users\\divit\\anaconda3\\lib\\site-packages (from scikit-learn>=0.20.3->mlxtend) (2.1.0)\n",
      "Requirement already satisfied: python-dateutil>=2.6.1 in c:\\users\\divit\\anaconda3\\lib\\site-packages (from pandas>=0.24.2->mlxtend) (2.8.1)\n",
      "Requirement already satisfied: pytz>=2017.2 in c:\\users\\divit\\anaconda3\\lib\\site-packages (from pandas>=0.24.2->mlxtend) (2020.1)\n",
      "Requirement already satisfied: cycler>=0.10 in c:\\users\\divit\\anaconda3\\lib\\site-packages (from matplotlib>=3.0.0->mlxtend) (0.10.0)\n",
      "Requirement already satisfied: pyparsing!=2.0.4,!=2.1.2,!=2.1.6,>=2.0.1 in c:\\users\\divit\\anaconda3\\lib\\site-packages (from matplotlib>=3.0.0->mlxtend) (2.4.7)\n",
      "Requirement already satisfied: kiwisolver>=1.0.1 in c:\\users\\divit\\anaconda3\\lib\\site-packages (from matplotlib>=3.0.0->mlxtend) (1.2.0)\n",
      "Requirement already satisfied: six>=1.5 in c:\\users\\divit\\anaconda3\\lib\\site-packages (from python-dateutil>=2.6.1->pandas>=0.24.2->mlxtend) (1.15.0)\n",
      "Note: you may need to restart the kernel to use updated packages.\n"
     ]
    }
   ],
   "source": [
    "pip install mlxtend"
   ]
  },
  {
   "cell_type": "markdown",
   "metadata": {},
   "source": [
    "**SequentialFeatureSelector()** function accepts the following major arguments :\n",
    "\n",
    "1. **LinearRegression()** as an estimator for the entire process. Similarly, it can be any classification based algorithm.\n",
    "\n",
    "2. **k_features** indicates the number of features to be selected. It can be any random value, but the optimal value can be found by analyzing and visualizing the scores for different numbers of features.\n",
    "\n",
    "3. **forward** and **floating** arguments for different flavors of wrapper methods, here, **forward = True** and **floating = False** are for forward selection technique.\n",
    "\n",
    "4. **Scoring argument** specifies the evaluation criterion to be used. For regression problems, there is only **r2** score in default implementation. Similarly for classification, it can be accuracy, precision, recall, f1-score, etc.\n",
    "\n",
    "5. **cv** argument is for k-fold cross-validation.\n",
    "\n",
    "[Reference_Hyperlink](https://towardsdatascience.com/feature-selection-using-wrapper-methods-in-python-f0d352b346f)"
   ]
  },
  {
   "cell_type": "code",
   "execution_count": 66,
   "metadata": {},
   "outputs": [
    {
     "data": {
      "text/plain": [
       "SequentialFeatureSelector(cv=0, estimator=LinearRegression(), k_features=4,\n",
       "                          scoring='r2')"
      ]
     },
     "execution_count": 66,
     "metadata": {},
     "output_type": "execute_result"
    }
   ],
   "source": [
    "from mlxtend.feature_selection import SequentialFeatureSelector\n",
    "\n",
    "#\n",
    "SFS = SequentialFeatureSelector(LinearRegression(), k_features = 4, forward = True, floating = False, scoring = 'r2', cv = 0)\n",
    "\n",
    "# applying the Forward selection technique to the dataset\n",
    "SFS.fit(X_train, y_train)"
   ]
  },
  {
   "cell_type": "code",
   "execution_count": 67,
   "metadata": {},
   "outputs": [
    {
     "data": {
      "text/plain": [
       "('Weight', 'Length', 'Height', 'Width')"
      ]
     },
     "execution_count": 67,
     "metadata": {},
     "output_type": "execute_result"
    }
   ],
   "source": [
    "# Gives the key features\n",
    "SFS.k_feature_names_"
   ]
  },
  {
   "cell_type": "code",
   "execution_count": 68,
   "metadata": {},
   "outputs": [
    {
     "data": {
      "text/plain": [
       "0.8852683890437998"
      ]
     },
     "execution_count": 68,
     "metadata": {},
     "output_type": "execute_result"
    }
   ],
   "source": [
    "# Gives the key features selected by the technique after comparing the R-quared values\n",
    "r2_sfs = SFS.k_score_\n",
    "r2_sfs"
   ]
  },
  {
   "cell_type": "markdown",
   "metadata": {},
   "source": [
    "I tried with three cases:\n",
    "1. **k_features = 5**,  gives the r-square score of 0.8852867046546207\n",
    "2. **k_features = 4**,  gives the r-square score of 0.8852683890437998\n",
    "3. **k_features = 3**, gives the r-square score of 0.8778407913853106\n",
    "\n",
    "Hence, we choose the number of features to be selected as 4 as the variation was huge if it was 3 and no difference if it was 5. Here, Weight1 was dropped from the main dataset."
   ]
  },
  {
   "cell_type": "code",
   "execution_count": 69,
   "metadata": {},
   "outputs": [
    {
     "data": {
      "text/html": [
       "<div>\n",
       "<style scoped>\n",
       "    .dataframe tbody tr th:only-of-type {\n",
       "        vertical-align: middle;\n",
       "    }\n",
       "\n",
       "    .dataframe tbody tr th {\n",
       "        vertical-align: top;\n",
       "    }\n",
       "\n",
       "    .dataframe thead th {\n",
       "        text-align: right;\n",
       "    }\n",
       "</style>\n",
       "<table border=\"1\" class=\"dataframe\">\n",
       "  <thead>\n",
       "    <tr style=\"text-align: right;\">\n",
       "      <th></th>\n",
       "      <th>Weight</th>\n",
       "      <th>Length</th>\n",
       "      <th>Height</th>\n",
       "      <th>Width</th>\n",
       "    </tr>\n",
       "  </thead>\n",
       "  <tbody>\n",
       "    <tr>\n",
       "      <th>0</th>\n",
       "      <td>-0.305789</td>\n",
       "      <td>-0.106020</td>\n",
       "      <td>0.596579</td>\n",
       "      <td>-0.236529</td>\n",
       "    </tr>\n",
       "    <tr>\n",
       "      <th>1</th>\n",
       "      <td>-0.225507</td>\n",
       "      <td>-0.002337</td>\n",
       "      <td>0.821261</td>\n",
       "      <td>-0.066579</td>\n",
       "    </tr>\n",
       "    <tr>\n",
       "      <th>2</th>\n",
       "      <td>-0.235542</td>\n",
       "      <td>-0.010977</td>\n",
       "      <td>0.797341</td>\n",
       "      <td>0.165793</td>\n",
       "    </tr>\n",
       "    <tr>\n",
       "      <th>3</th>\n",
       "      <td>0.005302</td>\n",
       "      <td>0.196390</td>\n",
       "      <td>0.879771</td>\n",
       "      <td>0.022621</td>\n",
       "    </tr>\n",
       "    <tr>\n",
       "      <th>4</th>\n",
       "      <td>0.025372</td>\n",
       "      <td>0.239592</td>\n",
       "      <td>0.812835</td>\n",
       "      <td>0.426371</td>\n",
       "    </tr>\n",
       "    <tr>\n",
       "      <th>...</th>\n",
       "      <td>...</td>\n",
       "      <td>...</td>\n",
       "      <td>...</td>\n",
       "      <td>...</td>\n",
       "    </tr>\n",
       "    <tr>\n",
       "      <th>154</th>\n",
       "      <td>-1.479903</td>\n",
       "      <td>-1.540309</td>\n",
       "      <td>-1.610359</td>\n",
       "      <td>-1.799403</td>\n",
       "    </tr>\n",
       "    <tr>\n",
       "      <th>155</th>\n",
       "      <td>-1.459833</td>\n",
       "      <td>-1.531669</td>\n",
       "      <td>-1.530878</td>\n",
       "      <td>-1.873547</td>\n",
       "    </tr>\n",
       "    <tr>\n",
       "      <th>156</th>\n",
       "      <td>-1.419692</td>\n",
       "      <td>-1.505748</td>\n",
       "      <td>-1.566687</td>\n",
       "      <td>-1.881402</td>\n",
       "    </tr>\n",
       "    <tr>\n",
       "      <th>157</th>\n",
       "      <td>-1.309305</td>\n",
       "      <td>-1.384784</td>\n",
       "      <td>-1.427243</td>\n",
       "      <td>-1.398568</td>\n",
       "    </tr>\n",
       "    <tr>\n",
       "      <th>158</th>\n",
       "      <td>-1.249094</td>\n",
       "      <td>-1.298381</td>\n",
       "      <td>-1.413341</td>\n",
       "      <td>-1.510440</td>\n",
       "    </tr>\n",
       "  </tbody>\n",
       "</table>\n",
       "<p>159 rows × 4 columns</p>\n",
       "</div>"
      ],
      "text/plain": [
       "       Weight    Length    Height     Width\n",
       "0   -0.305789 -0.106020  0.596579 -0.236529\n",
       "1   -0.225507 -0.002337  0.821261 -0.066579\n",
       "2   -0.235542 -0.010977  0.797341  0.165793\n",
       "3    0.005302  0.196390  0.879771  0.022621\n",
       "4    0.025372  0.239592  0.812835  0.426371\n",
       "..        ...       ...       ...       ...\n",
       "154 -1.479903 -1.540309 -1.610359 -1.799403\n",
       "155 -1.459833 -1.531669 -1.530878 -1.873547\n",
       "156 -1.419692 -1.505748 -1.566687 -1.881402\n",
       "157 -1.309305 -1.384784 -1.427243 -1.398568\n",
       "158 -1.249094 -1.298381 -1.413341 -1.510440\n",
       "\n",
       "[159 rows x 4 columns]"
      ]
     },
     "execution_count": 69,
     "metadata": {},
     "output_type": "execute_result"
    }
   ],
   "source": [
    "#Transforming the dataset to the key features only ranked based on the r-squared scoring\n",
    "X_train_sfs_f = SFS.transform(X_train)\n",
    "\n",
    "X_train_sfs_f_df = pd.DataFrame(X_train_sfs_f)\n",
    "\n",
    "X_train_sfs_f_df.columns = ['Weight', 'Length', 'Height', 'Width']\n",
    "\n",
    "\n",
    "X_train_sfs_f_df"
   ]
  },
  {
   "cell_type": "code",
   "execution_count": 70,
   "metadata": {},
   "outputs": [
    {
     "data": {
      "text/plain": [
       "0.8852683890437998"
      ]
     },
     "execution_count": 70,
     "metadata": {},
     "output_type": "execute_result"
    }
   ],
   "source": [
    "#creating the multiple linear regrression model for the selected attributes\n",
    "model1 = LinearRegression()\n",
    "\n",
    "model1.fit(X_train_sfs_f_df, y_train)\n",
    "\n",
    "r2_sfs_f = model1.score(X_train_sfs_f_df, y_train)\n",
    "r2_sfs_f"
   ]
  },
  {
   "cell_type": "code",
   "execution_count": 71,
   "metadata": {
    "scrolled": true
   },
   "outputs": [
    {
     "data": {
      "text/plain": [
       "398.32641509433967"
      ]
     },
     "execution_count": 71,
     "metadata": {},
     "output_type": "execute_result"
    }
   ],
   "source": [
    "#Intercept C in the multiple linear regression Equation\n",
    "model1.intercept_"
   ]
  },
  {
   "cell_type": "code",
   "execution_count": 72,
   "metadata": {},
   "outputs": [
    {
     "data": {
      "text/plain": [
       "array([ 565.38848272, -348.7203526 ,  121.57902204,   36.09084694])"
      ]
     },
     "execution_count": 72,
     "metadata": {},
     "output_type": "execute_result"
    }
   ],
   "source": [
    "model1.coef_"
   ]
  },
  {
   "cell_type": "code",
   "execution_count": 73,
   "metadata": {},
   "outputs": [
    {
     "data": {
      "text/html": [
       "<div>\n",
       "<style scoped>\n",
       "    .dataframe tbody tr th:only-of-type {\n",
       "        vertical-align: middle;\n",
       "    }\n",
       "\n",
       "    .dataframe tbody tr th {\n",
       "        vertical-align: top;\n",
       "    }\n",
       "\n",
       "    .dataframe thead th {\n",
       "        text-align: right;\n",
       "    }\n",
       "</style>\n",
       "<table border=\"1\" class=\"dataframe\">\n",
       "  <thead>\n",
       "    <tr style=\"text-align: right;\">\n",
       "      <th></th>\n",
       "      <th>Coefficients obtained After forward Selection</th>\n",
       "    </tr>\n",
       "  </thead>\n",
       "  <tbody>\n",
       "    <tr>\n",
       "      <th>Weight</th>\n",
       "      <td>565.388483</td>\n",
       "    </tr>\n",
       "    <tr>\n",
       "      <th>Length</th>\n",
       "      <td>-348.720353</td>\n",
       "    </tr>\n",
       "    <tr>\n",
       "      <th>Height</th>\n",
       "      <td>121.579022</td>\n",
       "    </tr>\n",
       "    <tr>\n",
       "      <th>Width</th>\n",
       "      <td>36.090847</td>\n",
       "    </tr>\n",
       "  </tbody>\n",
       "</table>\n",
       "</div>"
      ],
      "text/plain": [
       "        Coefficients obtained After forward Selection\n",
       "Weight                                     565.388483\n",
       "Length                                    -348.720353\n",
       "Height                                     121.579022\n",
       "Width                                       36.090847"
      ]
     },
     "execution_count": 73,
     "metadata": {},
     "output_type": "execute_result"
    }
   ],
   "source": [
    "# creation of the dataframe of coefficient for better representation\n",
    "model_1_coeff_sfs_f = pd.DataFrame(model1.coef_)\n",
    "\n",
    "#labelling column\n",
    "model_1_coeff_sfs_f.columns = ['Coefficients obtained After forward Selection']\n",
    "\n",
    "#'labelling rows = independent variable'\n",
    "model_1_coeff_sfs_f.index = ['Weight', 'Length', 'Height', 'Width']\n",
    "model_1_coeff_sfs_f"
   ]
  },
  {
   "cell_type": "code",
   "execution_count": 74,
   "metadata": {},
   "outputs": [
    {
     "data": {
      "text/plain": [
       "array([326.40340862, 369.08723052, 371.90493603, 440.6168111 ,\n",
       "       443.33272981])"
      ]
     },
     "execution_count": 74,
     "metadata": {},
     "output_type": "execute_result"
    }
   ],
   "source": [
    "#Calculation of predicted cost values by the model\n",
    "y_pred_train_sfs_f = model1.predict(X_train_sfs_f_df)\n",
    "y_pred_train_sfs_f[:5]"
   ]
  },
  {
   "cell_type": "code",
   "execution_count": 75,
   "metadata": {},
   "outputs": [
    {
     "data": {
      "text/plain": [
       "120.87270701193734"
      ]
     },
     "execution_count": 75,
     "metadata": {},
     "output_type": "execute_result"
    }
   ],
   "source": [
    "#Calculation of RMSE\n",
    "lin_rmse_sfs_f = np.sqrt(mean_squared_error(y_train, y_pred_train_sfs_f))\n",
    "lin_rmse_sfs_f"
   ]
  },
  {
   "cell_type": "code",
   "execution_count": 76,
   "metadata": {},
   "outputs": [
    {
     "data": {
      "text/html": [
       "<div>\n",
       "<style scoped>\n",
       "    .dataframe tbody tr th:only-of-type {\n",
       "        vertical-align: middle;\n",
       "    }\n",
       "\n",
       "    .dataframe tbody tr th {\n",
       "        vertical-align: top;\n",
       "    }\n",
       "\n",
       "    .dataframe thead th {\n",
       "        text-align: right;\n",
       "    }\n",
       "</style>\n",
       "<table border=\"1\" class=\"dataframe\">\n",
       "  <thead>\n",
       "    <tr style=\"text-align: right;\">\n",
       "      <th></th>\n",
       "      <th>Cost_sfs_prediction</th>\n",
       "    </tr>\n",
       "  </thead>\n",
       "  <tbody>\n",
       "    <tr>\n",
       "      <th>0</th>\n",
       "      <td>326.403409</td>\n",
       "    </tr>\n",
       "    <tr>\n",
       "      <th>1</th>\n",
       "      <td>369.087231</td>\n",
       "    </tr>\n",
       "    <tr>\n",
       "      <th>2</th>\n",
       "      <td>371.904936</td>\n",
       "    </tr>\n",
       "    <tr>\n",
       "      <th>3</th>\n",
       "      <td>440.616811</td>\n",
       "    </tr>\n",
       "    <tr>\n",
       "      <th>4</th>\n",
       "      <td>443.332730</td>\n",
       "    </tr>\n",
       "    <tr>\n",
       "      <th>...</th>\n",
       "      <td>...</td>\n",
       "    </tr>\n",
       "    <tr>\n",
       "      <th>154</th>\n",
       "      <td>-161.984398</td>\n",
       "    </tr>\n",
       "    <tr>\n",
       "      <th>155</th>\n",
       "      <td>-146.662612</td>\n",
       "    </tr>\n",
       "    <tr>\n",
       "      <th>156</th>\n",
       "      <td>-137.643752</td>\n",
       "    </tr>\n",
       "    <tr>\n",
       "      <th>157</th>\n",
       "      <td>-83.035704</td>\n",
       "    </tr>\n",
       "    <tr>\n",
       "      <th>158</th>\n",
       "      <td>-81.470901</td>\n",
       "    </tr>\n",
       "  </tbody>\n",
       "</table>\n",
       "<p>159 rows × 1 columns</p>\n",
       "</div>"
      ],
      "text/plain": [
       "     Cost_sfs_prediction\n",
       "0             326.403409\n",
       "1             369.087231\n",
       "2             371.904936\n",
       "3             440.616811\n",
       "4             443.332730\n",
       "..                   ...\n",
       "154          -161.984398\n",
       "155          -146.662612\n",
       "156          -137.643752\n",
       "157           -83.035704\n",
       "158           -81.470901\n",
       "\n",
       "[159 rows x 1 columns]"
      ]
     },
     "execution_count": 76,
     "metadata": {},
     "output_type": "execute_result"
    }
   ],
   "source": [
    "#converting the array obtained of the scaled values to a dataframe\n",
    "y_pred_sfs_f_df = pd.DataFrame(y_pred_train_sfs_f)\n",
    "\n",
    "#Labelling the columns\n",
    "y_pred_sfs_f_df.columns = ['Cost_sfs_prediction']\n",
    "y_pred_sfs_f_df"
   ]
  },
  {
   "cell_type": "markdown",
   "metadata": {},
   "source": [
    "#### **Conclusion for Forward Selection:**\n",
    "\n",
    "We choose the SequentialFeatureSelection technique because of it's built-in implementation for forward selection and gives a **r-squared value of 0.8852683890437998** and **RMSE = 120.87270701193734**\n"
   ]
  },
  {
   "cell_type": "markdown",
   "metadata": {},
   "source": [
    "### 2. Backward Elimination"
   ]
  },
  {
   "cell_type": "markdown",
   "metadata": {},
   "source": [
    "The procedure starts with the full set of attributes. At each step, it removes the worst attribute remaining in the set."
   ]
  },
  {
   "cell_type": "markdown",
   "metadata": {},
   "source": [
    "Note: We can manually remove the features one by one and calculate the r-2 and adjusted r-2 for the same. Basically, it is the vice versa of frward addition done above. Hence, I will be using SequentialFeatureSelector() function only for backward elimination"
   ]
  },
  {
   "cell_type": "markdown",
   "metadata": {},
   "source": [
    "This is also done by SequentialFeatureSelector() function in the mlxtend library.\n",
    "\n",
    "Key changes compared to Forward Selection include: **forward = False**"
   ]
  },
  {
   "cell_type": "code",
   "execution_count": 77,
   "metadata": {},
   "outputs": [
    {
     "data": {
      "text/plain": [
       "SequentialFeatureSelector(cv=0, estimator=LinearRegression(), forward=False,\n",
       "                          k_features=3, scoring='r2')"
      ]
     },
     "execution_count": 77,
     "metadata": {},
     "output_type": "execute_result"
    }
   ],
   "source": [
    "from mlxtend.feature_selection import SequentialFeatureSelector\n",
    "\n",
    "#Creating an object of class SequentialFeatureSelector for backward elimination \n",
    "SFS_b = SequentialFeatureSelector(LinearRegression(), k_features = 3, forward = False, floating = False, scoring = 'r2', cv = 0)\n",
    "\n",
    "# applying the backward Selection technique to the dataset\n",
    "SFS_b.fit(X_train, y_train)"
   ]
  },
  {
   "cell_type": "code",
   "execution_count": 78,
   "metadata": {},
   "outputs": [
    {
     "data": {
      "text/plain": [
       "('Weight', 'Length', 'Height')"
      ]
     },
     "execution_count": 78,
     "metadata": {},
     "output_type": "execute_result"
    }
   ],
   "source": [
    "# Gives the key features selected by the technique after comparing the R-quared values\n",
    "SFS_b.k_feature_names_"
   ]
  },
  {
   "cell_type": "code",
   "execution_count": 79,
   "metadata": {},
   "outputs": [
    {
     "data": {
      "text/plain": [
       "0.8843445409517305"
      ]
     },
     "execution_count": 79,
     "metadata": {},
     "output_type": "execute_result"
    }
   ],
   "source": [
    "r2_sfs_b = SFS_b.k_score_\n",
    "r2_sfs_b"
   ]
  },
  {
   "cell_type": "markdown",
   "metadata": {},
   "source": [
    "I tried with three cases:\n",
    "1. **k_features = 4**,  gives the r-square score of 0.8852683890437998\n",
    "2. **k_features = 3**, gives the r-square score of 0.8843445409517305\n",
    "3. **k_features = 2**,  gives the r-square score of 0.8763117539819553\n",
    "\n",
    "Hence, we choose the number of features to be selected as 3 as the variation was huge if it was 2 and no significant difference if it was 4. Here, Weight1 and Width was dropped from the main dataset."
   ]
  },
  {
   "cell_type": "code",
   "execution_count": 80,
   "metadata": {},
   "outputs": [
    {
     "data": {
      "text/html": [
       "<div>\n",
       "<style scoped>\n",
       "    .dataframe tbody tr th:only-of-type {\n",
       "        vertical-align: middle;\n",
       "    }\n",
       "\n",
       "    .dataframe tbody tr th {\n",
       "        vertical-align: top;\n",
       "    }\n",
       "\n",
       "    .dataframe thead th {\n",
       "        text-align: right;\n",
       "    }\n",
       "</style>\n",
       "<table border=\"1\" class=\"dataframe\">\n",
       "  <thead>\n",
       "    <tr style=\"text-align: right;\">\n",
       "      <th></th>\n",
       "      <th>Weight</th>\n",
       "      <th>Length</th>\n",
       "      <th>Height</th>\n",
       "    </tr>\n",
       "  </thead>\n",
       "  <tbody>\n",
       "    <tr>\n",
       "      <th>0</th>\n",
       "      <td>-0.305789</td>\n",
       "      <td>-0.106020</td>\n",
       "      <td>0.596579</td>\n",
       "    </tr>\n",
       "    <tr>\n",
       "      <th>1</th>\n",
       "      <td>-0.225507</td>\n",
       "      <td>-0.002337</td>\n",
       "      <td>0.821261</td>\n",
       "    </tr>\n",
       "    <tr>\n",
       "      <th>2</th>\n",
       "      <td>-0.235542</td>\n",
       "      <td>-0.010977</td>\n",
       "      <td>0.797341</td>\n",
       "    </tr>\n",
       "    <tr>\n",
       "      <th>3</th>\n",
       "      <td>0.005302</td>\n",
       "      <td>0.196390</td>\n",
       "      <td>0.879771</td>\n",
       "    </tr>\n",
       "    <tr>\n",
       "      <th>4</th>\n",
       "      <td>0.025372</td>\n",
       "      <td>0.239592</td>\n",
       "      <td>0.812835</td>\n",
       "    </tr>\n",
       "    <tr>\n",
       "      <th>...</th>\n",
       "      <td>...</td>\n",
       "      <td>...</td>\n",
       "      <td>...</td>\n",
       "    </tr>\n",
       "    <tr>\n",
       "      <th>154</th>\n",
       "      <td>-1.479903</td>\n",
       "      <td>-1.540309</td>\n",
       "      <td>-1.610359</td>\n",
       "    </tr>\n",
       "    <tr>\n",
       "      <th>155</th>\n",
       "      <td>-1.459833</td>\n",
       "      <td>-1.531669</td>\n",
       "      <td>-1.530878</td>\n",
       "    </tr>\n",
       "    <tr>\n",
       "      <th>156</th>\n",
       "      <td>-1.419692</td>\n",
       "      <td>-1.505748</td>\n",
       "      <td>-1.566687</td>\n",
       "    </tr>\n",
       "    <tr>\n",
       "      <th>157</th>\n",
       "      <td>-1.309305</td>\n",
       "      <td>-1.384784</td>\n",
       "      <td>-1.427243</td>\n",
       "    </tr>\n",
       "    <tr>\n",
       "      <th>158</th>\n",
       "      <td>-1.249094</td>\n",
       "      <td>-1.298381</td>\n",
       "      <td>-1.413341</td>\n",
       "    </tr>\n",
       "  </tbody>\n",
       "</table>\n",
       "<p>159 rows × 3 columns</p>\n",
       "</div>"
      ],
      "text/plain": [
       "       Weight    Length    Height\n",
       "0   -0.305789 -0.106020  0.596579\n",
       "1   -0.225507 -0.002337  0.821261\n",
       "2   -0.235542 -0.010977  0.797341\n",
       "3    0.005302  0.196390  0.879771\n",
       "4    0.025372  0.239592  0.812835\n",
       "..        ...       ...       ...\n",
       "154 -1.479903 -1.540309 -1.610359\n",
       "155 -1.459833 -1.531669 -1.530878\n",
       "156 -1.419692 -1.505748 -1.566687\n",
       "157 -1.309305 -1.384784 -1.427243\n",
       "158 -1.249094 -1.298381 -1.413341\n",
       "\n",
       "[159 rows x 3 columns]"
      ]
     },
     "execution_count": 80,
     "metadata": {},
     "output_type": "execute_result"
    }
   ],
   "source": [
    "#Transforming the dataset to the key features only ranked based on the r-squared scoring\n",
    "X_train_sfs_b = SFS_b.transform(X_train)\n",
    "\n",
    "X_train_sfs_b_df = pd.DataFrame(X_train_sfs_b)\n",
    "\n",
    "X_train_sfs_b_df.columns = ['Weight', 'Length', 'Height']\n",
    "\n",
    "\n",
    "X_train_sfs_b_df"
   ]
  },
  {
   "cell_type": "code",
   "execution_count": 81,
   "metadata": {},
   "outputs": [
    {
     "data": {
      "text/plain": [
       "0.8843445409517305"
      ]
     },
     "execution_count": 81,
     "metadata": {},
     "output_type": "execute_result"
    }
   ],
   "source": [
    "#creating the multiple linear regrression model for the selected attributes\n",
    "model2 = LinearRegression()\n",
    "\n",
    "model2.fit(X_train_sfs_b_df, y_train)\n",
    "\n",
    "r2_sfs_b = model2.score(X_train_sfs_b_df, y_train)\n",
    "r2_sfs_b"
   ]
  },
  {
   "cell_type": "code",
   "execution_count": 82,
   "metadata": {
    "scrolled": true
   },
   "outputs": [
    {
     "data": {
      "text/plain": [
       "398.32641509433967"
      ]
     },
     "execution_count": 82,
     "metadata": {},
     "output_type": "execute_result"
    }
   ],
   "source": [
    "#Intercept C in the multiple linear regression Equation\n",
    "model2.intercept_"
   ]
  },
  {
   "cell_type": "code",
   "execution_count": 83,
   "metadata": {},
   "outputs": [
    {
     "data": {
      "text/plain": [
       "array([ 700.80776263, -473.79897282,  153.48796233])"
      ]
     },
     "execution_count": 83,
     "metadata": {},
     "output_type": "execute_result"
    }
   ],
   "source": [
    "model2.coef_"
   ]
  },
  {
   "cell_type": "code",
   "execution_count": 84,
   "metadata": {
    "scrolled": true
   },
   "outputs": [
    {
     "data": {
      "text/html": [
       "<div>\n",
       "<style scoped>\n",
       "    .dataframe tbody tr th:only-of-type {\n",
       "        vertical-align: middle;\n",
       "    }\n",
       "\n",
       "    .dataframe tbody tr th {\n",
       "        vertical-align: top;\n",
       "    }\n",
       "\n",
       "    .dataframe thead th {\n",
       "        text-align: right;\n",
       "    }\n",
       "</style>\n",
       "<table border=\"1\" class=\"dataframe\">\n",
       "  <thead>\n",
       "    <tr style=\"text-align: right;\">\n",
       "      <th></th>\n",
       "      <th>Coefficients obtained After Backward Elimination</th>\n",
       "    </tr>\n",
       "  </thead>\n",
       "  <tbody>\n",
       "    <tr>\n",
       "      <th>Weight</th>\n",
       "      <td>700.807763</td>\n",
       "    </tr>\n",
       "    <tr>\n",
       "      <th>Length</th>\n",
       "      <td>-473.798973</td>\n",
       "    </tr>\n",
       "    <tr>\n",
       "      <th>Height</th>\n",
       "      <td>153.487962</td>\n",
       "    </tr>\n",
       "  </tbody>\n",
       "</table>\n",
       "</div>"
      ],
      "text/plain": [
       "        Coefficients obtained After Backward Elimination\n",
       "Weight                                        700.807763\n",
       "Length                                       -473.798973\n",
       "Height                                        153.487962"
      ]
     },
     "execution_count": 84,
     "metadata": {},
     "output_type": "execute_result"
    }
   ],
   "source": [
    "# creation of the dataframe of coefficient for better representation\n",
    "model_2_coeff_sfs_b = pd.DataFrame(model2.coef_)\n",
    "\n",
    "#labelling column\n",
    "model_2_coeff_sfs_b.columns = ['Coefficients obtained After Backward Elimination']\n",
    "\n",
    "#'labelling rows = independent variable'\n",
    "model_2_coeff_sfs_b.index = ['Weight', 'Length', 'Height']\n",
    "model_2_coeff_sfs_b"
   ]
  },
  {
   "cell_type": "code",
   "execution_count": 85,
   "metadata": {},
   "outputs": [
    {
     "data": {
      "text/plain": [
       "array([325.82732706, 367.44991568, 360.83963775, 444.02670856,\n",
       "       427.34939496])"
      ]
     },
     "execution_count": 85,
     "metadata": {},
     "output_type": "execute_result"
    }
   ],
   "source": [
    "#Calculation of predicted cost values by the model\n",
    "y_pred_train_sfs_b = model2.predict(X_train_sfs_b_df)\n",
    "y_pred_train_sfs_b[:5]"
   ]
  },
  {
   "cell_type": "code",
   "execution_count": 86,
   "metadata": {},
   "outputs": [
    {
     "data": {
      "text/plain": [
       "121.35838016047664"
      ]
     },
     "execution_count": 86,
     "metadata": {},
     "output_type": "execute_result"
    }
   ],
   "source": [
    "#Calculation of RMSE value\n",
    "lin_rmse_sfs_b = np.sqrt(mean_squared_error(y_train, y_pred_train_sfs_b))\n",
    "lin_rmse_sfs_b"
   ]
  },
  {
   "cell_type": "code",
   "execution_count": 87,
   "metadata": {},
   "outputs": [
    {
     "data": {
      "text/html": [
       "<div>\n",
       "<style scoped>\n",
       "    .dataframe tbody tr th:only-of-type {\n",
       "        vertical-align: middle;\n",
       "    }\n",
       "\n",
       "    .dataframe tbody tr th {\n",
       "        vertical-align: top;\n",
       "    }\n",
       "\n",
       "    .dataframe thead th {\n",
       "        text-align: right;\n",
       "    }\n",
       "</style>\n",
       "<table border=\"1\" class=\"dataframe\">\n",
       "  <thead>\n",
       "    <tr style=\"text-align: right;\">\n",
       "      <th></th>\n",
       "      <th>Cost_sfs_B_prediction</th>\n",
       "    </tr>\n",
       "  </thead>\n",
       "  <tbody>\n",
       "    <tr>\n",
       "      <th>0</th>\n",
       "      <td>325.827327</td>\n",
       "    </tr>\n",
       "    <tr>\n",
       "      <th>1</th>\n",
       "      <td>367.449916</td>\n",
       "    </tr>\n",
       "    <tr>\n",
       "      <th>2</th>\n",
       "      <td>360.839638</td>\n",
       "    </tr>\n",
       "    <tr>\n",
       "      <th>3</th>\n",
       "      <td>444.026709</td>\n",
       "    </tr>\n",
       "    <tr>\n",
       "      <th>4</th>\n",
       "      <td>427.349395</td>\n",
       "    </tr>\n",
       "    <tr>\n",
       "      <th>...</th>\n",
       "      <td>...</td>\n",
       "    </tr>\n",
       "    <tr>\n",
       "      <th>154</th>\n",
       "      <td>-156.174941</td>\n",
       "    </tr>\n",
       "    <tr>\n",
       "      <th>155</th>\n",
       "      <td>-134.003848</td>\n",
       "    </tr>\n",
       "    <tr>\n",
       "      <th>156</th>\n",
       "      <td>-123.650447</td>\n",
       "    </tr>\n",
       "    <tr>\n",
       "      <th>157</th>\n",
       "      <td>-82.200328</td>\n",
       "    </tr>\n",
       "    <tr>\n",
       "      <th>158</th>\n",
       "      <td>-78.807804</td>\n",
       "    </tr>\n",
       "  </tbody>\n",
       "</table>\n",
       "<p>159 rows × 1 columns</p>\n",
       "</div>"
      ],
      "text/plain": [
       "     Cost_sfs_B_prediction\n",
       "0               325.827327\n",
       "1               367.449916\n",
       "2               360.839638\n",
       "3               444.026709\n",
       "4               427.349395\n",
       "..                     ...\n",
       "154            -156.174941\n",
       "155            -134.003848\n",
       "156            -123.650447\n",
       "157             -82.200328\n",
       "158             -78.807804\n",
       "\n",
       "[159 rows x 1 columns]"
      ]
     },
     "execution_count": 87,
     "metadata": {},
     "output_type": "execute_result"
    }
   ],
   "source": [
    "#converting the array obtained of the scaled values to a dataframe\n",
    "y_pred_sfs_b_df = pd.DataFrame(y_pred_train_sfs_b)\n",
    "\n",
    "#Labelling the columns\n",
    "y_pred_sfs_b_df.columns = ['Cost_sfs_B_prediction']\n",
    "y_pred_sfs_b_df"
   ]
  },
  {
   "cell_type": "markdown",
   "metadata": {},
   "source": [
    "#### **Conclusion:**\n",
    "\n",
    "SequentialFeatureSelection technique for backward elimination gives a **r-squared value of 0.8843445409517305** and **RMSE = 121.35838016047664** by selecting the following features **('Weight', 'Length', 'Height')**"
   ]
  },
  {
   "cell_type": "markdown",
   "metadata": {},
   "source": [
    "### Recursive Feature elimination"
   ]
  },
  {
   "cell_type": "markdown",
   "metadata": {},
   "source": [
    "Recursive feature elimination performs a greedy search to find the best performing feature subset. It iteratively creates models and determines the best or the worst performing feature at each iteration. It constructs the subsequent models with the left features until all the features are explored. It then ranks the features based on the order of their elimination. In the worst case, if a dataset contains N number of features RFE will do a greedy search for 2N combinations of features."
   ]
  },
  {
   "cell_type": "code",
   "execution_count": 88,
   "metadata": {},
   "outputs": [],
   "source": [
    "#importing the class RFE from sklearn.feature_selection\n",
    "from sklearn.feature_selection import RFE\n",
    "\n",
    "# creation of an object of the class linearRegression\n",
    "model3 = LinearRegression()\n",
    "\n",
    "# creation of an object of the class RFE\n",
    "rfe = RFE(estimator=model3, step=1,verbose=2)"
   ]
  },
  {
   "cell_type": "code",
   "execution_count": 89,
   "metadata": {},
   "outputs": [
    {
     "data": {
      "text/html": [
       "<div>\n",
       "<style scoped>\n",
       "    .dataframe tbody tr th:only-of-type {\n",
       "        vertical-align: middle;\n",
       "    }\n",
       "\n",
       "    .dataframe tbody tr th {\n",
       "        vertical-align: top;\n",
       "    }\n",
       "\n",
       "    .dataframe thead th {\n",
       "        text-align: right;\n",
       "    }\n",
       "</style>\n",
       "<table border=\"1\" class=\"dataframe\">\n",
       "  <thead>\n",
       "    <tr style=\"text-align: right;\">\n",
       "      <th></th>\n",
       "      <th>Weight</th>\n",
       "      <th>Weight1</th>\n",
       "      <th>Length</th>\n",
       "      <th>Height</th>\n",
       "      <th>Width</th>\n",
       "    </tr>\n",
       "  </thead>\n",
       "  <tbody>\n",
       "    <tr>\n",
       "      <th>0</th>\n",
       "      <td>-0.305789</td>\n",
       "      <td>-0.282303</td>\n",
       "      <td>-0.106020</td>\n",
       "      <td>0.596579</td>\n",
       "      <td>-0.236529</td>\n",
       "    </tr>\n",
       "    <tr>\n",
       "      <th>1</th>\n",
       "      <td>-0.225507</td>\n",
       "      <td>-0.198054</td>\n",
       "      <td>-0.002337</td>\n",
       "      <td>0.821261</td>\n",
       "      <td>-0.066579</td>\n",
       "    </tr>\n",
       "    <tr>\n",
       "      <th>2</th>\n",
       "      <td>-0.235542</td>\n",
       "      <td>-0.179332</td>\n",
       "      <td>-0.010977</td>\n",
       "      <td>0.797341</td>\n",
       "      <td>0.165793</td>\n",
       "    </tr>\n",
       "    <tr>\n",
       "      <th>3</th>\n",
       "      <td>0.005302</td>\n",
       "      <td>0.054694</td>\n",
       "      <td>0.196390</td>\n",
       "      <td>0.879771</td>\n",
       "      <td>0.022621</td>\n",
       "    </tr>\n",
       "    <tr>\n",
       "      <th>4</th>\n",
       "      <td>0.025372</td>\n",
       "      <td>0.054694</td>\n",
       "      <td>0.239592</td>\n",
       "      <td>0.812835</td>\n",
       "      <td>0.426371</td>\n",
       "    </tr>\n",
       "    <tr>\n",
       "      <th>...</th>\n",
       "      <td>...</td>\n",
       "      <td>...</td>\n",
       "      <td>...</td>\n",
       "      <td>...</td>\n",
       "      <td>...</td>\n",
       "    </tr>\n",
       "    <tr>\n",
       "      <th>154</th>\n",
       "      <td>-1.479903</td>\n",
       "      <td>-1.517960</td>\n",
       "      <td>-1.540309</td>\n",
       "      <td>-1.610359</td>\n",
       "      <td>-1.799403</td>\n",
       "    </tr>\n",
       "    <tr>\n",
       "      <th>155</th>\n",
       "      <td>-1.459833</td>\n",
       "      <td>-1.499238</td>\n",
       "      <td>-1.531669</td>\n",
       "      <td>-1.530878</td>\n",
       "      <td>-1.873547</td>\n",
       "    </tr>\n",
       "    <tr>\n",
       "      <th>156</th>\n",
       "      <td>-1.419692</td>\n",
       "      <td>-1.443072</td>\n",
       "      <td>-1.505748</td>\n",
       "      <td>-1.566687</td>\n",
       "      <td>-1.881402</td>\n",
       "    </tr>\n",
       "    <tr>\n",
       "      <th>157</th>\n",
       "      <td>-1.309305</td>\n",
       "      <td>-1.321378</td>\n",
       "      <td>-1.384784</td>\n",
       "      <td>-1.427243</td>\n",
       "      <td>-1.398568</td>\n",
       "    </tr>\n",
       "    <tr>\n",
       "      <th>158</th>\n",
       "      <td>-1.249094</td>\n",
       "      <td>-1.255851</td>\n",
       "      <td>-1.298381</td>\n",
       "      <td>-1.413341</td>\n",
       "      <td>-1.510440</td>\n",
       "    </tr>\n",
       "  </tbody>\n",
       "</table>\n",
       "<p>159 rows × 5 columns</p>\n",
       "</div>"
      ],
      "text/plain": [
       "       Weight   Weight1    Length    Height     Width\n",
       "0   -0.305789 -0.282303 -0.106020  0.596579 -0.236529\n",
       "1   -0.225507 -0.198054 -0.002337  0.821261 -0.066579\n",
       "2   -0.235542 -0.179332 -0.010977  0.797341  0.165793\n",
       "3    0.005302  0.054694  0.196390  0.879771  0.022621\n",
       "4    0.025372  0.054694  0.239592  0.812835  0.426371\n",
       "..        ...       ...       ...       ...       ...\n",
       "154 -1.479903 -1.517960 -1.540309 -1.610359 -1.799403\n",
       "155 -1.459833 -1.499238 -1.531669 -1.530878 -1.873547\n",
       "156 -1.419692 -1.443072 -1.505748 -1.566687 -1.881402\n",
       "157 -1.309305 -1.321378 -1.384784 -1.427243 -1.398568\n",
       "158 -1.249094 -1.255851 -1.298381 -1.413341 -1.510440\n",
       "\n",
       "[159 rows x 5 columns]"
      ]
     },
     "execution_count": 89,
     "metadata": {},
     "output_type": "execute_result"
    }
   ],
   "source": [
    "X_train"
   ]
  },
  {
   "cell_type": "code",
   "execution_count": 90,
   "metadata": {
    "scrolled": true
   },
   "outputs": [
    {
     "name": "stdout",
     "output_type": "stream",
     "text": [
      "Fitting estimator with 5 features.\n",
      "Fitting estimator with 4 features.\n",
      "Fitting estimator with 3 features.\n"
     ]
    },
    {
     "data": {
      "text/plain": [
       "RFE(estimator=LinearRegression(), verbose=2)"
      ]
     },
     "execution_count": 90,
     "metadata": {},
     "output_type": "execute_result"
    }
   ],
   "source": [
    "#RFE technique BEING APPLIED\n",
    "rfe.fit(X_train, y_train)  "
   ]
  },
  {
   "cell_type": "code",
   "execution_count": 91,
   "metadata": {},
   "outputs": [
    {
     "data": {
      "text/plain": [
       "array([1, 3, 1, 2, 4])"
      ]
     },
     "execution_count": 91,
     "metadata": {},
     "output_type": "execute_result"
    }
   ],
   "source": [
    "#ranking of different features based on a performance metric \n",
    "rfe.ranking_"
   ]
  },
  {
   "cell_type": "code",
   "execution_count": 92,
   "metadata": {},
   "outputs": [
    {
     "data": {
      "text/html": [
       "<div>\n",
       "<style scoped>\n",
       "    .dataframe tbody tr th:only-of-type {\n",
       "        vertical-align: middle;\n",
       "    }\n",
       "\n",
       "    .dataframe tbody tr th {\n",
       "        vertical-align: top;\n",
       "    }\n",
       "\n",
       "    .dataframe thead th {\n",
       "        text-align: right;\n",
       "    }\n",
       "</style>\n",
       "<table border=\"1\" class=\"dataframe\">\n",
       "  <thead>\n",
       "    <tr style=\"text-align: right;\">\n",
       "      <th></th>\n",
       "      <th>Feature</th>\n",
       "      <th>Ranking</th>\n",
       "    </tr>\n",
       "  </thead>\n",
       "  <tbody>\n",
       "    <tr>\n",
       "      <th>0</th>\n",
       "      <td>Weight</td>\n",
       "      <td>1</td>\n",
       "    </tr>\n",
       "    <tr>\n",
       "      <th>2</th>\n",
       "      <td>Length</td>\n",
       "      <td>1</td>\n",
       "    </tr>\n",
       "    <tr>\n",
       "      <th>3</th>\n",
       "      <td>Height</td>\n",
       "      <td>2</td>\n",
       "    </tr>\n",
       "    <tr>\n",
       "      <th>1</th>\n",
       "      <td>Weight1</td>\n",
       "      <td>3</td>\n",
       "    </tr>\n",
       "    <tr>\n",
       "      <th>4</th>\n",
       "      <td>Width</td>\n",
       "      <td>4</td>\n",
       "    </tr>\n",
       "  </tbody>\n",
       "</table>\n",
       "</div>"
      ],
      "text/plain": [
       "   Feature  Ranking\n",
       "0   Weight        1\n",
       "2   Length        1\n",
       "3   Height        2\n",
       "1  Weight1        3\n",
       "4    Width        4"
      ]
     },
     "execution_count": 92,
     "metadata": {},
     "output_type": "execute_result"
    }
   ],
   "source": [
    "#Printing the slected Features by ranking them\n",
    "selected_rfe_features = pd.DataFrame({'Feature':list(X_train.columns),\n",
    "                                      'Ranking':rfe.ranking_})\n",
    "selected_rfe_features.sort_values(by='Ranking')"
   ]
  },
  {
   "cell_type": "code",
   "execution_count": 93,
   "metadata": {},
   "outputs": [
    {
     "data": {
      "text/plain": [
       "(159, 2)"
      ]
     },
     "execution_count": 93,
     "metadata": {},
     "output_type": "execute_result"
    }
   ],
   "source": [
    "#Transforming the x_train based on the RFE selected features\n",
    "X_train_rfe = rfe.transform(X_train)\n",
    "\n",
    "X_train_rfe.shape"
   ]
  },
  {
   "cell_type": "markdown",
   "metadata": {},
   "source": [
    "Only features with Rank 1 has been selected i.e. WEIGHT and LENGTH"
   ]
  },
  {
   "cell_type": "code",
   "execution_count": 94,
   "metadata": {},
   "outputs": [],
   "source": [
    "#model creation using the selected features and y_train\n",
    "model_rfe = model3.fit(X_train_rfe, y_train)"
   ]
  },
  {
   "cell_type": "code",
   "execution_count": 95,
   "metadata": {},
   "outputs": [
    {
     "data": {
      "text/plain": [
       "array([  0.53719092, 328.85594377])"
      ]
     },
     "execution_count": 95,
     "metadata": {},
     "output_type": "execute_result"
    }
   ],
   "source": [
    "model_rfe.coef_"
   ]
  },
  {
   "cell_type": "code",
   "execution_count": 96,
   "metadata": {},
   "outputs": [
    {
     "data": {
      "text/html": [
       "<div>\n",
       "<style scoped>\n",
       "    .dataframe tbody tr th:only-of-type {\n",
       "        vertical-align: middle;\n",
       "    }\n",
       "\n",
       "    .dataframe tbody tr th {\n",
       "        vertical-align: top;\n",
       "    }\n",
       "\n",
       "    .dataframe thead th {\n",
       "        text-align: right;\n",
       "    }\n",
       "</style>\n",
       "<table border=\"1\" class=\"dataframe\">\n",
       "  <thead>\n",
       "    <tr style=\"text-align: right;\">\n",
       "      <th></th>\n",
       "      <th>Coefficients obtained After RFE</th>\n",
       "    </tr>\n",
       "  </thead>\n",
       "  <tbody>\n",
       "    <tr>\n",
       "      <th>Weight</th>\n",
       "      <td>0.537191</td>\n",
       "    </tr>\n",
       "    <tr>\n",
       "      <th>Length</th>\n",
       "      <td>328.855944</td>\n",
       "    </tr>\n",
       "  </tbody>\n",
       "</table>\n",
       "</div>"
      ],
      "text/plain": [
       "        Coefficients obtained After RFE\n",
       "Weight                         0.537191\n",
       "Length                       328.855944"
      ]
     },
     "execution_count": 96,
     "metadata": {},
     "output_type": "execute_result"
    }
   ],
   "source": [
    "# creation of the dataframe of coefficient for better representation\n",
    "model_coeff_rfe = pd.DataFrame(model_rfe.coef_)\n",
    "\n",
    "#labelling column\n",
    "model_coeff_rfe.columns = ['Coefficients obtained After RFE']\n",
    "\n",
    "#'labelling rows = independent variable'\n",
    "model_coeff_rfe.index = ['Weight', 'Length']\n",
    "model_coeff_rfe"
   ]
  },
  {
   "cell_type": "code",
   "execution_count": 97,
   "metadata": {},
   "outputs": [
    {
     "data": {
      "text/plain": [
       "398.3264150943396"
      ]
     },
     "execution_count": 97,
     "metadata": {},
     "output_type": "execute_result"
    }
   ],
   "source": [
    "model_rfe.intercept_"
   ]
  },
  {
   "cell_type": "code",
   "execution_count": 98,
   "metadata": {},
   "outputs": [
    {
     "data": {
      "text/plain": [
       "0.8520094484533169"
      ]
     },
     "execution_count": 98,
     "metadata": {},
     "output_type": "execute_result"
    }
   ],
   "source": [
    "r2_rfe = model_rfe.score(X_train_rfe, y_train)\n",
    "r2_rfe"
   ]
  },
  {
   "cell_type": "code",
   "execution_count": 99,
   "metadata": {},
   "outputs": [
    {
     "data": {
      "text/plain": [
       "array([325.82732706, 367.44991568, 360.83963775, 444.02670856,\n",
       "       427.34939496])"
      ]
     },
     "execution_count": 99,
     "metadata": {},
     "output_type": "execute_result"
    }
   ],
   "source": [
    "y_pred_train_rfe = model3.predict(X_train_rfe)\n",
    "y_pred_train_sfs_b[:5]"
   ]
  },
  {
   "cell_type": "code",
   "execution_count": 100,
   "metadata": {},
   "outputs": [
    {
     "data": {
      "text/plain": [
       "137.27887044533026"
      ]
     },
     "execution_count": 100,
     "metadata": {},
     "output_type": "execute_result"
    }
   ],
   "source": [
    "lin_rmse_rfe = np.sqrt(mean_squared_error(y_train, y_pred_train_rfe))\n",
    "lin_rmse_rfe"
   ]
  },
  {
   "cell_type": "code",
   "execution_count": 101,
   "metadata": {},
   "outputs": [
    {
     "data": {
      "text/html": [
       "<div>\n",
       "<style scoped>\n",
       "    .dataframe tbody tr th:only-of-type {\n",
       "        vertical-align: middle;\n",
       "    }\n",
       "\n",
       "    .dataframe tbody tr th {\n",
       "        vertical-align: top;\n",
       "    }\n",
       "\n",
       "    .dataframe thead th {\n",
       "        text-align: right;\n",
       "    }\n",
       "</style>\n",
       "<table border=\"1\" class=\"dataframe\">\n",
       "  <thead>\n",
       "    <tr style=\"text-align: right;\">\n",
       "      <th></th>\n",
       "      <th>Cost_rfe_prediction</th>\n",
       "    </tr>\n",
       "  </thead>\n",
       "  <tbody>\n",
       "    <tr>\n",
       "      <th>0</th>\n",
       "      <td>363.296765</td>\n",
       "    </tr>\n",
       "    <tr>\n",
       "      <th>1</th>\n",
       "      <td>397.436842</td>\n",
       "    </tr>\n",
       "    <tr>\n",
       "      <th>2</th>\n",
       "      <td>394.590039</td>\n",
       "    </tr>\n",
       "    <tr>\n",
       "      <th>3</th>\n",
       "      <td>462.913320</td>\n",
       "    </tr>\n",
       "    <tr>\n",
       "      <th>4</th>\n",
       "      <td>477.131165</td>\n",
       "    </tr>\n",
       "    <tr>\n",
       "      <th>...</th>\n",
       "      <td>...</td>\n",
       "    </tr>\n",
       "    <tr>\n",
       "      <th>154</th>\n",
       "      <td>-109.008447</td>\n",
       "    </tr>\n",
       "    <tr>\n",
       "      <th>155</th>\n",
       "      <td>-106.156253</td>\n",
       "    </tr>\n",
       "    <tr>\n",
       "      <th>156</th>\n",
       "      <td>-97.610452</td>\n",
       "    </tr>\n",
       "    <tr>\n",
       "      <th>157</th>\n",
       "      <td>-57.771377</td>\n",
       "    </tr>\n",
       "    <tr>\n",
       "      <th>158</th>\n",
       "      <td>-29.324906</td>\n",
       "    </tr>\n",
       "  </tbody>\n",
       "</table>\n",
       "<p>159 rows × 1 columns</p>\n",
       "</div>"
      ],
      "text/plain": [
       "     Cost_rfe_prediction\n",
       "0             363.296765\n",
       "1             397.436842\n",
       "2             394.590039\n",
       "3             462.913320\n",
       "4             477.131165\n",
       "..                   ...\n",
       "154          -109.008447\n",
       "155          -106.156253\n",
       "156           -97.610452\n",
       "157           -57.771377\n",
       "158           -29.324906\n",
       "\n",
       "[159 rows x 1 columns]"
      ]
     },
     "execution_count": 101,
     "metadata": {},
     "output_type": "execute_result"
    }
   ],
   "source": [
    "#converting the array obtained of the scaled values to a dataframe\n",
    "y_pred_rfe_df = pd.DataFrame(y_pred_train_rfe)\n",
    "\n",
    "#Labelling the columns\n",
    "y_pred_rfe_df.columns = ['Cost_rfe_prediction']\n",
    "y_pred_rfe_df"
   ]
  },
  {
   "cell_type": "markdown",
   "metadata": {},
   "source": [
    "#### **Conclusion:**\n",
    "\n",
    "Recursive Feature Elimination technique gives a **r-squared value of 0.8520094484533169** and **RMSE =137.27887044533026** by selecting the following features **('Weight', 'Length')**"
   ]
  },
  {
   "cell_type": "markdown",
   "metadata": {},
   "source": [
    "## 7. Selection of Best Model using Performance Metrics such as R-2, adjusted R-2 and RMSE"
   ]
  },
  {
   "cell_type": "code",
   "execution_count": 102,
   "metadata": {},
   "outputs": [
    {
     "data": {
      "text/html": [
       "<div>\n",
       "<style scoped>\n",
       "    .dataframe tbody tr th:only-of-type {\n",
       "        vertical-align: middle;\n",
       "    }\n",
       "\n",
       "    .dataframe tbody tr th {\n",
       "        vertical-align: top;\n",
       "    }\n",
       "\n",
       "    .dataframe thead th {\n",
       "        text-align: right;\n",
       "    }\n",
       "</style>\n",
       "<table border=\"1\" class=\"dataframe\">\n",
       "  <thead>\n",
       "    <tr style=\"text-align: right;\">\n",
       "      <th></th>\n",
       "      <th>Techniques used</th>\n",
       "      <th>Features Considered</th>\n",
       "      <th>Num_features</th>\n",
       "      <th>R-squared Value</th>\n",
       "      <th>R_squared_adj</th>\n",
       "      <th>RMSE Value</th>\n",
       "    </tr>\n",
       "  </thead>\n",
       "  <tbody>\n",
       "    <tr>\n",
       "      <th>0</th>\n",
       "      <td>Modelling based on all attributes</td>\n",
       "      <td>'Weight', 'Weight1', 'Length', 'Height', 'Width'</td>\n",
       "      <td>5</td>\n",
       "      <td>0.885</td>\n",
       "      <td>0.881242</td>\n",
       "      <td>120.863</td>\n",
       "    </tr>\n",
       "    <tr>\n",
       "      <th>1</th>\n",
       "      <td>Forward Selection</td>\n",
       "      <td>'Weight', 'Length', 'Height', 'Width'</td>\n",
       "      <td>4</td>\n",
       "      <td>0.885</td>\n",
       "      <td>0.882013</td>\n",
       "      <td>120.873</td>\n",
       "    </tr>\n",
       "    <tr>\n",
       "      <th>2</th>\n",
       "      <td>Backward Elimination</td>\n",
       "      <td>'Weight', 'Length', 'Height'</td>\n",
       "      <td>3</td>\n",
       "      <td>0.884</td>\n",
       "      <td>0.881755</td>\n",
       "      <td>121.358</td>\n",
       "    </tr>\n",
       "    <tr>\n",
       "      <th>3</th>\n",
       "      <td>Recursive Feature Elimination</td>\n",
       "      <td>'Weight', 'Length'</td>\n",
       "      <td>2</td>\n",
       "      <td>0.852</td>\n",
       "      <td>0.850103</td>\n",
       "      <td>137.279</td>\n",
       "    </tr>\n",
       "  </tbody>\n",
       "</table>\n",
       "</div>"
      ],
      "text/plain": [
       "                     Techniques used  \\\n",
       "0  Modelling based on all attributes   \n",
       "1                  Forward Selection   \n",
       "2               Backward Elimination   \n",
       "3      Recursive Feature Elimination   \n",
       "\n",
       "                                Features Considered  Num_features  \\\n",
       "0  'Weight', 'Weight1', 'Length', 'Height', 'Width'             5   \n",
       "1             'Weight', 'Length', 'Height', 'Width'             4   \n",
       "2                      'Weight', 'Length', 'Height'             3   \n",
       "3                                'Weight', 'Length'             2   \n",
       "\n",
       "   R-squared Value  R_squared_adj  RMSE Value  \n",
       "0            0.885       0.881242     120.863  \n",
       "1            0.885       0.882013     120.873  \n",
       "2            0.884       0.881755     121.358  \n",
       "3            0.852       0.850103     137.279  "
      ]
     },
     "execution_count": 102,
     "metadata": {},
     "output_type": "execute_result"
    }
   ],
   "source": [
    "Overall_Dictionary = { 'Techniques used' : ['Modelling based on all attributes', 'Forward Selection', 'Backward Elimination', 'Recursive Feature Elimination'], 'Features Considered': [\"'Weight', 'Weight1', 'Length', 'Height', 'Width'\", \"'Weight', 'Length', 'Height', 'Width'\" , \"'Weight', 'Length', 'Height'\", \"'Weight', 'Length'\"],'Num_features' : [5,4,3,2], 'R-squared Value': [round(r2_all,3),round(r2_sfs_f,3),round(r2_sfs_b,3),round(r2_rfe,3) ]}\n",
    "\n",
    "Table_compare = pd.DataFrame(Overall_Dictionary)\n",
    "\n",
    "\n",
    "#creation of a adjusted r-square column and RMSE column\n",
    "m=len(y_train) # no of sample size\n",
    "Table_compare['R_squared_adj'] = 1 - ( (1 - Table_compare['R-squared Value'])*(m-1)/(m-Table_compare['Num_features'] -1))\n",
    "\n",
    "Table_compare['RMSE Value'] = [round(lin_rmse,3),round(lin_rmse_sfs_f,3),round(lin_rmse_sfs_b,3),round(lin_rmse_rfe,3) ]\n",
    "\n",
    "Table_compare"
   ]
  },
  {
   "cell_type": "markdown",
   "metadata": {},
   "source": [
    "From the above table, The best COST predictive multiple linear regression model that was chosen out of the 4 techniques was the one modelled using **'Backward Elimination'**.\n",
    "\n",
    "This was chosen for the following reason:\n",
    "\n",
    "By Comparing the different techniques used, the model using backward elimination gave the R-squared, adjusted R-2 and RMSE vales very close to the maximum ones by considering only 3 attributes **(Weight', 'Length', 'Height')**. This reduces our processing time and still give a good predictive cost value compared to Forward Selection."
   ]
  },
  {
   "cell_type": "markdown",
   "metadata": {},
   "source": [
    "### Summary of the model selected:"
   ]
  },
  {
   "cell_type": "code",
   "execution_count": 103,
   "metadata": {},
   "outputs": [
    {
     "name": "stdout",
     "output_type": "stream",
     "text": [
      "Cost = 700.808*'Weight' + (-473.799)*'Length' + 153.488*'Height' + 398.326\n"
     ]
    }
   ],
   "source": [
    "print(\"Cost = {}*'Weight' + ({})*'Length' + {}*'Height' + {}\".format(round(model_2_coeff_sfs_b['Coefficients obtained After Backward Elimination']['Weight'],3),round(model_2_coeff_sfs_b['Coefficients obtained After Backward Elimination']['Length'],3),round(model_2_coeff_sfs_b['Coefficients obtained After Backward Elimination']['Height'],3),round(398.32641509433967,3) ))"
   ]
  },
  {
   "cell_type": "markdown",
   "metadata": {},
   "source": [
    "**Remember :** ADD the standardised values of the features to get the accurate prediction"
   ]
  }
 ],
 "metadata": {
  "kernelspec": {
   "display_name": "Python 3",
   "language": "python",
   "name": "python3"
  },
  "language_info": {
   "codemirror_mode": {
    "name": "ipython",
    "version": 3
   },
   "file_extension": ".py",
   "mimetype": "text/x-python",
   "name": "python",
   "nbconvert_exporter": "python",
   "pygments_lexer": "ipython3",
   "version": "3.8.5"
  },
  "toc": {
   "base_numbering": 1,
   "nav_menu": {},
   "number_sections": true,
   "sideBar": true,
   "skip_h1_title": false,
   "title_cell": "Table of Contents",
   "title_sidebar": "Contents",
   "toc_cell": false,
   "toc_position": {},
   "toc_section_display": true,
   "toc_window_display": true
  },
  "varInspector": {
   "cols": {
    "lenName": 16,
    "lenType": 16,
    "lenVar": 40
   },
   "kernels_config": {
    "python": {
     "delete_cmd_postfix": "",
     "delete_cmd_prefix": "del ",
     "library": "var_list.py",
     "varRefreshCmd": "print(var_dic_list())"
    },
    "r": {
     "delete_cmd_postfix": ") ",
     "delete_cmd_prefix": "rm(",
     "library": "var_list.r",
     "varRefreshCmd": "cat(var_dic_list()) "
    }
   },
   "types_to_exclude": [
    "module",
    "function",
    "builtin_function_or_method",
    "instance",
    "_Feature"
   ],
   "window_display": false
  }
 },
 "nbformat": 4,
 "nbformat_minor": 4
}
