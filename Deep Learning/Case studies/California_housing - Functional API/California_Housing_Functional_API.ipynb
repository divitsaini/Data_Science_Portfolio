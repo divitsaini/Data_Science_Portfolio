{
 "cells": [
  {
   "cell_type": "markdown",
   "metadata": {
    "id": "9oVsQeHjvMN4"
   },
   "source": [
    "<p><h3><b><font color = 'DarkBlue'> Building Regression MLP on California Housing Dataset using Functional API </font></b></h3></p>\n",
    "\n",
    "In this notebook we are having two scenarios of building a model using Functional API Architecture with two inputs and one output."
   ]
  },
  {
   "cell_type": "code",
   "execution_count": 1,
   "metadata": {
    "id": "qftzkY-nG77U"
   },
   "outputs": [],
   "source": [
    "from tensorflow import keras"
   ]
  },
  {
   "cell_type": "code",
   "execution_count": 2,
   "metadata": {
    "colab": {
     "base_uri": "https://localhost:8080/",
     "height": 35
    },
    "id": "j8pDbpmoG75D",
    "outputId": "4bfb4216-251b-4a3e-a761-fd5851beecb3",
    "scrolled": true
   },
   "outputs": [
    {
     "data": {
      "text/plain": [
       "'2.4.0'"
      ]
     },
     "execution_count": 2,
     "metadata": {},
     "output_type": "execute_result"
    }
   ],
   "source": [
    "keras.__version__"
   ]
  },
  {
   "cell_type": "code",
   "execution_count": 3,
   "metadata": {
    "id": "zCAJ3prgG72F"
   },
   "outputs": [],
   "source": [
    "from sklearn.datasets import fetch_california_housing"
   ]
  },
  {
   "cell_type": "code",
   "execution_count": 4,
   "metadata": {
    "id": "bG7zI-XXG7zf"
   },
   "outputs": [],
   "source": [
    "from sklearn.preprocessing import StandardScaler"
   ]
  },
  {
   "cell_type": "code",
   "execution_count": 5,
   "metadata": {
    "id": "cUIgMkeK0NwK"
   },
   "outputs": [],
   "source": [
    "from sklearn.model_selection import train_test_split"
   ]
  },
  {
   "cell_type": "code",
   "execution_count": 6,
   "metadata": {
    "colab": {
     "base_uri": "https://localhost:8080/"
    },
    "id": "n5WKA0paG7wC",
    "outputId": "7d40283b-d47c-4359-bfa8-5c5adc4ebd3c"
   },
   "outputs": [],
   "source": [
    "# Fetching the dataset from keras\n",
    "housing = fetch_california_housing()"
   ]
  },
  {
   "cell_type": "code",
   "execution_count": 7,
   "metadata": {
    "colab": {
     "base_uri": "https://localhost:8080/"
    },
    "id": "lFHzWz9sG7tg",
    "outputId": "74d18ee4-fa78-4716-d0c3-31d37d7c1f5f"
   },
   "outputs": [
    {
     "data": {
      "text/plain": [
       "(20640, 8)"
      ]
     },
     "execution_count": 7,
     "metadata": {},
     "output_type": "execute_result"
    }
   ],
   "source": [
    "# Feature matrix shape\n",
    "housing.data.shape"
   ]
  },
  {
   "cell_type": "code",
   "execution_count": 8,
   "metadata": {
    "colab": {
     "base_uri": "https://localhost:8080/"
    },
    "id": "Uz6OmWvUG7rF",
    "outputId": "c8458742-c098-4a41-9412-17cededb4fa0"
   },
   "outputs": [
    {
     "data": {
      "text/plain": [
       "(20640,)"
      ]
     },
     "execution_count": 8,
     "metadata": {},
     "output_type": "execute_result"
    }
   ],
   "source": [
    "# Target array shape\n",
    "housing.target.shape"
   ]
  },
  {
   "cell_type": "code",
   "execution_count": 9,
   "metadata": {
    "colab": {
     "base_uri": "https://localhost:8080/"
    },
    "id": "BzYpYU_pHukI",
    "outputId": "2b528727-d83a-4982-9303-e89074fc3113"
   },
   "outputs": [
    {
     "data": {
      "text/plain": [
       "['MedInc',\n",
       " 'HouseAge',\n",
       " 'AveRooms',\n",
       " 'AveBedrms',\n",
       " 'Population',\n",
       " 'AveOccup',\n",
       " 'Latitude',\n",
       " 'Longitude']"
      ]
     },
     "execution_count": 9,
     "metadata": {},
     "output_type": "execute_result"
    }
   ],
   "source": [
    "# Column names in the feature matrix\n",
    "housing.feature_names"
   ]
  },
  {
   "cell_type": "code",
   "execution_count": 10,
   "metadata": {
    "colab": {
     "base_uri": "https://localhost:8080/"
    },
    "id": "neJjMqUbHuTF",
    "outputId": "eb82972f-77bf-441f-9a3f-5f41ac26e88b"
   },
   "outputs": [
    {
     "data": {
      "text/plain": [
       "array([4.526, 3.585, 3.521, ..., 0.923, 0.847, 0.894])"
      ]
     },
     "execution_count": 10,
     "metadata": {},
     "output_type": "execute_result"
    }
   ],
   "source": [
    "# Target variable values\n",
    "housing.target"
   ]
  },
  {
   "cell_type": "markdown",
   "metadata": {
    "id": "y-GZR3Q0fBpu"
   },
   "source": [
    "<p><h4><b><font color='DarkBlue'> Data Preprocessing </font></b></h4></p>\n",
    "\n",
    "After loading the data, we split it into a training set, a validation\n",
    "set and a test set, and we scale all the features. "
   ]
  },
  {
   "cell_type": "code",
   "execution_count": 11,
   "metadata": {
    "id": "EnZB2xuhHuPR"
   },
   "outputs": [],
   "source": [
    "# Split the dataset into train and test datasets\n",
    "X_train_full, X_test, y_train_full, y_test = train_test_split(housing.data, housing.target, random_state=42)    "
   ]
  },
  {
   "cell_type": "code",
   "execution_count": 12,
   "metadata": {
    "colab": {
     "base_uri": "https://localhost:8080/"
    },
    "id": "RvLMOe57HuMj",
    "outputId": "e3182858-e96b-47ad-e561-29fb8a4eeb0c"
   },
   "outputs": [
    {
     "data": {
      "text/plain": [
       "((15480, 8), (5160, 8), (15480,), (5160,))"
      ]
     },
     "execution_count": 12,
     "metadata": {},
     "output_type": "execute_result"
    }
   ],
   "source": [
    "X_train_full.shape, X_test.shape, y_train_full.shape, y_test.shape"
   ]
  },
  {
   "cell_type": "code",
   "execution_count": 13,
   "metadata": {
    "id": "uvU2L6L2HuKx"
   },
   "outputs": [],
   "source": [
    "# Split the train dataset from above to train and validation datasets\n",
    "X_train, X_valid, y_train, y_valid = train_test_split(X_train_full, y_train_full, random_state = 42)"
   ]
  },
  {
   "cell_type": "code",
   "execution_count": 14,
   "metadata": {
    "colab": {
     "base_uri": "https://localhost:8080/"
    },
    "id": "B1Gkt4tvHuId",
    "outputId": "e897df9b-4b93-4821-d5c6-d594f8f067f9"
   },
   "outputs": [
    {
     "data": {
      "text/plain": [
       "((11610, 8), (3870, 8), (11610,), (3870,))"
      ]
     },
     "execution_count": 14,
     "metadata": {},
     "output_type": "execute_result"
    }
   ],
   "source": [
    "X_train.shape, X_valid.shape, y_train.shape, y_valid.shape"
   ]
  },
  {
   "cell_type": "code",
   "execution_count": 15,
   "metadata": {
    "id": "Z7GT7Kx_HuFz"
   },
   "outputs": [],
   "source": [
    "# Perform scaling using StandardScaler()\n",
    "scaler = StandardScaler()"
   ]
  },
  {
   "cell_type": "code",
   "execution_count": 16,
   "metadata": {
    "id": "NQTLGxy3G7oG"
   },
   "outputs": [],
   "source": [
    "\n",
    "X_train_scaled = scaler.fit_transform(X_train) #fit_transform only for train\n",
    "X_valid_scaled = scaler.transform(X_valid) #transform for valid and test\n",
    "X_test_scaled = scaler.transform(X_test)"
   ]
  },
  {
   "cell_type": "code",
   "execution_count": 17,
   "metadata": {
    "colab": {
     "base_uri": "https://localhost:8080/"
    },
    "id": "7gn3NvPJG7lk",
    "outputId": "82d5f05f-9e5c-43c3-fbb4-29b42c043f57"
   },
   "outputs": [
    {
     "data": {
      "text/plain": [
       "((11610, 8), (3870, 8), (5160, 8))"
      ]
     },
     "execution_count": 17,
     "metadata": {},
     "output_type": "execute_result"
    }
   ],
   "source": [
    "X_train_scaled.shape, X_valid_scaled.shape, X_test_scaled.shape"
   ]
  },
  {
   "cell_type": "code",
   "execution_count": 18,
   "metadata": {
    "id": "j6UdSmA2G7ig"
   },
   "outputs": [],
   "source": [
    "y_train_scaled = scaler.fit_transform(y_train.reshape(-1,1)) # reshaping as we want column vector of 2d array\n",
    "y_valid_scaled = scaler.transform(y_valid.reshape(-1,1))\n",
    "y_test_scaled = scaler.transform(y_test.reshape(-1,1))"
   ]
  },
  {
   "cell_type": "code",
   "execution_count": 19,
   "metadata": {
    "colab": {
     "base_uri": "https://localhost:8080/"
    },
    "id": "6OIx9CYoG7gE",
    "outputId": "39615dd4-4d46-424d-ff0e-ac6647305217"
   },
   "outputs": [
    {
     "data": {
      "text/plain": [
       "((11610, 1), (3870, 1), (5160, 1))"
      ]
     },
     "execution_count": 19,
     "metadata": {},
     "output_type": "execute_result"
    }
   ],
   "source": [
    "y_train_scaled.shape, y_valid_scaled.shape, y_test_scaled.shape"
   ]
  },
  {
   "cell_type": "code",
   "execution_count": 20,
   "metadata": {
    "id": "_2vJ6LuuG7c9"
   },
   "outputs": [],
   "source": [
    "import numpy as np"
   ]
  },
  {
   "cell_type": "markdown",
   "metadata": {
    "id": "BRs48x3mq-0R"
   },
   "source": [
    "# Sequential Model"
   ]
  },
  {
   "cell_type": "code",
   "execution_count": 21,
   "metadata": {
    "id": "ljZX2JeUrtnq"
   },
   "outputs": [],
   "source": [
    "model = keras.models.Sequential()     # create an instance of sequential model "
   ]
  },
  {
   "cell_type": "code",
   "execution_count": 22,
   "metadata": {
    "id": "ErUUz9BX6MeP"
   },
   "outputs": [],
   "source": [
    "model.add(keras.layers.Dense(30,input_shape=(8,),activation=\"relu\"))    # Add a hidden layer with 32 neurons and \"relu\" activtaion function. \n",
    "model.add(keras.layers.Dense(30,activation=\"relu\"))\n",
    "model.add(keras.layers.Dense(30,activation=\"relu\"))\n",
    "model.add(keras.layers.Dense(1))"
   ]
  },
  {
   "cell_type": "code",
   "execution_count": 23,
   "metadata": {
    "colab": {
     "base_uri": "https://localhost:8080/"
    },
    "id": "h6bZ9FT6rtkj",
    "outputId": "993f5805-b899-457f-84d6-4adcbdce706e"
   },
   "outputs": [
    {
     "name": "stdout",
     "output_type": "stream",
     "text": [
      "Model: \"sequential\"\n",
      "_________________________________________________________________\n",
      "Layer (type)                 Output Shape              Param #   \n",
      "=================================================================\n",
      "dense (Dense)                (None, 30)                270       \n",
      "_________________________________________________________________\n",
      "dense_1 (Dense)              (None, 30)                930       \n",
      "_________________________________________________________________\n",
      "dense_2 (Dense)              (None, 30)                930       \n",
      "_________________________________________________________________\n",
      "dense_3 (Dense)              (None, 1)                 31        \n",
      "=================================================================\n",
      "Total params: 2,161\n",
      "Trainable params: 2,161\n",
      "Non-trainable params: 0\n",
      "_________________________________________________________________\n"
     ]
    }
   ],
   "source": [
    "model.summary()"
   ]
  },
  {
   "cell_type": "code",
   "execution_count": 24,
   "metadata": {},
   "outputs": [],
   "source": [
    "%load_ext tensorboard"
   ]
  },
  {
   "cell_type": "code",
   "execution_count": 25,
   "metadata": {
    "id": "9awbaJp9rtfd"
   },
   "outputs": [],
   "source": [
    "model.compile(loss=\"mean_squared_error\",optimizer=keras.optimizers.SGD(learning_rate=0.01))"
   ]
  },
  {
   "cell_type": "code",
   "execution_count": 26,
   "metadata": {},
   "outputs": [],
   "source": [
    "\n",
    "import datetime\n",
    "import os\n",
    "logdir = os.path.join(\"logs\", datetime.datetime.now().strftime(\"%Y%m%d-%H%M%S\"))\n",
    "tensorboard_callback = keras.callbacks.TensorBoard(logdir, histogram_freq=1)\n"
   ]
  },
  {
   "cell_type": "code",
   "execution_count": 27,
   "metadata": {
    "colab": {
     "base_uri": "https://localhost:8080/"
    },
    "id": "EYQe4mfFrtc3",
    "outputId": "00c43107-2fd1-4e6e-c5aa-511ca9acaad0"
   },
   "outputs": [
    {
     "name": "stdout",
     "output_type": "stream",
     "text": [
      "Epoch 1/30\n",
      " 1/23 [>.............................] - ETA: 0s - loss: 1.5358WARNING:tensorflow:From C:\\Users\\Divit\\anaconda3\\envs\\tensorflow\\lib\\site-packages\\tensorflow\\python\\ops\\summary_ops_v2.py:1277: stop (from tensorflow.python.eager.profiler) is deprecated and will be removed after 2020-07-01.\n",
      "Instructions for updating:\n",
      "use `tf.profiler.experimental.stop` instead.\n",
      "WARNING:tensorflow:Callbacks method `on_train_batch_end` is slow compared to the batch time (batch time: 0.0010s vs `on_train_batch_end` time: 0.0395s). Check your callbacks.\n",
      "23/23 [==============================] - 0s 3ms/step - loss: 0.9782\n",
      "Epoch 2/30\n",
      "23/23 [==============================] - 0s 1ms/step - loss: 0.7517\n",
      "Epoch 3/30\n",
      "23/23 [==============================] - 0s 911us/step - loss: 0.6157\n",
      "Epoch 4/30\n",
      "23/23 [==============================] - 0s 1ms/step - loss: 0.5330\n",
      "Epoch 5/30\n",
      "23/23 [==============================] - 0s 1ms/step - loss: 0.4919\n",
      "Epoch 6/30\n",
      "23/23 [==============================] - 0s 954us/step - loss: 0.4677\n",
      "Epoch 7/30\n",
      "23/23 [==============================] - 0s 1ms/step - loss: 0.4497\n",
      "Epoch 8/30\n",
      "23/23 [==============================] - 0s 1ms/step - loss: 0.4333\n",
      "Epoch 9/30\n",
      "23/23 [==============================] - 0s 954us/step - loss: 0.4186\n",
      "Epoch 10/30\n",
      "23/23 [==============================] - 0s 1ms/step - loss: 0.4056\n",
      "Epoch 11/30\n",
      "23/23 [==============================] - 0s 1ms/step - loss: 0.3936\n",
      "Epoch 12/30\n",
      "23/23 [==============================] - 0s 2ms/step - loss: 0.3833\n",
      "Epoch 13/30\n",
      "23/23 [==============================] - 0s 1ms/step - loss: 0.3744\n",
      "Epoch 14/30\n",
      "23/23 [==============================] - 0s 1ms/step - loss: 0.3653\n",
      "Epoch 15/30\n",
      "23/23 [==============================] - 0s 1ms/step - loss: 0.3577\n",
      "Epoch 16/30\n",
      "23/23 [==============================] - 0s 1ms/step - loss: 0.3517\n",
      "Epoch 17/30\n",
      "23/23 [==============================] - 0s 1ms/step - loss: 0.3454\n",
      "Epoch 18/30\n",
      "23/23 [==============================] - 0s 1ms/step - loss: 0.3401\n",
      "Epoch 19/30\n",
      "23/23 [==============================] - 0s 1ms/step - loss: 0.3351\n",
      "Epoch 20/30\n",
      "23/23 [==============================] - 0s 1ms/step - loss: 0.3306\n",
      "Epoch 21/30\n",
      "23/23 [==============================] - 0s 1ms/step - loss: 0.3268\n",
      "Epoch 22/30\n",
      "23/23 [==============================] - 0s 2ms/step - loss: 0.3234\n",
      "Epoch 23/30\n",
      "23/23 [==============================] - 0s 1ms/step - loss: 0.3198\n",
      "Epoch 24/30\n",
      "23/23 [==============================] - 0s 1ms/step - loss: 0.3167\n",
      "Epoch 25/30\n",
      "23/23 [==============================] - 0s 1ms/step - loss: 0.3140\n",
      "Epoch 26/30\n",
      "23/23 [==============================] - 0s 2ms/step - loss: 0.3114\n",
      "Epoch 27/30\n",
      "23/23 [==============================] - 0s 2ms/step - loss: 0.3091\n",
      "Epoch 28/30\n",
      "23/23 [==============================] - 0s 1ms/step - loss: 0.3069\n",
      "Epoch 29/30\n",
      "23/23 [==============================] - 0s 1ms/step - loss: 0.3047\n",
      "Epoch 30/30\n",
      "23/23 [==============================] - 0s 1ms/step - loss: 0.3026\n"
     ]
    },
    {
     "data": {
      "text/plain": [
       "<tensorflow.python.keras.callbacks.History at 0x18ec7ef0be0>"
      ]
     },
     "execution_count": 27,
     "metadata": {},
     "output_type": "execute_result"
    }
   ],
   "source": [
    "# Fit the model\n",
    "model.fit(X_train_scaled, y_train_scaled, epochs=30, batch_size=512, callbacks=[tensorboard_callback])"
   ]
  },
  {
   "cell_type": "code",
   "execution_count": 28,
   "metadata": {},
   "outputs": [
    {
     "data": {
      "text/plain": [
       "Reusing TensorBoard on port 6006 (pid 34872), started 0:00:33 ago. (Use '!kill 34872' to kill it.)"
      ]
     },
     "metadata": {},
     "output_type": "display_data"
    },
    {
     "data": {
      "text/html": [
       "\n",
       "      <iframe id=\"tensorboard-frame-ff3be85c79d96e3\" width=\"100%\" height=\"800\" frameborder=\"0\">\n",
       "      </iframe>\n",
       "      <script>\n",
       "        (function() {\n",
       "          const frame = document.getElementById(\"tensorboard-frame-ff3be85c79d96e3\");\n",
       "          const url = new URL(\"/\", window.location);\n",
       "          const port = 6006;\n",
       "          if (port) {\n",
       "            url.port = port;\n",
       "          }\n",
       "          frame.src = url;\n",
       "        })();\n",
       "      </script>\n",
       "    "
      ],
      "text/plain": [
       "<IPython.core.display.HTML object>"
      ]
     },
     "metadata": {},
     "output_type": "display_data"
    }
   ],
   "source": [
    "%tensorboard --logdir logs/fit"
   ]
  },
  {
   "cell_type": "code",
   "execution_count": 29,
   "metadata": {
    "colab": {
     "base_uri": "https://localhost:8080/"
    },
    "id": "ewS2gaias1a9",
    "outputId": "5e2fc2de-e058-46be-eca5-8337295eb125"
   },
   "outputs": [
    {
     "name": "stdout",
     "output_type": "stream",
     "text": [
      "11/11 [==============================] - 0s 1ms/step - loss: 0.3035\n"
     ]
    },
    {
     "data": {
      "text/plain": [
       "0.3034750819206238"
      ]
     },
     "execution_count": 29,
     "metadata": {},
     "output_type": "execute_result"
    }
   ],
   "source": [
    "# Evaluate the model on the test dataset\n",
    "model.evaluate(X_test_scaled, y_test_scaled, batch_size=512)"
   ]
  },
  {
   "cell_type": "code",
   "execution_count": 30,
   "metadata": {
    "colab": {
     "base_uri": "https://localhost:8080/"
    },
    "id": "Y2VUK9INtAO8",
    "outputId": "60ad5078-b79b-45ad-a2c5-437f0cf70591"
   },
   "outputs": [
    {
     "data": {
      "text/plain": [
       "array([[-1.063725  ],\n",
       "       [-0.23060957],\n",
       "       [ 1.32292   ],\n",
       "       [ 0.44772112],\n",
       "       [ 0.52171206]], dtype=float32)"
      ]
     },
     "execution_count": 30,
     "metadata": {},
     "output_type": "execute_result"
    }
   ],
   "source": [
    "# Predict the model on the test dataset\n",
    "y_pred = model.predict(X_test_scaled)\n",
    "y_pred[:5]"
   ]
  },
  {
   "cell_type": "code",
   "execution_count": 31,
   "metadata": {
    "colab": {
     "base_uri": "https://localhost:8080/"
    },
    "id": "GBpgBO3GtAO_",
    "outputId": "7249be8b-27e0-4a40-cf2f-604ff9a4ec18"
   },
   "outputs": [
    {
     "ename": "NameError",
     "evalue": "name 'mse_test_fapi_1' is not defined",
     "output_type": "error",
     "traceback": [
      "\u001b[1;31m---------------------------------------------------------------------------\u001b[0m",
      "\u001b[1;31mNameError\u001b[0m                                 Traceback (most recent call last)",
      "\u001b[1;32m<ipython-input-31-e726232675ab>\u001b[0m in \u001b[0;36m<module>\u001b[1;34m\u001b[0m\n\u001b[0;32m      1\u001b[0m \u001b[1;31m# RMSE of the model\u001b[0m\u001b[1;33m\u001b[0m\u001b[1;33m\u001b[0m\u001b[1;33m\u001b[0m\u001b[0m\n\u001b[1;32m----> 2\u001b[1;33m \u001b[0mrmse_test_fapi_1\u001b[0m \u001b[1;33m=\u001b[0m \u001b[0mnp\u001b[0m\u001b[1;33m.\u001b[0m\u001b[0msqrt\u001b[0m\u001b[1;33m(\u001b[0m\u001b[0mmse_test_fapi_1\u001b[0m\u001b[1;33m)\u001b[0m\u001b[1;33m\u001b[0m\u001b[1;33m\u001b[0m\u001b[0m\n\u001b[0m\u001b[0;32m      3\u001b[0m \u001b[0mrmse_test_fapi_1\u001b[0m\u001b[1;33m\u001b[0m\u001b[1;33m\u001b[0m\u001b[0m\n",
      "\u001b[1;31mNameError\u001b[0m: name 'mse_test_fapi_1' is not defined"
     ]
    }
   ],
   "source": [
    "# RMSE of the model\n",
    "rmse_test_fapi_1 = np.sqrt(mse_test_fapi_1)\n",
    "rmse_test_fapi_1"
   ]
  },
  {
   "cell_type": "code",
   "execution_count": null,
   "metadata": {
    "colab": {
     "base_uri": "https://localhost:8080/"
    },
    "id": "kmymOeu6tAPB",
    "outputId": "0db844cb-0b87-4e73-ef00-e60d5b58b3ea"
   },
   "outputs": [],
   "source": [
    "SSE_1 = np.sum((y_test_scaled - y_pred)**2)\n",
    "SSE_1"
   ]
  },
  {
   "cell_type": "code",
   "execution_count": null,
   "metadata": {
    "colab": {
     "base_uri": "https://localhost:8080/"
    },
    "id": "wyzgt812tAPC",
    "outputId": "843fe408-dc23-4655-acbb-ed741a25f490"
   },
   "outputs": [],
   "source": [
    "SST = np.sum((np.mean(y_train_scaled)- y_test_scaled)**2)\n",
    "SST"
   ]
  },
  {
   "cell_type": "code",
   "execution_count": null,
   "metadata": {
    "colab": {
     "base_uri": "https://localhost:8080/"
    },
    "id": "NADqO9zZtAPE",
    "outputId": "9db318de-c811-4d75-a2e9-a2812aa37d70"
   },
   "outputs": [],
   "source": [
    "# R2 of the model\n",
    "r2_1 = 1 - SSE_1/SST\n",
    "r2_1"
   ]
  },
  {
   "cell_type": "markdown",
   "metadata": {
    "id": "AwG2FOgtzptf"
   },
   "source": [
    "## Ist Complex model using functional API\n",
    "Here we are building a complex model(Wide and Deep Network) having two inputs and one output using Functional API by following steps:\n",
    "\n",
    "1.   First input(input_A) to the model will be having only 2 features(latitude and longitude) and it will passed through the wide network\n",
    "2.   Second input(input_B) to the model will be having remaining 6 features of the dataset and it will be passed through the deep network of two dense layers of 32 neurons each.\n",
    "3. Both these inputs will be concatenated at the concatenate layer.\n",
    "4. Last layer will be output layer with one neuron which will receive its input from the concatenate layer\n",
    "\n"
   ]
  },
  {
   "cell_type": "code",
   "execution_count": null,
   "metadata": {
    "id": "SK9LSNuAG7aa"
   },
   "outputs": [],
   "source": [
    "input_A = keras.layers.Input(shape=(2,))\n",
    "input_B = keras.layers.Input(shape=(6,))\n",
    "hidden1 = keras.layers.Dense(32, activation=\"relu\")(input_B)\n",
    "hidden2 = keras.layers.Dense(32, activation=\"relu\")(hidden1)\n",
    "concat = keras.layers.concatenate([input_A, hidden2])\n",
    "output = keras.layers.Dense(1)(concat)\n",
    "model_wide_deep1 = keras.models.Model(inputs=[input_A, input_B], outputs=[output])"
   ]
  },
  {
   "cell_type": "code",
   "execution_count": null,
   "metadata": {
    "colab": {
     "base_uri": "https://localhost:8080/"
    },
    "id": "IIxfp53oKDfu",
    "outputId": "535bd693-cc01-41a9-c24d-7d797c1cfe2e"
   },
   "outputs": [],
   "source": [
    "model_wide_deep1.summary()"
   ]
  },
  {
   "cell_type": "code",
   "execution_count": null,
   "metadata": {
    "colab": {
     "base_uri": "https://localhost:8080/"
    },
    "id": "ZOUaagFBKDda",
    "outputId": "ab0cff0a-2fe2-43e2-c9b4-451a2042285c"
   },
   "outputs": [],
   "source": [
    "# First input will have only latitude and longitude features. Second input will have rest of all the other features\n",
    "X_train_A_1, X_train_B_1 = X_train_scaled[:,6:], X_train_scaled[:,:6]\n",
    "X_train_A_1.shape, X_train_B_1.shape"
   ]
  },
  {
   "cell_type": "code",
   "execution_count": null,
   "metadata": {
    "colab": {
     "base_uri": "https://localhost:8080/"
    },
    "id": "bkVi4TE-KDZt",
    "outputId": "904faf10-1d7a-469e-ef93-7e43b3bd1344"
   },
   "outputs": [],
   "source": [
    "X_valid_A_1, X_valid_B_1 = X_valid_scaled[:,6:], X_valid_scaled[:,:6]\n",
    "X_valid_A_1.shape, X_valid_B_1.shape"
   ]
  },
  {
   "cell_type": "code",
   "execution_count": null,
   "metadata": {
    "colab": {
     "base_uri": "https://localhost:8080/"
    },
    "id": "i2o_OTOEKDVv",
    "outputId": "be30cf1f-7ea2-484b-b18b-64df10a69c42"
   },
   "outputs": [],
   "source": [
    "X_test_A_1, X_test_B_1 = X_test_scaled[:,6:], X_test_scaled[:,:6]\n",
    "X_test_A_1.shape, X_test_B_1.shape"
   ]
  },
  {
   "cell_type": "code",
   "execution_count": null,
   "metadata": {
    "id": "wgLxYe7zKDT4"
   },
   "outputs": [],
   "source": [
    "# Compile the model with 'mean squared error' as the loss function\n",
    "model_wide_deep1.compile(loss=\"mean_squared_error\",optimizer=keras.optimizers.SGD(learning_rate=0.01))"
   ]
  },
  {
   "cell_type": "code",
   "execution_count": null,
   "metadata": {
    "colab": {
     "base_uri": "https://localhost:8080/"
    },
    "id": "DO_XbXGHKDPv",
    "outputId": "d64810d5-9ab5-4f14-a2fb-6663cb62aadd"
   },
   "outputs": [],
   "source": [
    "# Fit the model\n",
    "model_wide_deep1.fit((X_train_A_1, X_train_B_1), y_train_scaled, epochs=30, batch_size=512, validation_data=((X_valid_A_1, X_valid_B_1), y_valid_scaled))"
   ]
  },
  {
   "cell_type": "code",
   "execution_count": null,
   "metadata": {
    "colab": {
     "base_uri": "https://localhost:8080/"
    },
    "id": "JMVGcr_NKDNt",
    "outputId": "514db5af-a22c-47f3-cf9b-9d7f75acb0ca"
   },
   "outputs": [],
   "source": [
    "# Evaluate the model on the test dataset\n",
    "mse_test_fapi_1 = model_wide_deep1.evaluate([X_test_A_1, X_test_B_1], y_test_scaled, batch_size=512)\n",
    "mse_test_fapi_1"
   ]
  },
  {
   "cell_type": "code",
   "execution_count": null,
   "metadata": {
    "colab": {
     "base_uri": "https://localhost:8080/"
    },
    "id": "IJfR-OUVKDL6",
    "outputId": "999ecc69-1c02-4aba-9b8e-0ee05467a994"
   },
   "outputs": [],
   "source": [
    "# Predict the model on the test dataset\n",
    "y_pred_test_fapi_1 = model_wide_deep1.predict([X_test_A_1, X_test_B_1])\n",
    "y_pred_test_fapi_1[:5]"
   ]
  },
  {
   "cell_type": "code",
   "execution_count": null,
   "metadata": {
    "colab": {
     "base_uri": "https://localhost:8080/"
    },
    "id": "QmdHQHbTKDJr",
    "outputId": "94fc35c5-f701-403d-cb8e-c3b8a196dfd1"
   },
   "outputs": [],
   "source": [
    "# RMSE of the model\n",
    "rmse_test_fapi_1 = np.sqrt(mse_test_fapi_1)\n",
    "rmse_test_fapi_1"
   ]
  },
  {
   "cell_type": "code",
   "execution_count": null,
   "metadata": {
    "colab": {
     "base_uri": "https://localhost:8080/"
    },
    "id": "9InDBgBHKDGD",
    "outputId": "4c60a8af-e75b-458d-ebec-5583f7904346"
   },
   "outputs": [],
   "source": [
    "SSE_1 = np.sum((y_test_scaled - y_pred_test_fapi_1)**2)\n",
    "SSE_1"
   ]
  },
  {
   "cell_type": "code",
   "execution_count": null,
   "metadata": {
    "colab": {
     "base_uri": "https://localhost:8080/"
    },
    "id": "pI5rtQfZKDEC",
    "outputId": "8e6a29d3-a83b-403e-9f42-8b45df2e3bff"
   },
   "outputs": [],
   "source": [
    "SST = np.sum((np.mean(y_train_scaled)- y_test_scaled)**2)\n",
    "SST"
   ]
  },
  {
   "cell_type": "code",
   "execution_count": null,
   "metadata": {
    "colab": {
     "base_uri": "https://localhost:8080/"
    },
    "id": "abxuXXgNKDBy",
    "outputId": "b08a6f44-282e-475e-e139-3be921b01818"
   },
   "outputs": [],
   "source": [
    "# R2 of the model\n",
    "r2_1 = 1 - SSE_1/SST\n",
    "r2_1"
   ]
  },
  {
   "cell_type": "markdown",
   "metadata": {
    "id": "uX_j6vOZ4blU"
   },
   "source": [
    "## 2nd Complex model using functional API\n",
    "Here we are building a complex model(Wide and Deep Network) having two inputs and one output using Functional API by following steps:\n",
    "\n",
    "1.   First input(input_A) to the model will be having only 2 features(latitude and longitude) and it will passed through the wide network\n",
    "2.   Second input(input_B) to the model will be having all 8 features of the dataset and it will be passed through the deep network of two dense layers of 32 neurons each.\n",
    "3. Both these inputs will be concatenated at the concatenate layer.\n",
    "4. Last layer will be output layer with one neuron which will receive its input from the concatenate layer\n",
    "\n"
   ]
  },
  {
   "cell_type": "code",
   "execution_count": null,
   "metadata": {
    "id": "2iVsE2mMKC_k"
   },
   "outputs": [],
   "source": [
    "input_A = keras.layers.Input(shape=(2,))\n",
    "input_B = keras.layers.Input(shape=(8,))\n",
    "hidden1 = keras.layers.Dense(32, activation=\"relu\")(input_B)\n",
    "hidden2 = keras.layers.Dense(32, activation=\"relu\")(hidden1)\n",
    "concat = keras.layers.concatenate([input_A, hidden2])\n",
    "output = keras.layers.Dense(1)(concat)\n",
    "model_wide_deep2 = keras.models.Model(inputs=[input_A, input_B], outputs=[output])"
   ]
  },
  {
   "cell_type": "code",
   "execution_count": null,
   "metadata": {
    "colab": {
     "base_uri": "https://localhost:8080/"
    },
    "id": "uefHk9J3KC9y",
    "outputId": "a08ae9cb-662a-44bb-d270-a569cc3d861d"
   },
   "outputs": [],
   "source": [
    "model_wide_deep2.summary()"
   ]
  },
  {
   "cell_type": "code",
   "execution_count": null,
   "metadata": {
    "colab": {
     "base_uri": "https://localhost:8080/"
    },
    "id": "5PAWaQlgKC7D",
    "outputId": "232e5e80-6188-4568-b600-69b7b8baf39d"
   },
   "outputs": [],
   "source": [
    "X_train_A_2, X_train_B_2 = X_train_scaled[:,6:], X_train_scaled[:,:]\n",
    "X_train_A_2.shape, X_train_B_2.shape"
   ]
  },
  {
   "cell_type": "code",
   "execution_count": null,
   "metadata": {
    "colab": {
     "base_uri": "https://localhost:8080/"
    },
    "id": "xv_GRl7jKC39",
    "outputId": "f50b5566-a906-4f5e-8824-1c6192e4d40a"
   },
   "outputs": [],
   "source": [
    "X_valid_A_2, X_valid_B_2 = X_valid_scaled[:,6:], X_valid_scaled[:,:]\n",
    "X_valid_A_2.shape, X_valid_B_2.shape"
   ]
  },
  {
   "cell_type": "code",
   "execution_count": null,
   "metadata": {
    "colab": {
     "base_uri": "https://localhost:8080/"
    },
    "id": "ybKXVT0gKC2R",
    "outputId": "1b84aedd-97f6-47d6-b34a-fec735fd0193"
   },
   "outputs": [],
   "source": [
    "X_test_A_2, X_test_B_2 = X_test_scaled[:,6:], X_test_scaled[:,:]\n",
    "X_test_A_2.shape, X_test_B_2.shape"
   ]
  },
  {
   "cell_type": "code",
   "execution_count": null,
   "metadata": {
    "id": "zftIAK8VKC0R"
   },
   "outputs": [],
   "source": [
    "# Compile the model\n",
    "model_wide_deep2.compile(loss=\"mean_squared_error\",optimizer=keras.optimizers.SGD(learning_rate=0.01))"
   ]
  },
  {
   "cell_type": "code",
   "execution_count": null,
   "metadata": {
    "colab": {
     "base_uri": "https://localhost:8080/"
    },
    "id": "Z8aeaySnG7X0",
    "outputId": "7e66e57b-b4bf-439b-a497-ca4d7a5c0459"
   },
   "outputs": [],
   "source": [
    "# Fit the model\n",
    "model_wide_deep2.fit((X_train_A_2, X_train_B_2), y_train_scaled, epochs=30, batch_size=512)"
   ]
  },
  {
   "cell_type": "code",
   "execution_count": null,
   "metadata": {
    "colab": {
     "base_uri": "https://localhost:8080/"
    },
    "id": "oe-Anbo3G7WD",
    "outputId": "df9876a3-1151-4330-be60-af9b5ffe5d22"
   },
   "outputs": [],
   "source": [
    "# Evaluate the model\n",
    "mse_test_fapi_2 = model_wide_deep2.evaluate([X_test_A_2, X_test_B_2], y_test_scaled, batch_size=512)\n",
    "mse_test_fapi_2"
   ]
  },
  {
   "cell_type": "code",
   "execution_count": null,
   "metadata": {
    "colab": {
     "base_uri": "https://localhost:8080/"
    },
    "id": "lKKCQgje5gV2",
    "outputId": "5d9d3b45-a2ac-4f04-e5d8-c84409244cca"
   },
   "outputs": [],
   "source": [
    "# Predict the model\n",
    "y_pred_test_fapi_2 = model_wide_deep2.predict([X_test_A_2, X_test_B_2])\n",
    "y_pred_test_fapi_2"
   ]
  },
  {
   "cell_type": "code",
   "execution_count": null,
   "metadata": {
    "colab": {
     "base_uri": "https://localhost:8080/"
    },
    "id": "2McetBAx5gSr",
    "outputId": "8415ca58-0313-4765-da69-07bf6e2dd710"
   },
   "outputs": [],
   "source": [
    "# RMSE of model\n",
    "rmse_test_fapi_2 = np.sqrt(mse_test_fapi_2)\n",
    "rmse_test_fapi_2"
   ]
  },
  {
   "cell_type": "code",
   "execution_count": null,
   "metadata": {
    "colab": {
     "base_uri": "https://localhost:8080/"
    },
    "id": "B0iubk165gQK",
    "outputId": "25801f0f-f02c-4d03-a8cd-c2f6f8323e60"
   },
   "outputs": [],
   "source": [
    "SSE_2 = np.sum((y_test_scaled - y_pred_test_fapi_2)**2)\n",
    "SSE_2"
   ]
  },
  {
   "cell_type": "code",
   "execution_count": null,
   "metadata": {
    "colab": {
     "base_uri": "https://localhost:8080/"
    },
    "id": "IUDF7tKg5gNv",
    "outputId": "f84888f8-e9e2-422d-82ce-67129a346384"
   },
   "outputs": [],
   "source": [
    "SST = np.sum((np.mean(y_train_scaled)- y_test_scaled )**2)\n",
    "SST"
   ]
  },
  {
   "cell_type": "code",
   "execution_count": null,
   "metadata": {
    "colab": {
     "base_uri": "https://localhost:8080/"
    },
    "id": "WcSfb5F85gJp",
    "outputId": "b2ed9038-96e2-4453-ad42-d6155b006bda"
   },
   "outputs": [],
   "source": [
    "r2_2 = 1 - SSE_2/SST\n",
    "r2_2"
   ]
  }
 ],
 "metadata": {
  "colab": {
   "collapsed_sections": [],
   "name": "California_Housing_Functional_API.ipynb",
   "provenance": []
  },
  "kernelspec": {
   "display_name": "Python 3",
   "language": "python",
   "name": "python3"
  },
  "language_info": {
   "codemirror_mode": {
    "name": "ipython",
    "version": 3
   },
   "file_extension": ".py",
   "mimetype": "text/x-python",
   "name": "python",
   "nbconvert_exporter": "python",
   "pygments_lexer": "ipython3",
   "version": "3.8.5"
  },
  "toc": {
   "base_numbering": 1,
   "nav_menu": {},
   "number_sections": true,
   "sideBar": true,
   "skip_h1_title": false,
   "title_cell": "Table of Contents",
   "title_sidebar": "Contents",
   "toc_cell": false,
   "toc_position": {},
   "toc_section_display": true,
   "toc_window_display": false
  },
  "varInspector": {
   "cols": {
    "lenName": 16,
    "lenType": 16,
    "lenVar": 40
   },
   "kernels_config": {
    "python": {
     "delete_cmd_postfix": "",
     "delete_cmd_prefix": "del ",
     "library": "var_list.py",
     "varRefreshCmd": "print(var_dic_list())"
    },
    "r": {
     "delete_cmd_postfix": ") ",
     "delete_cmd_prefix": "rm(",
     "library": "var_list.r",
     "varRefreshCmd": "cat(var_dic_list()) "
    }
   },
   "types_to_exclude": [
    "module",
    "function",
    "builtin_function_or_method",
    "instance",
    "_Feature"
   ],
   "window_display": false
  }
 },
 "nbformat": 4,
 "nbformat_minor": 1
}
